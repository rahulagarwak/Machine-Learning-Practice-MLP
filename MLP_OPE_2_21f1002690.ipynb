{
  "nbformat": 4,
  "nbformat_minor": 0,
  "metadata": {
    "colab": {
      "name": "MLP_OPE_2_21f1002690.ipynb",
      "provenance": [],
      "collapsed_sections": []
    },
    "kernelspec": {
      "name": "python3",
      "display_name": "Python 3"
    },
    "language_info": {
      "name": "python"
    }
  },
  "cells": [
    {
      "cell_type": "markdown",
      "source": [
        "# MLP OPPE 2 Examination"
      ],
      "metadata": {
        "id": "FsEw40SmizCI"
      }
    },
    {
      "cell_type": "markdown",
      "source": [
        "Notes:\n",
        "This exam consists of a classification problem.\n",
        "The target feature is 'Evaluation'.\n",
        "The features 'Doors' and 'Persons' are to be taken as numerical features.\n",
        "Random state should be taken as 32 wherever applicable."
      ],
      "metadata": {
        "id": "uOIKg0A2wdAL"
      }
    },
    {
      "cell_type": "code",
      "source": [
        "# imports\n",
        "import pandas as pd\n",
        "import numpy as np\n"
      ],
      "metadata": {
        "id": "yMmtS5wJxDZR"
      },
      "execution_count": 3,
      "outputs": []
    },
    {
      "cell_type": "markdown",
      "source": [
        "## Que 1"
      ],
      "metadata": {
        "id": "aD2pjlKgYfnC"
      }
    },
    {
      "cell_type": "markdown",
      "source": [
        "Which dataset are you using for this exam?\n",
        "\n",
        "Click here to view the Dataset\n",
        "\n",
        "v1\n",
        "\n",
        "v2\n",
        "\n",
        "v3\n",
        "\n",
        "v4\n",
        "\n",
        "v5"
      ],
      "metadata": {
        "id": "Y-oxPQjgBcxg"
      }
    },
    {
      "cell_type": "code",
      "source": [
        "#Answer is v4"
      ],
      "metadata": {
        "id": "WyD_oZObBgkf"
      },
      "execution_count": null,
      "outputs": []
    },
    {
      "cell_type": "markdown",
      "source": [
        "## Que 2"
      ],
      "metadata": {
        "id": "NJTIVll4YoQD"
      }
    },
    {
      "cell_type": "markdown",
      "source": [
        "Which of the columns in the dataset have null values?\n",
        "\n",
        "Safety\n",
        "\n",
        "Evaluation\n",
        "\n",
        "Lug_boot\n",
        "\n",
        "Buying"
      ],
      "metadata": {
        "id": "zg9lOsJrwnK4"
      }
    },
    {
      "cell_type": "code",
      "source": [
        "data = pd.read_csv('v4.csv')\n",
        "data.isna().sum()\n",
        "\n",
        "#Answer is \"Buying\""
      ],
      "metadata": {
        "colab": {
          "base_uri": "https://localhost:8080/"
        },
        "id": "pdRTEpM1r4pi",
        "outputId": "4e825a44-a21e-4309-b5fa-a684335b556e"
      },
      "execution_count": 5,
      "outputs": [
        {
          "output_type": "execute_result",
          "data": {
            "text/plain": [
              "Buying        4\n",
              "Maint         0\n",
              "Doors         0\n",
              "Persons       0\n",
              "Lug_boot      0\n",
              "Safety        0\n",
              "Evaluation    0\n",
              "dtype: int64"
            ]
          },
          "metadata": {},
          "execution_count": 5
        }
      ]
    },
    {
      "cell_type": "markdown",
      "source": [
        "## Que 3"
      ],
      "metadata": {
        "id": "_AjLjgtwYoeE"
      }
    },
    {
      "cell_type": "markdown",
      "source": [
        "What are the unique Lug_boot values mentioned in the dataset?\n",
        "\n",
        "'small', 'big', 'med'\n",
        "\n",
        "'small', 'big'\n",
        "\n",
        "'small', 'medium', 'large'\n",
        "\n",
        "'small', 'very small', 'med'"
      ],
      "metadata": {
        "id": "opdkuRlGwp5T"
      }
    },
    {
      "cell_type": "code",
      "source": [
        "data['Lug_boot'].unique()\n",
        "# Answer is ['med', 'small', 'big']"
      ],
      "metadata": {
        "id": "eTaIyRO-YoQF",
        "colab": {
          "base_uri": "https://localhost:8080/"
        },
        "outputId": "ae30a7a0-e726-462c-f459-23e6f7312db5"
      },
      "execution_count": 7,
      "outputs": [
        {
          "output_type": "execute_result",
          "data": {
            "text/plain": [
              "array(['med', 'small', 'big'], dtype=object)"
            ]
          },
          "metadata": {},
          "execution_count": 7
        }
      ]
    },
    {
      "cell_type": "markdown",
      "source": [
        "## Que 4"
      ],
      "metadata": {
        "id": "TNopt59wYozG"
      }
    },
    {
      "cell_type": "markdown",
      "source": [
        "\n",
        "Divide the dataset into X and y, where the column 'Evaluation' goes to y (labels) and the rest of the columns go to X (feature matrix). What is the distribution of unacc and acc classes in y?\n",
        "\n",
        "1049, 336\n",
        "\n",
        "1058, 326\n",
        "\n",
        "1058, 317\n",
        "\n",
        "1044, 333\n",
        "\n",
        "1039, 344"
      ],
      "metadata": {
        "id": "eiTxU6f7wsBf"
      }
    },
    {
      "cell_type": "code",
      "source": [
        "X,y = data.iloc[:,:-1],data.Evaluation"
      ],
      "metadata": {
        "id": "AkUHAXmuYoeG"
      },
      "execution_count": 12,
      "outputs": []
    },
    {
      "cell_type": "code",
      "source": [
        "y.value_counts()\n",
        "# Answer is unacc=1039, acc=344"
      ],
      "metadata": {
        "colab": {
          "base_uri": "https://localhost:8080/"
        },
        "id": "lGsHXjc2yAPG",
        "outputId": "a11a0e9f-b6e1-47c2-f1d4-7f400e2a896e"
      },
      "execution_count": 16,
      "outputs": [
        {
          "output_type": "execute_result",
          "data": {
            "text/plain": [
              "unacc    1039\n",
              "acc       344\n",
              "good       59\n",
              "vgood      58\n",
              "Name: Evaluation, dtype: int64"
            ]
          },
          "metadata": {},
          "execution_count": 16
        }
      ]
    },
    {
      "cell_type": "markdown",
      "source": [
        "## Que 5"
      ],
      "metadata": {
        "id": "TBsjUBPMYpAF"
      }
    },
    {
      "cell_type": "markdown",
      "source": [
        "\n",
        "Apply SimpleImputer with strategy = 'most_frequent' to transform X. What is the data type of the transformed X?\n",
        "\n",
        "dataframe\n",
        "\n",
        "numpy array\n",
        "\n",
        "sparse scipy array\n",
        "\n",
        "dense scipy array"
      ],
      "metadata": {
        "id": "MbUdHpb6wur2"
      }
    },
    {
      "cell_type": "code",
      "source": [
        "from sklearn.impute import SimpleImputer\n",
        "si = SimpleImputer(strategy='most_frequent')\n",
        "X_si = si.fit_transform(X)\n",
        "type(X_si)\n",
        "\n",
        "# Answer is numpy array"
      ],
      "metadata": {
        "id": "xR5eoBNJYozH",
        "colab": {
          "base_uri": "https://localhost:8080/"
        },
        "outputId": "1091be6b-3fd3-4374-a986-0a240e88ffe4"
      },
      "execution_count": 17,
      "outputs": [
        {
          "output_type": "execute_result",
          "data": {
            "text/plain": [
              "numpy.ndarray"
            ]
          },
          "metadata": {},
          "execution_count": 17
        }
      ]
    },
    {
      "cell_type": "markdown",
      "source": [
        "## Que 6"
      ],
      "metadata": {
        "id": "MSnWq7inYpLj"
      }
    },
    {
      "cell_type": "markdown",
      "source": [
        "\n",
        "If the X obtained in the previous question has any datatype other than DataFrame, convert it into DataFrame with columns being ['Buying', 'Maint', 'Doors', 'Persons', 'Lug_boot', 'Safety']. Do not change the order of the columns in X or order of column names. How many missing values are there in X now?\n",
        "\n",
        "1\n",
        "\n",
        "8\n",
        "\n",
        "0\n",
        "\n",
        "2"
      ],
      "metadata": {
        "id": "OngpBW8bwx_l"
      }
    },
    {
      "cell_type": "code",
      "source": [
        "X_si_pd = pd.DataFrame(X_si)\n",
        "X_si_pd.columns = ['Buying', 'Maint', 'Doors', 'Persons', 'Lug_boot', 'Safety']"
      ],
      "metadata": {
        "id": "Q-LdYac7YpAF"
      },
      "execution_count": 18,
      "outputs": []
    },
    {
      "cell_type": "code",
      "source": [
        "X_si_pd.isna().sum().sum()\n",
        "\n",
        "#Answer is 0"
      ],
      "metadata": {
        "colab": {
          "base_uri": "https://localhost:8080/"
        },
        "id": "k4-Yjl2Uy8Mj",
        "outputId": "94081474-6789-4d1a-f131-003288e33911"
      },
      "execution_count": 27,
      "outputs": [
        {
          "output_type": "execute_result",
          "data": {
            "text/plain": [
              "0"
            ]
          },
          "metadata": {},
          "execution_count": 27
        }
      ]
    },
    {
      "cell_type": "markdown",
      "source": [
        "## Que 7"
      ],
      "metadata": {
        "id": "oXVlhz4cYpau"
      }
    },
    {
      "cell_type": "markdown",
      "source": [
        "Apply OneHotEncoder on the categorical features ['Buying', 'Maint', 'Lug_boot', 'Safety'] with option (sparse = False) and StandardScaler on the numerical features ['Doors', 'Persons'] of X. Let's call the outputs of the first and second operations respectively to be X1 and X2.\n",
        "\n",
        "What are the data types of X1 and X2?\n",
        "\n",
        "dataframe, dataframe\n",
        "\n",
        "dataframe, numpy array\n",
        "\n",
        "dense scipy array, numpy array\n",
        "\n",
        "numpy array, numpy array"
      ],
      "metadata": {
        "id": "pXQa3K-Xw1N2"
      }
    },
    {
      "cell_type": "code",
      "source": [
        "from sklearn.preprocessing import OneHotEncoder, StandardScaler\n",
        "ohe, ss = OneHotEncoder(sparse=False), StandardScaler()\n",
        "X1 = ohe.fit_transform(X_si_pd[['Buying', 'Maint', 'Lug_boot', 'Safety']])\n",
        "X2 = ss.fit_transform(X_si_pd[['Doors', 'Persons']].astype(np.int))"
      ],
      "metadata": {
        "id": "knm-E3nEYpLk",
        "colab": {
          "base_uri": "https://localhost:8080/"
        },
        "outputId": "b24b550c-2e87-4e5a-de65-027b31cfa7ab"
      },
      "execution_count": 34,
      "outputs": [
        {
          "output_type": "stream",
          "name": "stderr",
          "text": [
            "/usr/local/lib/python3.7/dist-packages/ipykernel_launcher.py:4: DeprecationWarning: `np.int` is a deprecated alias for the builtin `int`. To silence this warning, use `int` by itself. Doing this will not modify any behavior and is safe. When replacing `np.int`, you may wish to use e.g. `np.int64` or `np.int32` to specify the precision. If you wish to review your current use, check the release note link for additional information.\n",
            "Deprecated in NumPy 1.20; for more details and guidance: https://numpy.org/devdocs/release/1.20.0-notes.html#deprecations\n",
            "  after removing the cwd from sys.path.\n"
          ]
        }
      ]
    },
    {
      "cell_type": "code",
      "source": [
        "print(type(X1),type(X2))\n",
        "# Answer is numpy array, numpy array"
      ],
      "metadata": {
        "colab": {
          "base_uri": "https://localhost:8080/"
        },
        "id": "3KbmzdmA0sBa",
        "outputId": "6bb8e250-4476-423e-964d-654d2768d35c"
      },
      "execution_count": 35,
      "outputs": [
        {
          "output_type": "stream",
          "name": "stdout",
          "text": [
            "<class 'numpy.ndarray'> <class 'numpy.ndarray'>\n"
          ]
        }
      ]
    },
    {
      "cell_type": "markdown",
      "source": [
        "## Que 8"
      ],
      "metadata": {
        "id": "WEYlKyD6Ypob"
      }
    },
    {
      "cell_type": "markdown",
      "source": [
        "Concatenate X1 and X2 (in that order) and call it X.\n",
        "\n",
        "Hint and note: Keep axis = 1.\n",
        "\n",
        "Convert X to a dataframe. What is the shape of resultant X. Do not worry about the column names of this new dataframe.\n",
        "\n",
        "(1500, 21)\n",
        "\n",
        "(1508, 7)\n",
        "\n",
        "(1500, 16)\n",
        "\n",
        "(1508, 9)"
      ],
      "metadata": {
        "id": "HMlVSwx2w2gF"
      }
    },
    {
      "cell_type": "code",
      "source": [
        "X = pd.DataFrame(np.concatenate([X1, X2], axis=1))\n",
        "X.shape\n",
        "\n",
        "#Answer is (1500, 16)"
      ],
      "metadata": {
        "id": "XPA4tjhJYpau",
        "colab": {
          "base_uri": "https://localhost:8080/"
        },
        "outputId": "891750cb-9fa8-4f94-c86e-05f3ebef11db"
      },
      "execution_count": 45,
      "outputs": [
        {
          "output_type": "execute_result",
          "data": {
            "text/plain": [
              "(1500, 16)"
            ]
          },
          "metadata": {},
          "execution_count": 45
        }
      ]
    },
    {
      "cell_type": "markdown",
      "source": [
        "## Que 9"
      ],
      "metadata": {
        "id": "auAKncpsYrde"
      }
    },
    {
      "cell_type": "markdown",
      "source": [
        "Split the dataset into training and test dataset into 80:20 ratio while keeping random_state =32. what is the shape of the X_train dataset?\n",
        "\n",
        "(1200, 16)\n",
        "\n",
        "(300, 22)\n",
        "\n",
        "(1200, )\n",
        "\n",
        "(22, 1200)"
      ],
      "metadata": {
        "id": "457EbU_4w5xS"
      }
    },
    {
      "cell_type": "code",
      "source": [
        "from sklearn.model_selection import train_test_split\n",
        "X_train, X_test, y_train, y_test = train_test_split(X,y,test_size=0.2, random_state=32)\n",
        "X_train.shape\n",
        "\n",
        "#Answer is (1200, 16)"
      ],
      "metadata": {
        "id": "g2SmjUxSYpob",
        "colab": {
          "base_uri": "https://localhost:8080/"
        },
        "outputId": "3d892e5d-b6aa-49ac-d8a5-d84a3c226bd9"
      },
      "execution_count": 47,
      "outputs": [
        {
          "output_type": "execute_result",
          "data": {
            "text/plain": [
              "(1200, 16)"
            ]
          },
          "metadata": {},
          "execution_count": 47
        }
      ]
    },
    {
      "cell_type": "markdown",
      "source": [
        "## Que 10"
      ],
      "metadata": {
        "id": "r45IVOWgYrdg"
      }
    },
    {
      "cell_type": "markdown",
      "source": [
        "Instantiate a perceptron classifier with following parameters:\n",
        "\n",
        "random_state = 32 \n",
        "\n",
        "learning rate = 1 (eta0=1)\n",
        "\n",
        "Train for 10 iterations (epoch) (max_iter=10)\n",
        "\n",
        "Do not shuffle the dataset for each epoch (iteration).\n",
        "\n",
        "Use 20% of the data for validation fraction .\n",
        "\n",
        "Do not apply regularization.\n",
        "\n",
        "Set fit_intercept to be True,\n",
        "\n",
        "Set warm start to false .\n",
        "\n",
        "Train the classifier on the training data.\n",
        "\n",
        "What is the value of the coefficient of the 2nd feature for the first class. Note that the index of the classes and features start counting from 0."
      ],
      "metadata": {
        "id": "Six8ylpxw9Yx"
      }
    },
    {
      "cell_type": "code",
      "source": [
        "from sklearn.utils import shuffle\n",
        "from sklearn.linear_model import Perceptron\n",
        "p = Perceptron(random_state=32,penalty=None, eta0=1, max_iter=10, shuffle=False, validation_fraction=0.2,\n",
        "               fit_intercept=True, warm_start=False)\n",
        "p.fit(X_train, y_train)\n",
        "p.coef_[0][1]\n",
        "\n",
        "#Answer is -1.0"
      ],
      "metadata": {
        "id": "ISFi4EwtYrdg",
        "colab": {
          "base_uri": "https://localhost:8080/"
        },
        "outputId": "a8ad5277-ae95-46ca-a26a-dc3c73f4e1cd"
      },
      "execution_count": 52,
      "outputs": [
        {
          "output_type": "stream",
          "name": "stderr",
          "text": [
            "/usr/local/lib/python3.7/dist-packages/sklearn/linear_model/_stochastic_gradient.py:700: ConvergenceWarning: Maximum number of iteration reached before convergence. Consider increasing max_iter to improve the fit.\n",
            "  ConvergenceWarning,\n"
          ]
        },
        {
          "output_type": "execute_result",
          "data": {
            "text/plain": [
              "-1.0"
            ]
          },
          "metadata": {},
          "execution_count": 52
        }
      ]
    },
    {
      "cell_type": "markdown",
      "source": [
        "## Que 11"
      ],
      "metadata": {
        "id": "aXKv5R9WYrdh"
      }
    },
    {
      "cell_type": "markdown",
      "source": [
        "\n",
        "Apply logistic regression using SGDClassifier on the training dataset (X_train and y_train).\n",
        "Use the following parameters:\n",
        "\n",
        "Apply appropriate loss value (i.e. log)\n",
        "\n",
        "apply ridge regularization,\n",
        "\n",
        "maximum number of passes over the training data is 10\n",
        "\n",
        "initial learning rate is 0.01,\n",
        "\n",
        "regularization rate value is 0.001,\n",
        "\n",
        "learning rate should not change during training.\n",
        "\n",
        "Take random_state=32.\n",
        "\n",
        "Based on this operation, calculate and mark the correct value of mean accuracy computed from score(X_train,y_train) (Upto 4 decimal points) from the given set of options.\n",
        "\n",
        "Note : Please ignore the convergence warning.\n",
        "\n",
        "0.7966\n",
        "\n",
        "0.8\n",
        "\n",
        "0.7908\n",
        "\n",
        "0.4269\n",
        "\n",
        "0.795"
      ],
      "metadata": {
        "id": "8XNkg0uAw-BB"
      }
    },
    {
      "cell_type": "code",
      "source": [
        "from sklearn.linear_model import SGDClassifier\n",
        "sgd = SGDClassifier(loss='log', penalty='l1', max_iter=10, eta0=0.01, random_state=32,\n",
        "                    alpha=0.001, learning_rate='constant')\n",
        "sgd.fit(X_train,y_train)\n",
        "sgd.score(X_train,y_train)\n",
        "#Answer is 0.7966"
      ],
      "metadata": {
        "id": "_V4tSSCUYrdh",
        "colab": {
          "base_uri": "https://localhost:8080/"
        },
        "outputId": "1187c333-29dc-43f9-e550-8460133a4b55"
      },
      "execution_count": 55,
      "outputs": [
        {
          "output_type": "stream",
          "name": "stderr",
          "text": [
            "/usr/local/lib/python3.7/dist-packages/sklearn/linear_model/_stochastic_gradient.py:700: ConvergenceWarning: Maximum number of iteration reached before convergence. Consider increasing max_iter to improve the fit.\n",
            "  ConvergenceWarning,\n"
          ]
        },
        {
          "output_type": "execute_result",
          "data": {
            "text/plain": [
              "0.7966666666666666"
            ]
          },
          "metadata": {},
          "execution_count": 55
        }
      ]
    },
    {
      "cell_type": "markdown",
      "source": [
        "## Que 12"
      ],
      "metadata": {
        "id": "L1f6tplgYrdh"
      }
    },
    {
      "cell_type": "markdown",
      "source": [
        "Use LogisticRegression with RandomizedSearchCV for fitting on the training dataset.\n",
        "For Logistic regression:\n",
        "\n",
        "use Saga solver,\n",
        "\n",
        "random state to be equal to 32,\n",
        "\n",
        " tolerance for stopping criteria to be 1e-2,\n",
        " \n",
        "  and maximum number of iterations taken for the solvers to converge to be 200.\n",
        "\n",
        "\n",
        "Penalties to be tried out are L1 and L2. \n",
        "\n",
        "Regularization strength (inverse of regularization rate) to be tried out is \n",
        "\n",
        "[0.5, 1.0, 1.5, 2.0, 2.5, 3, 3.5, 4]\n",
        "\n",
        "Search best values of C and penalty and mark the correct option from the following statements. For randomizedsearchCV also, take random state = 32\n",
        "\n",
        "{'C': 4.0, 'penalty': 'l1'}\n",
        "\n",
        "{'C': 3.5, 'penalty': 'l1'}\n",
        "\n",
        "{'C': 3.5, 'penalty': 'l2'}\n",
        "\n",
        "{'C': 3.0, 'penalty': 'l1'}"
      ],
      "metadata": {
        "id": "uUUs-lB22J5t"
      }
    },
    {
      "cell_type": "markdown",
      "source": [
        "(penalty=\"l2\", *, dual=False, tol=0.0001, C=1, fit_intercept=True, intercept_scaling=1, class_weight=None, random_state=None, solver=\"lbfgs\", max_iter=100, multi_class=\"auto\", verbose=0, warm_start=False, n_jobs=None, l1_ratio=None)"
      ],
      "metadata": {
        "id": "ks-TDWOL6iEX"
      }
    },
    {
      "cell_type": "code",
      "source": [
        "from sklearn.linear_model import LogisticRegression\n",
        "from sklearn.model_selection import RandomizedSearchCV\n",
        "lr = LogisticRegression(solver='saga', random_state=32, tol=1e-2, max_iter=200,)\n",
        "params = {'penalty':['l1','l2'],'C':[0.5, 1.0, 1.5, 2.0, 2.5, 3, 3.5, 4]}\n",
        "rscv = RandomizedSearchCV(lr,params)\n",
        "rscv.fit(X_train, y_train)"
      ],
      "metadata": {
        "id": "kPkGFTbfYrdh",
        "colab": {
          "base_uri": "https://localhost:8080/"
        },
        "outputId": "7b750e10-4309-48e1-af1b-c5cd1223f817"
      },
      "execution_count": 61,
      "outputs": [
        {
          "output_type": "execute_result",
          "data": {
            "text/plain": [
              "RandomizedSearchCV(estimator=LogisticRegression(max_iter=200, random_state=32,\n",
              "                                                solver='saga', tol=0.01),\n",
              "                   param_distributions={'C': [0.5, 1.0, 1.5, 2.0, 2.5, 3, 3.5,\n",
              "                                              4],\n",
              "                                        'penalty': ['l1', 'l2']})"
            ]
          },
          "metadata": {},
          "execution_count": 61
        }
      ]
    },
    {
      "cell_type": "code",
      "source": [
        "rscv.best_params_\n",
        "\n",
        "#Answer is {'penalty': 'l2', 'C': 3.5}"
      ],
      "metadata": {
        "colab": {
          "base_uri": "https://localhost:8080/"
        },
        "id": "iSvDztjR7E9o",
        "outputId": "7a8321cf-c981-47f2-82a2-0c5ada5685ec"
      },
      "execution_count": 62,
      "outputs": [
        {
          "output_type": "execute_result",
          "data": {
            "text/plain": [
              "{'penalty': 'l2', 'C': 3.5}"
            ]
          },
          "metadata": {},
          "execution_count": 62
        }
      ]
    },
    {
      "cell_type": "markdown",
      "source": [
        "## Que 13"
      ],
      "metadata": {
        "id": "-q0mvcDDYrdi"
      }
    },
    {
      "cell_type": "markdown",
      "source": [
        "Apply GridsearchCV and support vector classifier (SVC)(kernel':('linear', 'rbf'), 'C':[1, 10]) on the training dataset X_train, y_train and calculate the best value of C and kernel.\n",
        "\n",
        "'use random_state = 32 for SVC'\n",
        "\n",
        "{'C': 1, 'kernel': 'rbf'}\n",
        "\n",
        "{'C': 10, 'kernel': 'rbf'}\n",
        "\n",
        "{'C': 10, 'kernel': 'linear'}\n",
        "\n",
        "{'C': 1, 'kernel': 'linear'}"
      ],
      "metadata": {
        "id": "oXZc60MTw-h6"
      }
    },
    {
      "cell_type": "code",
      "source": [
        "from sklearn.svm import SVC\n",
        "from sklearn.model_selection import GridSearchCV\n",
        "lr = SVC(random_state=32)\n",
        "params = {'kernel':('linear', 'rbf'), 'C':[1, 10]}\n",
        "gsv = GridSearchCV(lr,params)\n",
        "gsv.fit(X_train, y_train)\n",
        "gsv.best_params_\n",
        "\n",
        "#Answer is {'C': 10, 'kernel': 'rbf'}"
      ],
      "metadata": {
        "id": "5IuMAXLcYrdi",
        "colab": {
          "base_uri": "https://localhost:8080/"
        },
        "outputId": "2023de9e-1d5b-406a-f6d3-d7edd353892c"
      },
      "execution_count": 65,
      "outputs": [
        {
          "output_type": "execute_result",
          "data": {
            "text/plain": [
              "{'C': 10, 'kernel': 'rbf'}"
            ]
          },
          "metadata": {},
          "execution_count": 65
        }
      ]
    },
    {
      "cell_type": "markdown",
      "source": [
        "## Que 14"
      ],
      "metadata": {
        "id": "-9WCldTAYrdi"
      }
    },
    {
      "cell_type": "markdown",
      "source": [
        "\n",
        "(Common Instruction for Q14 - Q15 )\n",
        "\n",
        "Use grid search with cross validation (GridSearchCV) on training set with KNeighborsClassifier as the estimator,\n",
        "\n",
        "'accuracy' as scoring parameter, \n",
        "\n",
        "cv value as 4 and \n",
        "\n",
        "consider [1,3,5,7] as \"number of neighbors\" to be examined.\n",
        "\n",
        "Consider following parameters for KNeighborsClassifier:\n",
        "\n",
        "Take metric as 'minkowski',\n",
        "\n",
        "Set P value as 2\n",
        "\n",
        "keep other parameter value as default value.\n",
        "\n",
        "\n",
        "**What is the best value of K you obtained using above instructions?**"
      ],
      "metadata": {
        "id": "C3gB22-s2Uwi"
      }
    },
    {
      "cell_type": "code",
      "source": [
        "from sklearn.neighbors import KNeighborsClassifier\n",
        "from sklearn.model_selection import GridSearchCV\n",
        "lr = KNeighborsClassifier(metric='minkowski',p=2)\n",
        "params = {'n_neighbors':[1,3,5,7]}\n",
        "gsv_knn = GridSearchCV(lr,params,scoring='accuracy',cv=4)\n",
        "gsv_knn.fit(X_train, y_train)\n",
        "print(gsv_knn.best_params_)"
      ],
      "metadata": {
        "id": "7mpYcUxsYrdi",
        "colab": {
          "base_uri": "https://localhost:8080/"
        },
        "outputId": "eaed6f92-f059-44fc-a30b-c1061bdb2a6d"
      },
      "execution_count": 69,
      "outputs": [
        {
          "output_type": "stream",
          "name": "stdout",
          "text": [
            "{'n_neighbors': 7}\n"
          ]
        }
      ]
    },
    {
      "cell_type": "markdown",
      "source": [
        "## Que 15"
      ],
      "metadata": {
        "id": "QDCCUHH2Yrdj"
      }
    },
    {
      "cell_type": "markdown",
      "source": [
        "What is the value of best accuracy score from grid search cv?"
      ],
      "metadata": {
        "id": "02j5RlGp2awR"
      }
    },
    {
      "cell_type": "code",
      "source": [
        "print(gsv_knn.best_score_)"
      ],
      "metadata": {
        "id": "XDQTgcJ5Yrdi",
        "colab": {
          "base_uri": "https://localhost:8080/"
        },
        "outputId": "7e8c1234-f9b4-462a-c9c6-69a5196247b7"
      },
      "execution_count": 68,
      "outputs": [
        {
          "output_type": "stream",
          "name": "stdout",
          "text": [
            "0.9116666666666666\n"
          ]
        }
      ]
    },
    {
      "cell_type": "markdown",
      "source": [
        "## Que 16"
      ],
      "metadata": {
        "id": "7RjuAfH0Yrdj"
      }
    },
    {
      "cell_type": "markdown",
      "source": [
        "\n",
        "Common Instructions for Q16-Q18\n",
        "\n",
        "Train the model using Decision Tree Classifier on training set. Set following parameters:\n",
        "\n",
        "Take criterion as 'gini',\n",
        "\n",
        "Set strategy to choose the split at each node as 'random',\n",
        "\n",
        "minimum number of samples required to split an internal node = 5,\n",
        "\n",
        "min_impurity_decrease = 0.001,\n",
        "\n",
        "Use random_state = 32\n",
        "\n",
        "What is the mean accuracy score on test data upto 3 decimal places?"
      ],
      "metadata": {
        "id": "1_SxEFzZ9nQV"
      }
    },
    {
      "cell_type": "code",
      "source": [
        "from sklearn.tree import DecisionTreeClassifier\n",
        "dtc = DecisionTreeClassifier(criterion='gini',splitter='random',min_samples_leaf=5,min_impurity_decrease=0.001, random_state=32)\n",
        "dtc.fit(X_train,y_train)\n",
        "dtc.score(X_test,y_test)"
      ],
      "metadata": {
        "id": "m8Mn9i22Yrdj",
        "colab": {
          "base_uri": "https://localhost:8080/"
        },
        "outputId": "00ac1487-b603-4294-dddf-ec07f0fdcc6f"
      },
      "execution_count": 92,
      "outputs": [
        {
          "output_type": "execute_result",
          "data": {
            "text/plain": [
              "0.9166666666666666"
            ]
          },
          "metadata": {},
          "execution_count": 92
        }
      ]
    },
    {
      "cell_type": "markdown",
      "source": [
        "## Que 17"
      ],
      "metadata": {
        "id": "5igU5lXHYr6U"
      }
    },
    {
      "cell_type": "markdown",
      "source": [
        "What is the resultant depth of the tree?\n",
        "\n",
        "12\n",
        "\n",
        "20\n",
        "\n",
        "21\n",
        "\n",
        "11\n",
        "\n",
        "10"
      ],
      "metadata": {
        "id": "4sfhohfM9r2s"
      }
    },
    {
      "cell_type": "code",
      "source": [
        "dtc.tree_.max_depth"
      ],
      "metadata": {
        "colab": {
          "base_uri": "https://localhost:8080/"
        },
        "id": "2LtYaCTgE5gR",
        "outputId": "ab16c96e-42e8-49c1-fb67-548f8ad03cc0"
      },
      "execution_count": 99,
      "outputs": [
        {
          "output_type": "execute_result",
          "data": {
            "text/plain": [
              "10"
            ]
          },
          "metadata": {},
          "execution_count": 99
        }
      ]
    },
    {
      "cell_type": "markdown",
      "source": [
        "## Que 18"
      ],
      "metadata": {
        "id": "_yqohGXtYr6W"
      }
    },
    {
      "cell_type": "markdown",
      "source": [
        "Visualize this tree model. What is the value of gini impurity at the right child of root?\n",
        "\n",
        "0.625\n",
        "\n",
        "0.595\n",
        "\n",
        "0.0\n",
        "\n",
        "0.574\n",
        "\n",
        "0.585"
      ],
      "metadata": {
        "id": "dwM3cSaU9ubu"
      }
    },
    {
      "cell_type": "code",
      "source": [
        "import matplotlib.pyplot as plt\n",
        "dtc.tree_.impurity"
      ],
      "metadata": {
        "id": "S2ghOoNJYr6V",
        "colab": {
          "base_uri": "https://localhost:8080/"
        },
        "outputId": "64b0c9e7-8fe9-48d2-8ad1-b8325c881f1b"
      },
      "execution_count": 117,
      "outputs": [
        {
          "output_type": "execute_result",
          "data": {
            "text/plain": [
              "array([0.46225833, 0.57883125, 0.        , 0.61157059, 0.60309326,\n",
              "       0.53041565, 0.46083237, 0.3391624 , 0.12317353, 0.49756625,\n",
              "       0.09070295, 0.        , 0.5922449 , 0.36817993, 0.20414201,\n",
              "       0.4536862 , 0.39669421, 0.        , 0.5       , 0.        ,\n",
              "       0.58049887, 0.29752066, 0.32      , 0.55344098, 0.499822  ,\n",
              "       0.5632    , 0.44897959, 0.39669421, 0.35714286, 0.19753086,\n",
              "       0.48      , 0.3698459 , 0.        , 0.44444444, 0.14201183,\n",
              "       0.        , 0.68254848, 0.49977365, 0.56122449, 0.52077562,\n",
              "       0.18      , 0.64197531, 0.        , 0.09972299, 0.60503472,\n",
              "       0.2830385 , 0.49134948, 0.15277778, 0.        , 0.47567042,\n",
              "       0.38443047, 0.        , 0.43875   , 0.21875   , 0.46875   ,\n",
              "       0.        , 0.24489796, 0.3046875 , 0.15277778, 0.5       ,\n",
              "       0.        ])"
            ]
          },
          "metadata": {},
          "execution_count": 117
        }
      ]
    },
    {
      "cell_type": "markdown",
      "source": [
        "## Que 19"
      ],
      "metadata": {
        "id": "DPjWDFO1Yr6W"
      }
    },
    {
      "cell_type": "markdown",
      "source": [
        "Take RandomForestClassifier (random state to be 32) with GridSearchCV to tune the number of decision trees with training set.\n",
        "\n",
        "The number of trees in forest can range from 10 to 15 (both inclusive).\n",
        "\n",
        " Mark the number of decision trees that will produce the best score on the training data.\n",
        "\n",
        "12\n",
        "\n",
        "14\n",
        "\n",
        "11\n",
        "\n",
        "15\n",
        "\n",
        "13"
      ],
      "metadata": {
        "id": "JSwoHGu59w_z"
      }
    },
    {
      "cell_type": "code",
      "source": [
        "from sklearn.ensemble import RandomForestClassifier\n",
        "from sklearn.model_selection import GridSearchCV\n",
        "rfc = RandomForestClassifier(random_state=32)\n",
        "params = {'n_estimators':[10,11,12,13,14,15]}\n",
        "gscv = GridSearchCV(rfc,params)\n",
        "gscv.fit(X_train, y_train)\n",
        "gscv.best_params_"
      ],
      "metadata": {
        "id": "NjcgaGroYr6W",
        "colab": {
          "base_uri": "https://localhost:8080/"
        },
        "outputId": "6efabc9f-0a40-416c-d0cd-f774eb520cdd"
      },
      "execution_count": 87,
      "outputs": [
        {
          "output_type": "execute_result",
          "data": {
            "text/plain": [
              "{'n_estimators': 14}"
            ]
          },
          "metadata": {},
          "execution_count": 87
        }
      ]
    },
    {
      "cell_type": "markdown",
      "source": [
        "## Que 20"
      ],
      "metadata": {
        "id": "FQapaX4hYr6X"
      }
    },
    {
      "cell_type": "markdown",
      "source": [
        "\n",
        "Train a separate BaggingClassifier on training set with each one of the following as base estimator:\n",
        "\n",
        "support vector classifier (SVC), \n",
        "\n",
        "LogisticRegression, \n",
        "\n",
        "KNeighborsClassifier and \n",
        "\n",
        "DecisionTreeClassifier. \n",
        "\n",
        "Measure accuracy score on test set with each of these bagging classifiers. \n",
        "\n",
        "Which base estimator yields the highest accuracy score on test data?\n",
        "\n",
        "Take random_state as 32 and n_estimators value as 15 for BaggingClassifier with each base estimator.\n",
        "\n",
        "Take random_state as 32 individually for each of the following: support vector classifier(SVC), DecisionTreeClassifier and LogisticRegression.\n",
        "\n",
        "DecisionTreeClassifier\n",
        "\n",
        "KNeighborsClassifier\n",
        "\n",
        "LogisticRegression\n",
        "\n",
        "support vector classifier"
      ],
      "metadata": {
        "id": "4s3ONiJcA6ZG"
      }
    },
    {
      "cell_type": "code",
      "source": [
        "from sklearn.ensemble import BaggingClassifier\n",
        "from sklearn.linear_model import LogisticRegression\n",
        "from sklearn.svm import SVC\n",
        "from sklearn.tree import DecisionTreeClassifier\n",
        "from sklearn.neighbors import KNeighborsClassifier\n",
        "knc,lr,svc,dtc = KNeighborsClassifier(),LogisticRegression(random_state=32),SVC(random_state=32),DecisionTreeClassifier(random_state=32)\n",
        "bc_knc = BaggingClassifier(knc,n_estimators=15)\n",
        "bc_lr = BaggingClassifier(lr,n_estimators=15)\n",
        "bc_svc = BaggingClassifier(svc,n_estimators=15)\n",
        "bc_dtc = BaggingClassifier(dtc,n_estimators=15)\n",
        "\n",
        "bc_knc.fit(X_train, y_train)\n",
        "bc_lr.fit(X_train, y_train)\n",
        "bc_svc.fit(X_train, y_train)\n",
        "bc_dtc.fit(X_train, y_train)\n",
        "\n",
        "\n",
        "\n",
        "print(bc_knc.score(X_test, y_test))\n",
        "print(bc_lr.score(X_test, y_test))\n",
        "print(bc_svc.score(X_test, y_test))\n",
        "print(bc_dtc.score(X_test, y_test))\n",
        "\n",
        "# decision tree is max"
      ],
      "metadata": {
        "id": "gLoG-MrNYr6X",
        "colab": {
          "base_uri": "https://localhost:8080/"
        },
        "outputId": "0026d2ea-9bb7-49d9-a0d9-aae5153051db"
      },
      "execution_count": 86,
      "outputs": [
        {
          "output_type": "stream",
          "name": "stdout",
          "text": [
            "0.9233333333333333\n",
            "0.82\n",
            "0.96\n",
            "0.97\n"
          ]
        }
      ]
    }
  ]
}