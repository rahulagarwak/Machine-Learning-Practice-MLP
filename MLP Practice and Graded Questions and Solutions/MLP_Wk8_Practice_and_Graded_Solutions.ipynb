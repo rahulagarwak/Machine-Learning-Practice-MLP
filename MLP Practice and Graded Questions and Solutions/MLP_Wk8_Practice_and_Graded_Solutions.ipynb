{
  "nbformat": 4,
  "nbformat_minor": 0,
  "metadata": {
    "colab": {
      "name": "MLP_Wk8_Practice_and_Graded_Solutions.ipynb",
      "provenance": [],
      "toc_visible": true
    },
    "kernelspec": {
      "name": "python3",
      "display_name": "Python 3"
    },
    "language_info": {
      "name": "python"
    }
  },
  "cells": [
    {
      "cell_type": "markdown",
      "source": [
        "# Practice Assignment"
      ],
      "metadata": {
        "id": "6EjdcGSjI_B_"
      }
    },
    {
      "cell_type": "markdown",
      "metadata": {
        "id": "fa5SuynhV24d"
      },
      "source": [
        "# Question 1\n",
        "Write a function `compute_score(X_train, y_train, X_test, y_test)` to do the following on the `Iris` dataset-\n",
        "\n",
        "Write your code keeping in mind:\n",
        "- Split the Iris dataset into train and test set with 70:30 ratio \n",
        "- Import svm.SVC as 'model'\n",
        "- kernel as 'rbf', regularization parameter as 20 and gamma as 'auto'\n",
        "-Take `random_state=42`.\n",
        "- Train the model using trining data and predict the computed model's score using test data.\n",
        "\n",
        "Which of the following options is the computed score?\n",
        "\n",
        "(a) -1.0\n",
        "\n",
        "(b) -0.5\n",
        "\n",
        "(c) 1.0\n",
        "\n",
        "(d) 0.5\n",
        "\n",
        "\n",
        "**Option c**\n"
      ]
    },
    {
      "cell_type": "code",
      "source": [
        "from sklearn.model_selection import train_test_split\n",
        "from sklearn.svm import SVC\n",
        "from sklearn.datasets import load_iris\n",
        "X,y = load_iris(return_X_y=True)\n",
        "X_train, X_test, y_train, y_test = train_test_split(X,y,test_size=0.3,random_state=42)\n",
        "def compute_score(X_train, X_test, y_train, y_test):\n",
        "  svc = SVC(kernel='rbf',gamma='auto',C=20)\n",
        "  svc.fit(X_train,y_train)\n",
        "  return svc.score(X_test,y_test)\n",
        "compute_score(X_train, X_test, y_train, y_test)"
      ],
      "metadata": {
        "colab": {
          "base_uri": "https://localhost:8080/"
        },
        "id": "1FojVgeNSmG9",
        "outputId": "ee5a16af-5af0-4f2d-e65e-53c5f2064d03"
      },
      "execution_count": 1,
      "outputs": [
        {
          "output_type": "execute_result",
          "data": {
            "text/plain": [
              "1.0"
            ]
          },
          "metadata": {},
          "execution_count": 1
        }
      ]
    },
    {
      "cell_type": "markdown",
      "source": [
        "#Question 2\n",
        "In 'Question 1', apply a pipeline containing a `MinMaxScaler()`function called`Scaler` and a `svm.svc()` called `classifier`with the parameters : `kernel='linear', decision_function_shape='ovr', C=1, class_weight=None`. Calculate the precision value and f1 score and mark the correct option from the list below.\n",
        "\n",
        "(a) 1.0, 1.0\n",
        "\n",
        "(b) 0.8, 0.8\n",
        "\n",
        "(c) 0.99, 0.99\n",
        "\n",
        "(d) 0.97, 0.87\n",
        "\n",
        "**Option a**\n"
      ],
      "metadata": {
        "id": "ynUWXI4HpGhQ"
      }
    },
    {
      "cell_type": "code",
      "source": [
        "from sklearn.model_selection import train_test_split\n",
        "from sklearn.svm import SVC\n",
        "from sklearn.datasets import load_iris\n",
        "from sklearn.pipeline import Pipeline\n",
        "from sklearn.preprocessing import MinMaxScaler\n",
        "from sklearn.metrics import f1_score, precision_score\n",
        "X,y = load_iris(return_X_y=True)\n",
        "X_train, X_test, y_train, y_test = train_test_split(X,y,test_size=0.3,random_state=42)\n",
        "svc = SVC(kernel='linear', decision_function_shape='ovr', C=1, class_weight=None)\n",
        "mms = MinMaxScaler()\n",
        "pipe = Pipeline([('mms',mms),\n",
        "                 ('svc',svc)])\n",
        "pipe.fit(X_train,y_train)\n",
        "print(precision_score(pipe.predict(X_test), y_test,average='micro'),', ',f1_score(pipe.predict(X_test), y_test,average='micro'))\n"
      ],
      "metadata": {
        "colab": {
          "base_uri": "https://localhost:8080/"
        },
        "id": "HH-oJTwOXuUs",
        "outputId": "3a5cc73f-81c2-45a2-9187-798263d8161d"
      },
      "execution_count": 8,
      "outputs": [
        {
          "output_type": "stream",
          "name": "stdout",
          "text": [
            "1.0 ,  1.0\n"
          ]
        }
      ]
    },
    {
      "cell_type": "markdown",
      "source": [
        "#Question 3\n",
        "\n",
        "Import the `iris` dataset and drop the rows where `class=Iris-versicolor`. Apply a pipeline containing a `MinMaxScaler()`function called`Scaler` and a `svm.svc()` called `classifier`. Split the `iris` dataset into 50:50 ratio with `random_state=0`. Mark the correct recall value from the given options.\n",
        "\n",
        "(a) 1.00\n",
        "\n",
        "(b) 0.22\n",
        "\n",
        "(C) 0.96\n",
        "\n",
        "(d) 2.33\n",
        "\n",
        "**Option a**\n",
        "\n"
      ],
      "metadata": {
        "id": "pUdGVRIiH1a7"
      }
    },
    {
      "cell_type": "code",
      "source": [
        "import numpy as np\n",
        "from sklearn.model_selection import train_test_split\n",
        "from sklearn.svm import SVC\n",
        "from sklearn.datasets import load_iris\n",
        "from sklearn.pipeline import Pipeline\n",
        "from sklearn.preprocessing import MinMaxScaler\n",
        "from sklearn.metrics import f1_score, precision_score, recall_score\n",
        "X_new,y_new = load_iris(return_X_y=True)\n",
        "X,y = [],[]\n",
        "for i in range(X_new.shape[0]):\n",
        "  if 50<=i<=99:\n",
        "    pass\n",
        "  else:\n",
        "    X.append(X_new[i])\n",
        "    y.append(y_new[i])\n",
        "X,y = np.array(X), np.array(y)\n",
        "X_train, X_test, y_train, y_test = train_test_split(X,y,test_size=0.5,random_state=0)\n",
        "svc = SVC(kernel='linear', decision_function_shape='ovr', C=1, class_weight=None)\n",
        "mms = MinMaxScaler()\n",
        "pipe = Pipeline([('mms',mms),\n",
        "                 ('svc',svc)])\n",
        "pipe.fit(X_train,y_train)\n",
        "print(recall_score(pipe.predict(X_test), y_test,average='micro'))"
      ],
      "metadata": {
        "colab": {
          "base_uri": "https://localhost:8080/"
        },
        "id": "TBDnVDxDaQ72",
        "outputId": "760621d4-28ef-4489-c031-f9680af9dc76"
      },
      "execution_count": 29,
      "outputs": [
        {
          "output_type": "stream",
          "name": "stdout",
          "text": [
            "1.0\n"
          ]
        }
      ]
    },
    {
      "cell_type": "markdown",
      "metadata": {
        "id": "k0ZLqS_RV7yi"
      },
      "source": [
        "#Question 4\n",
        "\n",
        "Write the function `compute_score(X_train, y_train, X_test, y_test)` to do the following on the `Iris` dataset-\n",
        "\n",
        "Write your code keeping in mind:\n",
        "- Split the Iris dataset into train and test set with 70:30 ratio and `random_state=42`.\n",
        "- Import sklearn.svm.LinearSVC as 'model'\n",
        "- Consider loss function `loss=hinge`,`random_state=42` and `penalty=l2`.\n",
        "- Train the 'model' and mark the computed 'score'\n",
        "\n",
        "\n",
        "(a) 2.233333333333333\n",
        "\n",
        "(b)0.9777777777777777\n",
        "\n",
        "(c) 0.899999999999999\n",
        "\n",
        "(d) -2.23333333333333\n",
        "\n",
        "**Option b**"
      ]
    },
    {
      "cell_type": "code",
      "source": [
        "from sklearn.model_selection import train_test_split\n",
        "from sklearn.svm import LinearSVC\n",
        "from sklearn.datasets import load_iris\n",
        "X,y = load_iris(return_X_y=True)\n",
        "X_train, X_test, y_train, y_test = train_test_split(X,y,test_size=0.3,random_state=42)\n",
        "def compute_score(X_train, X_test, y_train, y_test):\n",
        "  svc = LinearSVC(loss='hinge',random_state=42, penalty='l2')\n",
        "  svc.fit(X_train,y_train)\n",
        "  return svc.score(X_test,y_test)\n",
        "compute_score(X_train, X_test, y_train, y_test)"
      ],
      "metadata": {
        "colab": {
          "base_uri": "https://localhost:8080/"
        },
        "id": "68CeMOgfd-KG",
        "outputId": "90381402-8255-45f6-ae02-1dc806f2a606"
      },
      "execution_count": 31,
      "outputs": [
        {
          "output_type": "stream",
          "name": "stderr",
          "text": [
            "/usr/local/lib/python3.7/dist-packages/sklearn/svm/_base.py:1208: ConvergenceWarning: Liblinear failed to converge, increase the number of iterations.\n",
            "  ConvergenceWarning,\n"
          ]
        },
        {
          "output_type": "execute_result",
          "data": {
            "text/plain": [
              "0.9777777777777777"
            ]
          },
          "metadata": {},
          "execution_count": 31
        }
      ]
    },
    {
      "cell_type": "markdown",
      "metadata": {
        "id": "VMmw4XVVXmKK"
      },
      "source": [
        "#Question 5\n",
        "\n",
        "Write a function `hyperparameter_search`which accepts the Kernel and regularization parameter as inputs and returns the `avg_score`of the models with the below mentioned hyperparameters. \n",
        "- Split the Iris dataset into train and test set with 70:30 ratio \n",
        "- kernels = `['linear', 'rbf']`\n",
        "- Regularization `C = [5, 10,100]`\n",
        "- Cross Validation = 10\n",
        "-`random_state=42`\n",
        "\n",
        "Which of the following options give the `accuracy_score` for the `iris dataset`?\n",
        "\n",
        "(a) -1\n",
        "\n",
        "(b) -2\n",
        "\n",
        "(c) 1\n",
        "\n",
        "(d) 0.8\n",
        "\n",
        "**Option C**\n"
      ]
    },
    {
      "cell_type": "code",
      "source": [
        "from sklearn.model_selection import train_test_split, GridSearchCV, cross_val_score\n",
        "from sklearn.svm import LinearSVC, SVC\n",
        "from sklearn.datasets import load_iris\n",
        "from sklearn.metrics import f1_score, precision_score, recall_score, accuracy_score\n",
        "X,y = load_iris(return_X_y=True)\n",
        "X_train, X_test, y_train, y_test = train_test_split(X,y,test_size=0.3,random_state=42)\n",
        "scores = []\n",
        "kernel=['linear', 'rbf']\n",
        "C= [5, 10,100]\n",
        "svc = SVC()\n",
        "for k in kernel:\n",
        "  for c in C:\n",
        "    svc = SVC(kernel=k,C=c,gamma='auto')\n",
        "    scores.append(cross_val_score(svc,X_train,y_train))\n",
        "avg_score=np.array(scores)   \n",
        "np.max(avg_score)"
      ],
      "metadata": {
        "colab": {
          "base_uri": "https://localhost:8080/"
        },
        "id": "YsBYKi0oe6nf",
        "outputId": "0e772e72-b460-41ed-ac55-85f297f38f7c"
      },
      "execution_count": 36,
      "outputs": [
        {
          "output_type": "execute_result",
          "data": {
            "text/plain": [
              "1.0"
            ]
          },
          "metadata": {},
          "execution_count": 36
        }
      ]
    },
    {
      "cell_type": "markdown",
      "source": [
        "# Graded Assignment"
      ],
      "metadata": {
        "id": "Sc8NFlUhI_Ia"
      }
    },
    {
      "cell_type": "markdown",
      "metadata": {
        "id": "bfcPNE5uXp3b"
      },
      "source": [
        "#Question 1\n",
        "\n",
        "Write a function `compute_GridSearchCV` which accepts the Kernel and regularization parameters as inputs and returns the Mean cross-validated score of the best_estimator, denoted with `best_score_` of the models with the below mentioned hyperparameters:\n",
        "- Split the Iris dataset into train and test set with 70:30 ratio \n",
        "- Import svm.SVC as 'model'\n",
        "- kernels = ['linear' , 'rbf']\n",
        "- Regularization = [1,15,25]\n",
        "- gamma = 'auto'\n",
        "- Cross Validation = 4\n",
        "- `random_state=0`\n",
        "\n",
        "(a) 0.9799075391180654\n",
        "\n",
        "(b) 0.8182475236540654\n",
        "\n",
        "(c) 0.7999999995540654\n",
        "\n",
        "(d) 0.1111111122223444\n",
        "\n",
        "\n",
        "**(Option a)**"
      ]
    },
    {
      "cell_type": "code",
      "source": [
        "from sklearn.model_selection import train_test_split, GridSearchCV, cross_val_score\n",
        "from sklearn.svm import LinearSVC, SVC\n",
        "from sklearn.datasets import load_iris\n",
        "from sklearn.metrics import f1_score, precision_score, recall_score, accuracy_score\n",
        "X,y = load_iris(return_X_y=True)\n",
        "X_train, X_test, y_train, y_test = train_test_split(X,y,test_size=0.3,random_state=0)\n",
        "\n",
        "params = {'kernel':['linear', 'rbf'],'C': [1,15,25]}\n",
        "svc = SVC(gamma = 'auto')\n",
        "gscv = GridSearchCV(svc,params,cv=4,return_train_score=False)\n",
        "gscv.fit(X, y)\n",
        "gscv.best_score_"
      ],
      "metadata": {
        "colab": {
          "base_uri": "https://localhost:8080/"
        },
        "id": "XIEgnNvqkLaT",
        "outputId": "3c3f4ae4-5ab9-4cbc-b2f5-87c523f558c2"
      },
      "execution_count": 39,
      "outputs": [
        {
          "output_type": "execute_result",
          "data": {
            "text/plain": [
              "0.9799075391180654"
            ]
          },
          "metadata": {},
          "execution_count": 39
        }
      ]
    },
    {
      "cell_type": "markdown",
      "source": [
        "# Question 2 and 3\n",
        "\n",
        "**Read the instructions given below to answer the two questions given below.**\n",
        "\n",
        "Split the `Social_Network_Ads` dataset (https://drive.google.com/file/d/1qUa1GlG4X4ZY_4E0e7jPR-z7AG7NIDbE/view?usp=sharing) into training and test set in 75:25 ratio.\n",
        "- Fit and transform the train and test set of the feature matrix by applying `StandardScaler` transformer.\n",
        "- Fit a linear SVM (with `random_state = 0`and `linear` kernel) to training data. \n",
        "\n",
        "**Question 2**\n",
        "\n",
        "The predicted data returns an `accuracy_score` on test data. Which of the following option represents the calculated `accuracy_score`?\n",
        "\n",
        "(a) 0.88\n",
        "\n",
        "(b) 0.99\n",
        "\n",
        "(c) 0.77\n",
        "\n",
        "(d)1.20\n",
        "\n",
        "**Option a**\n",
        "\n",
        "**Question 3**\n",
        "\n",
        "Calculate the confusion matrix obtained  from the above predicted data.\n",
        "\n",
        "(a) [[5  63]\n",
        " [ 7 25]]\n",
        "\n",
        "(b) [[63  5]\n",
        " [ 7 25]]\n",
        "\n",
        "(c) [[63  5]\n",
        " [ 25 7]]\n",
        "\n",
        "(d) [[5  63]\n",
        " [ 25 7]]\n",
        "\n",
        "**Option b**"
      ],
      "metadata": {
        "id": "vUIuKUdTUKG_"
      }
    },
    {
      "cell_type": "code",
      "source": [
        "import pandas as pd\n",
        "from sklearn.model_selection import train_test_split\n",
        "from sklearn.preprocessing import StandardScaler\n",
        "from sklearn.svm import SVC\n",
        "from sklearn.metrics import f1_score, precision_score, recall_score, accuracy_score, ConfusionMatrixDisplay, confusion_matrix\n",
        "from sklearn.pipeline import Pipeline\n",
        "\n",
        "url = 'https://drive.google.com/file/d/1qUa1GlG4X4ZY_4E0e7jPR-z7AG7NIDbE/view?usp=sharing'\n",
        "url='https://drive.google.com/uc?id=' + url.split('/')[-2]\n",
        "\n",
        "data = pd.read_csv(url)\n",
        "X,y = data[['Age','EstimatedSalary']], data['Purchased']\n",
        "scaler=StandardScaler()\n",
        "svc=SVC(kernel='linear', random_state = 0)\n",
        "X_train,X_test, y_train, y_test = train_test_split(X,y,test_size=0.25,random_state = 0)\n",
        "X_train,X_test = scaler.fit_transform(X_train), scaler.fit_transform(X_test)\n",
        "\n",
        "pipe = Pipeline([('svc',svc)])\n",
        "pipe.fit(X_train,y_train)\n",
        "print(accuracy_score(pipe.predict(X_test),y_test))\n",
        "cm = confusion_matrix(y_test, pipe.predict(X_test), labels=svc.classes_)\n",
        "print(cm)"
      ],
      "metadata": {
        "colab": {
          "base_uri": "https://localhost:8080/"
        },
        "id": "rW6Jq0lfDkTG",
        "outputId": "4c6a3bd7-5e91-4394-9eb1-65c68e1bbff5"
      },
      "execution_count": 54,
      "outputs": [
        {
          "output_type": "stream",
          "name": "stdout",
          "text": [
            "0.88\n",
            "[[63  5]\n",
            " [ 7 25]]\n"
          ]
        }
      ]
    },
    {
      "cell_type": "markdown",
      "source": [
        "#Questions 4 and 5\n",
        "\n",
        "**Question 4**\n",
        "\n",
        "From the MNIST dataset, consider the first 20,000 data samples as training data and the next 5,000 data samples as test data. Fit a pipeline with MinMaxScaler and a classifier with SVC, linear kernel, one vs rest decision_function_shape and `class_weight=None` to this dataset and answer the following questions.\n",
        "\n",
        "**What is the sum of the main diagonal elements of the confusion matrix?**\n",
        "\n",
        "(a) 4523\n",
        "\n",
        "(b) 4423\n",
        "\n",
        "(c) 4623\n",
        "\n",
        "(d) 4693\n",
        "\n",
        "**Option c**\n",
        "\n",
        "**Question 5**\n",
        "\n",
        "Which of the following are the correct values of precision, recall and f1_Score?\n",
        "\n",
        "(a) Precision: 0.90 \n",
        "Recall: 0.89 \n",
        "f1_Score: 0.90 \n",
        "\n",
        "(b) Precision: 0.99 \n",
        "Recall: 0.99 \n",
        "f1_Score: 0.99 \n",
        "\n",
        "(c) Precision: 0.92 \n",
        "Recall: 0.92 \n",
        "f1_Score: 0.92 \n",
        "\n",
        "(d) Precision: 0.14 \n",
        "Recall: 0.14 \n",
        "f1_Score: 0.14 \n",
        "\n",
        "**Option c**"
      ],
      "metadata": {
        "id": "Zm0ljvNs8jV4"
      }
    },
    {
      "cell_type": "code",
      "source": [
        "from sklearn.datasets import fetch_openml\n",
        "from sklearn.model_selection import train_test_split\n",
        "X,y = fetch_openml(name='mnist_784',return_X_y=True)\n",
        "X_train, X_test, y_train, y_test =train_test_split(X[:25000],y[:25000],shuffle=False,test_size=0.2)"
      ],
      "metadata": {
        "id": "ZoSjSD7OOBpU"
      },
      "execution_count": 55,
      "outputs": []
    },
    {
      "cell_type": "code",
      "source": [
        "from sklearn.pipeline import Pipeline\n",
        "from sklearn.svm import SVC\n",
        "from sklearn.preprocessing import MinMaxScaler\n",
        "from sklearn.metrics import confusion_matrix\n",
        "pipe = Pipeline([('scaler',MinMaxScaler()),\n",
        "                 ('svc', SVC(kernel='linear',decision_function_shape='ovr', class_weight=None))])\n",
        "pipe.fit(X_train,y_train)\n",
        "y_pred = pipe.predict(X_test)"
      ],
      "metadata": {
        "colab": {
          "base_uri": "https://localhost:8080/"
        },
        "id": "3s-L6fjjQT7F",
        "outputId": "00e45241-2db1-473a-a796-f0b9cf8302ca"
      },
      "execution_count": 56,
      "outputs": [
        {
          "output_type": "execute_result",
          "data": {
            "text/plain": [
              "array([[469,   1,   5,   3,   2,  14,   1,   0,   3,   3],\n",
              "       [  0, 555,   4,   3,   0,   0,   2,   2,  10,   6],\n",
              "       [  1,   2, 479,  13,   6,   0,   2,   4,  11,   1],\n",
              "       [  0,   4,   6, 462,   0,  18,   0,   1,  15,   2],\n",
              "       [  0,   0,   9,   0, 468,   2,   6,   7,   0,  21],\n",
              "       [  5,   1,   1,  19,   1, 405,   9,   1,  19,   0],\n",
              "       [  1,   1,   3,   0,   2,   3, 471,   0,   6,   0],\n",
              "       [  1,   1,   6,   3,   4,   2,   0, 483,   3,  26],\n",
              "       [  1,   3,   7,   9,   1,   7,   0,   0, 396,   2],\n",
              "       [  0,   0,   1,   4,  16,   9,   0,   6,   3, 435]])"
            ]
          },
          "metadata": {},
          "execution_count": 56
        }
      ]
    },
    {
      "cell_type": "code",
      "source": [
        "cm = confusion_matrix(y_pred,y_test)\n",
        "np.diag(cm).sum()"
      ],
      "metadata": {
        "colab": {
          "base_uri": "https://localhost:8080/"
        },
        "id": "48rjGByzRaCR",
        "outputId": "6ff6706c-bb40-4aa9-cd54-8fe284124b70"
      },
      "execution_count": 57,
      "outputs": [
        {
          "output_type": "execute_result",
          "data": {
            "text/plain": [
              "4623"
            ]
          },
          "metadata": {},
          "execution_count": 57
        }
      ]
    },
    {
      "cell_type": "code",
      "source": [
        "from sklearn.metrics import f1_score, precision_score, recall_score, accuracy_score\n",
        "print('Precision',precision_score(y_pred,y_test, average='micro'))\n",
        "print('Recall',recall_score(y_pred,y_test, average='micro'))\n",
        "print('F1_score',f1_score(y_pred,y_test, average='micro'))"
      ],
      "metadata": {
        "colab": {
          "base_uri": "https://localhost:8080/"
        },
        "id": "xR54GW_uRcop",
        "outputId": "08c55735-b339-41f8-eb57-7dec34d1aedc"
      },
      "execution_count": 60,
      "outputs": [
        {
          "output_type": "stream",
          "name": "stdout",
          "text": [
            "Precision 0.9246\n",
            "Recall 0.9246\n",
            "F1_score 0.9246\n"
          ]
        }
      ]
    },
    {
      "cell_type": "markdown",
      "source": [
        "# Question 6\n",
        "\n",
        "Consider the MNIST dataset, split it into training and test set in 50:50 ratio with `random_state = 42`. Fit a SVM model using pipeline with StandardScalar, SVM classifier `kernel='poly'` and `degree = 3`,  `decision_function_shape='ovr'`and `class_weight='balanced'`, `C=10`. Train the model on training data, and make predictions for test data. Generate the Classification report and choose the correct value for weighted avg of f1_score.\n",
        "\n",
        "(a) 0.96\n",
        "\n",
        "(b) 0.97\n",
        "\n",
        "(c) 0.98\n",
        "\n",
        "(d) 0.99\n",
        "\n",
        "**Option b**\n"
      ],
      "metadata": {
        "id": "mHb2-i7-4ZFE"
      }
    },
    {
      "cell_type": "code",
      "source": [
        "from sklearn.datasets import fetch_openml\n",
        "from sklearn.model_selection import train_test_split\n",
        "from sklearn.pipeline import Pipeline\n",
        "from sklearn.svm import SVC\n",
        "from sklearn.preprocessing import StandardScaler\n",
        "from sklearn.metrics import confusion_matrix, classification_report\n",
        "\n",
        "X,y = fetch_openml(name='mnist_784',return_X_y=True)\n",
        "X_train, X_test, y_train, y_test =train_test_split(X,y,test_size=0.5, random_state=42)\n",
        "pipe = Pipeline([('scaler',StandardScaler()),\n",
        "                 ('svc', SVC(kernel='poly',degree=3,decision_function_shape='ovr', class_weight='balanced', C=10))])\n",
        "pipe.fit(X_train,y_train)\n",
        "y_pred = pipe.predict(X_test)\n"
      ],
      "metadata": {
        "colab": {
          "base_uri": "https://localhost:8080/",
          "height": 109
        },
        "id": "trZqUHt1Umx_",
        "outputId": "36338e99-07f1-4926-f1c0-939016156515"
      },
      "execution_count": 63,
      "outputs": [
        {
          "output_type": "execute_result",
          "data": {
            "text/plain": [
              "'              precision    recall  f1-score   support\\n\\n           0       0.98      0.99      0.99      3440\\n           1       0.99      0.99      0.99      3928\\n           2       0.97      0.96      0.96      3547\\n           3       0.96      0.98      0.97      3487\\n           4       0.98      0.96      0.97      3380\\n           5       0.97      0.97      0.97      3147\\n           6       0.98      0.98      0.98      3489\\n           7       0.97      0.98      0.97      3677\\n           8       0.96      0.96      0.96      3373\\n           9       0.96      0.96      0.96      3532\\n\\n    accuracy                           0.97     35000\\n   macro avg       0.97      0.97      0.97     35000\\nweighted avg       0.97      0.97      0.97     35000\\n'"
            ],
            "application/vnd.google.colaboratory.intrinsic+json": {
              "type": "string"
            }
          },
          "metadata": {},
          "execution_count": 63
        }
      ]
    },
    {
      "cell_type": "code",
      "source": [
        "print(classification_report(y_pred,y_test))"
      ],
      "metadata": {
        "colab": {
          "base_uri": "https://localhost:8080/"
        },
        "id": "v3MreO9sWdhq",
        "outputId": "2b78e56b-5b27-4d79-b39a-ab14782ad1c1"
      },
      "execution_count": 65,
      "outputs": [
        {
          "output_type": "stream",
          "name": "stdout",
          "text": [
            "              precision    recall  f1-score   support\n",
            "\n",
            "           0       0.98      0.99      0.99      3440\n",
            "           1       0.99      0.99      0.99      3928\n",
            "           2       0.97      0.96      0.96      3547\n",
            "           3       0.96      0.98      0.97      3487\n",
            "           4       0.98      0.96      0.97      3380\n",
            "           5       0.97      0.97      0.97      3147\n",
            "           6       0.98      0.98      0.98      3489\n",
            "           7       0.97      0.98      0.97      3677\n",
            "           8       0.96      0.96      0.96      3373\n",
            "           9       0.96      0.96      0.96      3532\n",
            "\n",
            "    accuracy                           0.97     35000\n",
            "   macro avg       0.97      0.97      0.97     35000\n",
            "weighted avg       0.97      0.97      0.97     35000\n",
            "\n"
          ]
        }
      ]
    },
    {
      "cell_type": "markdown",
      "source": [
        "#Question 7\n",
        "Write the function `compute_score(X_train, y_train, X_test, y_test)` to do the following on the `Iris` dataset-\n",
        "\n",
        "Write your code keeping in mind:\n",
        "- Split the Iris dataset into train and test set with 70:30 ratio \n",
        "- Import svm.SVC as 'model'\n",
        "- kernel as 'poly', regularization parameter as 10 and gamma as 'auto'\n",
        "- Train the 'model' and mark the computed 'score'\n",
        "\n",
        "\n",
        "(a) 2.0\n",
        "\n",
        "(b) 1.0\n",
        "\n",
        "(c) -1.0\n",
        "\n",
        "(d) -2.0\n",
        "\n",
        "**Option b**\n"
      ],
      "metadata": {
        "id": "rHsVfORxLcNl"
      }
    },
    {
      "cell_type": "code",
      "source": [
        "from sklearn.datasets import load_iris\n",
        "from sklearn.model_selection import train_test_split\n",
        "from sklearn.pipeline import Pipeline\n",
        "from sklearn.svm import SVC\n",
        "from sklearn.preprocessing import StandardScaler\n",
        "from sklearn.metrics import confusion_matrix, classification_report\n",
        "\n",
        "X,y = load_iris(return_X_y=True)\n",
        "X_train, X_test, y_train, y_test =train_test_split(X,y,test_size=0.3, random_state=42)\n",
        "pipe = SVC(kernel='poly',gamma='auto', C=10)\n",
        "pipe.fit(X_train,y_train)\n",
        "\n",
        "pipe.score(X_test,y_test)"
      ],
      "metadata": {
        "colab": {
          "base_uri": "https://localhost:8080/"
        },
        "id": "5Bm_VL4TXlXF",
        "outputId": "ca3f2fa7-8b96-4e6e-e1b3-8e9d1ebb65c7"
      },
      "execution_count": 72,
      "outputs": [
        {
          "output_type": "execute_result",
          "data": {
            "text/plain": [
              "1.0"
            ]
          },
          "metadata": {},
          "execution_count": 72
        }
      ]
    },
    {
      "cell_type": "markdown",
      "source": [
        "#Question 8\n",
        "\n",
        "Write the function `compute_score(X_train, y_train, X_test, y_test)` to do the following on the `Iris` dataset-\n",
        "\n",
        "Write your code keeping in mind:\n",
        "- Split the Iris dataset into train and test set with 70:30 ratio \n",
        "- Import svm.SVC as 'model'\n",
        "- kernel as 'sigmoid', regularization parameter as 25 and gamma as 'auto'\n",
        "- Train the 'model' and mark the computed 'score'\n",
        "\n",
        "\n",
        "(a) 0.2666666666666666\n",
        "\n",
        "(b) 0.9555555555555556\n",
        "\n",
        "(c) 1.8122222222222222\n",
        "\n",
        "(d) 2.2111111111111111\n",
        "\n",
        "**Option a**\n"
      ],
      "metadata": {
        "id": "OdQVLAOqnnzy"
      }
    },
    {
      "cell_type": "code",
      "source": [
        "from sklearn.datasets import load_iris\n",
        "from sklearn.model_selection import train_test_split\n",
        "from sklearn.pipeline import Pipeline\n",
        "from sklearn.svm import SVC\n",
        "from sklearn.preprocessing import StandardScaler\n",
        "from sklearn.metrics import confusion_matrix, classification_report\n",
        "\n",
        "X,y = load_iris(return_X_y=True)\n",
        "X_train, X_test, y_train, y_test =train_test_split(X,y,test_size=0.3, random_state=42)\n",
        "pipe = SVC(kernel='sigmoid',gamma='auto', C=25)\n",
        "pipe.fit(X_train,y_train)\n",
        "\n",
        "pipe.score(X_test,y_test)"
      ],
      "metadata": {
        "colab": {
          "base_uri": "https://localhost:8080/"
        },
        "id": "3KQwBt7TZnB_",
        "outputId": "2494946e-7fdd-4bca-8b82-8b5c115701af"
      },
      "execution_count": 75,
      "outputs": [
        {
          "output_type": "execute_result",
          "data": {
            "text/plain": [
              "0.28888888888888886"
            ]
          },
          "metadata": {},
          "execution_count": 75
        }
      ]
    },
    {
      "cell_type": "markdown",
      "source": [
        "#Question 9\n",
        "\n",
        "Import the `iris` dataset and drop the rows where `class=Iris-setosa`. Apply a pipeline containing a `MinMaxScaler()`function called`Scaler` and a `svm.svc()` called `classifier`. Split the `iris` dataset into 75:25 ratio with `random_state=0`. Mark the correct precision score.\n",
        "\n",
        "(a) 0.00\n",
        "\n",
        "(b) 1.22\n",
        "\n",
        "(C) 0.96\n",
        "\n",
        "(d) 2.33\n",
        "\n",
        "**Option c**\n",
        "\n"
      ],
      "metadata": {
        "id": "vG9Jnmc7gpCB"
      }
    },
    {
      "cell_type": "code",
      "source": [
        "import numpy as np\n",
        "from sklearn.model_selection import train_test_split\n",
        "from sklearn.svm import SVC\n",
        "from sklearn.datasets import load_iris\n",
        "from sklearn.pipeline import Pipeline\n",
        "from sklearn.preprocessing import MinMaxScaler\n",
        "from sklearn.metrics import f1_score, precision_score, recall_score\n",
        "X_new,y_new = load_iris(return_X_y=True)\n",
        "X,y = [],[]\n",
        "for i in range(50,X_new.shape[0]):\n",
        "  X.append(X_new[i])\n",
        "  y.append(y_new[i])\n",
        "X,y = np.array(X), np.array(y)\n",
        "X_train, X_test, y_train, y_test = train_test_split(X,y,test_size=0.25,random_state=0)\n",
        "svc = SVC(kernel='linear', decision_function_shape='ovr', C=1, class_weight=None)\n",
        "mms = MinMaxScaler()\n",
        "pipe = Pipeline([('mms',mms),\n",
        "                 ('svc',svc)])\n",
        "pipe.fit(X_train,y_train)\n",
        "print(precision_score(pipe.predict(X_test), y_test,average='micro'))"
      ],
      "metadata": {
        "colab": {
          "base_uri": "https://localhost:8080/"
        },
        "id": "iCN9XkrtaI8X",
        "outputId": "5ea51832-c079-4e1d-b697-aaa47aaf0dbf"
      },
      "execution_count": 80,
      "outputs": [
        {
          "output_type": "stream",
          "name": "stdout",
          "text": [
            "0.96\n"
          ]
        }
      ]
    }
  ]
}