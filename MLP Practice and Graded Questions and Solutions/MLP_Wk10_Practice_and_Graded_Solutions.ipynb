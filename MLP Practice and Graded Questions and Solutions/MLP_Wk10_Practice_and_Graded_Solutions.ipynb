{
  "nbformat": 4,
  "nbformat_minor": 0,
  "metadata": {
    "colab": {
      "name": "MLP_Wk10_Practice_and_Graded_Solutions.ipynb",
      "provenance": [],
      "toc_visible": true
    },
    "kernelspec": {
      "name": "python3",
      "display_name": "Python 3"
    },
    "language_info": {
      "name": "python"
    }
  },
  "cells": [
    {
      "cell_type": "markdown",
      "source": [
        "#Practice Questions 1-2\n",
        "\n",
        "Load the wine dataset from sklearn.\n",
        "\n",
        "- Split the dataset into train and test set with 70:30 ratio with `random_state = 1`.\n",
        "- Use AdaBoostClassifier with random_state = 1 (other values being default).\n",
        "- Train the 'model' and compute the 'score' on training data and test data\n",
        "\n",
        "Question 1: Enter the value of the 'score' on training set.\n",
        "\n",
        "(NAT) **Answer: 0.6774 (Range : 0.67 - 0.68)**\n",
        "\n",
        "Question 2: Enter the value of the 'score' on testing set. \n",
        "\n",
        "(NAT) **Answer: 0.5370(Range : 0.53 - 0.54)**\n"
      ],
      "metadata": {
        "id": "l8d2AiStBx7e"
      }
    },
    {
      "cell_type": "code",
      "source": [
        "from sklearn.ensemble import AdaBoostClassifier\n",
        "from sklearn.model_selection import train_test_split\n",
        "from sklearn.datasets import load_wine\n",
        "X, y = load_wine(as_frame=True, return_X_y= True)\n",
        "X_train, X_test, y_train, y_test = train_test_split(X,y,test_size=0.3, random_state=1)\n",
        "abc = AdaBoostClassifier(random_state=1)\n",
        "abc.fit(X_train, y_train)\n",
        "print(abc.score(X_train, y_train))\n",
        "print(abc.score(X_test, y_test))"
      ],
      "metadata": {
        "colab": {
          "base_uri": "https://localhost:8080/"
        },
        "id": "3ajc9F1esv5n",
        "outputId": "fd512207-72af-4cf8-9f1f-26a125663c8c"
      },
      "execution_count": 1,
      "outputs": [
        {
          "output_type": "stream",
          "name": "stdout",
          "text": [
            "0.6774193548387096\n",
            "0.5370370370370371\n"
          ]
        }
      ]
    },
    {
      "cell_type": "markdown",
      "source": [
        "#Practice Questions 3-5\n",
        "\n",
        "Load the wine dataset from sklearn.\n",
        "\n",
        "- Split the dataset into train and test set with 70:30 ratio with random_state = 1.\n",
        "- Use AdaBoostClassifier with random_state = 1 (other values being default).\n",
        "- Perform Hyperparameter tuning using GridSearchCV over the following:\n",
        "  - Use n_estimators as [100,500,1000]\n",
        "  - Use learning_rate as [0.5,1,2]\n",
        "- Train the 'model' and compute the 'score' on training data and test data\n",
        "\n",
        "Question 3: Enter the value of the 'score' on testing set. \n",
        "\n",
        "(NAT)\n",
        "\n",
        " **Answer: 0.9629 (Range : 0.96-0.97)**\n",
        "\n",
        "Question 4: Enter the value of best `n_estimators` of the model after training with GridSearchCV \n",
        "\n",
        "(NAT)\n",
        "\n",
        " **Answer: 100**\n",
        "\n",
        "Question 5: Enter the value of best `learning_rate` of the model after training with GridSearchCV \n",
        "\n",
        "(NAT)  \n",
        "\n",
        "**Answer: 0.5**"
      ],
      "metadata": {
        "id": "GNSpPNUlCqzI"
      }
    },
    {
      "cell_type": "code",
      "source": [
        "from sklearn.datasets import load_wine\n",
        "from sklearn.ensemble import AdaBoostClassifier\n",
        "from sklearn.model_selection import train_test_split\n",
        "from sklearn.model_selection import GridSearchCV\n",
        "\n",
        "X, y = load_wine(as_frame=True, return_X_y= True)\n",
        "X_train, X_test, y_train, y_test = train_test_split(X,y,test_size=0.3, random_state=1)\n",
        "abc = AdaBoostClassifier(random_state=1)\n",
        "params = {'n_estimators':[100,500,1000], 'learning_rate':[0.5,1,2]}\n",
        "gscv = GridSearchCV(abc, params, cv = 4, return_train_score = True)\n",
        "gscv.fit(X_train, y_train)"
      ],
      "metadata": {
        "colab": {
          "base_uri": "https://localhost:8080/"
        },
        "id": "ud7j2lYHq3Ke",
        "outputId": "be8fce6f-a658-4a4f-d962-7f15d0ab428c"
      },
      "execution_count": 6,
      "outputs": [
        {
          "output_type": "execute_result",
          "data": {
            "text/plain": [
              "GridSearchCV(cv=4, estimator=AdaBoostClassifier(random_state=1),\n",
              "             param_grid={'learning_rate': [0.5, 1, 2],\n",
              "                         'n_estimators': [100, 500, 1000]},\n",
              "             return_train_score=True)"
            ]
          },
          "metadata": {},
          "execution_count": 6
        }
      ]
    },
    {
      "cell_type": "code",
      "source": [
        "print(gscv.score(X_test, y_test))\n",
        "print(gscv.best_params_['n_estimators'])\n",
        "print(gscv.best_params_['learning_rate'])"
      ],
      "metadata": {
        "colab": {
          "base_uri": "https://localhost:8080/"
        },
        "id": "vM6UGCYluslt",
        "outputId": "299321cf-7b10-427f-ab44-7bfcb2229866"
      },
      "execution_count": 7,
      "outputs": [
        {
          "output_type": "stream",
          "name": "stdout",
          "text": [
            "0.9629629629629629\n",
            "100\n",
            "0.5\n"
          ]
        }
      ]
    },
    {
      "cell_type": "markdown",
      "source": [
        "#Practice Questions 6-7 \n",
        "\n",
        "Write a code to predict the score on the training set and the testing set using Voting Classifier on wine dataset\n",
        "Write your code based on the following keypoints:\n",
        "- Split the dataset into train and test set with 70:30 ratio with `random_state = 1`.\n",
        "- Import model. Keep estimators as BaggingClassifier, Random Forest, GradientBoosting Classifier with random_state = 1\n",
        "- Train the 'model' and compute the 'score' on training data and test data\n",
        "\n",
        "Question 6: Enter the value of the 'score' on training set. (Enter your answer in four decimal places)\n",
        "\n",
        "(NAT) **Answer: 1.0 (Range : 0.99 - 1.00)**\n",
        "\n",
        "Question 7: Enter the value of the 'score' on testing set. (Enter your answer in four decimal places)\n",
        "\n",
        "(NAT) **Answer: 0.9815 (Range : 0.975 - 0.985)**"
      ],
      "metadata": {
        "id": "BlQwADCM91Ih"
      }
    },
    {
      "cell_type": "code",
      "source": [
        "from sklearn.datasets import load_wine\n",
        "from sklearn.ensemble import VotingClassifier, BaggingClassifier, RandomForestClassifier, GradientBoostingClassifier\n",
        "from sklearn.model_selection import train_test_split\n",
        "\n",
        "X, y = load_wine(as_frame=True, return_X_y= True)\n",
        "X_train, X_test, y_train, y_test = train_test_split(X,y,test_size=0.3, random_state=1)\n",
        "vc = VotingClassifier([('bc',BaggingClassifier(random_state=1)), ('rfc',RandomForestClassifier(random_state=1)), ('gbc',GradientBoostingClassifier(random_state=1))])\n",
        "vc.fit(X_train, y_train)\n",
        "print(vc.score(X_train, y_train))\n",
        "print(vc.score(X_test, y_test))"
      ],
      "metadata": {
        "colab": {
          "base_uri": "https://localhost:8080/"
        },
        "id": "QAA4mnqav0dR",
        "outputId": "4689e46d-6b60-4fc0-f17c-01f339edc6c4"
      },
      "execution_count": 10,
      "outputs": [
        {
          "output_type": "stream",
          "name": "stdout",
          "text": [
            "1.0\n",
            "0.9814814814814815\n"
          ]
        }
      ]
    },
    {
      "cell_type": "markdown",
      "source": [
        "#Preamble (To be added on top of graded assignment.)\n",
        "\n",
        "Load Used Cars Price Prediction dataset available at following\n",
        "https://drive.google.com/uc?export=download&id=1tKqddJuIiRqrm7ml2qyVGJlAW3JQjaZX"
      ],
      "metadata": {
        "id": "K0ovwPwRI10H"
      }
    },
    {
      "cell_type": "markdown",
      "source": [
        "#Graded Questions 1-4\n",
        "\n",
        "Load the used cars' dataset.\n",
        "\n",
        "The target variable is 'MSRP'.\n",
        "\n",
        "* Remove the rows that contain NULL values.\n",
        "* Drop 'Invoice' feature.\n",
        "* Preprocess to remove comma and dollar sign from MSRP (and cast its type as integer).\n",
        "* Use Pandas.get_dummies() on the categorical features : 'Make','Model','Type','Origin', 'DriveTrain'\n",
        "* Split the data into X and y and then train and test subsets using  70:30 ratio with `random_state = 1`.\n",
        "* Train the model using the following (All with default values and random_state = 1): \n",
        "  - BaggingRegressor\n",
        "  - RandomForestRegressor\n",
        "  - GradientBoostingRegressor\n",
        "  - AdaBoostRegressor\n",
        "\n",
        "\n",
        "Question 1: Enter the value of the 'score' on testing set using `BaggingRegressor`. \n",
        "\n",
        "(NAT) **Answer: 0.7949 (Range : 0.79 - 0.80)**\n",
        "\n",
        "\n",
        "Question 2: Enter the value of the 'score' on testing set using `RandomForestRegressor`. \n",
        "\n",
        "(NAT) **Answer: 0.8369 (Range : 0.8310 - 0.8410)**\n",
        "\n",
        "\n",
        "Question 3: Enter the value of the 'score' on testing set using `GradientBoostingRegressor`. \n",
        "\n",
        "(NAT) **Answer: 0.8270 (Range : 0.821 - 0.831)**\n",
        "\n",
        "\n",
        "Question 4: Enter the value of the 'score' on testing set using `AdaBoostRegressor`. \n",
        "\n",
        "(NAT) **Answer: 0.7119 (Range : 0.706 - 0.716)**\n"
      ],
      "metadata": {
        "id": "K6jfxal7KEGd"
      }
    },
    {
      "cell_type": "code",
      "source": [
        "import pandas as pd\n",
        "import numpy as np\n",
        "from sklearn.ensemble import BaggingRegressor, RandomForestRegressor, GradientBoostingRegressor, AdaBoostRegressor\n",
        "from sklearn.model_selection import train_test_split\n",
        "\n",
        "data = pd.read_csv('https://drive.google.com/uc?export=download&id=1tKqddJuIiRqrm7ml2qyVGJlAW3JQjaZX')\n",
        "data = data.dropna()\n",
        "data = data.drop('Invoice', axis=1)\n",
        "data.MSRP = data.MSRP.str.replace(',','').str.replace('$','').astype(np.int)\n",
        "data = pd.get_dummies(data, columns=['Make','Model','Type','Origin', 'DriveTrain'])\n",
        "X, y = data.drop('MSRP', axis=1), data.MSRP\n",
        "X_train, X_test, y_train, y_test = train_test_split(X,y,test_size=0.3, random_state=1)\n",
        "\n",
        "bc= BaggingRegressor(random_state=1)\n",
        "rfc= RandomForestRegressor(random_state=1)\n",
        "gbc= GradientBoostingRegressor(random_state=1)\n",
        "abc= AdaBoostRegressor(random_state=1)\n",
        "\n",
        "bc.fit(X_train, y_train)\n",
        "rfc.fit(X_train, y_train)\n",
        "gbc.fit(X_train, y_train)\n",
        "abc.fit(X_train, y_train)\n",
        "\n",
        "print(bc.score(X_test, y_test))\n",
        "print(rfc.score(X_test, y_test))\n",
        "print(gbc.score(X_test, y_test))\n",
        "print(abc.score(X_test, y_test))"
      ],
      "metadata": {
        "colab": {
          "base_uri": "https://localhost:8080/"
        },
        "id": "IYQXuUgT3KnK",
        "outputId": "4dff8931-ff39-4a78-ab5a-81c156e3b95c"
      },
      "execution_count": 42,
      "outputs": [
        {
          "output_type": "stream",
          "name": "stderr",
          "text": [
            "/usr/local/lib/python3.7/dist-packages/ipykernel_launcher.py:9: FutureWarning: The default value of regex will change from True to False in a future version. In addition, single character regular expressions will *not* be treated as literal strings when regex=True.\n",
            "  if __name__ == '__main__':\n",
            "/usr/local/lib/python3.7/dist-packages/ipykernel_launcher.py:9: DeprecationWarning: `np.int` is a deprecated alias for the builtin `int`. To silence this warning, use `int` by itself. Doing this will not modify any behavior and is safe. When replacing `np.int`, you may wish to use e.g. `np.int64` or `np.int32` to specify the precision. If you wish to review your current use, check the release note link for additional information.\n",
            "Deprecated in NumPy 1.20; for more details and guidance: https://numpy.org/devdocs/release/1.20.0-notes.html#deprecations\n",
            "  if __name__ == '__main__':\n"
          ]
        },
        {
          "output_type": "stream",
          "name": "stdout",
          "text": [
            "0.7949163237522345\n",
            "0.8369440882741959\n",
            "0.8270485242007507\n",
            "0.711903287964231\n"
          ]
        }
      ]
    },
    {
      "cell_type": "markdown",
      "source": [
        "#Graded Questions 5-7\n",
        "\n",
        "On the same data set, perform the preprocessing stated in the previous questions, and perform Hyperparameter Tuning using GridSearchCV on AdaBoostRegressor. Use random_state to be 1.  \n",
        "\n",
        "- Hyperparameter tuning to be done over:\n",
        "  - Use n_estimators as [100,500,1000]\n",
        "  - Use learning_rate as [0.5,1,2]\n",
        "\n",
        "- Train the 'model' and compute the 'score' on the test data.\n",
        "\n",
        "Question 5: Enter the value of the 'score' on testing set. \n",
        "\n",
        "(NAT) **Answer: 0.9085 (Range : 0.90 - 0.91)**\n",
        "\n",
        "Question 6: Enter the value of best `n_estimators` of the model after training with GridSearchCV \n",
        "\n",
        "(NAT) \n",
        "**Answer: 1000**\n",
        "\n",
        "Question 7: Enter the value of best `learning_rate` of the model after training with GridSearchCV \n",
        "\n",
        "(NAT)  **Answer: 1**"
      ],
      "metadata": {
        "id": "rjfgWUtENZRn"
      }
    },
    {
      "cell_type": "code",
      "source": [
        "from re import RegexFlag\n",
        "import pandas as pd\n",
        "import numpy as np\n",
        "from sklearn.ensemble import AdaBoostRegressor\n",
        "from sklearn.model_selection import train_test_split, GridSearchCV\n",
        "\n",
        "data = pd.read_csv('https://drive.google.com/uc?export=download&id=1tKqddJuIiRqrm7ml2qyVGJlAW3JQjaZX')\n",
        "data = data.dropna()\n",
        "data = data.drop('Invoice', axis=1)\n",
        "data.MSRP = data.MSRP.str.replace(',','')\n",
        "data.MSRP = data.MSRP.str.replace('$','')\n",
        "data.MSRP = data.MSRP.astype(int)\n",
        "data = pd.get_dummies(data, columns=['Make','Model','Type','Origin', 'DriveTrain'])\n",
        "X, y = data.drop('MSRP', axis=1), data.MSRP\n",
        "X_train, X_test, y_train, y_test = train_test_split(X,y,test_size=0.3, random_state=1)\n",
        "\n",
        "params = {'n_estimators': [100,500,1000],'learning_rate':[0.5,1,2]}\n",
        "gscv = GridSearchCV(AdaBoostRegressor(random_state=1),params)\n",
        "gscv.fit(X_train,y_train)\n",
        "print(gscv.score(X_test, y_test))\n",
        "print(gscv.best_params_)"
      ],
      "metadata": {
        "colab": {
          "base_uri": "https://localhost:8080/"
        },
        "id": "N5uKKz9i7myN",
        "outputId": "7d539e00-cf08-4c87-c70c-53664e2e16d1"
      },
      "execution_count": 46,
      "outputs": [
        {
          "output_type": "stream",
          "name": "stderr",
          "text": [
            "/usr/local/lib/python3.7/dist-packages/ipykernel_launcher.py:11: FutureWarning: The default value of regex will change from True to False in a future version. In addition, single character regular expressions will *not* be treated as literal strings when regex=True.\n",
            "  # This is added back by InteractiveShellApp.init_path()\n"
          ]
        },
        {
          "output_type": "stream",
          "name": "stdout",
          "text": [
            "0.7254746870530266\n",
            "{'learning_rate': 0.5, 'n_estimators': 500}\n"
          ]
        }
      ]
    }
  ]
}