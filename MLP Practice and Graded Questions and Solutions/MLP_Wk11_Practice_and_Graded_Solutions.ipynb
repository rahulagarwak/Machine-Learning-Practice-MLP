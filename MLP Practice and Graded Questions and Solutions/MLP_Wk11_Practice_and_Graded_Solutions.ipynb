{
  "nbformat": 4,
  "nbformat_minor": 0,
  "metadata": {
    "colab": {
      "name": "MLP_Wk11_Practice_and_Graded_Solutions.ipynb",
      "provenance": []
    },
    "kernelspec": {
      "name": "python3",
      "display_name": "Python 3"
    },
    "language_info": {
      "name": "python"
    }
  },
  "cells": [
    {
      "cell_type": "markdown",
      "source": [
        "# **(Consider the statement for Q1-Q4)**\n",
        "\n",
        "*   Load the iris dataset from sklearn.\n",
        "\n",
        "*   Remove the rows if it contain NULL values.\n",
        "\n",
        "\n",
        "*   Train the  model  Using Kmeans Clustering by setting  the parameter as following: \n",
        "\n",
        "       \n",
        "       \"init\": \"random\",\n",
        "        \"n_init\": 50,\n",
        "        \"max_iter\": 500,\n",
        "        \"random_state\": 10\n",
        "\n",
        "\n",
        "\n"
      ],
      "metadata": {
        "id": "_IJYiomWug1k"
      }
    },
    {
      "cell_type": "code",
      "source": [
        "from sklearn.datasets import load_iris\n",
        "from sklearn.cluster import KMeans\n",
        "X,y = load_iris(as_frame=True, return_X_y=True)\n",
        "km = KMeans(init='random', n_init=50, max_iter=500, random_state=10)\n",
        "km.fit(X)"
      ],
      "metadata": {
        "colab": {
          "base_uri": "https://localhost:8080/"
        },
        "id": "1SWjWrKMA-kw",
        "outputId": "3b19ea30-cdd5-4b4c-a088-06511937a4a1"
      },
      "execution_count": 13,
      "outputs": [
        {
          "output_type": "execute_result",
          "data": {
            "text/plain": [
              "KMeans(init='random', max_iter=500, n_init=50, random_state=10)"
            ]
          },
          "metadata": {},
          "execution_count": 13
        }
      ]
    },
    {
      "cell_type": "markdown",
      "source": [
        "# **Que 1:**\n",
        "\n",
        "[2 Points] Which feature pair has the highest correlation cofficient value.\n",
        "\n",
        "A) 'Petal length'  and   'Petal Width'\n",
        "\n",
        "B) 'Petal Width','Sepal Length'\n",
        "\n",
        "C) 'Petal length' and 'Sepal Length'\n",
        "\n",
        "D) 'Sepal Width' and 'Sepal Length'\n",
        "\n",
        "\n",
        "**Ans:** **D**"
      ],
      "metadata": {
        "id": "xxSZTAPcQMsd"
      }
    },
    {
      "cell_type": "code",
      "source": [
        "import seaborn as sns\n",
        "X.corr()"
      ],
      "metadata": {
        "colab": {
          "base_uri": "https://localhost:8080/",
          "height": 175
        },
        "id": "RT5x8ETGBjAI",
        "outputId": "027fcaff-d871-4448-f607-63cf74669596"
      },
      "execution_count": 12,
      "outputs": [
        {
          "output_type": "execute_result",
          "data": {
            "text/plain": [
              "                   sepal length (cm)  sepal width (cm)  petal length (cm)  \\\n",
              "sepal length (cm)           1.000000         -0.117570           0.871754   \n",
              "sepal width (cm)           -0.117570          1.000000          -0.428440   \n",
              "petal length (cm)           0.871754         -0.428440           1.000000   \n",
              "petal width (cm)            0.817941         -0.366126           0.962865   \n",
              "\n",
              "                   petal width (cm)  \n",
              "sepal length (cm)          0.817941  \n",
              "sepal width (cm)          -0.366126  \n",
              "petal length (cm)          0.962865  \n",
              "petal width (cm)           1.000000  "
            ],
            "text/html": [
              "\n",
              "  <div id=\"df-c66919d5-65e0-4077-8e83-586d601f50da\">\n",
              "    <div class=\"colab-df-container\">\n",
              "      <div>\n",
              "<style scoped>\n",
              "    .dataframe tbody tr th:only-of-type {\n",
              "        vertical-align: middle;\n",
              "    }\n",
              "\n",
              "    .dataframe tbody tr th {\n",
              "        vertical-align: top;\n",
              "    }\n",
              "\n",
              "    .dataframe thead th {\n",
              "        text-align: right;\n",
              "    }\n",
              "</style>\n",
              "<table border=\"1\" class=\"dataframe\">\n",
              "  <thead>\n",
              "    <tr style=\"text-align: right;\">\n",
              "      <th></th>\n",
              "      <th>sepal length (cm)</th>\n",
              "      <th>sepal width (cm)</th>\n",
              "      <th>petal length (cm)</th>\n",
              "      <th>petal width (cm)</th>\n",
              "    </tr>\n",
              "  </thead>\n",
              "  <tbody>\n",
              "    <tr>\n",
              "      <th>sepal length (cm)</th>\n",
              "      <td>1.000000</td>\n",
              "      <td>-0.117570</td>\n",
              "      <td>0.871754</td>\n",
              "      <td>0.817941</td>\n",
              "    </tr>\n",
              "    <tr>\n",
              "      <th>sepal width (cm)</th>\n",
              "      <td>-0.117570</td>\n",
              "      <td>1.000000</td>\n",
              "      <td>-0.428440</td>\n",
              "      <td>-0.366126</td>\n",
              "    </tr>\n",
              "    <tr>\n",
              "      <th>petal length (cm)</th>\n",
              "      <td>0.871754</td>\n",
              "      <td>-0.428440</td>\n",
              "      <td>1.000000</td>\n",
              "      <td>0.962865</td>\n",
              "    </tr>\n",
              "    <tr>\n",
              "      <th>petal width (cm)</th>\n",
              "      <td>0.817941</td>\n",
              "      <td>-0.366126</td>\n",
              "      <td>0.962865</td>\n",
              "      <td>1.000000</td>\n",
              "    </tr>\n",
              "  </tbody>\n",
              "</table>\n",
              "</div>\n",
              "      <button class=\"colab-df-convert\" onclick=\"convertToInteractive('df-c66919d5-65e0-4077-8e83-586d601f50da')\"\n",
              "              title=\"Convert this dataframe to an interactive table.\"\n",
              "              style=\"display:none;\">\n",
              "        \n",
              "  <svg xmlns=\"http://www.w3.org/2000/svg\" height=\"24px\"viewBox=\"0 0 24 24\"\n",
              "       width=\"24px\">\n",
              "    <path d=\"M0 0h24v24H0V0z\" fill=\"none\"/>\n",
              "    <path d=\"M18.56 5.44l.94 2.06.94-2.06 2.06-.94-2.06-.94-.94-2.06-.94 2.06-2.06.94zm-11 1L8.5 8.5l.94-2.06 2.06-.94-2.06-.94L8.5 2.5l-.94 2.06-2.06.94zm10 10l.94 2.06.94-2.06 2.06-.94-2.06-.94-.94-2.06-.94 2.06-2.06.94z\"/><path d=\"M17.41 7.96l-1.37-1.37c-.4-.4-.92-.59-1.43-.59-.52 0-1.04.2-1.43.59L10.3 9.45l-7.72 7.72c-.78.78-.78 2.05 0 2.83L4 21.41c.39.39.9.59 1.41.59.51 0 1.02-.2 1.41-.59l7.78-7.78 2.81-2.81c.8-.78.8-2.07 0-2.86zM5.41 20L4 18.59l7.72-7.72 1.47 1.35L5.41 20z\"/>\n",
              "  </svg>\n",
              "      </button>\n",
              "      \n",
              "  <style>\n",
              "    .colab-df-container {\n",
              "      display:flex;\n",
              "      flex-wrap:wrap;\n",
              "      gap: 12px;\n",
              "    }\n",
              "\n",
              "    .colab-df-convert {\n",
              "      background-color: #E8F0FE;\n",
              "      border: none;\n",
              "      border-radius: 50%;\n",
              "      cursor: pointer;\n",
              "      display: none;\n",
              "      fill: #1967D2;\n",
              "      height: 32px;\n",
              "      padding: 0 0 0 0;\n",
              "      width: 32px;\n",
              "    }\n",
              "\n",
              "    .colab-df-convert:hover {\n",
              "      background-color: #E2EBFA;\n",
              "      box-shadow: 0px 1px 2px rgba(60, 64, 67, 0.3), 0px 1px 3px 1px rgba(60, 64, 67, 0.15);\n",
              "      fill: #174EA6;\n",
              "    }\n",
              "\n",
              "    [theme=dark] .colab-df-convert {\n",
              "      background-color: #3B4455;\n",
              "      fill: #D2E3FC;\n",
              "    }\n",
              "\n",
              "    [theme=dark] .colab-df-convert:hover {\n",
              "      background-color: #434B5C;\n",
              "      box-shadow: 0px 1px 3px 1px rgba(0, 0, 0, 0.15);\n",
              "      filter: drop-shadow(0px 1px 2px rgba(0, 0, 0, 0.3));\n",
              "      fill: #FFFFFF;\n",
              "    }\n",
              "  </style>\n",
              "\n",
              "      <script>\n",
              "        const buttonEl =\n",
              "          document.querySelector('#df-c66919d5-65e0-4077-8e83-586d601f50da button.colab-df-convert');\n",
              "        buttonEl.style.display =\n",
              "          google.colab.kernel.accessAllowed ? 'block' : 'none';\n",
              "\n",
              "        async function convertToInteractive(key) {\n",
              "          const element = document.querySelector('#df-c66919d5-65e0-4077-8e83-586d601f50da');\n",
              "          const dataTable =\n",
              "            await google.colab.kernel.invokeFunction('convertToInteractive',\n",
              "                                                     [key], {});\n",
              "          if (!dataTable) return;\n",
              "\n",
              "          const docLinkHtml = 'Like what you see? Visit the ' +\n",
              "            '<a target=\"_blank\" href=https://colab.research.google.com/notebooks/data_table.ipynb>data table notebook</a>'\n",
              "            + ' to learn more about interactive tables.';\n",
              "          element.innerHTML = '';\n",
              "          dataTable['output_type'] = 'display_data';\n",
              "          await google.colab.output.renderOutput(dataTable, element);\n",
              "          const docLink = document.createElement('div');\n",
              "          docLink.innerHTML = docLinkHtml;\n",
              "          element.appendChild(docLink);\n",
              "        }\n",
              "      </script>\n",
              "    </div>\n",
              "  </div>\n",
              "  "
            ]
          },
          "metadata": {},
          "execution_count": 12
        }
      ]
    },
    {
      "cell_type": "code",
      "source": [
        "sns.heatmap(X.corr(),annot=True)"
      ],
      "metadata": {
        "colab": {
          "base_uri": "https://localhost:8080/",
          "height": 364
        },
        "id": "N7OSJJZoCS8y",
        "outputId": "e9b84a30-a392-4515-e60d-e6df281f8e87"
      },
      "execution_count": 10,
      "outputs": [
        {
          "output_type": "execute_result",
          "data": {
            "text/plain": [
              "<matplotlib.axes._subplots.AxesSubplot at 0x7fcc76957c50>"
            ]
          },
          "metadata": {},
          "execution_count": 10
        },
        {
          "output_type": "display_data",
          "data": {
            "text/plain": [
              "<Figure size 432x288 with 2 Axes>"
            ],
            "image/png": "[encoded data removed]"
          },
          "metadata": {
            "needs_background": "light"
          }
        }
      ]
    },
    {
      "cell_type": "markdown",
      "source": [
        "# **Que 2**\n",
        "  \n",
        " [4 Points] Enter the value of the ' inertia_' score  Keeping k=5.\n",
        " \n",
        " **Ans:** 46.446\n",
        "\n",
        " **Range:** 44-48"
      ],
      "metadata": {
        "id": "pfffz4nORXJy"
      }
    },
    {
      "cell_type": "code",
      "source": [
        "from sklearn.datasets import load_iris\n",
        "from sklearn.cluster import KMeans\n",
        "X,y = load_iris(as_frame=True, return_X_y=True)\n",
        "km = KMeans(init='random', n_init=50, max_iter=500, random_state=10, n_clusters=5)\n",
        "km.fit(X)\n",
        "km.inertia_"
      ],
      "metadata": {
        "colab": {
          "base_uri": "https://localhost:8080/"
        },
        "id": "WhNgnGSXDANg",
        "outputId": "1d9c2d4d-0297-4a69-bbc2-f5967f8857d1"
      },
      "execution_count": 15,
      "outputs": [
        {
          "output_type": "execute_result",
          "data": {
            "text/plain": [
              "46.446182051282065"
            ]
          },
          "metadata": {},
          "execution_count": 15
        }
      ]
    },
    {
      "cell_type": "markdown",
      "source": [
        "# **Que 3**\n",
        "\n",
        "[4 Points] Plot the elbow chart for the given data by taking k=1 to k=12. At which k value elbow is formed?\n",
        "\n",
        "**Ans:** 3\n",
        "\n",
        "**Range:** 2.99-3.01"
      ],
      "metadata": {
        "id": "zdOi_MxJMYIX"
      }
    },
    {
      "cell_type": "code",
      "source": [
        "inertias = []\n",
        "for i in range(1,13):\n",
        "  km = KMeans(init='random', n_init=50, max_iter=500, random_state=10, n_clusters=i)\n",
        "  km.fit(X)\n",
        "  inertias.append(km.inertia_)\n",
        "\n",
        "sns.lineplot(range(1,13), inertias)"
      ],
      "metadata": {
        "colab": {
          "base_uri": "https://localhost:8080/",
          "height": 337
        },
        "id": "Lxp-xT-WDYts",
        "outputId": "cd3cdc5e-ef11-43e8-8d7d-5346e96e51ca"
      },
      "execution_count": 17,
      "outputs": [
        {
          "output_type": "stream",
          "name": "stderr",
          "text": [
            "/usr/local/lib/python3.7/dist-packages/seaborn/_decorators.py:43: FutureWarning: Pass the following variables as keyword args: x, y. From version 0.12, the only valid positional argument will be `data`, and passing other arguments without an explicit keyword will result in an error or misinterpretation.\n",
            "  FutureWarning\n"
          ]
        },
        {
          "output_type": "execute_result",
          "data": {
            "text/plain": [
              "<matplotlib.axes._subplots.AxesSubplot at 0x7fcc75f2b690>"
            ]
          },
          "metadata": {},
          "execution_count": 17
        },
        {
          "output_type": "display_data",
          "data": {
            "text/plain": [
              "<Figure size 432x288 with 1 Axes>"
            ],
            "image/png": "[encoded data removed]"
          },
          "metadata": {
            "needs_background": "light"
          }
        }
      ]
    },
    {
      "cell_type": "markdown",
      "source": [
        "# **Que 4**\n",
        "[4 Points] What is the value of  ' inertia_' score at k=3.\n",
        "\n",
        "Ans: 78.85\n",
        "\n",
        "Range: 77.50-79.50"
      ],
      "metadata": {
        "id": "hjlABHwjTMu1"
      }
    },
    {
      "cell_type": "code",
      "source": [
        "inertias[2]"
      ],
      "metadata": {
        "colab": {
          "base_uri": "https://localhost:8080/"
        },
        "id": "A5qPyNVJD37X",
        "outputId": "2773b83a-00f2-4448-f670-ebd17e469751"
      },
      "execution_count": 18,
      "outputs": [
        {
          "output_type": "execute_result",
          "data": {
            "text/plain": [
              "78.851441426146"
            ]
          },
          "metadata": {},
          "execution_count": 18
        }
      ]
    },
    {
      "cell_type": "markdown",
      "source": [
        "# **(Consider the statement for Q5-Q6)**\n",
        "\n",
        "*   Load the iris dataset from sklearn.\n",
        "\n",
        "*   Remove the rows if it contain NULL values.\n",
        "\n",
        "\n",
        "*   Train the model using Agglomerative Clustering by setting  the parameter as following\n",
        "\n",
        "  \n",
        "\n",
        "    \n",
        "    n_clusters=3,\n",
        "    affinity='euclidean', \n",
        "    linkage='ward'\n",
        "\n"
      ],
      "metadata": {
        "id": "U-cgKHcCgok0"
      }
    },
    {
      "cell_type": "code",
      "source": [
        "from sklearn.datasets import load_iris\n",
        "from sklearn.cluster import AgglomerativeClustering\n",
        "X,y = load_iris(as_frame=True, return_X_y=True)\n",
        "ac = AgglomerativeClustering(n_clusters=3, affinity='euclidean', linkage='ward')\n",
        "ac.fit(X)"
      ],
      "metadata": {
        "colab": {
          "base_uri": "https://localhost:8080/"
        },
        "id": "pamGxDxyD8Q2",
        "outputId": "2bf58650-7885-4796-c1b0-3c346fd5414a"
      },
      "execution_count": 19,
      "outputs": [
        {
          "output_type": "execute_result",
          "data": {
            "text/plain": [
              "AgglomerativeClustering(n_clusters=3)"
            ]
          },
          "metadata": {},
          "execution_count": 19
        }
      ]
    },
    {
      "cell_type": "markdown",
      "source": [
        "# **Que 5:**\n",
        "\n",
        "[3 Points] What is the label predicted for last row of samples.\n",
        "\n",
        "A) 0\n",
        "\n",
        "B) 1\n",
        "\n",
        "C) 2\n",
        "\n",
        "D) 3\n",
        "\n",
        "**Ans: A**"
      ],
      "metadata": {
        "id": "if0asS9OpXDq"
      }
    },
    {
      "cell_type": "code",
      "source": [
        "ac.fit_predict(X)[-1]"
      ],
      "metadata": {
        "colab": {
          "base_uri": "https://localhost:8080/"
        },
        "id": "yZ5aIJRgEZ3d",
        "outputId": "07bb3c3b-3211-4e2e-ab2b-e80ed1fd64d9"
      },
      "execution_count": 23,
      "outputs": [
        {
          "output_type": "execute_result",
          "data": {
            "text/plain": [
              "0"
            ]
          },
          "metadata": {},
          "execution_count": 23
        }
      ]
    },
    {
      "cell_type": "markdown",
      "source": [
        "# **Que 6:**\n",
        "\n",
        "[3 Points] Enter the number of leaves in the hierarchical tree.\n",
        "\n",
        "\n",
        "**Ans:150**\n"
      ],
      "metadata": {
        "id": "LnFYiAFOfmEr"
      }
    },
    {
      "cell_type": "code",
      "source": [
        "ac.n_leaves_"
      ],
      "metadata": {
        "colab": {
          "base_uri": "https://localhost:8080/"
        },
        "id": "GmlSwMG9Ex1v",
        "outputId": "ffc05e72-80ac-46fb-f990-4a8530e93ab2"
      },
      "execution_count": 24,
      "outputs": [
        {
          "output_type": "execute_result",
          "data": {
            "text/plain": [
              "150"
            ]
          },
          "metadata": {},
          "execution_count": 24
        }
      ]
    },
    {
      "cell_type": "markdown",
      "source": [
        "# **Graded Question**\n",
        "**Question Group Name: 22T1_MLP_W11_GQ**\n",
        "\n",
        "**Total No. of Ques: 8#**\n",
        "\n",
        "\n",
        "\n",
        "\n",
        "\n",
        "\n",
        "\n",
        "\n",
        "\n"
      ],
      "metadata": {
        "id": "3D6AyFixD1U5"
      }
    },
    {
      "cell_type": "markdown",
      "source": [
        "**Data Set Information:**\n",
        "\n",
        "Live selling is becoming increasingly popular in Asian countries. Small vendors can now reach a wider audience and connect with many customers.\n",
        "Analyze The variability of consumer engagement on  Facebook Live data\n",
        "which can help sellers to build selling approach and activities for the company.\n"
      ],
      "metadata": {
        "id": "RJFv5DUHJu1d"
      }
    },
    {
      "cell_type": "markdown",
      "source": [
        "(Consider the statement for Q1- Q8)\n",
        "Load the dataset using following link\n",
        "\n",
        " \n",
        "* Url= \"https://archive.ics.uci.edu/ml/machine-learning-databases/00488/Live_20210128.csv\"\n",
        "*Check if any feature contains Null values. \n",
        "*Drop all  the features which have Null values.\n",
        "* Save 'status_type' as target variable.\n",
        "* Drop the feature \"status_id\", \"status_type\" and\t\"status_published\" from training set.\n",
        "* Use LabelEncoder to transform the target variable.\n",
        "\n",
        "* Use standard scaler to scale the features.\n",
        "* For Q4,Q5 Train the model using Kmeans clustering (Take Random state=10)\n",
        "*For Q6,Q7,Q8  Train the model using Agglomerative Clustering by setting  the parameter as following\n",
        "\n",
        "  \n",
        "\n",
        "    \n",
        "    n_clusters=4,\n",
        "    affinity='euclidean', \n",
        "    linkage='ward'\n",
        "\n",
        "\n"
      ],
      "metadata": {
        "id": "-E3X5SGx56Xt"
      }
    },
    {
      "cell_type": "code",
      "source": [
        "import pandas as pd\n",
        "df = pd.read_csv(\"https://archive.ics.uci.edu/ml/machine-learning-databases/00488/Live_20210128.csv\")\n",
        "data = df.drop(['Column1', 'Column2', 'Column3', 'Column4',\"status_id\", \"status_published\"], axis=1)"
      ],
      "metadata": {
        "id": "h5aHriGpFmYr"
      },
      "execution_count": 38,
      "outputs": []
    },
    {
      "cell_type": "code",
      "source": [
        "from sklearn.preprocessing import StandardScaler, LabelEncoder\n",
        "ss = StandardScaler()\n",
        "le = LabelEncoder()\n",
        "X,y = data.drop(['status_type'], axis=1), data.status_type\n",
        "X_transformed = ss.fit_transform(X)\n",
        "y_transformed = le.fit_transform(y)"
      ],
      "metadata": {
        "id": "6L4U4KBuHCi_"
      },
      "execution_count": 39,
      "outputs": []
    },
    {
      "cell_type": "markdown",
      "source": [
        "# **Que 1**\n",
        "\n",
        "[1 Point] What is the shape of the data?\n",
        "\n",
        "a) (6000,15)\n",
        "\n",
        "b) (6000,16)\n",
        "\n",
        "c)  (7050,15)\n",
        "\n",
        "d)  (7050,16)\n",
        "\n",
        "\n",
        "Ans: Option D"
      ],
      "metadata": {
        "id": "AMlsXh9c8U9K"
      }
    },
    {
      "cell_type": "code",
      "source": [
        "df.shape"
      ],
      "metadata": {
        "colab": {
          "base_uri": "https://localhost:8080/"
        },
        "id": "BXCnoKX5IXpz",
        "outputId": "05e12e8f-4c06-4cbb-846d-f8b9f7abc39a"
      },
      "execution_count": 41,
      "outputs": [
        {
          "output_type": "execute_result",
          "data": {
            "text/plain": [
              "(7050, 16)"
            ]
          },
          "metadata": {},
          "execution_count": 41
        }
      ]
    },
    {
      "cell_type": "markdown",
      "source": [
        "# **Que 2**\n",
        "\n",
        "[2 point] How many feature contain Null values?\n",
        "\n",
        "a) 4\n",
        "\n",
        "b) 8\n",
        "\n",
        "c)  0\n",
        "\n",
        "d) 5\n",
        "\n",
        "\n",
        "Ans: Option A"
      ],
      "metadata": {
        "id": "QmTyfcvA88Td"
      }
    },
    {
      "cell_type": "code",
      "source": [
        "(df.isnull().sum()>0).sum()"
      ],
      "metadata": {
        "colab": {
          "base_uri": "https://localhost:8080/"
        },
        "id": "mrpPo-SoIpbd",
        "outputId": "bba6c6c2-5a5e-4796-c5c8-de6efe973d99"
      },
      "execution_count": 44,
      "outputs": [
        {
          "output_type": "execute_result",
          "data": {
            "text/plain": [
              "4"
            ]
          },
          "metadata": {},
          "execution_count": 44
        }
      ]
    },
    {
      "cell_type": "markdown",
      "source": [
        "# **Que 3**\n",
        "\n",
        "[2 Point] Column 'status_type' has _ _ _ _ (number) unique values.\n",
        "\n",
        "a) 6\n",
        "\n",
        "b) 5\n",
        "\n",
        "c)  1\n",
        "\n",
        "d) 4\n",
        "\n",
        "\n",
        "Ans: Option D"
      ],
      "metadata": {
        "id": "NZaudIULCeql"
      }
    },
    {
      "cell_type": "code",
      "source": [
        "len(y.unique())"
      ],
      "metadata": {
        "colab": {
          "base_uri": "https://localhost:8080/"
        },
        "id": "cJoyP8k3IxYV",
        "outputId": "16d91428-6d2f-430f-cab9-2ad260aa0e81"
      },
      "execution_count": 48,
      "outputs": [
        {
          "output_type": "execute_result",
          "data": {
            "text/plain": [
              "4"
            ]
          },
          "metadata": {},
          "execution_count": 48
        }
      ]
    },
    {
      "cell_type": "markdown",
      "source": [
        "# **Que 4**\n",
        "\n",
        "[4 Point] Enter the inertia score at k=2\n",
        "\n",
        "a) 482780.09\n",
        "\n",
        "b) 48780.09\n",
        "\n",
        "c)  48278.09\n",
        "\n",
        "d) 482.09\n",
        "\n",
        "\n",
        "Ans: Option C"
      ],
      "metadata": {
        "id": "hjVBD2r06V_O"
      }
    },
    {
      "cell_type": "code",
      "source": [
        "from sklearn.cluster import KMeans\n",
        "km = KMeans(n_clusters=2, random_state=10)\n",
        "km.fit(X_transformed)\n",
        "km.inertia_"
      ],
      "metadata": {
        "colab": {
          "base_uri": "https://localhost:8080/"
        },
        "id": "sXfiiNWrI67a",
        "outputId": "7e43a43a-6652-4a63-803f-5c5fb6e67c75"
      },
      "execution_count": 52,
      "outputs": [
        {
          "output_type": "execute_result",
          "data": {
            "text/plain": [
              "48278.09824220544"
            ]
          },
          "metadata": {},
          "execution_count": 52
        }
      ]
    },
    {
      "cell_type": "markdown",
      "source": [
        "# **Que 5**\n",
        "\n",
        "[4 points] How many labels were predicted accurately at k=4?\n",
        "\n",
        "\n",
        "**Ans**: 4421"
      ],
      "metadata": {
        "id": "kTuk6JjU8MsR"
      }
    },
    {
      "cell_type": "code",
      "source": [
        "from sklearn.cluster import KMeans\n",
        "km = KMeans(n_clusters=4, random_state=10)\n",
        "km.fit(X_transformed)\n",
        "(km.labels_==y_transformed).sum()"
      ],
      "metadata": {
        "colab": {
          "base_uri": "https://localhost:8080/"
        },
        "id": "zXFtx4CWJUxH",
        "outputId": "0342da48-edee-4a95-a6ec-1562e7ceac55"
      },
      "execution_count": 53,
      "outputs": [
        {
          "output_type": "execute_result",
          "data": {
            "text/plain": [
              "4421"
            ]
          },
          "metadata": {},
          "execution_count": 53
        }
      ]
    },
    {
      "cell_type": "markdown",
      "source": [
        "# **Que 6:**\n",
        "\n",
        "[3 Points] What is the label predicted for first row of samples.\n",
        "\n",
        "A) 0\n",
        "\n",
        "B) 1\n",
        "\n",
        "C) 2\n",
        "\n",
        "D) 3\n",
        "\n",
        "**Ans: D**"
      ],
      "metadata": {
        "id": "T1jKVMuNAPd1"
      }
    },
    {
      "cell_type": "code",
      "source": [
        "from sklearn.cluster import AgglomerativeClustering\n",
        "ac = AgglomerativeClustering(n_clusters=4,affinity='euclidean', linkage='ward')\n",
        "ac.fit(X_transformed)\n",
        "ac.labels_[0]"
      ],
      "metadata": {
        "colab": {
          "base_uri": "https://localhost:8080/"
        },
        "id": "CtsiZVvQJtJ6",
        "outputId": "5d8a9542-5004-4d50-cfab-14dc99145b42"
      },
      "execution_count": 56,
      "outputs": [
        {
          "output_type": "execute_result",
          "data": {
            "text/plain": [
              "3"
            ]
          },
          "metadata": {},
          "execution_count": 56
        }
      ]
    },
    {
      "cell_type": "markdown",
      "source": [
        "# **Que 7:**\n",
        "\n",
        "[2 points] Enter the number of leaves in the hierarchical tree.\n",
        "\n",
        "\n",
        "**Ans:7050**\n"
      ],
      "metadata": {
        "id": "oFtRzMG1LkAK"
      }
    },
    {
      "cell_type": "code",
      "source": [
        "ac.n_leaves_"
      ],
      "metadata": {
        "colab": {
          "base_uri": "https://localhost:8080/"
        },
        "id": "mZu6tO1IKH4r",
        "outputId": "7155a20c-2dbb-408c-f1a0-dbdc3edb5be6"
      },
      "execution_count": 57,
      "outputs": [
        {
          "output_type": "execute_result",
          "data": {
            "text/plain": [
              "7050"
            ]
          },
          "metadata": {},
          "execution_count": 57
        }
      ]
    },
    {
      "cell_type": "markdown",
      "source": [
        "# **Que 8:**\n",
        "[3 Points] What is the accuracy of the model(in Percentage)?\n",
        "\n",
        "**Ans** 28.49\n",
        "\n",
        "**Range**- 25-30"
      ],
      "metadata": {
        "id": "2XhU06V0L8a9"
      }
    },
    {
      "cell_type": "code",
      "source": [
        "100*(ac.labels_==y_transformed).sum()/len(ac.labels_)"
      ],
      "metadata": {
        "colab": {
          "base_uri": "https://localhost:8080/"
        },
        "id": "HG_bMGFdKKYr",
        "outputId": "09c22714-fb47-473c-e20d-ae3429217e9c"
      },
      "execution_count": 60,
      "outputs": [
        {
          "output_type": "execute_result",
          "data": {
            "text/plain": [
              "28.49645390070922"
            ]
          },
          "metadata": {},
          "execution_count": 60
        }
      ]
    }
  ]
}