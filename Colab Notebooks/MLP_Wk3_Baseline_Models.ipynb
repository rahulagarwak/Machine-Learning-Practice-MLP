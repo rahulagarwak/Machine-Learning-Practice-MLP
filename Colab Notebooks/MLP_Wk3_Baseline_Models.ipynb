{
  "nbformat": 4,
  "nbformat_minor": 0,
  "metadata": {
    "colab": {
      "name": "MLP_Wk3_Baseline_Models.ipynb",
      "provenance": [],
      "toc_visible": true,
      "collapsed_sections": []
    },
    "kernelspec": {
      "name": "python3",
      "display_name": "Python 3"
    },
    "language_info": {
      "name": "python"
    }
  },
  "cells": [
    {
      "cell_type": "markdown",
      "source": [
        "#Baseline Models"
      ],
      "metadata": {
        "id": "KJsjfqOp8mqy"
      }
    },
    {
      "cell_type": "markdown",
      "source": [
        "We will compare our baselines with lin_reg's performance"
      ],
      "metadata": {
        "id": "dDgct-ez8p4L"
      }
    },
    {
      "cell_type": "code",
      "execution_count": 1,
      "metadata": {
        "id": "GjaIJXjw8fLJ"
      },
      "outputs": [],
      "source": [
        "#Imports\n",
        "import numpy as np\n",
        "import pandas as pd\n",
        "import matplotlib.pyplot as plt\n",
        "import seaborn as sns\n",
        "\n",
        "from sklearn.datasets import fetch_california_housing\n",
        "from sklearn.dummy import DummyRegressor\n",
        "\n",
        "from sklearn.linear_model import LinearRegression\n",
        "\n",
        "from sklearn.model_selection import cross_validate\n",
        "from sklearn.model_selection import permutation_test_score\n",
        "from sklearn.model_selection import train_test_split\n",
        "from sklearn.model_selection import ShuffleSplit\n",
        "\n",
        "from sklearn.pipeline import Pipeline\n",
        "from sklearn.preprocessing import StandardScaler"
      ]
    },
    {
      "cell_type": "markdown",
      "source": [
        "We will use ShuffleSplit as a cross validation strategy"
      ],
      "metadata": {
        "id": "1RqqXM349Li6"
      }
    },
    {
      "cell_type": "code",
      "source": [
        "shuffle_split_cv = ShuffleSplit(n_splits=10, test_size=0.2,random_state=0)"
      ],
      "metadata": {
        "id": "v26nGbO-9ScO"
      },
      "execution_count": 2,
      "outputs": []
    },
    {
      "cell_type": "markdown",
      "source": [
        "Let's load the data and split into training and test"
      ],
      "metadata": {
        "id": "yTvtAFBU9a3H"
      }
    },
    {
      "cell_type": "code",
      "source": [
        "features, labels = fetch_california_housing(as_frame=True, return_X_y=True)\n",
        "train_features, test_features, train_labels, test_labels = train_test_split(features,labels,random_state=42)"
      ],
      "metadata": {
        "id": "xx-7w2_v9eJY"
      },
      "execution_count": 3,
      "outputs": []
    },
    {
      "cell_type": "markdown",
      "source": [
        "# LinearRegression classifier\n",
        "\n",
        "* Build linear regression model with feature scaling as part of a pipeline.\n",
        "* Train the model with 10-fold cross validation via ShuffleSplit\n",
        "* Capture errors on different folds"
      ],
      "metadata": {
        "id": "Pe7qvcoT9sma"
      }
    },
    {
      "cell_type": "code",
      "source": [
        "lin_reg_pipeline = Pipeline([('feature_scaling',StandardScaler()),\n",
        "                             ('lin_reg',LinearRegression())])\n",
        "\n",
        "lin_reg_cv_results = cross_validate(lin_reg_pipeline,\n",
        "                                train_features,\n",
        "                                train_labels,\n",
        "                                cv=shuffle_split_cv,\n",
        "                                scoring='neg_mean_squared_error',\n",
        "                                n_jobs=2)\n",
        "lin_reg_errors = pd.Series(-lin_reg_cv_results['test_score'],\n",
        "                           name='Linear regression error')"
      ],
      "metadata": {
        "id": "I68LUJ5W9-Lg"
      },
      "execution_count": 4,
      "outputs": []
    },
    {
      "cell_type": "code",
      "source": [
        "lin_reg_errors"
      ],
      "metadata": {
        "id": "62QfBC-M1n12",
        "outputId": "46f9edf0-10f6-4186-93e3-2d9c37b2584b",
        "colab": {
          "base_uri": "https://localhost:8080/"
        }
      },
      "execution_count": 5,
      "outputs": [
        {
          "output_type": "execute_result",
          "data": {
            "text/plain": [
              "0    0.500100\n",
              "1    0.521834\n",
              "2    0.559312\n",
              "3    0.521105\n",
              "4    0.560592\n",
              "5    0.505108\n",
              "6    0.523862\n",
              "7    0.547755\n",
              "8    0.500716\n",
              "9    0.547134\n",
              "Name: Linear regression error, dtype: float64"
            ]
          },
          "metadata": {},
          "execution_count": 5
        }
      ]
    },
    {
      "cell_type": "markdown",
      "source": [
        "# DummyRegressor"
      ],
      "metadata": {
        "id": "ZVdI_GQ2-gNw"
      }
    },
    {
      "cell_type": "code",
      "source": [
        "def dummy_regressor_baseline(strategy, constant_val=None, quantile_val=None):\n",
        "  baseline_model_median = DummyRegressor(strategy=strategy,\n",
        "                                         constant=constant_val,\n",
        "                                         quantile=quantile_val)\n",
        "  baseline_median_cv_results = cross_validate(baseline_model_median,\n",
        "                                              train_features, train_labels,\n",
        "                                              cv=shuffle_split_cv,\n",
        "                                              scoring='neg_mean_absolute_error',\n",
        "                                              n_jobs=2)\n",
        "  return pd.Series(-baseline_median_cv_results['test_score'],name='Dummy regressor error')"
      ],
      "metadata": {
        "id": "7vnUSYMJ-it0"
      },
      "execution_count": 6,
      "outputs": []
    },
    {
      "cell_type": "code",
      "source": [
        "baseline_median_cv_results_errors = dummy_regressor_baseline(strategy='median')\n",
        "baseline_mean_cv_results_errors = dummy_regressor_baseline(strategy='mean')\n",
        "baseline_constant_cv_results_errors = dummy_regressor_baseline(strategy='constant',constant_val=2)\n",
        "baseline_quantile_cv_results_errors = dummy_regressor_baseline(strategy='quantile', quantile_val=0.55)"
      ],
      "metadata": {
        "id": "sru1_DSp2hZJ"
      },
      "execution_count": 7,
      "outputs": []
    },
    {
      "cell_type": "markdown",
      "source": [
        "Lets compare performance of these dummy regressors"
      ],
      "metadata": {
        "id": "xJVFLKTI3FDr"
      }
    },
    {
      "cell_type": "code",
      "source": [
        "dummy_error_df = pd.concat([baseline_median_cv_results_errors,\n",
        "                            baseline_mean_cv_results_errors,\n",
        "                            baseline_constant_cv_results_errors,\n",
        "                            baseline_quantile_cv_results_errors],\n",
        "                           axis=1)\n",
        "dummy_error_df.columns = ['Median CV','Mean CV','Constant CV','Quantile CV']"
      ],
      "metadata": {
        "id": "Ra2jzdpU4BNJ"
      },
      "execution_count": 8,
      "outputs": []
    },
    {
      "cell_type": "code",
      "source": [
        "dummy_error_df.plot.hist(bins=50, density=True, edgecolor='black')\n",
        "plt.legend(bbox_to_anchor=(1.05,0.8), loc='upper left')\n",
        "plt.xlabel('Mean absolute error (k$)')\n",
        "_=plt.title('Distribution of the testing errors')"
      ],
      "metadata": {
        "id": "NiKFX5XL3qC5",
        "colab": {
          "base_uri": "https://localhost:8080/",
          "height": 295
        },
        "outputId": "b76ddbfa-c473-4fa0-9798-4a3a491a41fc"
      },
      "execution_count": 9,
      "outputs": [
        {
          "output_type": "display_data",
          "data": {
            "text/plain": [
              "<Figure size 432x288 with 1 Axes>"
            ],
            "image/png": "[encoded data removed]"
          },
          "metadata": {
            "needs_background": "light"
          }
        }
      ]
    },
    {
      "cell_type": "markdown",
      "source": [
        "# permutation_test_score\n",
        "\n",
        "It permutes the target to generate randomized data and computes the empirical p-value against the null hypothesis, that features and targets are independent.\n",
        "\n",
        "Here we are interested in permutation_score returned by this API, which indicates score of the model on different permutations."
      ],
      "metadata": {
        "id": "GP0n9dNK_oLT"
      }
    },
    {
      "cell_type": "code",
      "source": [
        "score, permutation_score, pvalue = permutation_test_score(lin_reg_pipeline, train_features, train_labels,\n",
        "                                                          cv=shuffle_split_cv, scoring='neg_mean_absolute_error',n_jobs=2,n_permutations=30)\n",
        "permutation_errors = pd.Series(-permutation_score, name='Permuted error')"
      ],
      "metadata": {
        "id": "h_Qpq6C2AFKl"
      },
      "execution_count": 11,
      "outputs": []
    },
    {
      "cell_type": "code",
      "source": [
        "permutation_score"
      ],
      "metadata": {
        "colab": {
          "base_uri": "https://localhost:8080/"
        },
        "id": "vuteFGNo4uuy",
        "outputId": "54590345-31e7-41e0-b2af-eb936831e3e8"
      },
      "execution_count": 12,
      "outputs": [
        {
          "output_type": "execute_result",
          "data": {
            "text/plain": [
              "array([-0.91446539, -0.91608713, -0.91501122, -0.91112203, -0.91326112,\n",
              "       -0.91428719, -0.91694297, -0.90660687, -0.90873595, -0.91546138,\n",
              "       -0.9084695 , -0.91174023, -0.91857102, -0.91467076, -0.90396709,\n",
              "       -0.91239289, -0.91095499, -0.91729623, -0.90529415, -0.91436609,\n",
              "       -0.91993036, -0.91661883, -0.91104746, -0.91563156, -0.91014294,\n",
              "       -0.91526135, -0.90680247, -0.90796435, -0.91032999, -0.91545574])"
            ]
          },
          "metadata": {},
          "execution_count": 12
        }
      ]
    },
    {
      "cell_type": "markdown",
      "source": [
        "# Model Comparison"
      ],
      "metadata": {
        "id": "8pxdCq4M4432"
      }
    },
    {
      "cell_type": "code",
      "source": [
        "error_df = pd.concat([lin_reg_errors, baseline_median_cv_results_errors, permutation_errors],axis=1)"
      ],
      "metadata": {
        "id": "W879L8o746XJ"
      },
      "execution_count": 13,
      "outputs": []
    },
    {
      "cell_type": "code",
      "source": [
        "error_df.plot.hist(bins=50, density=True, edgecolor='black')\n",
        "plt.legend(loc='best')\n",
        "plt.xlabel('Mean absolute error (k$)')\n",
        "plt.title('Distribution of the testing errors')"
      ],
      "metadata": {
        "colab": {
          "base_uri": "https://localhost:8080/",
          "height": 312
        },
        "id": "j2XIRFSg5I7I",
        "outputId": "4f5c01da-8287-40ad-bda5-d9ea89a0bcd7"
      },
      "execution_count": 15,
      "outputs": [
        {
          "output_type": "execute_result",
          "data": {
            "text/plain": [
              "Text(0.5, 1.0, 'Distribution of the testing errors')"
            ]
          },
          "metadata": {},
          "execution_count": 15
        },
        {
          "output_type": "display_data",
          "data": {
            "text/plain": [
              "<Figure size 432x288 with 1 Axes>"
            ],
            "image/png": "[encoded data removed]"
          },
          "metadata": {
            "needs_background": "light"
          }
        }
      ]
    }
  ]
}