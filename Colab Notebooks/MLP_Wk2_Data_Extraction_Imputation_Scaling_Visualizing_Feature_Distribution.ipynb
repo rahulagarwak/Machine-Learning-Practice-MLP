{
  "nbformat": 4,
  "nbformat_minor": 0,
  "metadata": {
    "colab": {
      "name": "MLP_Wk2_Data_Extraction_Imputation_Scaling_Visualizing_Feature_Distribution.ipynb",
      "provenance": [],
      "collapsed_sections": []
    },
    "kernelspec": {
      "name": "python3",
      "display_name": "Python 3"
    },
    "language_info": {
      "name": "python"
    }
  },
  "cells": [
    {
      "cell_type": "markdown",
      "source": [
        "# Data Pre-processing Techniques"
      ],
      "metadata": {
        "id": "uSuWyto7fybK"
      }
    },
    {
      "cell_type": "markdown",
      "source": [
        "Data preprocessing involves several transformations that are applied to the raw data to make it more amenable for learning. It is carried out before using it for model training or prediction.\n",
        "\n",
        "There are many pre-processing techniques for\n",
        "\n",
        "* Data Cleaning\n",
        "  * Data Imputation\n",
        "  * Feature scaling\n",
        "\n",
        "* Feature Transformation\n",
        "  * Polynomial Features\n",
        "  * Discretization\n",
        "  * Handling categorical features\n",
        "  * Custom Transformers\n",
        "  * Composite Transformers\n",
        "    * Apply transformation to diverse features\n",
        "    * TargetTransformedRegresor\n",
        "* Feature Selection\n",
        "  * Filter based feature selection\n",
        "  * Wrapper based feature selection\n",
        "* Feature Extraction\n",
        "  * PCA"
      ],
      "metadata": {
        "id": "HEBYfOW-f2ly"
      }
    },
    {
      "cell_type": "markdown",
      "source": [
        "The transformations are applied in a specific order and the order can be specified via $Pipeline$. We need to apply different transformations based on the feature type. FeatureUnion helps us perform that task and combine outputs from multiple transformations into a single transformed feature matrix. We will also study as how to visualize this pipeline."
      ],
      "metadata": {
        "id": "o0nIlECXp485"
      }
    },
    {
      "cell_type": "markdown",
      "source": [
        "# Importing basic Libraries"
      ],
      "metadata": {
        "id": "TMpg2oggqaMh"
      }
    },
    {
      "cell_type": "markdown",
      "source": [
        "In this colab, we are importing libraries as needed. However it is a good practice to have all imports in one cell-arranged in an alphabetical order. This helps us weed out any duplicate imports and some such issues."
      ],
      "metadata": {
        "id": "Fj2jtFJjqddP"
      }
    },
    {
      "cell_type": "code",
      "source": [
        "import numpy as np\n",
        "import matplotlib.pyplot as plt\n",
        "import pandas as pd\n",
        "import seaborn as sns\n",
        "sns.set_theme(style='whitegrid')"
      ],
      "metadata": {
        "id": "dui99KSnqvLm"
      },
      "execution_count": 3,
      "outputs": []
    },
    {
      "cell_type": "markdown",
      "source": [
        "# **1. Feature Extraction**"
      ],
      "metadata": {
        "id": "jU5aNxFyq6HJ"
      }
    },
    {
      "cell_type": "markdown",
      "source": [
        "## DictVectorizer"
      ],
      "metadata": {
        "id": "t8pXg5KRq9z-"
      }
    },
    {
      "cell_type": "markdown",
      "source": [
        "Many a times the data is present as a list of dictionary objects. ML algorithms expect the data in matrix form with shape (n,m) where n is the number of samples and m is the number of features.\n",
        "\n",
        "DictVectorizer converts a list of dictionary objects to feature matrix.\n",
        "\n",
        "Let's create a sample data for demo purpose containing age and height of children.\n",
        "\n",
        "    Each record/sample is a dictionary with two keys age and height and corresponding values."
      ],
      "metadata": {
        "id": "D8Vv8TnLrAMx"
      }
    },
    {
      "cell_type": "code",
      "source": [
        "data = [{'age':4,'height':96.0},\n",
        "        {'age':1,'height':73.9},\n",
        "        {'age':3,'height':88.9},\n",
        "        {'age':2,'height':81.6}]"
      ],
      "metadata": {
        "id": "Iz-5G7qyr5lV"
      },
      "execution_count": 4,
      "outputs": []
    },
    {
      "cell_type": "markdown",
      "source": [
        "There are 4 data samples with 2 features each."
      ],
      "metadata": {
        "id": "lqt5QQiQsN-E"
      }
    },
    {
      "cell_type": "markdown",
      "source": [
        "Let's make use of DictVectorizer to convert the list of dictionary objects to the feature matrix."
      ],
      "metadata": {
        "id": "93ISTU--slT3"
      }
    },
    {
      "cell_type": "code",
      "source": [
        "from sklearn.feature_extraction import DictVectorizer\n",
        "dv = DictVectorizer(sparse=False)\n",
        "data_transformed = dv.fit_transform(data)\n",
        "data_transformed"
      ],
      "metadata": {
        "id": "mcXwmAn3sspR",
        "outputId": "3d564bd0-52fb-475a-dc59-e1d05d1db6db",
        "colab": {
          "base_uri": "https://localhost:8080/"
        }
      },
      "execution_count": 5,
      "outputs": [
        {
          "output_type": "execute_result",
          "data": {
            "text/plain": [
              "array([[ 4. , 96. ],\n",
              "       [ 1. , 73.9],\n",
              "       [ 3. , 88.9],\n",
              "       [ 2. , 81.6]])"
            ]
          },
          "metadata": {},
          "execution_count": 5
        }
      ]
    },
    {
      "cell_type": "code",
      "source": [
        "data_transformed.shape"
      ],
      "metadata": {
        "id": "7JW_UNqts6rA",
        "outputId": "0103f098-09a8-48f2-92b4-000f376f77bf",
        "colab": {
          "base_uri": "https://localhost:8080/"
        }
      },
      "execution_count": 6,
      "outputs": [
        {
          "output_type": "execute_result",
          "data": {
            "text/plain": [
              "(4, 2)"
            ]
          },
          "metadata": {},
          "execution_count": 6
        }
      ]
    },
    {
      "cell_type": "markdown",
      "source": [
        "The transformed data is in a feature matrix form-4 samples with 2 features each i.e. shape (4,2)"
      ],
      "metadata": {
        "id": "zm7ebv-ftAiM"
      }
    },
    {
      "cell_type": "markdown",
      "source": [
        "# **2. Data Imputation**"
      ],
      "metadata": {
        "id": "oWuPqqYDtNTy"
      }
    },
    {
      "cell_type": "markdown",
      "source": [
        "* Many machine learning algorithms need full feature matrix and they may not work in presence of missin data.\n",
        "* Data imputation identifies missing values in each feature of the dataset and replaces them with an appropriate value based on a fixed strategy such as\n",
        "  * mean or median or mode of that feature.\n",
        "  * use specified constant value.\n",
        "\n",
        "Sklearn library provides sklearn.impute.SimpleImputer class for this purpose."
      ],
      "metadata": {
        "id": "zw3loop0tPnQ"
      }
    },
    {
      "cell_type": "code",
      "source": [
        "from sklearn.impute import SimpleImputer"
      ],
      "metadata": {
        "id": "VtzYhnPduOBM"
      },
      "execution_count": 7,
      "outputs": []
    },
    {
      "cell_type": "markdown",
      "source": [
        "Some of its important parameters:\n",
        "\n",
        "* missing_values: Could be int, float, str, np.nan or None. Default is np.nan\n",
        "* strategy: string, default is 'mean'. One of following strategies can be used:\n",
        "\n",
        "  * mean- missing values are replaced using the mean along each column.\n",
        "  * median- missing values are replaced using the median along each column.\n",
        "  * most_frequent- missing values are replaced using the most frequent along each column.\n",
        "  * constant- missing values are replaced using the fill_value arguement.\n",
        "* add_indicator is a boolean parameter that when set to True returns missing value indicators in indicator_ member variable.\n",
        "\n",
        "Note:\n",
        "* mean and median strategies can only be used with numeric data.\n",
        "* most_frequent and constant strategies can be used with strings or numeric data."
      ],
      "metadata": {
        "id": "lhVeKwTFuSp4"
      }
    },
    {
      "cell_type": "markdown",
      "source": [
        "## Data imputation on real world dataset"
      ],
      "metadata": {
        "id": "FxUjbXbsvfc9"
      }
    },
    {
      "cell_type": "markdown",
      "source": [
        "Let's perform data imputation on real world dataset. We will be using heart disease dataset from uci machine learning repo for this purpose. We will load this dataset from csv file."
      ],
      "metadata": {
        "id": "5wY3mj0DvlMP"
      }
    },
    {
      "cell_type": "code",
      "source": [
        "cols = ['age','sex','cp','trestbps','chol','fbs','restecg','thalach','exang','oldpeak','slope','ca','thal','num']\n",
        "heart_data = pd.read_csv('https://archive.ics.uci.edu/ml/machine-learning-databases/heart-disease/processed.cleveland.data',header=None, names=cols)"
      ],
      "metadata": {
        "id": "1onC31u9v4A7"
      },
      "execution_count": 8,
      "outputs": []
    },
    {
      "cell_type": "markdown",
      "source": [
        "The dataset has the following features:\n",
        "\n",
        "    1. Age (in years)\n",
        "    2. Sex (1=male; 0=female)\n",
        "    3. cp - cheap pain type\n",
        "    4. trestbps - resting blood pressure (anything above 130-140 is typically cause for concern)\n",
        "    5. chol - serum cholestrol in mg/dl (above 200 is cause for concern)\n",
        "    6. fbs -  fasting blood sugar (>120 mg/dl)(1=true;0=false)\n",
        "    7. restecg - resting electrocardiographic results\n",
        "      * 0=normal\n",
        "      * 1=having ST-T wave abnormality\n",
        "      * 2=showing probable or definite left ventricular hypertrophy by Estes' criteria\n",
        "    8. thalach - maximum heart rate achieved\n",
        "    9. exang - exercise induced angina\n",
        "      * 1=yes\n",
        "      * 0=no\n",
        "    10. oldpeak - depression induced by exercise relative to rest\n",
        "    11. slope - slope of peak exercise ST segment\n",
        "      * 1=upsloping\n",
        "      * 2=flat value\n",
        "      * 3=downsloping\n",
        "    12. ca = number of major vessels (0-3) colored by flourosopy\n",
        "    13. thal - (3=normal; 6=fixed defect; 7=reversable defect)\n",
        "    14. num - diagnosis of heart disease (angiographic disease status)\n",
        "      *0: <50% diameter narrowing\n",
        "      *1: >50% diameter narrowing"
      ],
      "metadata": {
        "id": "LaoU7Ldgyyw6"
      }
    },
    {
      "cell_type": "markdown",
      "source": [
        "**STEP 1:** Check if the dataset contains missing values.\n",
        "\n",
        "* This can be checked via dataset description or by check number of nan or np.null in the dataframe. However such a check can be performed only for numerical features.\n",
        "* For non-numerical features, we can list their unique values and check if there are values like $?$."
      ],
      "metadata": {
        "id": "pItXxnlX4B3Y"
      }
    },
    {
      "cell_type": "code",
      "source": [
        "heart_data.info()"
      ],
      "metadata": {
        "id": "kDMCgTM24e-A",
        "outputId": "36581522-01e1-4e7f-c0cb-2d0c812abe04",
        "colab": {
          "base_uri": "https://localhost:8080/"
        }
      },
      "execution_count": 9,
      "outputs": [
        {
          "output_type": "stream",
          "name": "stdout",
          "text": [
            "<class 'pandas.core.frame.DataFrame'>\n",
            "RangeIndex: 303 entries, 0 to 302\n",
            "Data columns (total 14 columns):\n",
            " #   Column    Non-Null Count  Dtype  \n",
            "---  ------    --------------  -----  \n",
            " 0   age       303 non-null    float64\n",
            " 1   sex       303 non-null    float64\n",
            " 2   cp        303 non-null    float64\n",
            " 3   trestbps  303 non-null    float64\n",
            " 4   chol      303 non-null    float64\n",
            " 5   fbs       303 non-null    float64\n",
            " 6   restecg   303 non-null    float64\n",
            " 7   thalach   303 non-null    float64\n",
            " 8   exang     303 non-null    float64\n",
            " 9   oldpeak   303 non-null    float64\n",
            " 10  slope     303 non-null    float64\n",
            " 11  ca        303 non-null    object \n",
            " 12  thal      303 non-null    object \n",
            " 13  num       303 non-null    int64  \n",
            "dtypes: float64(11), int64(1), object(2)\n",
            "memory usage: 33.3+ KB\n"
          ]
        }
      ]
    },
    {
      "cell_type": "markdown",
      "source": [
        "Let's check if there are any missing values in numerical columns-here we have checked it for all columns in the dataframe."
      ],
      "metadata": {
        "id": "PsKXo-zl6ekb"
      }
    },
    {
      "cell_type": "code",
      "source": [
        "(heart_data.isnull().sum())"
      ],
      "metadata": {
        "id": "9-KDh2Rw6dGj",
        "outputId": "3293e512-7725-40da-f6d4-01e29a453110",
        "colab": {
          "base_uri": "https://localhost:8080/"
        }
      },
      "execution_count": 10,
      "outputs": [
        {
          "output_type": "execute_result",
          "data": {
            "text/plain": [
              "age         0\n",
              "sex         0\n",
              "cp          0\n",
              "trestbps    0\n",
              "chol        0\n",
              "fbs         0\n",
              "restecg     0\n",
              "thalach     0\n",
              "exang       0\n",
              "oldpeak     0\n",
              "slope       0\n",
              "ca          0\n",
              "thal        0\n",
              "num         0\n",
              "dtype: int64"
            ]
          },
          "metadata": {},
          "execution_count": 10
        }
      ]
    },
    {
      "cell_type": "markdown",
      "source": [
        "There are two non-numerical features: ca and thal.\n",
        "\n",
        "* List their unique values"
      ],
      "metadata": {
        "id": "aWKaWgK76yyB"
      }
    },
    {
      "cell_type": "code",
      "source": [
        "print(heart_data.ca.unique(),heart_data.thal.unique())"
      ],
      "metadata": {
        "id": "XMEkx4a767C1",
        "outputId": "44c687b5-e609-4fa3-96ba-b5e909a926b0",
        "colab": {
          "base_uri": "https://localhost:8080/"
        }
      },
      "execution_count": 11,
      "outputs": [
        {
          "output_type": "stream",
          "name": "stdout",
          "text": [
            "['0.0' '3.0' '2.0' '1.0' '?'] ['6.0' '3.0' '7.0' '?']\n"
          ]
        }
      ]
    },
    {
      "cell_type": "markdown",
      "source": [
        "Both of them contain ?, which is a missing values. Let's count the number of missing values."
      ],
      "metadata": {
        "id": "UHkaK0-F7FdU"
      }
    },
    {
      "cell_type": "code",
      "source": [
        "print(heart_data.loc[heart_data.ca=='?','ca'].count(),heart_data.loc[heart_data.thal=='?','thal'].count())"
      ],
      "metadata": {
        "id": "8pPamzDa7NKh",
        "outputId": "09edcd78-29b3-40f7-87a2-428010eff049",
        "colab": {
          "base_uri": "https://localhost:8080/"
        }
      },
      "execution_count": 12,
      "outputs": [
        {
          "output_type": "stream",
          "name": "stdout",
          "text": [
            "4 2\n"
          ]
        }
      ]
    },
    {
      "cell_type": "markdown",
      "source": [
        "**Step 2:** Replace '?' with nan"
      ],
      "metadata": {
        "id": "cV1TrN517wGL"
      }
    },
    {
      "cell_type": "code",
      "source": [
        "heart_data.replace('?',np.nan,inplace=True)"
      ],
      "metadata": {
        "id": "cla6LPFz70u-"
      },
      "execution_count": 13,
      "outputs": []
    },
    {
      "cell_type": "markdown",
      "source": [
        "**Step 3:** Fill the missing values with sklearn missing value imputation utilities\n",
        "\n",
        "Here we use SimpleImputer with mean strategy.\n",
        "\n",
        "We will try two variations-\n",
        "\n",
        "* add_indicator = False: Default choice that only imputes missing values."
      ],
      "metadata": {
        "id": "Xf61ZdEa76Du"
      }
    },
    {
      "cell_type": "code",
      "source": [
        "imputer = SimpleImputer(missing_values=np.nan,strategy='mean')\n",
        "heart_data_imputed = pd.DataFrame(imputer.fit_transform(heart_data),columns=heart_data.columns)\n",
        "print(heart_data_imputed.ca.unique(),heart_data_imputed.thal.unique())"
      ],
      "metadata": {
        "id": "WnwlaaeD8Wcg",
        "outputId": "d58d88b6-6fa5-4213-ff94-907d6af2de62",
        "colab": {
          "base_uri": "https://localhost:8080/"
        }
      },
      "execution_count": 14,
      "outputs": [
        {
          "output_type": "stream",
          "name": "stdout",
          "text": [
            "[0.        3.        2.        1.        0.6722408] [6.         3.         7.         4.73421927]\n"
          ]
        }
      ]
    },
    {
      "cell_type": "markdown",
      "source": [
        "* add_indicator = True: Adds additonal column for each column containing missing values, In our case, this adds two columns one for ca and other for thal. It indicates if the sample has missing value."
      ],
      "metadata": {
        "id": "658LCi588wKI"
      }
    },
    {
      "cell_type": "code",
      "source": [
        "imputer = SimpleImputer(missing_values = np.nan, strategy = 'mean',add_indicator = True)\n",
        "imputer = imputer.fit(heart_data)\n",
        "heart_data_imputed = imputer.transform(heart_data)\n",
        "print(heart_data_imputed.shape)"
      ],
      "metadata": {
        "id": "4rd-g5cy-LKx",
        "outputId": "c2dc918d-da09-49e9-bff2-119da69c26f9",
        "colab": {
          "base_uri": "https://localhost:8080/"
        }
      },
      "execution_count": 15,
      "outputs": [
        {
          "output_type": "stream",
          "name": "stdout",
          "text": [
            "(303, 16)\n"
          ]
        }
      ]
    },
    {
      "cell_type": "markdown",
      "source": [
        "# **3. Feature scaling**"
      ],
      "metadata": {
        "id": "w6bDZ1bW-Rhb"
      }
    },
    {
      "cell_type": "markdown",
      "source": [
        "Feature scaling transforms feature values such that all the features are on the same scale.\n",
        "\n",
        "When we use feature matrix with all features on the same scale, it provides us certain advantages as listed below:\n",
        "\n",
        "* Enables faster convergence in iterative optimization algorithms like gradient descent and its variants.\n",
        "* The performance of ML algorithms such as SVM, K-NN and K-menas etc that compute euclidean distance among input samples gets impacted if the features are not scaled.\n",
        "\n",
        "Tree based ML algorithms are not affected by feature-scaling. In other words, feature scaling is not required for tree based ML algorithms.\n",
        "\n",
        "feature scaling can be performed with the following methods:\n",
        "\n",
        "* Standardization\n",
        "* Normalization\n",
        "* MaxAbsScaler\n",
        "\n",
        "Let's demonstrate feature scaling on a real world dataset. For this purpose we will be using ablone dataset. We will use different scaling utilities in sklearn library."
      ],
      "metadata": {
        "id": "Pc1JHBnB-WQf"
      }
    },
    {
      "cell_type": "code",
      "source": [
        "cols = ['Sex','Length','Diameter','Height','Whole weight','Shucked weight','Viscera weight','Shell weight','Rings']\n",
        "abalone_data = pd.read_csv('https://archive.ics.uci.edu/ml/machine-learning-databases/abalone/abalone.data',header=None, names=cols)"
      ],
      "metadata": {
        "id": "O4_S7eiGAywi"
      },
      "execution_count": 16,
      "outputs": []
    },
    {
      "cell_type": "markdown",
      "source": [
        "**Step 1:** Examine the dataset\n",
        "\n",
        "Feature scaling is performed only on numerical attributes. Let's check which are numerical attributes in this dataset. We can get that via info() method"
      ],
      "metadata": {
        "id": "fvCn-ve-Byzm"
      }
    },
    {
      "cell_type": "code",
      "source": [
        "abalone_data.info()"
      ],
      "metadata": {
        "id": "19Wk6_7mCT-d",
        "outputId": "90976503-2167-471d-b1f7-e9106d03b036",
        "colab": {
          "base_uri": "https://localhost:8080/"
        }
      },
      "execution_count": 17,
      "outputs": [
        {
          "output_type": "stream",
          "name": "stdout",
          "text": [
            "<class 'pandas.core.frame.DataFrame'>\n",
            "RangeIndex: 4177 entries, 0 to 4176\n",
            "Data columns (total 9 columns):\n",
            " #   Column          Non-Null Count  Dtype  \n",
            "---  ------          --------------  -----  \n",
            " 0   Sex             4177 non-null   object \n",
            " 1   Length          4177 non-null   float64\n",
            " 2   Diameter        4177 non-null   float64\n",
            " 3   Height          4177 non-null   float64\n",
            " 4   Whole weight    4177 non-null   float64\n",
            " 5   Shucked weight  4177 non-null   float64\n",
            " 6   Viscera weight  4177 non-null   float64\n",
            " 7   Shell weight    4177 non-null   float64\n",
            " 8   Rings           4177 non-null   int64  \n",
            "dtypes: float64(7), int64(1), object(1)\n",
            "memory usage: 293.8+ KB\n"
          ]
        }
      ]
    },
    {
      "cell_type": "markdown",
      "source": [
        "**Step 1a:** [Optional]: Convert non-numerical attributes to numerical ones.\n",
        "\n",
        "In this dataset, Sex is a non-numeric column in this dataset. Let's examine it and see if we can convert it to numeric representation."
      ],
      "metadata": {
        "id": "c4csjfd5Cvtz"
      }
    },
    {
      "cell_type": "code",
      "source": [
        "abalone_data.Sex.unique()"
      ],
      "metadata": {
        "id": "GAmiCejdNslM",
        "outputId": "4a1a9f93-8c8b-4637-bf52-77b35eab5d15",
        "colab": {
          "base_uri": "https://localhost:8080/"
        }
      },
      "execution_count": 18,
      "outputs": [
        {
          "output_type": "execute_result",
          "data": {
            "text/plain": [
              "array(['M', 'F', 'I'], dtype=object)"
            ]
          },
          "metadata": {},
          "execution_count": 18
        }
      ]
    },
    {
      "cell_type": "code",
      "source": [
        "abalone_data = abalone_data.replace({'Sex':{'M':1.,'F':2.,'I':3.}})\n",
        "abalone_data.info()"
      ],
      "metadata": {
        "id": "Lkx6-SZ5Nw2R",
        "outputId": "c0ba919d-2251-4cbc-8817-4d5b815209bc",
        "colab": {
          "base_uri": "https://localhost:8080/"
        }
      },
      "execution_count": 19,
      "outputs": [
        {
          "output_type": "stream",
          "name": "stdout",
          "text": [
            "<class 'pandas.core.frame.DataFrame'>\n",
            "RangeIndex: 4177 entries, 0 to 4176\n",
            "Data columns (total 9 columns):\n",
            " #   Column          Non-Null Count  Dtype  \n",
            "---  ------          --------------  -----  \n",
            " 0   Sex             4177 non-null   float64\n",
            " 1   Length          4177 non-null   float64\n",
            " 2   Diameter        4177 non-null   float64\n",
            " 3   Height          4177 non-null   float64\n",
            " 4   Whole weight    4177 non-null   float64\n",
            " 5   Shucked weight  4177 non-null   float64\n",
            " 6   Viscera weight  4177 non-null   float64\n",
            " 7   Shell weight    4177 non-null   float64\n",
            " 8   Rings           4177 non-null   int64  \n",
            "dtypes: float64(8), int64(1)\n",
            "memory usage: 293.8 KB\n"
          ]
        }
      ]
    },
    {
      "cell_type": "markdown",
      "source": [
        "**Step 2:** Separate labels from features"
      ],
      "metadata": {
        "id": "La_nI8ObOBCh"
      }
    },
    {
      "cell_type": "code",
      "source": [
        "y = abalone_data.pop('Rings')\n",
        "abalone_data.info()"
      ],
      "metadata": {
        "id": "2cKCDKbgOF1s",
        "outputId": "0531e9c8-98e9-4afe-9e07-aa008b418d06",
        "colab": {
          "base_uri": "https://localhost:8080/"
        }
      },
      "execution_count": 20,
      "outputs": [
        {
          "output_type": "stream",
          "name": "stdout",
          "text": [
            "<class 'pandas.core.frame.DataFrame'>\n",
            "RangeIndex: 4177 entries, 0 to 4176\n",
            "Data columns (total 8 columns):\n",
            " #   Column          Non-Null Count  Dtype  \n",
            "---  ------          --------------  -----  \n",
            " 0   Sex             4177 non-null   float64\n",
            " 1   Length          4177 non-null   float64\n",
            " 2   Diameter        4177 non-null   float64\n",
            " 3   Height          4177 non-null   float64\n",
            " 4   Whole weight    4177 non-null   float64\n",
            " 5   Shucked weight  4177 non-null   float64\n",
            " 6   Viscera weight  4177 non-null   float64\n",
            " 7   Shell weight    4177 non-null   float64\n",
            "dtypes: float64(8)\n",
            "memory usage: 261.2 KB\n"
          ]
        }
      ]
    },
    {
      "cell_type": "markdown",
      "source": [
        "**Step 3:** Examine feature scales"
      ],
      "metadata": {
        "id": "0hUUo_coOZxe"
      }
    },
    {
      "cell_type": "markdown",
      "source": [
        "Statistical method\n",
        "\n",
        "Check the scales of different feature with describe() method of dataframe."
      ],
      "metadata": {
        "id": "IT1cirTqOdx7"
      }
    },
    {
      "cell_type": "code",
      "source": [
        "abalone_data.describe().T"
      ],
      "metadata": {
        "id": "WmvQZxH9Oj4a",
        "outputId": "5d81b110-5a06-42a5-843c-8db76abcf52a",
        "colab": {
          "base_uri": "https://localhost:8080/",
          "height": 300
        }
      },
      "execution_count": 21,
      "outputs": [
        {
          "output_type": "execute_result",
          "data": {
            "text/plain": [
              "                 count      mean       std     min     25%     50%    75%  \\\n",
              "Sex             4177.0  1.955470  0.827815  1.0000  1.0000  2.0000  3.000   \n",
              "Length          4177.0  0.523992  0.120093  0.0750  0.4500  0.5450  0.615   \n",
              "Diameter        4177.0  0.407881  0.099240  0.0550  0.3500  0.4250  0.480   \n",
              "Height          4177.0  0.139516  0.041827  0.0000  0.1150  0.1400  0.165   \n",
              "Whole weight    4177.0  0.828742  0.490389  0.0020  0.4415  0.7995  1.153   \n",
              "Shucked weight  4177.0  0.359367  0.221963  0.0010  0.1860  0.3360  0.502   \n",
              "Viscera weight  4177.0  0.180594  0.109614  0.0005  0.0935  0.1710  0.253   \n",
              "Shell weight    4177.0  0.238831  0.139203  0.0015  0.1300  0.2340  0.329   \n",
              "\n",
              "                   max  \n",
              "Sex             3.0000  \n",
              "Length          0.8150  \n",
              "Diameter        0.6500  \n",
              "Height          1.1300  \n",
              "Whole weight    2.8255  \n",
              "Shucked weight  1.4880  \n",
              "Viscera weight  0.7600  \n",
              "Shell weight    1.0050  "
            ],
            "text/html": [
              "\n",
              "  <div id=\"df-a800c4b8-8765-4ce1-8d41-86b30b822134\">\n",
              "    <div class=\"colab-df-container\">\n",
              "      <div>\n",
              "<style scoped>\n",
              "    .dataframe tbody tr th:only-of-type {\n",
              "        vertical-align: middle;\n",
              "    }\n",
              "\n",
              "    .dataframe tbody tr th {\n",
              "        vertical-align: top;\n",
              "    }\n",
              "\n",
              "    .dataframe thead th {\n",
              "        text-align: right;\n",
              "    }\n",
              "</style>\n",
              "<table border=\"1\" class=\"dataframe\">\n",
              "  <thead>\n",
              "    <tr style=\"text-align: right;\">\n",
              "      <th></th>\n",
              "      <th>count</th>\n",
              "      <th>mean</th>\n",
              "      <th>std</th>\n",
              "      <th>min</th>\n",
              "      <th>25%</th>\n",
              "      <th>50%</th>\n",
              "      <th>75%</th>\n",
              "      <th>max</th>\n",
              "    </tr>\n",
              "  </thead>\n",
              "  <tbody>\n",
              "    <tr>\n",
              "      <th>Sex</th>\n",
              "      <td>4177.0</td>\n",
              "      <td>1.955470</td>\n",
              "      <td>0.827815</td>\n",
              "      <td>1.0000</td>\n",
              "      <td>1.0000</td>\n",
              "      <td>2.0000</td>\n",
              "      <td>3.000</td>\n",
              "      <td>3.0000</td>\n",
              "    </tr>\n",
              "    <tr>\n",
              "      <th>Length</th>\n",
              "      <td>4177.0</td>\n",
              "      <td>0.523992</td>\n",
              "      <td>0.120093</td>\n",
              "      <td>0.0750</td>\n",
              "      <td>0.4500</td>\n",
              "      <td>0.5450</td>\n",
              "      <td>0.615</td>\n",
              "      <td>0.8150</td>\n",
              "    </tr>\n",
              "    <tr>\n",
              "      <th>Diameter</th>\n",
              "      <td>4177.0</td>\n",
              "      <td>0.407881</td>\n",
              "      <td>0.099240</td>\n",
              "      <td>0.0550</td>\n",
              "      <td>0.3500</td>\n",
              "      <td>0.4250</td>\n",
              "      <td>0.480</td>\n",
              "      <td>0.6500</td>\n",
              "    </tr>\n",
              "    <tr>\n",
              "      <th>Height</th>\n",
              "      <td>4177.0</td>\n",
              "      <td>0.139516</td>\n",
              "      <td>0.041827</td>\n",
              "      <td>0.0000</td>\n",
              "      <td>0.1150</td>\n",
              "      <td>0.1400</td>\n",
              "      <td>0.165</td>\n",
              "      <td>1.1300</td>\n",
              "    </tr>\n",
              "    <tr>\n",
              "      <th>Whole weight</th>\n",
              "      <td>4177.0</td>\n",
              "      <td>0.828742</td>\n",
              "      <td>0.490389</td>\n",
              "      <td>0.0020</td>\n",
              "      <td>0.4415</td>\n",
              "      <td>0.7995</td>\n",
              "      <td>1.153</td>\n",
              "      <td>2.8255</td>\n",
              "    </tr>\n",
              "    <tr>\n",
              "      <th>Shucked weight</th>\n",
              "      <td>4177.0</td>\n",
              "      <td>0.359367</td>\n",
              "      <td>0.221963</td>\n",
              "      <td>0.0010</td>\n",
              "      <td>0.1860</td>\n",
              "      <td>0.3360</td>\n",
              "      <td>0.502</td>\n",
              "      <td>1.4880</td>\n",
              "    </tr>\n",
              "    <tr>\n",
              "      <th>Viscera weight</th>\n",
              "      <td>4177.0</td>\n",
              "      <td>0.180594</td>\n",
              "      <td>0.109614</td>\n",
              "      <td>0.0005</td>\n",
              "      <td>0.0935</td>\n",
              "      <td>0.1710</td>\n",
              "      <td>0.253</td>\n",
              "      <td>0.7600</td>\n",
              "    </tr>\n",
              "    <tr>\n",
              "      <th>Shell weight</th>\n",
              "      <td>4177.0</td>\n",
              "      <td>0.238831</td>\n",
              "      <td>0.139203</td>\n",
              "      <td>0.0015</td>\n",
              "      <td>0.1300</td>\n",
              "      <td>0.2340</td>\n",
              "      <td>0.329</td>\n",
              "      <td>1.0050</td>\n",
              "    </tr>\n",
              "  </tbody>\n",
              "</table>\n",
              "</div>\n",
              "      <button class=\"colab-df-convert\" onclick=\"convertToInteractive('df-a800c4b8-8765-4ce1-8d41-86b30b822134')\"\n",
              "              title=\"Convert this dataframe to an interactive table.\"\n",
              "              style=\"display:none;\">\n",
              "        \n",
              "  <svg xmlns=\"http://www.w3.org/2000/svg\" height=\"24px\"viewBox=\"0 0 24 24\"\n",
              "       width=\"24px\">\n",
              "    <path d=\"M0 0h24v24H0V0z\" fill=\"none\"/>\n",
              "    <path d=\"M18.56 5.44l.94 2.06.94-2.06 2.06-.94-2.06-.94-.94-2.06-.94 2.06-2.06.94zm-11 1L8.5 8.5l.94-2.06 2.06-.94-2.06-.94L8.5 2.5l-.94 2.06-2.06.94zm10 10l.94 2.06.94-2.06 2.06-.94-2.06-.94-.94-2.06-.94 2.06-2.06.94z\"/><path d=\"M17.41 7.96l-1.37-1.37c-.4-.4-.92-.59-1.43-.59-.52 0-1.04.2-1.43.59L10.3 9.45l-7.72 7.72c-.78.78-.78 2.05 0 2.83L4 21.41c.39.39.9.59 1.41.59.51 0 1.02-.2 1.41-.59l7.78-7.78 2.81-2.81c.8-.78.8-2.07 0-2.86zM5.41 20L4 18.59l7.72-7.72 1.47 1.35L5.41 20z\"/>\n",
              "  </svg>\n",
              "      </button>\n",
              "      \n",
              "  <style>\n",
              "    .colab-df-container {\n",
              "      display:flex;\n",
              "      flex-wrap:wrap;\n",
              "      gap: 12px;\n",
              "    }\n",
              "\n",
              "    .colab-df-convert {\n",
              "      background-color: #E8F0FE;\n",
              "      border: none;\n",
              "      border-radius: 50%;\n",
              "      cursor: pointer;\n",
              "      display: none;\n",
              "      fill: #1967D2;\n",
              "      height: 32px;\n",
              "      padding: 0 0 0 0;\n",
              "      width: 32px;\n",
              "    }\n",
              "\n",
              "    .colab-df-convert:hover {\n",
              "      background-color: #E2EBFA;\n",
              "      box-shadow: 0px 1px 2px rgba(60, 64, 67, 0.3), 0px 1px 3px 1px rgba(60, 64, 67, 0.15);\n",
              "      fill: #174EA6;\n",
              "    }\n",
              "\n",
              "    [theme=dark] .colab-df-convert {\n",
              "      background-color: #3B4455;\n",
              "      fill: #D2E3FC;\n",
              "    }\n",
              "\n",
              "    [theme=dark] .colab-df-convert:hover {\n",
              "      background-color: #434B5C;\n",
              "      box-shadow: 0px 1px 3px 1px rgba(0, 0, 0, 0.15);\n",
              "      filter: drop-shadow(0px 1px 2px rgba(0, 0, 0, 0.3));\n",
              "      fill: #FFFFFF;\n",
              "    }\n",
              "  </style>\n",
              "\n",
              "      <script>\n",
              "        const buttonEl =\n",
              "          document.querySelector('#df-a800c4b8-8765-4ce1-8d41-86b30b822134 button.colab-df-convert');\n",
              "        buttonEl.style.display =\n",
              "          google.colab.kernel.accessAllowed ? 'block' : 'none';\n",
              "\n",
              "        async function convertToInteractive(key) {\n",
              "          const element = document.querySelector('#df-a800c4b8-8765-4ce1-8d41-86b30b822134');\n",
              "          const dataTable =\n",
              "            await google.colab.kernel.invokeFunction('convertToInteractive',\n",
              "                                                     [key], {});\n",
              "          if (!dataTable) return;\n",
              "\n",
              "          const docLinkHtml = 'Like what you see? Visit the ' +\n",
              "            '<a target=\"_blank\" href=https://colab.research.google.com/notebooks/data_table.ipynb>data table notebook</a>'\n",
              "            + ' to learn more about interactive tables.';\n",
              "          element.innerHTML = '';\n",
              "          dataTable['output_type'] = 'display_data';\n",
              "          await google.colab.output.renderOutput(dataTable, element);\n",
              "          const docLink = document.createElement('div');\n",
              "          docLink.innerHTML = docLinkHtml;\n",
              "          element.appendChild(docLink);\n",
              "        }\n",
              "      </script>\n",
              "    </div>\n",
              "  </div>\n",
              "  "
            ]
          },
          "metadata": {},
          "execution_count": 21
        }
      ]
    },
    {
      "cell_type": "markdown",
      "source": [
        "Note that\n",
        "\n",
        "* There are 4177 examples or rows in this dataset.\n",
        "* The mean and standard deviation of features are quite different from one another.\n",
        "\n",
        "We can confirm that with a variety of visualization techniques and plots."
      ],
      "metadata": {
        "id": "HVebSRNJOndl"
      }
    },
    {
      "cell_type": "markdown",
      "source": [
        "## Visualization of feature distributions"
      ],
      "metadata": {
        "id": "tPQKeySfO_V0"
      }
    },
    {
      "cell_type": "markdown",
      "source": [
        "Visualize feature distributions\n",
        "\n",
        "* Histogram\n",
        "* Kernel density estimation KDE plot\n",
        "* Box\n",
        "* Violin"
      ],
      "metadata": {
        "id": "rxsJ-nJzPHKO"
      }
    },
    {
      "cell_type": "markdown",
      "source": [
        "### Feature Histogram\n",
        "\n",
        "We will have separate and combined histogram plots to check if the feature are indeed on different scales."
      ],
      "metadata": {
        "id": "mu8Zgh-ZP0LR"
      }
    },
    {
      "cell_type": "code",
      "source": [
        "for i in cols[:-1]:\n",
        "  sns.histplot(data=abalone_data[i])\n",
        "  plt.show()"
      ],
      "metadata": {
        "id": "rkLt8s8w0AUt",
        "outputId": "1347a14d-3dda-4171-b320-fec7e057f882",
        "colab": {
          "base_uri": "https://localhost:8080/",
          "height": 1000
        }
      },
      "execution_count": 22,
      "outputs": [
        {
          "output_type": "display_data",
          "data": {
            "text/plain": [
              "<Figure size 432x288 with 1 Axes>"
            ],
            "image/png": "[encoded data removed]"
          },
          "metadata": {}
        },
        {
          "output_type": "display_data",
          "data": {
            "text/plain": [
              "<Figure size 432x288 with 1 Axes>"
            ],
            "image/png": "[encoded data removed]"
          },
          "metadata": {}
        },
        {
          "output_type": "display_data",
          "data": {
            "text/plain": [
              "<Figure size 432x288 with 1 Axes>"
            ],
            "image/png": "[encoded data removed]"
          },
          "metadata": {}
        },
        {
          "output_type": "display_data",
          "data": {
            "text/plain": [
              "<Figure size 432x288 with 1 Axes>"
            ],
            "image/png": "[encoded data removed]"
          },
          "metadata": {}
        },
        {
          "output_type": "display_data",
          "data": {
            "text/plain": [
              "<Figure size 432x288 with 1 Axes>"
            ],
            "image/png": "[encoded data removed]"
          },
          "metadata": {}
        },
        {
          "output_type": "display_data",
          "data": {
            "text/plain": [
              "<Figure size 432x288 with 1 Axes>"
            ],
            "image/png": "[encoded data removed]"
          },
          "metadata": {}
        },
        {
          "output_type": "display_data",
          "data": {
            "text/plain": [
              "<Figure size 432x288 with 1 Axes>"
            ],
            "image/png": "[encoded data removed]"
          },
          "metadata": {}
        },
        {
          "output_type": "display_data",
          "data": {
            "text/plain": [
              "<Figure size 432x288 with 1 Axes>"
            ],
            "image/png": "[encoded data removed]"
          },
          "metadata": {}
        }
      ]
    },
    {
      "cell_type": "code",
      "source": [
        "plt.figure(figsize=(10,8))\n",
        "sns.histplot(data=abalone_data)"
      ],
      "metadata": {
        "id": "8MH7M4kR4CsM",
        "outputId": "d71998bb-a1ec-4aff-9604-faf8e261238c",
        "colab": {
          "base_uri": "https://localhost:8080/",
          "height": 505
        }
      },
      "execution_count": 23,
      "outputs": [
        {
          "output_type": "execute_result",
          "data": {
            "text/plain": [
              "<matplotlib.axes._subplots.AxesSubplot at 0x7fd986cae990>"
            ]
          },
          "metadata": {},
          "execution_count": 23
        },
        {
          "output_type": "display_data",
          "data": {
            "text/plain": [
              "<Figure size 720x576 with 1 Axes>"
            ],
            "image/png": "[encoded data removed]"
          },
          "metadata": {}
        }
      ]
    },
    {
      "cell_type": "markdown",
      "source": [
        "### KDE plot"
      ],
      "metadata": {
        "id": "OtX-C2uO4YYt"
      }
    },
    {
      "cell_type": "code",
      "source": [
        "abalone_data.plot.kde()"
      ],
      "metadata": {
        "id": "p6XodD5Z4X7X",
        "outputId": "d38c7c65-a861-49b9-ee61-49b1ed27245f",
        "colab": {
          "base_uri": "https://localhost:8080/",
          "height": 285
        }
      },
      "execution_count": 24,
      "outputs": [
        {
          "output_type": "execute_result",
          "data": {
            "text/plain": [
              "<matplotlib.axes._subplots.AxesSubplot at 0x7fd987042610>"
            ]
          },
          "metadata": {},
          "execution_count": 24
        },
        {
          "output_type": "display_data",
          "data": {
            "text/plain": [
              "<Figure size 432x288 with 1 Axes>"
            ],
            "image/png": "[encoded data removed]"
          },
          "metadata": {}
        }
      ]
    },
    {
      "cell_type": "markdown",
      "source": [
        "### Box Plot"
      ],
      "metadata": {
        "id": "8uBA0DNJQ1eJ"
      }
    },
    {
      "cell_type": "code",
      "source": [
        "plt.figure(figsize=(10,8))\n",
        "sns.boxplot(data=abalone_data, orient=\"h\")"
      ],
      "metadata": {
        "id": "2xemzhAT40_O",
        "outputId": "78434b3b-da83-432d-d3e8-0741cc283027",
        "colab": {
          "base_uri": "https://localhost:8080/",
          "height": 502
        }
      },
      "execution_count": 25,
      "outputs": [
        {
          "output_type": "execute_result",
          "data": {
            "text/plain": [
              "<matplotlib.axes._subplots.AxesSubplot at 0x7fd98688cd50>"
            ]
          },
          "metadata": {},
          "execution_count": 25
        },
        {
          "output_type": "display_data",
          "data": {
            "text/plain": [
              "<Figure size 720x576 with 1 Axes>"
            ],
            "image/png": "[encoded data removed]"
          },
          "metadata": {}
        }
      ]
    },
    {
      "cell_type": "markdown",
      "source": [
        "### Violin Plot"
      ],
      "metadata": {
        "id": "KmUyl9TW5uGS"
      }
    },
    {
      "cell_type": "code",
      "source": [
        "plt.figure(figsize=(10,8))\n",
        "sns.violinplot(data=abalone_data, orient=\"h\")"
      ],
      "metadata": {
        "id": "6fKRh4R_5xGP",
        "outputId": "e1f5a100-5c6b-4ccb-8874-af5fffe81698",
        "colab": {
          "base_uri": "https://localhost:8080/",
          "height": 502
        }
      },
      "execution_count": 26,
      "outputs": [
        {
          "output_type": "execute_result",
          "data": {
            "text/plain": [
              "<matplotlib.axes._subplots.AxesSubplot at 0x7fd9846461d0>"
            ]
          },
          "metadata": {},
          "execution_count": 26
        },
        {
          "output_type": "display_data",
          "data": {
            "text/plain": [
              "<Figure size 720x576 with 1 Axes>"
            ],
            "image/png": "[encoded data removed]"
          },
          "metadata": {}
        }
      ]
    },
    {
      "cell_type": "markdown",
      "source": [
        "**Step 4:** Scaling"
      ],
      "metadata": {
        "id": "xCj2mGMnQ03S"
      }
    },
    {
      "cell_type": "markdown",
      "source": [
        "* Standardization : [-Inf,Inf]\n",
        "* MaxAbsScaler : [-1,1]\n",
        "* MinMaxScaler : [0,1]"
      ],
      "metadata": {
        "id": "peAiC0RKWhpc"
      }
    },
    {
      "cell_type": "code",
      "source": [
        "from sklearn.preprocessing import MaxAbsScaler\n",
        "from sklearn.preprocessing import MinMaxScaler\n",
        "from sklearn.preprocessing import StandardScaler\n",
        "\n",
        "x = np.array([-500,-100,0,5,50,100]).reshape(-1,1)\n",
        "mas = MaxAbsScaler()\n",
        "x_mas = mas.fit_transform(x)\n",
        "\n",
        "mm = MinMaxScaler()\n",
        "x_n = mm.fit_transform(x)\n",
        "\n",
        "ss = StandardScaler()\n",
        "x_s = ss.fit_transform(x)\n",
        "\n",
        "print(x_mas)\n",
        "print(x_n)\n",
        "print(x_s)"
      ],
      "metadata": {
        "id": "gkWJAz88WsHe",
        "outputId": "4ada6191-d571-4088-f7e2-d68a504e8c4d",
        "colab": {
          "base_uri": "https://localhost:8080/"
        }
      },
      "execution_count": 27,
      "outputs": [
        {
          "output_type": "stream",
          "name": "stdout",
          "text": [
            "[[-1.  ]\n",
            " [-0.2 ]\n",
            " [ 0.  ]\n",
            " [ 0.01]\n",
            " [ 0.1 ]\n",
            " [ 0.2 ]]\n",
            "[[0.        ]\n",
            " [0.66666667]\n",
            " [0.83333333]\n",
            " [0.84166667]\n",
            " [0.91666667]\n",
            " [1.        ]]\n",
            "[[-2.13129532]\n",
            " [-0.1292958 ]\n",
            " [ 0.37120408]\n",
            " [ 0.39622907]\n",
            " [ 0.62145402]\n",
            " [ 0.87170396]]\n"
          ]
        }
      ]
    },
    {
      "cell_type": "markdown",
      "source": [
        "## Normalizing Abalone data"
      ],
      "metadata": {
        "id": "8CUkm7047-_9"
      }
    },
    {
      "cell_type": "code",
      "source": [
        "from sklearn.preprocessing import MinMaxScaler\n",
        "mm = MinMaxScaler()\n",
        "abalone_data_normalized = mm.fit_transform(abalone_data)"
      ],
      "metadata": {
        "id": "0vNa_Gg-7-jV"
      },
      "execution_count": 28,
      "outputs": []
    },
    {
      "cell_type": "code",
      "source": [
        "plt.figure(figsize=(10,8))\n",
        "sns.histplot(data=abalone_data_normalized)"
      ],
      "metadata": {
        "colab": {
          "base_uri": "https://localhost:8080/",
          "height": 505
        },
        "id": "torK_1Th8Rno",
        "outputId": "f4905d27-e8e8-416f-c4e9-17736c100116"
      },
      "execution_count": 29,
      "outputs": [
        {
          "output_type": "execute_result",
          "data": {
            "text/plain": [
              "<matplotlib.axes._subplots.AxesSubplot at 0x7fd98452bd90>"
            ]
          },
          "metadata": {},
          "execution_count": 29
        },
        {
          "output_type": "display_data",
          "data": {
            "text/plain": [
              "<Figure size 720x576 with 1 Axes>"
            ],
            "image/png": "[encoded data removed]"
          },
          "metadata": {}
        }
      ]
    },
    {
      "cell_type": "code",
      "source": [
        "pd.DataFrame(abalone_data_normalized).plot.kde()"
      ],
      "metadata": {
        "colab": {
          "base_uri": "https://localhost:8080/",
          "height": 285
        },
        "id": "x_RQhnic8YpQ",
        "outputId": "68b9b37e-f0e9-4cf8-a99d-07989aa9b91a"
      },
      "execution_count": 30,
      "outputs": [
        {
          "output_type": "execute_result",
          "data": {
            "text/plain": [
              "<matplotlib.axes._subplots.AxesSubplot at 0x7fd9842eed90>"
            ]
          },
          "metadata": {},
          "execution_count": 30
        },
        {
          "output_type": "display_data",
          "data": {
            "text/plain": [
              "<Figure size 432x288 with 1 Axes>"
            ],
            "image/png": "[encoded data removed]"
          },
          "metadata": {}
        }
      ]
    },
    {
      "cell_type": "code",
      "source": [
        "plt.figure(figsize=(10,8))\n",
        "sns.boxplot(data=abalone_data_normalized, orient=\"h\")"
      ],
      "metadata": {
        "colab": {
          "base_uri": "https://localhost:8080/",
          "height": 502
        },
        "id": "ReXHB0SK8khN",
        "outputId": "c195cccd-1dc7-4967-ae56-7aff3289859b"
      },
      "execution_count": 31,
      "outputs": [
        {
          "output_type": "execute_result",
          "data": {
            "text/plain": [
              "<matplotlib.axes._subplots.AxesSubplot at 0x7fd984614a50>"
            ]
          },
          "metadata": {},
          "execution_count": 31
        },
        {
          "output_type": "display_data",
          "data": {
            "text/plain": [
              "<Figure size 720x576 with 1 Axes>"
            ],
            "image/png": "[encoded data removed]"
          },
          "metadata": {}
        }
      ]
    },
    {
      "cell_type": "code",
      "source": [
        "plt.figure(figsize=(10,8))\n",
        "sns.violinplot(data=abalone_data_normalized, orient=\"h\")"
      ],
      "metadata": {
        "colab": {
          "base_uri": "https://localhost:8080/",
          "height": 502
        },
        "id": "VKGy9gUj8pzw",
        "outputId": "bec54ddb-6102-4bfe-af3f-ff2eba750ba2"
      },
      "execution_count": 32,
      "outputs": [
        {
          "output_type": "execute_result",
          "data": {
            "text/plain": [
              "<matplotlib.axes._subplots.AxesSubplot at 0x7fd983ef7710>"
            ]
          },
          "metadata": {},
          "execution_count": 32
        },
        {
          "output_type": "display_data",
          "data": {
            "text/plain": [
              "<Figure size 720x576 with 1 Axes>"
            ],
            "image/png": "[encoded data removed]"
          },
          "metadata": {}
        }
      ]
    },
    {
      "cell_type": "markdown",
      "source": [
        "## Standardized Abalone Data"
      ],
      "metadata": {
        "id": "BMxHkyJT82Eg"
      }
    },
    {
      "cell_type": "code",
      "source": [
        "from sklearn.preprocessing import StandardScaler\n",
        "ss = StandardScaler()\n",
        "abalone_data_std = ss.fit_transform(abalone_data)"
      ],
      "metadata": {
        "id": "6uxesid085T5"
      },
      "execution_count": 33,
      "outputs": []
    },
    {
      "cell_type": "code",
      "source": [
        "plt.figure(figsize=(10,8))\n",
        "sns.histplot(data=abalone_data_std)"
      ],
      "metadata": {
        "outputId": "f47a230c-3443-43ce-944c-c8ad094a0e9a",
        "colab": {
          "base_uri": "https://localhost:8080/",
          "height": 505
        },
        "id": "zcEW4O-f9MMO"
      },
      "execution_count": 34,
      "outputs": [
        {
          "output_type": "execute_result",
          "data": {
            "text/plain": [
              "<matplotlib.axes._subplots.AxesSubplot at 0x7fd983e10a50>"
            ]
          },
          "metadata": {},
          "execution_count": 34
        },
        {
          "output_type": "display_data",
          "data": {
            "text/plain": [
              "<Figure size 720x576 with 1 Axes>"
            ],
            "image/png": "[encoded data removed]"
          },
          "metadata": {}
        }
      ]
    },
    {
      "cell_type": "code",
      "source": [
        "pd.DataFrame(abalone_data_std).plot.kde()"
      ],
      "metadata": {
        "outputId": "69804cdb-a7af-4bbe-c153-3011b949595d",
        "colab": {
          "base_uri": "https://localhost:8080/",
          "height": 286
        },
        "id": "O_h2Doid9MMP"
      },
      "execution_count": 35,
      "outputs": [
        {
          "output_type": "execute_result",
          "data": {
            "text/plain": [
              "<matplotlib.axes._subplots.AxesSubplot at 0x7fd9823a8450>"
            ]
          },
          "metadata": {},
          "execution_count": 35
        },
        {
          "output_type": "display_data",
          "data": {
            "text/plain": [
              "<Figure size 432x288 with 1 Axes>"
            ],
            "image/png": "[encoded data removed]"
          },
          "metadata": {}
        }
      ]
    },
    {
      "cell_type": "code",
      "source": [
        "plt.figure(figsize=(10,8))\n",
        "sns.boxplot(data=abalone_data_std, orient=\"h\")"
      ],
      "metadata": {
        "outputId": "668cebaf-8ff7-43ef-a21c-e9e7a7058034",
        "colab": {
          "base_uri": "https://localhost:8080/",
          "height": 502
        },
        "id": "eOb8au4l9MMQ"
      },
      "execution_count": 36,
      "outputs": [
        {
          "output_type": "execute_result",
          "data": {
            "text/plain": [
              "<matplotlib.axes._subplots.AxesSubplot at 0x7fd9823e9450>"
            ]
          },
          "metadata": {},
          "execution_count": 36
        },
        {
          "output_type": "display_data",
          "data": {
            "text/plain": [
              "<Figure size 720x576 with 1 Axes>"
            ],
            "image/png": "[encoded data removed]"
          },
          "metadata": {}
        }
      ]
    },
    {
      "cell_type": "code",
      "source": [
        "plt.figure(figsize=(10,8))\n",
        "sns.violinplot(data=abalone_data_std, orient=\"h\")"
      ],
      "metadata": {
        "outputId": "e204c4e2-b150-422c-c935-379952b78609",
        "colab": {
          "base_uri": "https://localhost:8080/",
          "height": 502
        },
        "id": "I_C8zW7L9MMR"
      },
      "execution_count": 37,
      "outputs": [
        {
          "output_type": "execute_result",
          "data": {
            "text/plain": [
              "<matplotlib.axes._subplots.AxesSubplot at 0x7fd981f02d90>"
            ]
          },
          "metadata": {},
          "execution_count": 37
        },
        {
          "output_type": "display_data",
          "data": {
            "text/plain": [
              "<Figure size 720x576 with 1 Axes>"
            ],
            "image/png": "[encoded data removed]"
          },
          "metadata": {}
        }
      ]
    },
    {
      "cell_type": "markdown",
      "source": [
        "# **4. Dummy  Feature**\n",
        "\n",
        "Augments dataset with a column vector, each value in the column vector is 1. This is useful for adding a parameter for bias term in the model."
      ],
      "metadata": {
        "id": "cD6ipUrlcqLr"
      }
    },
    {
      "cell_type": "code",
      "source": [
        "x = np.array([[7,1],\n",
        "              [1,8],\n",
        "              [2,0],\n",
        "              [9,6]])\n",
        "\n",
        "from sklearn.preprocessing import add_dummy_feature\n",
        "\n",
        "x_new = add_dummy_feature(x)\n",
        "x_new"
      ],
      "metadata": {
        "id": "ul-y3VsPfFij",
        "outputId": "e439c651-6581-4185-f078-536ae7cfdcd7",
        "colab": {
          "base_uri": "https://localhost:8080/"
        }
      },
      "execution_count": 38,
      "outputs": [
        {
          "output_type": "execute_result",
          "data": {
            "text/plain": [
              "array([[1., 7., 1.],\n",
              "       [1., 1., 8.],\n",
              "       [1., 2., 0.],\n",
              "       [1., 9., 6.]])"
            ]
          },
          "metadata": {},
          "execution_count": 38
        }
      ]
    },
    {
      "cell_type": "markdown",
      "source": [
        "# **5. Custom transformers**"
      ],
      "metadata": {
        "id": "oDwIUpu6fdva"
      }
    },
    {
      "cell_type": "markdown",
      "source": [
        "Enables conversion of an existing Python function into a tranformer to assist in data cleaning or processing.\n",
        "\n",
        "Useful when:\n",
        "\n",
        "1. The dataset consists of heterogeneous data type\n",
        "2. The dataset is stored in a pandas dataframe and different columns require different processing pipelines\n",
        "3. We need stateless transformations such as taking the log of frequencies , custom scaling etc"
      ],
      "metadata": {
        "id": "sqadUndNfioI"
      }
    },
    {
      "cell_type": "code",
      "source": [
        "from sklearn.preprocessing import FunctionTransformer"
      ],
      "metadata": {
        "id": "2hmC7SBkg6oo"
      },
      "execution_count": 39,
      "outputs": []
    },
    {
      "cell_type": "markdown",
      "source": [
        "You can implement a transformer from an arbitrary function with FunctionTransformer"
      ],
      "metadata": {
        "id": "zvihyNsSg-lZ"
      }
    },
    {
      "cell_type": "code",
      "source": [
        "wine_data = pd.read_csv('https://archive.ics.uci.edu/ml/machine-learning-databases/wine-quality/winequality-red.csv',sep=';')"
      ],
      "metadata": {
        "id": "1hjmNSNEhKzQ"
      },
      "execution_count": 40,
      "outputs": []
    },
    {
      "cell_type": "code",
      "source": [
        "wine_data.describe().T"
      ],
      "metadata": {
        "id": "hXWzhX-XhZPV",
        "outputId": "41fe6d50-0231-47e1-c89b-66f3193e6868",
        "colab": {
          "base_uri": "https://localhost:8080/",
          "height": 426
        }
      },
      "execution_count": 41,
      "outputs": [
        {
          "output_type": "execute_result",
          "data": {
            "text/plain": [
              "                       count       mean        std      min      25%  \\\n",
              "fixed acidity         1599.0   8.319637   1.741096  4.60000   7.1000   \n",
              "volatile acidity      1599.0   0.527821   0.179060  0.12000   0.3900   \n",
              "citric acid           1599.0   0.270976   0.194801  0.00000   0.0900   \n",
              "residual sugar        1599.0   2.538806   1.409928  0.90000   1.9000   \n",
              "chlorides             1599.0   0.087467   0.047065  0.01200   0.0700   \n",
              "free sulfur dioxide   1599.0  15.874922  10.460157  1.00000   7.0000   \n",
              "total sulfur dioxide  1599.0  46.467792  32.895324  6.00000  22.0000   \n",
              "density               1599.0   0.996747   0.001887  0.99007   0.9956   \n",
              "pH                    1599.0   3.311113   0.154386  2.74000   3.2100   \n",
              "sulphates             1599.0   0.658149   0.169507  0.33000   0.5500   \n",
              "alcohol               1599.0  10.422983   1.065668  8.40000   9.5000   \n",
              "quality               1599.0   5.636023   0.807569  3.00000   5.0000   \n",
              "\n",
              "                           50%        75%        max  \n",
              "fixed acidity          7.90000   9.200000   15.90000  \n",
              "volatile acidity       0.52000   0.640000    1.58000  \n",
              "citric acid            0.26000   0.420000    1.00000  \n",
              "residual sugar         2.20000   2.600000   15.50000  \n",
              "chlorides              0.07900   0.090000    0.61100  \n",
              "free sulfur dioxide   14.00000  21.000000   72.00000  \n",
              "total sulfur dioxide  38.00000  62.000000  289.00000  \n",
              "density                0.99675   0.997835    1.00369  \n",
              "pH                     3.31000   3.400000    4.01000  \n",
              "sulphates              0.62000   0.730000    2.00000  \n",
              "alcohol               10.20000  11.100000   14.90000  \n",
              "quality                6.00000   6.000000    8.00000  "
            ],
            "text/html": [
              "\n",
              "  <div id=\"df-e6d7a45e-76f2-4372-862f-588793564a2b\">\n",
              "    <div class=\"colab-df-container\">\n",
              "      <div>\n",
              "<style scoped>\n",
              "    .dataframe tbody tr th:only-of-type {\n",
              "        vertical-align: middle;\n",
              "    }\n",
              "\n",
              "    .dataframe tbody tr th {\n",
              "        vertical-align: top;\n",
              "    }\n",
              "\n",
              "    .dataframe thead th {\n",
              "        text-align: right;\n",
              "    }\n",
              "</style>\n",
              "<table border=\"1\" class=\"dataframe\">\n",
              "  <thead>\n",
              "    <tr style=\"text-align: right;\">\n",
              "      <th></th>\n",
              "      <th>count</th>\n",
              "      <th>mean</th>\n",
              "      <th>std</th>\n",
              "      <th>min</th>\n",
              "      <th>25%</th>\n",
              "      <th>50%</th>\n",
              "      <th>75%</th>\n",
              "      <th>max</th>\n",
              "    </tr>\n",
              "  </thead>\n",
              "  <tbody>\n",
              "    <tr>\n",
              "      <th>fixed acidity</th>\n",
              "      <td>1599.0</td>\n",
              "      <td>8.319637</td>\n",
              "      <td>1.741096</td>\n",
              "      <td>4.60000</td>\n",
              "      <td>7.1000</td>\n",
              "      <td>7.90000</td>\n",
              "      <td>9.200000</td>\n",
              "      <td>15.90000</td>\n",
              "    </tr>\n",
              "    <tr>\n",
              "      <th>volatile acidity</th>\n",
              "      <td>1599.0</td>\n",
              "      <td>0.527821</td>\n",
              "      <td>0.179060</td>\n",
              "      <td>0.12000</td>\n",
              "      <td>0.3900</td>\n",
              "      <td>0.52000</td>\n",
              "      <td>0.640000</td>\n",
              "      <td>1.58000</td>\n",
              "    </tr>\n",
              "    <tr>\n",
              "      <th>citric acid</th>\n",
              "      <td>1599.0</td>\n",
              "      <td>0.270976</td>\n",
              "      <td>0.194801</td>\n",
              "      <td>0.00000</td>\n",
              "      <td>0.0900</td>\n",
              "      <td>0.26000</td>\n",
              "      <td>0.420000</td>\n",
              "      <td>1.00000</td>\n",
              "    </tr>\n",
              "    <tr>\n",
              "      <th>residual sugar</th>\n",
              "      <td>1599.0</td>\n",
              "      <td>2.538806</td>\n",
              "      <td>1.409928</td>\n",
              "      <td>0.90000</td>\n",
              "      <td>1.9000</td>\n",
              "      <td>2.20000</td>\n",
              "      <td>2.600000</td>\n",
              "      <td>15.50000</td>\n",
              "    </tr>\n",
              "    <tr>\n",
              "      <th>chlorides</th>\n",
              "      <td>1599.0</td>\n",
              "      <td>0.087467</td>\n",
              "      <td>0.047065</td>\n",
              "      <td>0.01200</td>\n",
              "      <td>0.0700</td>\n",
              "      <td>0.07900</td>\n",
              "      <td>0.090000</td>\n",
              "      <td>0.61100</td>\n",
              "    </tr>\n",
              "    <tr>\n",
              "      <th>free sulfur dioxide</th>\n",
              "      <td>1599.0</td>\n",
              "      <td>15.874922</td>\n",
              "      <td>10.460157</td>\n",
              "      <td>1.00000</td>\n",
              "      <td>7.0000</td>\n",
              "      <td>14.00000</td>\n",
              "      <td>21.000000</td>\n",
              "      <td>72.00000</td>\n",
              "    </tr>\n",
              "    <tr>\n",
              "      <th>total sulfur dioxide</th>\n",
              "      <td>1599.0</td>\n",
              "      <td>46.467792</td>\n",
              "      <td>32.895324</td>\n",
              "      <td>6.00000</td>\n",
              "      <td>22.0000</td>\n",
              "      <td>38.00000</td>\n",
              "      <td>62.000000</td>\n",
              "      <td>289.00000</td>\n",
              "    </tr>\n",
              "    <tr>\n",
              "      <th>density</th>\n",
              "      <td>1599.0</td>\n",
              "      <td>0.996747</td>\n",
              "      <td>0.001887</td>\n",
              "      <td>0.99007</td>\n",
              "      <td>0.9956</td>\n",
              "      <td>0.99675</td>\n",
              "      <td>0.997835</td>\n",
              "      <td>1.00369</td>\n",
              "    </tr>\n",
              "    <tr>\n",
              "      <th>pH</th>\n",
              "      <td>1599.0</td>\n",
              "      <td>3.311113</td>\n",
              "      <td>0.154386</td>\n",
              "      <td>2.74000</td>\n",
              "      <td>3.2100</td>\n",
              "      <td>3.31000</td>\n",
              "      <td>3.400000</td>\n",
              "      <td>4.01000</td>\n",
              "    </tr>\n",
              "    <tr>\n",
              "      <th>sulphates</th>\n",
              "      <td>1599.0</td>\n",
              "      <td>0.658149</td>\n",
              "      <td>0.169507</td>\n",
              "      <td>0.33000</td>\n",
              "      <td>0.5500</td>\n",
              "      <td>0.62000</td>\n",
              "      <td>0.730000</td>\n",
              "      <td>2.00000</td>\n",
              "    </tr>\n",
              "    <tr>\n",
              "      <th>alcohol</th>\n",
              "      <td>1599.0</td>\n",
              "      <td>10.422983</td>\n",
              "      <td>1.065668</td>\n",
              "      <td>8.40000</td>\n",
              "      <td>9.5000</td>\n",
              "      <td>10.20000</td>\n",
              "      <td>11.100000</td>\n",
              "      <td>14.90000</td>\n",
              "    </tr>\n",
              "    <tr>\n",
              "      <th>quality</th>\n",
              "      <td>1599.0</td>\n",
              "      <td>5.636023</td>\n",
              "      <td>0.807569</td>\n",
              "      <td>3.00000</td>\n",
              "      <td>5.0000</td>\n",
              "      <td>6.00000</td>\n",
              "      <td>6.000000</td>\n",
              "      <td>8.00000</td>\n",
              "    </tr>\n",
              "  </tbody>\n",
              "</table>\n",
              "</div>\n",
              "      <button class=\"colab-df-convert\" onclick=\"convertToInteractive('df-e6d7a45e-76f2-4372-862f-588793564a2b')\"\n",
              "              title=\"Convert this dataframe to an interactive table.\"\n",
              "              style=\"display:none;\">\n",
              "        \n",
              "  <svg xmlns=\"http://www.w3.org/2000/svg\" height=\"24px\"viewBox=\"0 0 24 24\"\n",
              "       width=\"24px\">\n",
              "    <path d=\"M0 0h24v24H0V0z\" fill=\"none\"/>\n",
              "    <path d=\"M18.56 5.44l.94 2.06.94-2.06 2.06-.94-2.06-.94-.94-2.06-.94 2.06-2.06.94zm-11 1L8.5 8.5l.94-2.06 2.06-.94-2.06-.94L8.5 2.5l-.94 2.06-2.06.94zm10 10l.94 2.06.94-2.06 2.06-.94-2.06-.94-.94-2.06-.94 2.06-2.06.94z\"/><path d=\"M17.41 7.96l-1.37-1.37c-.4-.4-.92-.59-1.43-.59-.52 0-1.04.2-1.43.59L10.3 9.45l-7.72 7.72c-.78.78-.78 2.05 0 2.83L4 21.41c.39.39.9.59 1.41.59.51 0 1.02-.2 1.41-.59l7.78-7.78 2.81-2.81c.8-.78.8-2.07 0-2.86zM5.41 20L4 18.59l7.72-7.72 1.47 1.35L5.41 20z\"/>\n",
              "  </svg>\n",
              "      </button>\n",
              "      \n",
              "  <style>\n",
              "    .colab-df-container {\n",
              "      display:flex;\n",
              "      flex-wrap:wrap;\n",
              "      gap: 12px;\n",
              "    }\n",
              "\n",
              "    .colab-df-convert {\n",
              "      background-color: #E8F0FE;\n",
              "      border: none;\n",
              "      border-radius: 50%;\n",
              "      cursor: pointer;\n",
              "      display: none;\n",
              "      fill: #1967D2;\n",
              "      height: 32px;\n",
              "      padding: 0 0 0 0;\n",
              "      width: 32px;\n",
              "    }\n",
              "\n",
              "    .colab-df-convert:hover {\n",
              "      background-color: #E2EBFA;\n",
              "      box-shadow: 0px 1px 2px rgba(60, 64, 67, 0.3), 0px 1px 3px 1px rgba(60, 64, 67, 0.15);\n",
              "      fill: #174EA6;\n",
              "    }\n",
              "\n",
              "    [theme=dark] .colab-df-convert {\n",
              "      background-color: #3B4455;\n",
              "      fill: #D2E3FC;\n",
              "    }\n",
              "\n",
              "    [theme=dark] .colab-df-convert:hover {\n",
              "      background-color: #434B5C;\n",
              "      box-shadow: 0px 1px 3px 1px rgba(0, 0, 0, 0.15);\n",
              "      filter: drop-shadow(0px 1px 2px rgba(0, 0, 0, 0.3));\n",
              "      fill: #FFFFFF;\n",
              "    }\n",
              "  </style>\n",
              "\n",
              "      <script>\n",
              "        const buttonEl =\n",
              "          document.querySelector('#df-e6d7a45e-76f2-4372-862f-588793564a2b button.colab-df-convert');\n",
              "        buttonEl.style.display =\n",
              "          google.colab.kernel.accessAllowed ? 'block' : 'none';\n",
              "\n",
              "        async function convertToInteractive(key) {\n",
              "          const element = document.querySelector('#df-e6d7a45e-76f2-4372-862f-588793564a2b');\n",
              "          const dataTable =\n",
              "            await google.colab.kernel.invokeFunction('convertToInteractive',\n",
              "                                                     [key], {});\n",
              "          if (!dataTable) return;\n",
              "\n",
              "          const docLinkHtml = 'Like what you see? Visit the ' +\n",
              "            '<a target=\"_blank\" href=https://colab.research.google.com/notebooks/data_table.ipynb>data table notebook</a>'\n",
              "            + ' to learn more about interactive tables.';\n",
              "          element.innerHTML = '';\n",
              "          dataTable['output_type'] = 'display_data';\n",
              "          await google.colab.output.renderOutput(dataTable, element);\n",
              "          const docLink = document.createElement('div');\n",
              "          docLink.innerHTML = docLinkHtml;\n",
              "          element.appendChild(docLink);\n",
              "        }\n",
              "      </script>\n",
              "    </div>\n",
              "  </div>\n",
              "  "
            ]
          },
          "metadata": {},
          "execution_count": 41
        }
      ]
    },
    {
      "cell_type": "markdown",
      "source": [
        "Let's use np.log1p which returns natural logarithm of 1+feature value"
      ],
      "metadata": {
        "id": "HjKwI9Nvhc4j"
      }
    },
    {
      "cell_type": "code",
      "source": [
        "transformer = FunctionTransformer(np.log1p, validate=True)\n",
        "wine_data_trasformed = transformer.transform(np.array(wine_data))\n",
        "pd.DataFrame(wine_data_trasformed, columns=wine_data.columns).describe().T"
      ],
      "metadata": {
        "id": "NU4LjhXJhkQv",
        "outputId": "a17b9a1a-f8ab-456e-daef-d51e4301f8f0",
        "colab": {
          "base_uri": "https://localhost:8080/",
          "height": 426
        }
      },
      "execution_count": 42,
      "outputs": [
        {
          "output_type": "execute_result",
          "data": {
            "text/plain": [
              "                       count      mean       std       min       25%  \\\n",
              "fixed acidity         1599.0  2.215842  0.178100  1.722767  2.091864   \n",
              "volatile acidity      1599.0  0.417173  0.114926  0.113329  0.329304   \n",
              "citric acid           1599.0  0.228147  0.152423  0.000000  0.086178   \n",
              "residual sugar        1599.0  1.218131  0.269969  0.641854  1.064711   \n",
              "chlorides             1599.0  0.083038  0.038991  0.011929  0.067659   \n",
              "free sulfur dioxide   1599.0  2.639013  0.623790  0.693147  2.079442   \n",
              "total sulfur dioxide  1599.0  3.634750  0.682575  1.945910  3.135494   \n",
              "density               1599.0  0.691519  0.000945  0.688170  0.690945   \n",
              "pH                    1599.0  1.460557  0.035760  1.319086  1.437463   \n",
              "sulphates             1599.0  0.501073  0.093731  0.285179  0.438255   \n",
              "alcohol               1599.0  2.431458  0.090434  2.240710  2.351375   \n",
              "quality               1599.0  1.885054  0.122749  1.386294  1.791759   \n",
              "\n",
              "                           50%       75%       max  \n",
              "fixed acidity         2.186051  2.322388  2.827314  \n",
              "volatile acidity      0.418710  0.494696  0.947789  \n",
              "citric acid           0.231112  0.350657  0.693147  \n",
              "residual sugar        1.163151  1.280934  2.803360  \n",
              "chlorides             0.076035  0.086178  0.476855  \n",
              "free sulfur dioxide   2.708050  3.091042  4.290459  \n",
              "total sulfur dioxide  3.663562  4.143135  5.669881  \n",
              "density               0.691521  0.692064  0.694990  \n",
              "pH                    1.460938  1.481605  1.611436  \n",
              "sulphates             0.482426  0.548121  1.098612  \n",
              "alcohol               2.415914  2.493205  2.766319  \n",
              "quality               1.945910  1.945910  2.197225  "
            ],
            "text/html": [
              "\n",
              "  <div id=\"df-8234654e-7c06-444d-86b0-4235704e6dd0\">\n",
              "    <div class=\"colab-df-container\">\n",
              "      <div>\n",
              "<style scoped>\n",
              "    .dataframe tbody tr th:only-of-type {\n",
              "        vertical-align: middle;\n",
              "    }\n",
              "\n",
              "    .dataframe tbody tr th {\n",
              "        vertical-align: top;\n",
              "    }\n",
              "\n",
              "    .dataframe thead th {\n",
              "        text-align: right;\n",
              "    }\n",
              "</style>\n",
              "<table border=\"1\" class=\"dataframe\">\n",
              "  <thead>\n",
              "    <tr style=\"text-align: right;\">\n",
              "      <th></th>\n",
              "      <th>count</th>\n",
              "      <th>mean</th>\n",
              "      <th>std</th>\n",
              "      <th>min</th>\n",
              "      <th>25%</th>\n",
              "      <th>50%</th>\n",
              "      <th>75%</th>\n",
              "      <th>max</th>\n",
              "    </tr>\n",
              "  </thead>\n",
              "  <tbody>\n",
              "    <tr>\n",
              "      <th>fixed acidity</th>\n",
              "      <td>1599.0</td>\n",
              "      <td>2.215842</td>\n",
              "      <td>0.178100</td>\n",
              "      <td>1.722767</td>\n",
              "      <td>2.091864</td>\n",
              "      <td>2.186051</td>\n",
              "      <td>2.322388</td>\n",
              "      <td>2.827314</td>\n",
              "    </tr>\n",
              "    <tr>\n",
              "      <th>volatile acidity</th>\n",
              "      <td>1599.0</td>\n",
              "      <td>0.417173</td>\n",
              "      <td>0.114926</td>\n",
              "      <td>0.113329</td>\n",
              "      <td>0.329304</td>\n",
              "      <td>0.418710</td>\n",
              "      <td>0.494696</td>\n",
              "      <td>0.947789</td>\n",
              "    </tr>\n",
              "    <tr>\n",
              "      <th>citric acid</th>\n",
              "      <td>1599.0</td>\n",
              "      <td>0.228147</td>\n",
              "      <td>0.152423</td>\n",
              "      <td>0.000000</td>\n",
              "      <td>0.086178</td>\n",
              "      <td>0.231112</td>\n",
              "      <td>0.350657</td>\n",
              "      <td>0.693147</td>\n",
              "    </tr>\n",
              "    <tr>\n",
              "      <th>residual sugar</th>\n",
              "      <td>1599.0</td>\n",
              "      <td>1.218131</td>\n",
              "      <td>0.269969</td>\n",
              "      <td>0.641854</td>\n",
              "      <td>1.064711</td>\n",
              "      <td>1.163151</td>\n",
              "      <td>1.280934</td>\n",
              "      <td>2.803360</td>\n",
              "    </tr>\n",
              "    <tr>\n",
              "      <th>chlorides</th>\n",
              "      <td>1599.0</td>\n",
              "      <td>0.083038</td>\n",
              "      <td>0.038991</td>\n",
              "      <td>0.011929</td>\n",
              "      <td>0.067659</td>\n",
              "      <td>0.076035</td>\n",
              "      <td>0.086178</td>\n",
              "      <td>0.476855</td>\n",
              "    </tr>\n",
              "    <tr>\n",
              "      <th>free sulfur dioxide</th>\n",
              "      <td>1599.0</td>\n",
              "      <td>2.639013</td>\n",
              "      <td>0.623790</td>\n",
              "      <td>0.693147</td>\n",
              "      <td>2.079442</td>\n",
              "      <td>2.708050</td>\n",
              "      <td>3.091042</td>\n",
              "      <td>4.290459</td>\n",
              "    </tr>\n",
              "    <tr>\n",
              "      <th>total sulfur dioxide</th>\n",
              "      <td>1599.0</td>\n",
              "      <td>3.634750</td>\n",
              "      <td>0.682575</td>\n",
              "      <td>1.945910</td>\n",
              "      <td>3.135494</td>\n",
              "      <td>3.663562</td>\n",
              "      <td>4.143135</td>\n",
              "      <td>5.669881</td>\n",
              "    </tr>\n",
              "    <tr>\n",
              "      <th>density</th>\n",
              "      <td>1599.0</td>\n",
              "      <td>0.691519</td>\n",
              "      <td>0.000945</td>\n",
              "      <td>0.688170</td>\n",
              "      <td>0.690945</td>\n",
              "      <td>0.691521</td>\n",
              "      <td>0.692064</td>\n",
              "      <td>0.694990</td>\n",
              "    </tr>\n",
              "    <tr>\n",
              "      <th>pH</th>\n",
              "      <td>1599.0</td>\n",
              "      <td>1.460557</td>\n",
              "      <td>0.035760</td>\n",
              "      <td>1.319086</td>\n",
              "      <td>1.437463</td>\n",
              "      <td>1.460938</td>\n",
              "      <td>1.481605</td>\n",
              "      <td>1.611436</td>\n",
              "    </tr>\n",
              "    <tr>\n",
              "      <th>sulphates</th>\n",
              "      <td>1599.0</td>\n",
              "      <td>0.501073</td>\n",
              "      <td>0.093731</td>\n",
              "      <td>0.285179</td>\n",
              "      <td>0.438255</td>\n",
              "      <td>0.482426</td>\n",
              "      <td>0.548121</td>\n",
              "      <td>1.098612</td>\n",
              "    </tr>\n",
              "    <tr>\n",
              "      <th>alcohol</th>\n",
              "      <td>1599.0</td>\n",
              "      <td>2.431458</td>\n",
              "      <td>0.090434</td>\n",
              "      <td>2.240710</td>\n",
              "      <td>2.351375</td>\n",
              "      <td>2.415914</td>\n",
              "      <td>2.493205</td>\n",
              "      <td>2.766319</td>\n",
              "    </tr>\n",
              "    <tr>\n",
              "      <th>quality</th>\n",
              "      <td>1599.0</td>\n",
              "      <td>1.885054</td>\n",
              "      <td>0.122749</td>\n",
              "      <td>1.386294</td>\n",
              "      <td>1.791759</td>\n",
              "      <td>1.945910</td>\n",
              "      <td>1.945910</td>\n",
              "      <td>2.197225</td>\n",
              "    </tr>\n",
              "  </tbody>\n",
              "</table>\n",
              "</div>\n",
              "      <button class=\"colab-df-convert\" onclick=\"convertToInteractive('df-8234654e-7c06-444d-86b0-4235704e6dd0')\"\n",
              "              title=\"Convert this dataframe to an interactive table.\"\n",
              "              style=\"display:none;\">\n",
              "        \n",
              "  <svg xmlns=\"http://www.w3.org/2000/svg\" height=\"24px\"viewBox=\"0 0 24 24\"\n",
              "       width=\"24px\">\n",
              "    <path d=\"M0 0h24v24H0V0z\" fill=\"none\"/>\n",
              "    <path d=\"M18.56 5.44l.94 2.06.94-2.06 2.06-.94-2.06-.94-.94-2.06-.94 2.06-2.06.94zm-11 1L8.5 8.5l.94-2.06 2.06-.94-2.06-.94L8.5 2.5l-.94 2.06-2.06.94zm10 10l.94 2.06.94-2.06 2.06-.94-2.06-.94-.94-2.06-.94 2.06-2.06.94z\"/><path d=\"M17.41 7.96l-1.37-1.37c-.4-.4-.92-.59-1.43-.59-.52 0-1.04.2-1.43.59L10.3 9.45l-7.72 7.72c-.78.78-.78 2.05 0 2.83L4 21.41c.39.39.9.59 1.41.59.51 0 1.02-.2 1.41-.59l7.78-7.78 2.81-2.81c.8-.78.8-2.07 0-2.86zM5.41 20L4 18.59l7.72-7.72 1.47 1.35L5.41 20z\"/>\n",
              "  </svg>\n",
              "      </button>\n",
              "      \n",
              "  <style>\n",
              "    .colab-df-container {\n",
              "      display:flex;\n",
              "      flex-wrap:wrap;\n",
              "      gap: 12px;\n",
              "    }\n",
              "\n",
              "    .colab-df-convert {\n",
              "      background-color: #E8F0FE;\n",
              "      border: none;\n",
              "      border-radius: 50%;\n",
              "      cursor: pointer;\n",
              "      display: none;\n",
              "      fill: #1967D2;\n",
              "      height: 32px;\n",
              "      padding: 0 0 0 0;\n",
              "      width: 32px;\n",
              "    }\n",
              "\n",
              "    .colab-df-convert:hover {\n",
              "      background-color: #E2EBFA;\n",
              "      box-shadow: 0px 1px 2px rgba(60, 64, 67, 0.3), 0px 1px 3px 1px rgba(60, 64, 67, 0.15);\n",
              "      fill: #174EA6;\n",
              "    }\n",
              "\n",
              "    [theme=dark] .colab-df-convert {\n",
              "      background-color: #3B4455;\n",
              "      fill: #D2E3FC;\n",
              "    }\n",
              "\n",
              "    [theme=dark] .colab-df-convert:hover {\n",
              "      background-color: #434B5C;\n",
              "      box-shadow: 0px 1px 3px 1px rgba(0, 0, 0, 0.15);\n",
              "      filter: drop-shadow(0px 1px 2px rgba(0, 0, 0, 0.3));\n",
              "      fill: #FFFFFF;\n",
              "    }\n",
              "  </style>\n",
              "\n",
              "      <script>\n",
              "        const buttonEl =\n",
              "          document.querySelector('#df-8234654e-7c06-444d-86b0-4235704e6dd0 button.colab-df-convert');\n",
              "        buttonEl.style.display =\n",
              "          google.colab.kernel.accessAllowed ? 'block' : 'none';\n",
              "\n",
              "        async function convertToInteractive(key) {\n",
              "          const element = document.querySelector('#df-8234654e-7c06-444d-86b0-4235704e6dd0');\n",
              "          const dataTable =\n",
              "            await google.colab.kernel.invokeFunction('convertToInteractive',\n",
              "                                                     [key], {});\n",
              "          if (!dataTable) return;\n",
              "\n",
              "          const docLinkHtml = 'Like what you see? Visit the ' +\n",
              "            '<a target=\"_blank\" href=https://colab.research.google.com/notebooks/data_table.ipynb>data table notebook</a>'\n",
              "            + ' to learn more about interactive tables.';\n",
              "          element.innerHTML = '';\n",
              "          dataTable['output_type'] = 'display_data';\n",
              "          await google.colab.output.renderOutput(dataTable, element);\n",
              "          const docLink = document.createElement('div');\n",
              "          docLink.innerHTML = docLinkHtml;\n",
              "          element.appendChild(docLink);\n",
              "        }\n",
              "      </script>\n",
              "    </div>\n",
              "  </div>\n",
              "  "
            ]
          },
          "metadata": {},
          "execution_count": 42
        }
      ]
    },
    {
      "cell_type": "markdown",
      "source": [
        "# **6. Polynomial Features**\n"
      ],
      "metadata": {
        "id": "N3FHYFcLh7dv"
      }
    },
    {
      "cell_type": "markdown",
      "source": [
        "Generate a new feature consisting of all polynomial combinations of the features with degree less than or equal to the specified degree.\n",
        "\n",
        "* For example, if an input sample is two dimensional and of the form [a,b], the degree-2 polynomial features are $[1,a,b,a^2 ,ab,b^2]$\n",
        "\n",
        "\n",
        "\n"
      ],
      "metadata": {
        "id": "xmyeEBdiUJ_J"
      }
    },
    {
      "cell_type": "code",
      "source": [
        "from sklearn.preprocessing import PolynomialFeatures\n",
        "\n",
        "wine_data = pd.read_csv('https://archive.ics.uci.edu/ml/machine-learning-databases/wine-quality/winequality-red.csv',sep=';')\n",
        "wine_data_copy = wine_data.copy()\n",
        "wine_data = wine_data.drop(['quality'],axis=1)\n",
        "print(wine_data.shape)\n",
        "\n",
        "poly = PolynomialFeatures(degree=2)\n",
        "poly_wine_data = poly.fit_transform(wine_data)\n",
        "print(poly_wine_data.shape)"
      ],
      "metadata": {
        "id": "dvlu0yBijRDu",
        "outputId": "f3146b53-113d-46b1-8e7c-ba79d3de0245",
        "colab": {
          "base_uri": "https://localhost:8080/"
        }
      },
      "execution_count": 43,
      "outputs": [
        {
          "output_type": "stream",
          "name": "stdout",
          "text": [
            "(1599, 11)\n",
            "(1599, 78)\n"
          ]
        }
      ]
    },
    {
      "cell_type": "markdown",
      "source": [
        "After transformation we have 78 features, let's list them out"
      ],
      "metadata": {
        "id": "TKym5rL9j4iz"
      }
    },
    {
      "cell_type": "code",
      "source": [
        "poly.get_feature_names_out()"
      ],
      "metadata": {
        "id": "LlYpmOEZj8d4",
        "outputId": "339422c6-88da-4f22-ef7c-de1eb752408f",
        "colab": {
          "base_uri": "https://localhost:8080/"
        }
      },
      "execution_count": 44,
      "outputs": [
        {
          "output_type": "execute_result",
          "data": {
            "text/plain": [
              "array(['1', 'fixed acidity', 'volatile acidity', 'citric acid',\n",
              "       'residual sugar', 'chlorides', 'free sulfur dioxide',\n",
              "       'total sulfur dioxide', 'density', 'pH', 'sulphates', 'alcohol',\n",
              "       'fixed acidity^2', 'fixed acidity volatile acidity',\n",
              "       'fixed acidity citric acid', 'fixed acidity residual sugar',\n",
              "       'fixed acidity chlorides', 'fixed acidity free sulfur dioxide',\n",
              "       'fixed acidity total sulfur dioxide', 'fixed acidity density',\n",
              "       'fixed acidity pH', 'fixed acidity sulphates',\n",
              "       'fixed acidity alcohol', 'volatile acidity^2',\n",
              "       'volatile acidity citric acid', 'volatile acidity residual sugar',\n",
              "       'volatile acidity chlorides',\n",
              "       'volatile acidity free sulfur dioxide',\n",
              "       'volatile acidity total sulfur dioxide',\n",
              "       'volatile acidity density', 'volatile acidity pH',\n",
              "       'volatile acidity sulphates', 'volatile acidity alcohol',\n",
              "       'citric acid^2', 'citric acid residual sugar',\n",
              "       'citric acid chlorides', 'citric acid free sulfur dioxide',\n",
              "       'citric acid total sulfur dioxide', 'citric acid density',\n",
              "       'citric acid pH', 'citric acid sulphates', 'citric acid alcohol',\n",
              "       'residual sugar^2', 'residual sugar chlorides',\n",
              "       'residual sugar free sulfur dioxide',\n",
              "       'residual sugar total sulfur dioxide', 'residual sugar density',\n",
              "       'residual sugar pH', 'residual sugar sulphates',\n",
              "       'residual sugar alcohol', 'chlorides^2',\n",
              "       'chlorides free sulfur dioxide', 'chlorides total sulfur dioxide',\n",
              "       'chlorides density', 'chlorides pH', 'chlorides sulphates',\n",
              "       'chlorides alcohol', 'free sulfur dioxide^2',\n",
              "       'free sulfur dioxide total sulfur dioxide',\n",
              "       'free sulfur dioxide density', 'free sulfur dioxide pH',\n",
              "       'free sulfur dioxide sulphates', 'free sulfur dioxide alcohol',\n",
              "       'total sulfur dioxide^2', 'total sulfur dioxide density',\n",
              "       'total sulfur dioxide pH', 'total sulfur dioxide sulphates',\n",
              "       'total sulfur dioxide alcohol', 'density^2', 'density pH',\n",
              "       'density sulphates', 'density alcohol', 'pH^2', 'pH sulphates',\n",
              "       'pH alcohol', 'sulphates^2', 'sulphates alcohol', 'alcohol^2'],\n",
              "      dtype=object)"
            ]
          },
          "metadata": {},
          "execution_count": 44
        }
      ]
    },
    {
      "cell_type": "markdown",
      "source": [
        "# **7. Discretization**\n",
        "\n",
        "Discretization/quantization/binning provides a way to partition continuous features into discrete values."
      ],
      "metadata": {
        "id": "X1o_JxQukDpQ"
      }
    },
    {
      "cell_type": "code",
      "source": [
        "from sklearn.preprocessing import KBinsDiscretizer"
      ],
      "metadata": {
        "id": "Zs-EOrn7kZEE"
      },
      "execution_count": 45,
      "outputs": []
    },
    {
      "cell_type": "markdown",
      "source": [
        "Let us demonstrate KBinsDiscretizer using wine quality dataset."
      ],
      "metadata": {
        "id": "J5WTyPZAkdpV"
      }
    },
    {
      "cell_type": "code",
      "source": [
        "wine_data = wine_data_copy.copy()\n",
        "\n",
        "enc = KBinsDiscretizer(n_bins=10, encode='onehot')\n",
        "X=np.array(wine_data['chlorides']).reshape(-1,1)\n",
        "X_binned = enc.fit_transform(X)\n",
        "X_binned"
      ],
      "metadata": {
        "id": "A8PdveH1kjIm",
        "outputId": "2a47e5f7-9bb7-4c1b-a92c-29c81202cdca",
        "colab": {
          "base_uri": "https://localhost:8080/"
        }
      },
      "execution_count": 46,
      "outputs": [
        {
          "output_type": "execute_result",
          "data": {
            "text/plain": [
              "<1599x10 sparse matrix of type '<class 'numpy.float64'>'\n",
              "\twith 1599 stored elements in Compressed Sparse Row format>"
            ]
          },
          "metadata": {},
          "execution_count": 46
        }
      ]
    },
    {
      "cell_type": "code",
      "source": [
        "X_binned.toarray()"
      ],
      "metadata": {
        "id": "Qd6PnUG8qeuu",
        "outputId": "dd11f12d-54ce-446c-8eef-711e26c19254",
        "colab": {
          "base_uri": "https://localhost:8080/"
        }
      },
      "execution_count": 47,
      "outputs": [
        {
          "output_type": "execute_result",
          "data": {
            "text/plain": [
              "array([[0., 0., 0., ..., 0., 0., 0.],\n",
              "       [0., 0., 0., ..., 0., 1., 0.],\n",
              "       [0., 0., 0., ..., 1., 0., 0.],\n",
              "       ...,\n",
              "       [0., 0., 0., ..., 0., 0., 0.],\n",
              "       [0., 0., 0., ..., 0., 0., 0.],\n",
              "       [0., 0., 1., ..., 0., 0., 0.]])"
            ]
          },
          "metadata": {},
          "execution_count": 47
        }
      ]
    },
    {
      "cell_type": "markdown",
      "source": [
        "# **8. Handling Categorical Features**"
      ],
      "metadata": {
        "id": "_sxKpfZ0qpN3"
      }
    },
    {
      "cell_type": "markdown",
      "source": [
        "## Ordinal, one-hot and label encoder\n",
        "\n",
        "We need to convert the categorical features into numerical features\n",
        "\n",
        "1. Ordinal encoding\n",
        "2. One-Hot encoding\n",
        "3. Label encoder\n",
        "4. Using dummy variables"
      ],
      "metadata": {
        "id": "yNYKt-Ov3Yj6"
      }
    },
    {
      "cell_type": "code",
      "source": [
        "from sklearn.preprocessing import OneHotEncoder\n",
        "from sklearn.preprocessing import OrdinalEncoder\n",
        "from sklearn.preprocessing import LabelEncoder\n",
        "from sklearn.preprocessing import MultiLabelBinarizer\n",
        "\n",
        "#data\n",
        "cols = ['sepal length','sepal width','petal length','petal width','label']\n",
        "iris_data = pd.read_csv('https://archive.ics.uci.edu/ml/machine-learning-databases/iris/iris.data',header=None, names=cols)\n",
        "iris_labels = np.array(iris_data['label'])\n",
        "movie_genres = [{'action','comedy'},{'comedy'},{'action','thriller'},{'science-fiction','action','thriller'}]\n",
        "\n",
        "#One hot encoding\n",
        "ohe = OneHotEncoder(categories='auto')\n",
        "iris_ohe = ohe.fit_transform(iris_data.label.values.reshape(-1,1))\n",
        "print('One Hot Encoding')\n",
        "print(iris_ohe.toarray())\n",
        "\n",
        "#Ordinal encoding\n",
        "oe = OrdinalEncoder()\n",
        "iris_labels_transformed = oe.fit_transform(iris_labels.reshape(-1,1))\n",
        "print('Ordinal Encoding')\n",
        "print(np.unique(iris_labels_transformed))\n",
        "print(iris_labels_transformed)\n",
        "\n",
        "#Label encoding\n",
        "le = LabelEncoder()\n",
        "label_integer = le.fit_transform(iris_labels)\n",
        "print('Label Encoding')\n",
        "print(label_integer)\n",
        "\n",
        "#Multilabel binarizer\n",
        "mlb = MultiLabelBinarizer()\n",
        "print('Multi Label Encoding')\n",
        "print(mlb.fit_transform(movie_genres))"
      ],
      "metadata": {
        "id": "l3YOKOmrrVBP",
        "outputId": "2d0dc9e1-c033-4245-a0c8-0c6e26df6c82",
        "colab": {
          "base_uri": "https://localhost:8080/"
        }
      },
      "execution_count": 48,
      "outputs": [
        {
          "output_type": "stream",
          "name": "stdout",
          "text": [
            "One Hot Encoding\n",
            "[[1. 0. 0.]\n",
            " [1. 0. 0.]\n",
            " [1. 0. 0.]\n",
            " [1. 0. 0.]\n",
            " [1. 0. 0.]\n",
            " [1. 0. 0.]\n",
            " [1. 0. 0.]\n",
            " [1. 0. 0.]\n",
            " [1. 0. 0.]\n",
            " [1. 0. 0.]\n",
            " [1. 0. 0.]\n",
            " [1. 0. 0.]\n",
            " [1. 0. 0.]\n",
            " [1. 0. 0.]\n",
            " [1. 0. 0.]\n",
            " [1. 0. 0.]\n",
            " [1. 0. 0.]\n",
            " [1. 0. 0.]\n",
            " [1. 0. 0.]\n",
            " [1. 0. 0.]\n",
            " [1. 0. 0.]\n",
            " [1. 0. 0.]\n",
            " [1. 0. 0.]\n",
            " [1. 0. 0.]\n",
            " [1. 0. 0.]\n",
            " [1. 0. 0.]\n",
            " [1. 0. 0.]\n",
            " [1. 0. 0.]\n",
            " [1. 0. 0.]\n",
            " [1. 0. 0.]\n",
            " [1. 0. 0.]\n",
            " [1. 0. 0.]\n",
            " [1. 0. 0.]\n",
            " [1. 0. 0.]\n",
            " [1. 0. 0.]\n",
            " [1. 0. 0.]\n",
            " [1. 0. 0.]\n",
            " [1. 0. 0.]\n",
            " [1. 0. 0.]\n",
            " [1. 0. 0.]\n",
            " [1. 0. 0.]\n",
            " [1. 0. 0.]\n",
            " [1. 0. 0.]\n",
            " [1. 0. 0.]\n",
            " [1. 0. 0.]\n",
            " [1. 0. 0.]\n",
            " [1. 0. 0.]\n",
            " [1. 0. 0.]\n",
            " [1. 0. 0.]\n",
            " [1. 0. 0.]\n",
            " [0. 1. 0.]\n",
            " [0. 1. 0.]\n",
            " [0. 1. 0.]\n",
            " [0. 1. 0.]\n",
            " [0. 1. 0.]\n",
            " [0. 1. 0.]\n",
            " [0. 1. 0.]\n",
            " [0. 1. 0.]\n",
            " [0. 1. 0.]\n",
            " [0. 1. 0.]\n",
            " [0. 1. 0.]\n",
            " [0. 1. 0.]\n",
            " [0. 1. 0.]\n",
            " [0. 1. 0.]\n",
            " [0. 1. 0.]\n",
            " [0. 1. 0.]\n",
            " [0. 1. 0.]\n",
            " [0. 1. 0.]\n",
            " [0. 1. 0.]\n",
            " [0. 1. 0.]\n",
            " [0. 1. 0.]\n",
            " [0. 1. 0.]\n",
            " [0. 1. 0.]\n",
            " [0. 1. 0.]\n",
            " [0. 1. 0.]\n",
            " [0. 1. 0.]\n",
            " [0. 1. 0.]\n",
            " [0. 1. 0.]\n",
            " [0. 1. 0.]\n",
            " [0. 1. 0.]\n",
            " [0. 1. 0.]\n",
            " [0. 1. 0.]\n",
            " [0. 1. 0.]\n",
            " [0. 1. 0.]\n",
            " [0. 1. 0.]\n",
            " [0. 1. 0.]\n",
            " [0. 1. 0.]\n",
            " [0. 1. 0.]\n",
            " [0. 1. 0.]\n",
            " [0. 1. 0.]\n",
            " [0. 1. 0.]\n",
            " [0. 1. 0.]\n",
            " [0. 1. 0.]\n",
            " [0. 1. 0.]\n",
            " [0. 1. 0.]\n",
            " [0. 1. 0.]\n",
            " [0. 1. 0.]\n",
            " [0. 1. 0.]\n",
            " [0. 1. 0.]\n",
            " [0. 1. 0.]\n",
            " [0. 0. 1.]\n",
            " [0. 0. 1.]\n",
            " [0. 0. 1.]\n",
            " [0. 0. 1.]\n",
            " [0. 0. 1.]\n",
            " [0. 0. 1.]\n",
            " [0. 0. 1.]\n",
            " [0. 0. 1.]\n",
            " [0. 0. 1.]\n",
            " [0. 0. 1.]\n",
            " [0. 0. 1.]\n",
            " [0. 0. 1.]\n",
            " [0. 0. 1.]\n",
            " [0. 0. 1.]\n",
            " [0. 0. 1.]\n",
            " [0. 0. 1.]\n",
            " [0. 0. 1.]\n",
            " [0. 0. 1.]\n",
            " [0. 0. 1.]\n",
            " [0. 0. 1.]\n",
            " [0. 0. 1.]\n",
            " [0. 0. 1.]\n",
            " [0. 0. 1.]\n",
            " [0. 0. 1.]\n",
            " [0. 0. 1.]\n",
            " [0. 0. 1.]\n",
            " [0. 0. 1.]\n",
            " [0. 0. 1.]\n",
            " [0. 0. 1.]\n",
            " [0. 0. 1.]\n",
            " [0. 0. 1.]\n",
            " [0. 0. 1.]\n",
            " [0. 0. 1.]\n",
            " [0. 0. 1.]\n",
            " [0. 0. 1.]\n",
            " [0. 0. 1.]\n",
            " [0. 0. 1.]\n",
            " [0. 0. 1.]\n",
            " [0. 0. 1.]\n",
            " [0. 0. 1.]\n",
            " [0. 0. 1.]\n",
            " [0. 0. 1.]\n",
            " [0. 0. 1.]\n",
            " [0. 0. 1.]\n",
            " [0. 0. 1.]\n",
            " [0. 0. 1.]\n",
            " [0. 0. 1.]\n",
            " [0. 0. 1.]\n",
            " [0. 0. 1.]\n",
            " [0. 0. 1.]]\n",
            "Ordinal Encoding\n",
            "[0. 1. 2.]\n",
            "[[0.]\n",
            " [0.]\n",
            " [0.]\n",
            " [0.]\n",
            " [0.]\n",
            " [0.]\n",
            " [0.]\n",
            " [0.]\n",
            " [0.]\n",
            " [0.]\n",
            " [0.]\n",
            " [0.]\n",
            " [0.]\n",
            " [0.]\n",
            " [0.]\n",
            " [0.]\n",
            " [0.]\n",
            " [0.]\n",
            " [0.]\n",
            " [0.]\n",
            " [0.]\n",
            " [0.]\n",
            " [0.]\n",
            " [0.]\n",
            " [0.]\n",
            " [0.]\n",
            " [0.]\n",
            " [0.]\n",
            " [0.]\n",
            " [0.]\n",
            " [0.]\n",
            " [0.]\n",
            " [0.]\n",
            " [0.]\n",
            " [0.]\n",
            " [0.]\n",
            " [0.]\n",
            " [0.]\n",
            " [0.]\n",
            " [0.]\n",
            " [0.]\n",
            " [0.]\n",
            " [0.]\n",
            " [0.]\n",
            " [0.]\n",
            " [0.]\n",
            " [0.]\n",
            " [0.]\n",
            " [0.]\n",
            " [0.]\n",
            " [1.]\n",
            " [1.]\n",
            " [1.]\n",
            " [1.]\n",
            " [1.]\n",
            " [1.]\n",
            " [1.]\n",
            " [1.]\n",
            " [1.]\n",
            " [1.]\n",
            " [1.]\n",
            " [1.]\n",
            " [1.]\n",
            " [1.]\n",
            " [1.]\n",
            " [1.]\n",
            " [1.]\n",
            " [1.]\n",
            " [1.]\n",
            " [1.]\n",
            " [1.]\n",
            " [1.]\n",
            " [1.]\n",
            " [1.]\n",
            " [1.]\n",
            " [1.]\n",
            " [1.]\n",
            " [1.]\n",
            " [1.]\n",
            " [1.]\n",
            " [1.]\n",
            " [1.]\n",
            " [1.]\n",
            " [1.]\n",
            " [1.]\n",
            " [1.]\n",
            " [1.]\n",
            " [1.]\n",
            " [1.]\n",
            " [1.]\n",
            " [1.]\n",
            " [1.]\n",
            " [1.]\n",
            " [1.]\n",
            " [1.]\n",
            " [1.]\n",
            " [1.]\n",
            " [1.]\n",
            " [1.]\n",
            " [1.]\n",
            " [2.]\n",
            " [2.]\n",
            " [2.]\n",
            " [2.]\n",
            " [2.]\n",
            " [2.]\n",
            " [2.]\n",
            " [2.]\n",
            " [2.]\n",
            " [2.]\n",
            " [2.]\n",
            " [2.]\n",
            " [2.]\n",
            " [2.]\n",
            " [2.]\n",
            " [2.]\n",
            " [2.]\n",
            " [2.]\n",
            " [2.]\n",
            " [2.]\n",
            " [2.]\n",
            " [2.]\n",
            " [2.]\n",
            " [2.]\n",
            " [2.]\n",
            " [2.]\n",
            " [2.]\n",
            " [2.]\n",
            " [2.]\n",
            " [2.]\n",
            " [2.]\n",
            " [2.]\n",
            " [2.]\n",
            " [2.]\n",
            " [2.]\n",
            " [2.]\n",
            " [2.]\n",
            " [2.]\n",
            " [2.]\n",
            " [2.]\n",
            " [2.]\n",
            " [2.]\n",
            " [2.]\n",
            " [2.]\n",
            " [2.]\n",
            " [2.]\n",
            " [2.]\n",
            " [2.]\n",
            " [2.]\n",
            " [2.]]\n",
            "Label Encoding\n",
            "[0 0 0 0 0 0 0 0 0 0 0 0 0 0 0 0 0 0 0 0 0 0 0 0 0 0 0 0 0 0 0 0 0 0 0 0 0\n",
            " 0 0 0 0 0 0 0 0 0 0 0 0 0 1 1 1 1 1 1 1 1 1 1 1 1 1 1 1 1 1 1 1 1 1 1 1 1\n",
            " 1 1 1 1 1 1 1 1 1 1 1 1 1 1 1 1 1 1 1 1 1 1 1 1 1 1 2 2 2 2 2 2 2 2 2 2 2\n",
            " 2 2 2 2 2 2 2 2 2 2 2 2 2 2 2 2 2 2 2 2 2 2 2 2 2 2 2 2 2 2 2 2 2 2 2 2 2\n",
            " 2 2]\n",
            "Multi Label Encoding\n",
            "[[1 1 0 0]\n",
            " [0 1 0 0]\n",
            " [1 0 0 1]\n",
            " [1 0 1 1]]\n"
          ]
        }
      ]
    },
    {
      "cell_type": "markdown",
      "source": [
        "## Using dummy variables"
      ],
      "metadata": {
        "id": "YEo5I_o-utFO"
      }
    },
    {
      "cell_type": "code",
      "source": [
        "iris_data_onehot = pd.get_dummies(iris_data, columns=['label'],prefix=['one_hot'])\n",
        "iris_data_onehot"
      ],
      "metadata": {
        "id": "q8MF3rl6uwC_",
        "outputId": "edc6ea3f-17fd-4706-d1b4-7735299e44ba",
        "colab": {
          "base_uri": "https://localhost:8080/",
          "height": 424
        }
      },
      "execution_count": 49,
      "outputs": [
        {
          "output_type": "execute_result",
          "data": {
            "text/plain": [
              "     sepal length  sepal width  petal length  petal width  \\\n",
              "0             5.1          3.5           1.4          0.2   \n",
              "1             4.9          3.0           1.4          0.2   \n",
              "2             4.7          3.2           1.3          0.2   \n",
              "3             4.6          3.1           1.5          0.2   \n",
              "4             5.0          3.6           1.4          0.2   \n",
              "..            ...          ...           ...          ...   \n",
              "145           6.7          3.0           5.2          2.3   \n",
              "146           6.3          2.5           5.0          1.9   \n",
              "147           6.5          3.0           5.2          2.0   \n",
              "148           6.2          3.4           5.4          2.3   \n",
              "149           5.9          3.0           5.1          1.8   \n",
              "\n",
              "     one_hot_Iris-setosa  one_hot_Iris-versicolor  one_hot_Iris-virginica  \n",
              "0                      1                        0                       0  \n",
              "1                      1                        0                       0  \n",
              "2                      1                        0                       0  \n",
              "3                      1                        0                       0  \n",
              "4                      1                        0                       0  \n",
              "..                   ...                      ...                     ...  \n",
              "145                    0                        0                       1  \n",
              "146                    0                        0                       1  \n",
              "147                    0                        0                       1  \n",
              "148                    0                        0                       1  \n",
              "149                    0                        0                       1  \n",
              "\n",
              "[150 rows x 7 columns]"
            ],
            "text/html": [
              "\n",
              "  <div id=\"df-8abef465-6090-463e-90fb-b5a038c09725\">\n",
              "    <div class=\"colab-df-container\">\n",
              "      <div>\n",
              "<style scoped>\n",
              "    .dataframe tbody tr th:only-of-type {\n",
              "        vertical-align: middle;\n",
              "    }\n",
              "\n",
              "    .dataframe tbody tr th {\n",
              "        vertical-align: top;\n",
              "    }\n",
              "\n",
              "    .dataframe thead th {\n",
              "        text-align: right;\n",
              "    }\n",
              "</style>\n",
              "<table border=\"1\" class=\"dataframe\">\n",
              "  <thead>\n",
              "    <tr style=\"text-align: right;\">\n",
              "      <th></th>\n",
              "      <th>sepal length</th>\n",
              "      <th>sepal width</th>\n",
              "      <th>petal length</th>\n",
              "      <th>petal width</th>\n",
              "      <th>one_hot_Iris-setosa</th>\n",
              "      <th>one_hot_Iris-versicolor</th>\n",
              "      <th>one_hot_Iris-virginica</th>\n",
              "    </tr>\n",
              "  </thead>\n",
              "  <tbody>\n",
              "    <tr>\n",
              "      <th>0</th>\n",
              "      <td>5.1</td>\n",
              "      <td>3.5</td>\n",
              "      <td>1.4</td>\n",
              "      <td>0.2</td>\n",
              "      <td>1</td>\n",
              "      <td>0</td>\n",
              "      <td>0</td>\n",
              "    </tr>\n",
              "    <tr>\n",
              "      <th>1</th>\n",
              "      <td>4.9</td>\n",
              "      <td>3.0</td>\n",
              "      <td>1.4</td>\n",
              "      <td>0.2</td>\n",
              "      <td>1</td>\n",
              "      <td>0</td>\n",
              "      <td>0</td>\n",
              "    </tr>\n",
              "    <tr>\n",
              "      <th>2</th>\n",
              "      <td>4.7</td>\n",
              "      <td>3.2</td>\n",
              "      <td>1.3</td>\n",
              "      <td>0.2</td>\n",
              "      <td>1</td>\n",
              "      <td>0</td>\n",
              "      <td>0</td>\n",
              "    </tr>\n",
              "    <tr>\n",
              "      <th>3</th>\n",
              "      <td>4.6</td>\n",
              "      <td>3.1</td>\n",
              "      <td>1.5</td>\n",
              "      <td>0.2</td>\n",
              "      <td>1</td>\n",
              "      <td>0</td>\n",
              "      <td>0</td>\n",
              "    </tr>\n",
              "    <tr>\n",
              "      <th>4</th>\n",
              "      <td>5.0</td>\n",
              "      <td>3.6</td>\n",
              "      <td>1.4</td>\n",
              "      <td>0.2</td>\n",
              "      <td>1</td>\n",
              "      <td>0</td>\n",
              "      <td>0</td>\n",
              "    </tr>\n",
              "    <tr>\n",
              "      <th>...</th>\n",
              "      <td>...</td>\n",
              "      <td>...</td>\n",
              "      <td>...</td>\n",
              "      <td>...</td>\n",
              "      <td>...</td>\n",
              "      <td>...</td>\n",
              "      <td>...</td>\n",
              "    </tr>\n",
              "    <tr>\n",
              "      <th>145</th>\n",
              "      <td>6.7</td>\n",
              "      <td>3.0</td>\n",
              "      <td>5.2</td>\n",
              "      <td>2.3</td>\n",
              "      <td>0</td>\n",
              "      <td>0</td>\n",
              "      <td>1</td>\n",
              "    </tr>\n",
              "    <tr>\n",
              "      <th>146</th>\n",
              "      <td>6.3</td>\n",
              "      <td>2.5</td>\n",
              "      <td>5.0</td>\n",
              "      <td>1.9</td>\n",
              "      <td>0</td>\n",
              "      <td>0</td>\n",
              "      <td>1</td>\n",
              "    </tr>\n",
              "    <tr>\n",
              "      <th>147</th>\n",
              "      <td>6.5</td>\n",
              "      <td>3.0</td>\n",
              "      <td>5.2</td>\n",
              "      <td>2.0</td>\n",
              "      <td>0</td>\n",
              "      <td>0</td>\n",
              "      <td>1</td>\n",
              "    </tr>\n",
              "    <tr>\n",
              "      <th>148</th>\n",
              "      <td>6.2</td>\n",
              "      <td>3.4</td>\n",
              "      <td>5.4</td>\n",
              "      <td>2.3</td>\n",
              "      <td>0</td>\n",
              "      <td>0</td>\n",
              "      <td>1</td>\n",
              "    </tr>\n",
              "    <tr>\n",
              "      <th>149</th>\n",
              "      <td>5.9</td>\n",
              "      <td>3.0</td>\n",
              "      <td>5.1</td>\n",
              "      <td>1.8</td>\n",
              "      <td>0</td>\n",
              "      <td>0</td>\n",
              "      <td>1</td>\n",
              "    </tr>\n",
              "  </tbody>\n",
              "</table>\n",
              "<p>150 rows × 7 columns</p>\n",
              "</div>\n",
              "      <button class=\"colab-df-convert\" onclick=\"convertToInteractive('df-8abef465-6090-463e-90fb-b5a038c09725')\"\n",
              "              title=\"Convert this dataframe to an interactive table.\"\n",
              "              style=\"display:none;\">\n",
              "        \n",
              "  <svg xmlns=\"http://www.w3.org/2000/svg\" height=\"24px\"viewBox=\"0 0 24 24\"\n",
              "       width=\"24px\">\n",
              "    <path d=\"M0 0h24v24H0V0z\" fill=\"none\"/>\n",
              "    <path d=\"M18.56 5.44l.94 2.06.94-2.06 2.06-.94-2.06-.94-.94-2.06-.94 2.06-2.06.94zm-11 1L8.5 8.5l.94-2.06 2.06-.94-2.06-.94L8.5 2.5l-.94 2.06-2.06.94zm10 10l.94 2.06.94-2.06 2.06-.94-2.06-.94-.94-2.06-.94 2.06-2.06.94z\"/><path d=\"M17.41 7.96l-1.37-1.37c-.4-.4-.92-.59-1.43-.59-.52 0-1.04.2-1.43.59L10.3 9.45l-7.72 7.72c-.78.78-.78 2.05 0 2.83L4 21.41c.39.39.9.59 1.41.59.51 0 1.02-.2 1.41-.59l7.78-7.78 2.81-2.81c.8-.78.8-2.07 0-2.86zM5.41 20L4 18.59l7.72-7.72 1.47 1.35L5.41 20z\"/>\n",
              "  </svg>\n",
              "      </button>\n",
              "      \n",
              "  <style>\n",
              "    .colab-df-container {\n",
              "      display:flex;\n",
              "      flex-wrap:wrap;\n",
              "      gap: 12px;\n",
              "    }\n",
              "\n",
              "    .colab-df-convert {\n",
              "      background-color: #E8F0FE;\n",
              "      border: none;\n",
              "      border-radius: 50%;\n",
              "      cursor: pointer;\n",
              "      display: none;\n",
              "      fill: #1967D2;\n",
              "      height: 32px;\n",
              "      padding: 0 0 0 0;\n",
              "      width: 32px;\n",
              "    }\n",
              "\n",
              "    .colab-df-convert:hover {\n",
              "      background-color: #E2EBFA;\n",
              "      box-shadow: 0px 1px 2px rgba(60, 64, 67, 0.3), 0px 1px 3px 1px rgba(60, 64, 67, 0.15);\n",
              "      fill: #174EA6;\n",
              "    }\n",
              "\n",
              "    [theme=dark] .colab-df-convert {\n",
              "      background-color: #3B4455;\n",
              "      fill: #D2E3FC;\n",
              "    }\n",
              "\n",
              "    [theme=dark] .colab-df-convert:hover {\n",
              "      background-color: #434B5C;\n",
              "      box-shadow: 0px 1px 3px 1px rgba(0, 0, 0, 0.15);\n",
              "      filter: drop-shadow(0px 1px 2px rgba(0, 0, 0, 0.3));\n",
              "      fill: #FFFFFF;\n",
              "    }\n",
              "  </style>\n",
              "\n",
              "      <script>\n",
              "        const buttonEl =\n",
              "          document.querySelector('#df-8abef465-6090-463e-90fb-b5a038c09725 button.colab-df-convert');\n",
              "        buttonEl.style.display =\n",
              "          google.colab.kernel.accessAllowed ? 'block' : 'none';\n",
              "\n",
              "        async function convertToInteractive(key) {\n",
              "          const element = document.querySelector('#df-8abef465-6090-463e-90fb-b5a038c09725');\n",
              "          const dataTable =\n",
              "            await google.colab.kernel.invokeFunction('convertToInteractive',\n",
              "                                                     [key], {});\n",
              "          if (!dataTable) return;\n",
              "\n",
              "          const docLinkHtml = 'Like what you see? Visit the ' +\n",
              "            '<a target=\"_blank\" href=https://colab.research.google.com/notebooks/data_table.ipynb>data table notebook</a>'\n",
              "            + ' to learn more about interactive tables.';\n",
              "          element.innerHTML = '';\n",
              "          dataTable['output_type'] = 'display_data';\n",
              "          await google.colab.output.renderOutput(dataTable, element);\n",
              "          const docLink = document.createElement('div');\n",
              "          docLink.innerHTML = docLinkHtml;\n",
              "          element.appendChild(docLink);\n",
              "        }\n",
              "      </script>\n",
              "    </div>\n",
              "  </div>\n",
              "  "
            ]
          },
          "metadata": {},
          "execution_count": 49
        }
      ]
    },
    {
      "cell_type": "markdown",
      "source": [
        "# **9. Composite Transformers**"
      ],
      "metadata": {
        "id": "chzKerM6uvq0"
      }
    },
    {
      "cell_type": "markdown",
      "source": [
        "## ColumnTransformer\n",
        "\n",
        "It applies a set of transformers to columns of an array or pandas.DataFrame, concatanates the transformed outputs from different transformers into a single matrix.\n",
        "\n",
        "* It is useful for transforming heterogenous data by applying different transformers to separate subsets of features.\n",
        "* It combines different feature selection mechanisms and transformation into a single transformer object."
      ],
      "metadata": {
        "id": "Xyl93C1mvF-F"
      }
    },
    {
      "cell_type": "code",
      "source": [
        "x = [[20.0,'male'],\n",
        "     [11.0,'female'],\n",
        "     [15.6,'female'],\n",
        "     [13.0,'male'],\n",
        "     [18.6,'male'],\n",
        "     [16.4,'female']]\n",
        "x = np.array(x)"
      ],
      "metadata": {
        "id": "-61IhDJAvqL9"
      },
      "execution_count": 50,
      "outputs": []
    },
    {
      "cell_type": "code",
      "source": [
        "from sklearn.compose import ColumnTransformer\n",
        "from sklearn.preprocessing import MaxAbsScaler, OneHotEncoder\n",
        "\n",
        "ct = ColumnTransformer([('scaler',MaxAbsScaler(),[0]),\n",
        "                        ('pass','passthrough',[0]),\n",
        "                        ('encoder',OneHotEncoder(),[1])])\n",
        "ct.fit_transform(x)"
      ],
      "metadata": {
        "id": "CHKGMzKXwDDt",
        "outputId": "b1ddbe5e-9994-4149-ce97-2e379b58db5f",
        "colab": {
          "base_uri": "https://localhost:8080/"
        }
      },
      "execution_count": 51,
      "outputs": [
        {
          "output_type": "execute_result",
          "data": {
            "text/plain": [
              "array([['1.0', '20.0', '0.0', '1.0'],\n",
              "       ['0.55', '11.0', '1.0', '0.0'],\n",
              "       ['0.78', '15.6', '1.0', '0.0'],\n",
              "       ['0.65', '13.0', '0.0', '1.0'],\n",
              "       ['0.93', '18.6', '0.0', '1.0'],\n",
              "       ['0.82', '16.4', '1.0', '0.0']], dtype='<U32')"
            ]
          },
          "metadata": {},
          "execution_count": 51
        }
      ]
    },
    {
      "cell_type": "markdown",
      "source": [
        "## TransformedtargetRegressor"
      ],
      "metadata": {
        "id": "aoXWMmEgw1LB"
      }
    },
    {
      "cell_type": "code",
      "source": [
        "from sklearn.compose import TransformedTargetRegressor\n",
        "from sklearn.preprocessing import MaxAbsScaler\n",
        "from sklearn.linear_model import LinearRegression\n",
        "from sklearn.model_selection import train_test_split\n",
        "from sklearn.datasets import fetch_california_housing\n",
        "\n",
        "X,y = fetch_california_housing(return_X_y=True)\n",
        "X,y = X[:2000,:], y[:2000]\n",
        "\n",
        "transformer = MaxAbsScaler()\n",
        "\n",
        "regressor = LinearRegression()\n",
        "\n",
        "regr = TransformedTargetRegressor(regressor=regressor,transformer=transformer)\n",
        "\n",
        "X_train, X_test, y_train, y_test = train_test_split(X,y,random_state=0)\n",
        "regr.fit(X_train, y_train)\n",
        "print(regr.score(X_test, y_test))\n",
        "raw_target_regr = LinearRegression().fit(X=X_train,y=y_train)\n",
        "print(raw_target_regr.score(X_test,y_test))"
      ],
      "metadata": {
        "id": "pgzDgpFExEi7",
        "outputId": "95cd4d77-8fde-4a15-95e8-6cac6e55eb30",
        "colab": {
          "base_uri": "https://localhost:8080/"
        }
      },
      "execution_count": 52,
      "outputs": [
        {
          "output_type": "stream",
          "name": "stdout",
          "text": [
            "0.5852954114112681\n",
            "0.5852954114112681\n"
          ]
        }
      ]
    },
    {
      "cell_type": "markdown",
      "source": [
        "# **10. Feature Selection**\n",
        "\n",
        "sklearn.feature_selection module has useful APIs to select features/reduce dimensionality, either to improve estimators accuracy scores or to boost their performance on very high-dimensional datasets."
      ],
      "metadata": {
        "id": "7JyyE2QGUE-h"
      }
    },
    {
      "cell_type": "markdown",
      "source": [
        "##Filter based methods"
      ],
      "metadata": {
        "id": "yaRr7LjbUgvN"
      }
    },
    {
      "cell_type": "markdown",
      "source": [
        "###VarianceThreshold\n",
        "\n",
        "This transformer helps to keep only high variance features by providing a certain threshold.\n",
        "\n",
        "Features with variance greater or equal to threhold value are kept rest are removed.\n",
        "\n",
        "By default it removes any feature with same value ie 0 variance"
      ],
      "metadata": {
        "id": "L4FQwXX1Uk3n"
      }
    },
    {
      "cell_type": "code",
      "source": [
        "data = [{'age':4,'height':96.0},\n",
        "        {'age':1,'height':73.9},\n",
        "        {'age':3,'height':88.9},\n",
        "        {'age':2,'height':81.6}]\n",
        "\n",
        "dv = DictVectorizer(sparse=False)\n",
        "data_transformed = dv.fit_transform(data)\n",
        "np.var(data_transformed, axis=0)"
      ],
      "metadata": {
        "id": "zOUvPlylU_k5",
        "outputId": "519da16f-ee73-46d0-fd6c-880b0ad52e41",
        "colab": {
          "base_uri": "https://localhost:8080/"
        }
      },
      "execution_count": 53,
      "outputs": [
        {
          "output_type": "execute_result",
          "data": {
            "text/plain": [
              "array([ 1.25 , 67.735])"
            ]
          },
          "metadata": {},
          "execution_count": 53
        }
      ]
    },
    {
      "cell_type": "code",
      "source": [
        "from sklearn.feature_selection import VarianceThreshold\n",
        "vt = VarianceThreshold(threshold=9)\n",
        "data_new = vt.fit_transform(data_transformed)\n",
        "data_new"
      ],
      "metadata": {
        "id": "i_vWBGlIVTx8",
        "outputId": "c2e8baf5-301c-4e37-f0ed-aea22ef4d824",
        "colab": {
          "base_uri": "https://localhost:8080/"
        }
      },
      "execution_count": 54,
      "outputs": [
        {
          "output_type": "execute_result",
          "data": {
            "text/plain": [
              "array([[96. ],\n",
              "       [73.9],\n",
              "       [88.9],\n",
              "       [81.6]])"
            ]
          },
          "metadata": {},
          "execution_count": 54
        }
      ]
    },
    {
      "cell_type": "markdown",
      "source": [
        "As you may observe from output of above cell, the transformer has removed the age feature because its variance is below he threshold."
      ],
      "metadata": {
        "id": "KyUuUEFzVkjp"
      }
    },
    {
      "cell_type": "markdown",
      "source": [
        "###SelectKBest\n",
        "\n",
        "It selects k highest scoring features based on a function and removes the rest of the features.\n",
        "Lets take an example of California Housing dataset."
      ],
      "metadata": {
        "id": "F3ZcCajqVwmI"
      }
    },
    {
      "cell_type": "code",
      "source": [
        "import numpy as np\n",
        "from sklearn.datasets import fetch_california_housing\n",
        "from sklearn.model_selection import train_test_split\n",
        "from sklearn.feature_selection import SelectKBest, mutual_info_regression\n",
        "\n",
        "X_cal, y_cal = fetch_california_housing(return_X_y=True)\n",
        "\n",
        "X,y = X_cal[:2000,:], y_cal[:2000]\n",
        "\n",
        "X.shape"
      ],
      "metadata": {
        "id": "8ce4PiVtWBYU",
        "outputId": "60f8e119-dddf-49bd-f958-a3c36bc1106d",
        "colab": {
          "base_uri": "https://localhost:8080/"
        }
      },
      "execution_count": 55,
      "outputs": [
        {
          "output_type": "execute_result",
          "data": {
            "text/plain": [
              "(2000, 8)"
            ]
          },
          "metadata": {},
          "execution_count": 55
        }
      ]
    },
    {
      "cell_type": "markdown",
      "source": [
        "Let's take 3 most important features, since it is a regression problem, we can use mutual_info_regression or f_regression scoring functions only."
      ],
      "metadata": {
        "id": "1C8Sr8QzWf-e"
      }
    },
    {
      "cell_type": "code",
      "source": [
        "skb = SelectKBest(mutual_info_regression, k=3)\n",
        "X_new = skb.fit_transform(X,y)\n",
        "X_new.shape"
      ],
      "metadata": {
        "id": "4hdGoBOLWrEh",
        "outputId": "0aa24cdc-1228-4d76-b58e-7389a54e2cf1",
        "colab": {
          "base_uri": "https://localhost:8080/"
        }
      },
      "execution_count": 56,
      "outputs": [
        {
          "output_type": "execute_result",
          "data": {
            "text/plain": [
              "(2000, 3)"
            ]
          },
          "metadata": {},
          "execution_count": 56
        }
      ]
    },
    {
      "cell_type": "code",
      "source": [
        "skb.get_feature_names_out()"
      ],
      "metadata": {
        "id": "FcXhAHeIXaEy",
        "outputId": "8f7e674c-000c-4003-f195-4367ed68e3c6",
        "colab": {
          "base_uri": "https://localhost:8080/"
        }
      },
      "execution_count": 57,
      "outputs": [
        {
          "output_type": "execute_result",
          "data": {
            "text/plain": [
              "array(['x0', 'x6', 'x7'], dtype=object)"
            ]
          },
          "metadata": {},
          "execution_count": 57
        }
      ]
    },
    {
      "cell_type": "markdown",
      "source": [
        "### SelectPercentile\n",
        "\n",
        "This is very similar to SelectKBest from previous section"
      ],
      "metadata": {
        "id": "FD36TuMyW48b"
      }
    },
    {
      "cell_type": "code",
      "source": [
        "from sklearn.feature_selection import SelectPercentile\n",
        "sp = SelectPercentile(mutual_info_regression, percentile=30)\n",
        "X_new = sp.fit_transform(X,y)\n",
        "X_new.shape"
      ],
      "metadata": {
        "id": "sKX2hI2BXFUR",
        "outputId": "34400f53-300b-4896-8368-9b4ef6ffd21d",
        "colab": {
          "base_uri": "https://localhost:8080/"
        }
      },
      "execution_count": 58,
      "outputs": [
        {
          "output_type": "execute_result",
          "data": {
            "text/plain": [
              "(2000, 3)"
            ]
          },
          "metadata": {},
          "execution_count": 58
        }
      ]
    },
    {
      "cell_type": "code",
      "source": [
        "sp.get_feature_names_out()"
      ],
      "metadata": {
        "id": "8ZQ_tYj9XUtZ",
        "outputId": "523cb576-639f-41d7-f7c0-bb7479c9896f",
        "colab": {
          "base_uri": "https://localhost:8080/"
        }
      },
      "execution_count": 59,
      "outputs": [
        {
          "output_type": "execute_result",
          "data": {
            "text/plain": [
              "array(['x0', 'x6', 'x7'], dtype=object)"
            ]
          },
          "metadata": {},
          "execution_count": 59
        }
      ]
    },
    {
      "cell_type": "markdown",
      "source": [
        "### GenericUnivariateSelect\n",
        "\n",
        "It applies univariate feature selection with a certain strategy, which is passed to the API via mode parameter, mode can take one of the following values: percentile,k_best,fpr,fdr,fwe\n",
        "\n",
        "for similar to SelectKBest results, below is the code"
      ],
      "metadata": {
        "id": "A1WJH8OaXdxf"
      }
    },
    {
      "cell_type": "code",
      "source": [
        "from sklearn.feature_selection import GenericUnivariateSelect\n",
        "\n",
        "gud = GenericUnivariateSelect(mutual_info_regression, mode = 'k_best', param=3)\n",
        "X_new = gud.fit_transform(X,y)\n",
        "X_new.shape"
      ],
      "metadata": {
        "id": "FDf9ymZGYMoE",
        "outputId": "ad454a37-2873-406e-d8d3-3726001f8cd2",
        "colab": {
          "base_uri": "https://localhost:8080/"
        }
      },
      "execution_count": 60,
      "outputs": [
        {
          "output_type": "execute_result",
          "data": {
            "text/plain": [
              "(2000, 3)"
            ]
          },
          "metadata": {},
          "execution_count": 60
        }
      ]
    },
    {
      "cell_type": "markdown",
      "source": [
        "## Wrapper based methods"
      ],
      "metadata": {
        "id": "yhV0UJckYhy_"
      }
    },
    {
      "cell_type": "markdown",
      "source": [
        "### RFE [recursive feature elimination]\n",
        "\n",
        "first fit, remove least ranked feature"
      ],
      "metadata": {
        "id": "1eCJBV3dZOdT"
      }
    },
    {
      "cell_type": "code",
      "source": [
        "from sklearn.datasets import make_friedman1\n",
        "from sklearn.feature_selection import RFE\n",
        "from sklearn.linear_model import LinearRegression\n",
        "\n",
        "estimator = LinearRegression()\n",
        "selector = RFE(estimator, n_features_to_select=3,step=1)\n",
        "selector = selector.fit(X,y)\n",
        "print(selector.support_)\n",
        "print(selector.ranking_)"
      ],
      "metadata": {
        "id": "Db02OBmwZjST",
        "outputId": "11872810-5702-480e-c1c1-03334084077a",
        "colab": {
          "base_uri": "https://localhost:8080/"
        }
      },
      "execution_count": 61,
      "outputs": [
        {
          "output_type": "stream",
          "name": "stdout",
          "text": [
            "[ True False False False False False  True  True]\n",
            "[1 5 4 3 6 2 1 1]\n"
          ]
        }
      ]
    },
    {
      "cell_type": "markdown",
      "source": [
        "### RFE-CV\n",
        "\n",
        "to add another layer of cross_validation to RFE"
      ],
      "metadata": {
        "id": "5UraATaxaDfo"
      }
    },
    {
      "cell_type": "markdown",
      "source": [
        "### SelectFromModel\n",
        "\n",
        "Select desired no of important features above certain threshold of feature importance as obtained from trained estimator."
      ],
      "metadata": {
        "id": "I10zAOb-aHiO"
      }
    },
    {
      "cell_type": "code",
      "source": [
        "from sklearn.feature_selection import SelectFromModel\n",
        "\n",
        "estimator = LinearRegression()\n",
        "estimator.fit(X,y)\n",
        "print(estimator.coef_)\n",
        "print(np.argsort(estimator.coef_)[-3:])\n",
        "t=np.argsort(np.abs(estimator.coef_))[-3:]\n",
        "model = SelectFromModel(estimator, max_features=3,prefit=True)\n",
        "X_new = model.transform(X)\n",
        "print(X_new.shape)"
      ],
      "metadata": {
        "id": "utxXSY0Aa1lj",
        "outputId": "5e2ddee5-f861-480d-8241-e6e8d723f541",
        "colab": {
          "base_uri": "https://localhost:8080/"
        }
      },
      "execution_count": 62,
      "outputs": [
        {
          "output_type": "stream",
          "name": "stdout",
          "text": [
            "[ 3.64048292e-01  5.56221906e-03  5.13591243e-02 -1.64474348e-01\n",
            "  5.90411479e-05 -1.64573915e-01 -2.17724525e-01 -1.85343265e-01]\n",
            "[1 2 0]\n",
            "(2000, 3)\n"
          ]
        }
      ]
    },
    {
      "cell_type": "markdown",
      "source": [
        "### SequentialFeatureSelection\n",
        "\n",
        "It performs feature selection by selecting or deselecting or deselecting features one by one in a greedy manner."
      ],
      "metadata": {
        "id": "p-GqEQebd5v-"
      }
    },
    {
      "cell_type": "code",
      "source": [
        "from sklearn.feature_selection import SequentialFeatureSelector"
      ],
      "metadata": {
        "id": "GzxbqGUqE3pN"
      },
      "execution_count": 63,
      "outputs": []
    },
    {
      "cell_type": "code",
      "source": [
        "%%time\n",
        "estimator = LinearRegression()\n",
        "\n",
        "sfs = SequentialFeatureSelector(estimator, n_features_to_select=3)\n",
        "sfs.fit_transform(X,y)\n",
        "sfs.get_support()"
      ],
      "metadata": {
        "id": "n0hXyZqAeEDD",
        "outputId": "e503e735-06b6-48eb-ae9d-d0d7351ce6f6",
        "colab": {
          "base_uri": "https://localhost:8080/"
        }
      },
      "execution_count": 64,
      "outputs": [
        {
          "output_type": "stream",
          "name": "stdout",
          "text": [
            "CPU times: user 269 ms, sys: 22.1 ms, total: 291 ms\n",
            "Wall time: 304 ms\n"
          ]
        }
      ]
    },
    {
      "cell_type": "markdown",
      "source": [
        "The features corresponding to True in the output"
      ],
      "metadata": {
        "id": "ozDYAuvreVe7"
      }
    },
    {
      "cell_type": "code",
      "source": [
        "%%time\n",
        "estimator = LinearRegression()\n",
        "sfs = SequentialFeatureSelector(estimator, n_features_to_select=3, direction='backward')\n",
        "sfs.fit_transform(X,y)\n",
        "sfs.get_support()"
      ],
      "metadata": {
        "id": "mBrwIvXgecBi",
        "outputId": "969af08e-2597-4a63-e4d8-bb605951886f",
        "colab": {
          "base_uri": "https://localhost:8080/"
        }
      },
      "execution_count": 65,
      "outputs": [
        {
          "output_type": "stream",
          "name": "stdout",
          "text": [
            "CPU times: user 438 ms, sys: 161 ms, total: 599 ms\n",
            "Wall time: 567 ms\n"
          ]
        }
      ]
    },
    {
      "cell_type": "markdown",
      "source": [
        "# **11. PCA**\n",
        "\n",
        "PCA is used to decompose a multivariate dataset in a set of successive orthogonal components that capture maximum amount of variance.\n",
        "\n",
        "It helps in reducing dimensions of a dataset, thus computational cost of next steps, eg training a model, cross validation etc"
      ],
      "metadata": {
        "id": "p7EL6HBievFY"
      }
    },
    {
      "cell_type": "markdown",
      "source": [
        "Let's fit a PCA transformer on this data and compute its two principal components"
      ],
      "metadata": {
        "id": "1TCb6gdbfn9o"
      }
    },
    {
      "cell_type": "code",
      "source": [
        "from sklearn.decomposition import PCA\n",
        "pca = PCA(n_components=2)\n",
        "print(pca.fit(X))\n",
        "print(pca.components_)\n",
        "print(pca.explained_variance_)\n",
        "print(pca.mean_)"
      ],
      "metadata": {
        "id": "vNVZCkdtfuqz",
        "outputId": "5d5e7d7e-750d-4c59-a02e-837a2afff39d",
        "colab": {
          "base_uri": "https://localhost:8080/"
        }
      },
      "execution_count": 66,
      "outputs": [
        {
          "output_type": "stream",
          "name": "stdout",
          "text": [
            "PCA(n_components=2)\n",
            "[[ 3.58746278e-04 -5.26626273e-03 -3.55739438e-04 -1.04636644e-04\n",
            "   9.99985993e-01  1.07189337e-04 -3.72926795e-05 -3.18638902e-05]\n",
            " [ 2.83042309e-02 -9.96787172e-01  7.04618553e-02  1.11176863e-02\n",
            "  -5.23215008e-03 -1.02817045e-03  1.45200590e-02  1.69252465e-02]]\n",
            "[9.32990794e+05 1.72499472e+02]\n",
            "[ 3.88541705e+00  3.13105000e+01  5.89404425e+00  1.15137723e+00\n",
            "  1.24335450e+03  2.72214812e+00  3.80665650e+01 -1.21940045e+02]\n"
          ]
        }
      ]
    },
    {
      "cell_type": "markdown",
      "source": [
        "Reduced dimensions"
      ],
      "metadata": {
        "id": "kZEUIkBChZf_"
      }
    },
    {
      "cell_type": "code",
      "source": [
        "pca = PCA(n_components=1)\n",
        "pca.fit(X)\n",
        "X_pca = pca.transform(X)\n",
        "print(X.shape,X_pca.shape)"
      ],
      "metadata": {
        "id": "b9MdQyxphbqM",
        "outputId": "77b62bbe-19d7-45a5-abf0-433cd74c2788",
        "colab": {
          "base_uri": "https://localhost:8080/"
        }
      },
      "execution_count": 67,
      "outputs": [
        {
          "output_type": "stream",
          "name": "stdout",
          "text": [
            "(2000, 8) (2000, 1)\n"
          ]
        }
      ]
    },
    {
      "cell_type": "markdown",
      "source": [
        "# **12. Chaining Transformers**"
      ],
      "metadata": {
        "id": "AArNExrQhs9C"
      }
    },
    {
      "cell_type": "markdown",
      "source": [
        "## Pipeline"
      ],
      "metadata": {
        "id": "3QkmHrlDG6s_"
      }
    },
    {
      "cell_type": "code",
      "source": [
        "from sklearn.pipeline import Pipeline\n",
        "from sklearn.impute import SimpleImputer\n",
        "from sklearn.preprocessing import StandardScaler\n",
        "estimators = [('simpleimputer', SimpleImputer()),\n",
        "              ('standardscaler', StandardScaler()),]\n",
        "pipe = Pipeline(steps=estimators)"
      ],
      "metadata": {
        "id": "YEdeuCdeh16e"
      },
      "execution_count": 68,
      "outputs": []
    },
    {
      "cell_type": "markdown",
      "source": [
        "## make_pipeline\n",
        "same can be done via make_pipeline"
      ],
      "metadata": {
        "id": "ncEweBPviOlg"
      }
    },
    {
      "cell_type": "code",
      "source": [
        "from sklearn.pipeline import make_pipeline\n",
        "pipe = make_pipeline(SimpleImputer(),\n",
        "                     StandardScaler())"
      ],
      "metadata": {
        "id": "rmwLt-JEiReo"
      },
      "execution_count": 69,
      "outputs": []
    },
    {
      "cell_type": "markdown",
      "source": [
        "## GridSearch with pipeline\n",
        "\n",
        "by using naming convention of nested parameters, grid search can be implemented"
      ],
      "metadata": {
        "id": "AQgYO0j7ifEr"
      }
    },
    {
      "cell_type": "code",
      "source": [
        "from sklearn.impute import KNNImputer\n",
        "from sklearn.linear_model import LogisticRegression\n",
        "from sklearn.svm import SVC\n",
        "from sklearn.model_selection import GridSearchCV\n",
        "\n",
        "param_grid = dict(imputer=['pasthrough',\n",
        "                           SimpleImputer(),\n",
        "                           KNNImputer()],\n",
        "                  clf = [SVC(), LogisticRegression()],\n",
        "                  clf__C=[0.1,10,100])\n",
        "grid_search = GridSearchCV(pipe, param_grid=param_grid)"
      ],
      "metadata": {
        "id": "FAV-J7N1jAlQ"
      },
      "execution_count": 70,
      "outputs": []
    },
    {
      "cell_type": "markdown",
      "source": [
        "c is an inverse of regularization, lower its value stronger the regularization\n",
        "\n",
        "In this example clf__C provides a set of values for grid search."
      ],
      "metadata": {
        "id": "rn97CFTqjosm"
      }
    },
    {
      "cell_type": "markdown",
      "source": [
        "## Caching Transformers"
      ],
      "metadata": {
        "id": "O97PtZQjjzXW"
      }
    },
    {
      "cell_type": "markdown",
      "source": [
        "Transforming data is a computationally expensive step.\n",
        "\n",
        "* for grid search, transformers need not be applied for every parameter configuration. They can be applied only once, and the transformed data can be reused."
      ],
      "metadata": {
        "id": "lKtxqzyWj7Nr"
      }
    },
    {
      "cell_type": "code",
      "source": [
        "import tempfile\n",
        "tempDirPath = tempfile.TemporaryDirectory()\n",
        "\n",
        "estimators = [('simpleimputer', SimpleImputer()),\n",
        "              ('pca', PCA()),\n",
        "              ('regressor',LinearRegression())]\n",
        "pipe = Pipeline(steps=estimators, memory=tempDirPath)"
      ],
      "metadata": {
        "id": "TNAZkuRSkMtz"
      },
      "execution_count": 71,
      "outputs": []
    },
    {
      "cell_type": "markdown",
      "source": [
        "## FeatureUnion\n",
        "\n",
        "Concatanates results of multiple transformer objects"
      ],
      "metadata": {
        "id": "hOv5bdgHkjOZ"
      }
    },
    {
      "cell_type": "markdown",
      "source": [
        "# **13. Visualizing Pipelines**"
      ],
      "metadata": {
        "id": "1oDwfGg_kqRg"
      }
    },
    {
      "cell_type": "code",
      "source": [
        "from sklearn.preprocessing import StandardScaler, LabelBinarizer\n",
        "from sklearn.pipeline import Pipeline, FeatureUnion\n",
        "from sklearn.compose import ColumnTransformer\n",
        "from sklearn.impute import SimpleImputer\n",
        "\n",
        "num_pipeline = Pipeline([('selector', ColumnTransformer([('select_first_4',\n",
        "                                                          'passthrough',\n",
        "                                                          slice(0.4))])),\n",
        "                         ('imputer',SimpleImputer(strategy = 'median')),\n",
        "                         ('std_scaler', StandardScaler()),\n",
        "                         ])\n",
        "cat_pipeline = ColumnTransformer([('label_binarizer', LabelBinarizer(),[4]),])\n",
        "full_pipeline = FeatureUnion(transformer_list = [('num_pipeline',num_pipeline),\n",
        "                                                 ('cat_pipeline',cat_pipeline),\n",
        "                                                 ])"
      ],
      "metadata": {
        "id": "zzZ_pMGik2Hd"
      },
      "execution_count": 72,
      "outputs": []
    },
    {
      "cell_type": "code",
      "source": [
        "from sklearn import set_config\n",
        "set_config(display='diagram')\n",
        "full_pipeline"
      ],
      "metadata": {
        "colab": {
          "base_uri": "https://localhost:8080/",
          "height": 246
        },
        "id": "fRULC2vFmYSN",
        "outputId": "35e3439d-d809-48dd-f999-9be881a2b5ae"
      },
      "execution_count": 73,
      "outputs": [
        {
          "output_type": "execute_result",
          "data": {
            "text/plain": [
              "FeatureUnion(transformer_list=[('num_pipeline',\n",
              "                                Pipeline(steps=[('selector',\n",
              "                                                 ColumnTransformer(transformers=[('select_first_4',\n",
              "                                                                                  'passthrough',\n",
              "                                                                                  slice(None, 0.4, None))])),\n",
              "                                                ('imputer',\n",
              "                                                 SimpleImputer(strategy='median')),\n",
              "                                                ('std_scaler',\n",
              "                                                 StandardScaler())])),\n",
              "                               ('cat_pipeline',\n",
              "                                ColumnTransformer(transformers=[('label_binarizer',\n",
              "                                                                 LabelBinarizer(),\n",
              "                                                                 [4])]))])"
            ],
            "text/html": [
              "<style>#sk-bed58d79-082d-4c37-9aa6-c3bc84def910 {color: black;background-color: white;}#sk-bed58d79-082d-4c37-9aa6-c3bc84def910 pre{padding: 0;}#sk-bed58d79-082d-4c37-9aa6-c3bc84def910 div.sk-toggleable {background-color: white;}#sk-bed58d79-082d-4c37-9aa6-c3bc84def910 label.sk-toggleable__label {cursor: pointer;display: block;width: 100%;margin-bottom: 0;padding: 0.3em;box-sizing: border-box;text-align: center;}#sk-bed58d79-082d-4c37-9aa6-c3bc84def910 label.sk-toggleable__label-arrow:before {content: \"▸\";float: left;margin-right: 0.25em;color: #696969;}#sk-bed58d79-082d-4c37-9aa6-c3bc84def910 label.sk-toggleable__label-arrow:hover:before {color: black;}#sk-bed58d79-082d-4c37-9aa6-c3bc84def910 div.sk-estimator:hover label.sk-toggleable__label-arrow:before {color: black;}#sk-bed58d79-082d-4c37-9aa6-c3bc84def910 div.sk-toggleable__content {max-height: 0;max-width: 0;overflow: hidden;text-align: left;background-color: #f0f8ff;}#sk-bed58d79-082d-4c37-9aa6-c3bc84def910 div.sk-toggleable__content pre {margin: 0.2em;color: black;border-radius: 0.25em;background-color: #f0f8ff;}#sk-bed58d79-082d-4c37-9aa6-c3bc84def910 input.sk-toggleable__control:checked~div.sk-toggleable__content {max-height: 200px;max-width: 100%;overflow: auto;}#sk-bed58d79-082d-4c37-9aa6-c3bc84def910 input.sk-toggleable__control:checked~label.sk-toggleable__label-arrow:before {content: \"▾\";}#sk-bed58d79-082d-4c37-9aa6-c3bc84def910 div.sk-estimator input.sk-toggleable__control:checked~label.sk-toggleable__label {background-color: #d4ebff;}#sk-bed58d79-082d-4c37-9aa6-c3bc84def910 div.sk-label input.sk-toggleable__control:checked~label.sk-toggleable__label {background-color: #d4ebff;}#sk-bed58d79-082d-4c37-9aa6-c3bc84def910 input.sk-hidden--visually {border: 0;clip: rect(1px 1px 1px 1px);clip: rect(1px, 1px, 1px, 1px);height: 1px;margin: -1px;overflow: hidden;padding: 0;position: absolute;width: 1px;}#sk-bed58d79-082d-4c37-9aa6-c3bc84def910 div.sk-estimator {font-family: monospace;background-color: #f0f8ff;border: 1px dotted black;border-radius: 0.25em;box-sizing: border-box;margin-bottom: 0.5em;}#sk-bed58d79-082d-4c37-9aa6-c3bc84def910 div.sk-estimator:hover {background-color: #d4ebff;}#sk-bed58d79-082d-4c37-9aa6-c3bc84def910 div.sk-parallel-item::after {content: \"\";width: 100%;border-bottom: 1px solid gray;flex-grow: 1;}#sk-bed58d79-082d-4c37-9aa6-c3bc84def910 div.sk-label:hover label.sk-toggleable__label {background-color: #d4ebff;}#sk-bed58d79-082d-4c37-9aa6-c3bc84def910 div.sk-serial::before {content: \"\";position: absolute;border-left: 1px solid gray;box-sizing: border-box;top: 2em;bottom: 0;left: 50%;}#sk-bed58d79-082d-4c37-9aa6-c3bc84def910 div.sk-serial {display: flex;flex-direction: column;align-items: center;background-color: white;padding-right: 0.2em;padding-left: 0.2em;}#sk-bed58d79-082d-4c37-9aa6-c3bc84def910 div.sk-item {z-index: 1;}#sk-bed58d79-082d-4c37-9aa6-c3bc84def910 div.sk-parallel {display: flex;align-items: stretch;justify-content: center;background-color: white;}#sk-bed58d79-082d-4c37-9aa6-c3bc84def910 div.sk-parallel::before {content: \"\";position: absolute;border-left: 1px solid gray;box-sizing: border-box;top: 2em;bottom: 0;left: 50%;}#sk-bed58d79-082d-4c37-9aa6-c3bc84def910 div.sk-parallel-item {display: flex;flex-direction: column;position: relative;background-color: white;}#sk-bed58d79-082d-4c37-9aa6-c3bc84def910 div.sk-parallel-item:first-child::after {align-self: flex-end;width: 50%;}#sk-bed58d79-082d-4c37-9aa6-c3bc84def910 div.sk-parallel-item:last-child::after {align-self: flex-start;width: 50%;}#sk-bed58d79-082d-4c37-9aa6-c3bc84def910 div.sk-parallel-item:only-child::after {width: 0;}#sk-bed58d79-082d-4c37-9aa6-c3bc84def910 div.sk-dashed-wrapped {border: 1px dashed gray;margin: 0 0.4em 0.5em 0.4em;box-sizing: border-box;padding-bottom: 0.4em;background-color: white;position: relative;}#sk-bed58d79-082d-4c37-9aa6-c3bc84def910 div.sk-label label {font-family: monospace;font-weight: bold;background-color: white;display: inline-block;line-height: 1.2em;}#sk-bed58d79-082d-4c37-9aa6-c3bc84def910 div.sk-label-container {position: relative;z-index: 2;text-align: center;}#sk-bed58d79-082d-4c37-9aa6-c3bc84def910 div.sk-container {/* jupyter's `normalize.less` sets `[hidden] { display: none; }` but bootstrap.min.css set `[hidden] { display: none !important; }` so we also need the `!important` here to be able to override the default hidden behavior on the sphinx rendered scikit-learn.org. See: https://github.com/scikit-learn/scikit-learn/issues/21755 */display: inline-block !important;position: relative;}#sk-bed58d79-082d-4c37-9aa6-c3bc84def910 div.sk-text-repr-fallback {display: none;}</style><div id=\"sk-bed58d79-082d-4c37-9aa6-c3bc84def910\" class=\"sk-top-container\"><div class=\"sk-text-repr-fallback\"><pre>FeatureUnion(transformer_list=[(&#x27;num_pipeline&#x27;,\n",
              "                                Pipeline(steps=[(&#x27;selector&#x27;,\n",
              "                                                 ColumnTransformer(transformers=[(&#x27;select_first_4&#x27;,\n",
              "                                                                                  &#x27;passthrough&#x27;,\n",
              "                                                                                  slice(None, 0.4, None))])),\n",
              "                                                (&#x27;imputer&#x27;,\n",
              "                                                 SimpleImputer(strategy=&#x27;median&#x27;)),\n",
              "                                                (&#x27;std_scaler&#x27;,\n",
              "                                                 StandardScaler())])),\n",
              "                               (&#x27;cat_pipeline&#x27;,\n",
              "                                ColumnTransformer(transformers=[(&#x27;label_binarizer&#x27;,\n",
              "                                                                 LabelBinarizer(),\n",
              "                                                                 [4])]))])</pre><b>Please rerun this cell to show the HTML repr or trust the notebook.</b></div><div class=\"sk-container\" hidden><div class=\"sk-item sk-dashed-wrapped\"><div class=\"sk-label-container\"><div class=\"sk-label sk-toggleable\"><input class=\"sk-toggleable__control sk-hidden--visually\" id=\"55f91f1f-19a4-41b5-9075-131bb69a6557\" type=\"checkbox\" ><label for=\"55f91f1f-19a4-41b5-9075-131bb69a6557\" class=\"sk-toggleable__label sk-toggleable__label-arrow\">FeatureUnion</label><div class=\"sk-toggleable__content\"><pre>FeatureUnion(transformer_list=[(&#x27;num_pipeline&#x27;,\n",
              "                                Pipeline(steps=[(&#x27;selector&#x27;,\n",
              "                                                 ColumnTransformer(transformers=[(&#x27;select_first_4&#x27;,\n",
              "                                                                                  &#x27;passthrough&#x27;,\n",
              "                                                                                  slice(None, 0.4, None))])),\n",
              "                                                (&#x27;imputer&#x27;,\n",
              "                                                 SimpleImputer(strategy=&#x27;median&#x27;)),\n",
              "                                                (&#x27;std_scaler&#x27;,\n",
              "                                                 StandardScaler())])),\n",
              "                               (&#x27;cat_pipeline&#x27;,\n",
              "                                ColumnTransformer(transformers=[(&#x27;label_binarizer&#x27;,\n",
              "                                                                 LabelBinarizer(),\n",
              "                                                                 [4])]))])</pre></div></div></div><div class=\"sk-parallel\"><div class=\"sk-parallel-item\"><div class=\"sk-item\"><div class=\"sk-label-container\"><div class=\"sk-label sk-toggleable\"><label>num_pipeline</label></div></div><div class=\"sk-serial\"><div class=\"sk-item\"><div class=\"sk-serial\"><div class=\"sk-item sk-dashed-wrapped\"><div class=\"sk-label-container\"><div class=\"sk-label sk-toggleable\"><input class=\"sk-toggleable__control sk-hidden--visually\" id=\"028533f9-a004-45bd-b0b7-280bd3bf1c14\" type=\"checkbox\" ><label for=\"028533f9-a004-45bd-b0b7-280bd3bf1c14\" class=\"sk-toggleable__label sk-toggleable__label-arrow\">selector: ColumnTransformer</label><div class=\"sk-toggleable__content\"><pre>ColumnTransformer(transformers=[(&#x27;select_first_4&#x27;, &#x27;passthrough&#x27;,\n",
              "                                 slice(None, 0.4, None))])</pre></div></div></div><div class=\"sk-parallel\"><div class=\"sk-parallel-item\"><div class=\"sk-item\"><div class=\"sk-label-container\"><div class=\"sk-label sk-toggleable\"><input class=\"sk-toggleable__control sk-hidden--visually\" id=\"5bd827b6-372b-4b4a-b7b1-5ad25868d3db\" type=\"checkbox\" ><label for=\"5bd827b6-372b-4b4a-b7b1-5ad25868d3db\" class=\"sk-toggleable__label sk-toggleable__label-arrow\">select_first_4</label><div class=\"sk-toggleable__content\"><pre>slice(None, 0.4, None)</pre></div></div></div><div class=\"sk-serial\"><div class=\"sk-item\"><div class=\"sk-estimator sk-toggleable\"><input class=\"sk-toggleable__control sk-hidden--visually\" id=\"6eeae4cf-2a08-43fc-8b19-fb8b9d021259\" type=\"checkbox\" ><label for=\"6eeae4cf-2a08-43fc-8b19-fb8b9d021259\" class=\"sk-toggleable__label sk-toggleable__label-arrow\">passthrough</label><div class=\"sk-toggleable__content\"><pre>passthrough</pre></div></div></div></div></div></div></div></div><div class=\"sk-item\"><div class=\"sk-estimator sk-toggleable\"><input class=\"sk-toggleable__control sk-hidden--visually\" id=\"5333d440-b332-442e-b012-dafc26f89971\" type=\"checkbox\" ><label for=\"5333d440-b332-442e-b012-dafc26f89971\" class=\"sk-toggleable__label sk-toggleable__label-arrow\">SimpleImputer</label><div class=\"sk-toggleable__content\"><pre>SimpleImputer(strategy=&#x27;median&#x27;)</pre></div></div></div><div class=\"sk-item\"><div class=\"sk-estimator sk-toggleable\"><input class=\"sk-toggleable__control sk-hidden--visually\" id=\"64d042d5-aac7-4653-bcdd-8af372e45a32\" type=\"checkbox\" ><label for=\"64d042d5-aac7-4653-bcdd-8af372e45a32\" class=\"sk-toggleable__label sk-toggleable__label-arrow\">StandardScaler</label><div class=\"sk-toggleable__content\"><pre>StandardScaler()</pre></div></div></div></div></div></div></div></div><div class=\"sk-parallel-item\"><div class=\"sk-item\"><div class=\"sk-label-container\"><div class=\"sk-label sk-toggleable\"><label>cat_pipeline</label></div></div><div class=\"sk-serial\"><div class=\"sk-item sk-dashed-wrapped\"><div class=\"sk-parallel\"><div class=\"sk-parallel-item\"><div class=\"sk-item\"><div class=\"sk-label-container\"><div class=\"sk-label sk-toggleable\"><input class=\"sk-toggleable__control sk-hidden--visually\" id=\"eb636f9d-a1d7-438b-b8db-fecc9479a72c\" type=\"checkbox\" ><label for=\"eb636f9d-a1d7-438b-b8db-fecc9479a72c\" class=\"sk-toggleable__label sk-toggleable__label-arrow\">label_binarizer</label><div class=\"sk-toggleable__content\"><pre>[4]</pre></div></div></div><div class=\"sk-serial\"><div class=\"sk-item\"><div class=\"sk-estimator sk-toggleable\"><input class=\"sk-toggleable__control sk-hidden--visually\" id=\"1f9ae277-410f-4fcd-bf7a-924e9b2553ff\" type=\"checkbox\" ><label for=\"1f9ae277-410f-4fcd-bf7a-924e9b2553ff\" class=\"sk-toggleable__label sk-toggleable__label-arrow\">LabelBinarizer</label><div class=\"sk-toggleable__content\"><pre>LabelBinarizer()</pre></div></div></div></div></div></div></div></div></div></div></div></div></div></div></div>"
            ]
          },
          "metadata": {},
          "execution_count": 73
        }
      ]
    },
    {
      "cell_type": "markdown",
      "source": [
        "# **14. Handling imbalanced data**\n",
        "\n",
        "Imbalanced datasets are those where one class is very less represented than other classes\n",
        "\n",
        "Two main approaches to handle imbalanced data\n",
        "\n",
        "* Undersampling\n",
        "* Oversampling"
      ],
      "metadata": {
        "id": "NSoBOTlGm0J9"
      }
    },
    {
      "cell_type": "code",
      "source": [
        "wine_data = pd.read_csv('https://archive.ics.uci.edu/ml/machine-learning-databases/wine-quality/winequality-red.csv',sep=';')\n",
        "wine_data['quality'].hist(bins=50)\n",
        "plt.xlabel('Quality')\n",
        "plt.ylabel('Number of Samples')\n",
        "plt.show()"
      ],
      "metadata": {
        "id": "yIl5P_SfnTJW",
        "outputId": "407c8e93-c8f0-4287-d2cd-3ef021ad5a0d",
        "colab": {
          "base_uri": "https://localhost:8080/",
          "height": 285
        }
      },
      "execution_count": 74,
      "outputs": [
        {
          "output_type": "display_data",
          "data": {
            "text/plain": [
              "<Figure size 432x288 with 1 Axes>"
            ],
            "image/png": "[encoded data removed]"
          },
          "metadata": {}
        }
      ]
    },
    {
      "cell_type": "markdown",
      "source": [
        "## Undersampling"
      ],
      "metadata": {
        "id": "UiGNN9WXnrUO"
      }
    },
    {
      "cell_type": "code",
      "source": [
        "from imblearn.under_sampling import RandomUnderSampler\n",
        "\n",
        "class_count_3,class_count_4,class_count_5,class_count_6,class_count_7,class_count_8 = wine_data['quality'].value_counts()\n",
        "\n",
        "class_3 =  wine_data[wine_data['quality']==3]\n",
        "class_4 =  wine_data[wine_data['quality']==4]\n",
        "class_5 =  wine_data[wine_data['quality']==5]\n",
        "class_6 =  wine_data[wine_data['quality']==6]\n",
        "class_7 =  wine_data[wine_data['quality']==7]\n",
        "class_8 =  wine_data[wine_data['quality']==8]\n",
        "\n",
        "print('class 3:', class_3.shape)\n",
        "print('class 4:', class_4.shape)\n",
        "print('class 5:', class_5.shape)\n",
        "print('class 6:', class_6.shape)\n",
        "print('class 7:', class_7.shape)\n",
        "print('class 8:', class_8.shape)\n",
        "\n",
        "from collections import Counter\n",
        "X=wine_data.drop(['quality'], axis=1)\n",
        "y=wine_data['quality']\n",
        "undersample = RandomUnderSampler(random_state=0)\n",
        "X_runs,y_runs = undersample.fit_resample(X,y)\n",
        "print(Counter(y),Counter(y_runs))"
      ],
      "metadata": {
        "id": "Ex4Bzfxnn2fl",
        "outputId": "b691c42f-8154-4165-b65b-c7d273db0283",
        "colab": {
          "base_uri": "https://localhost:8080/"
        }
      },
      "execution_count": 75,
      "outputs": [
        {
          "output_type": "stream",
          "name": "stdout",
          "text": [
            "class 3: (10, 12)\n",
            "class 4: (53, 12)\n",
            "class 5: (681, 12)\n",
            "class 6: (638, 12)\n",
            "class 7: (199, 12)\n",
            "class 8: (18, 12)\n",
            "Counter({5: 681, 6: 638, 7: 199, 4: 53, 8: 18, 3: 10}) Counter({3: 10, 4: 10, 5: 10, 6: 10, 7: 10, 8: 10})\n"
          ]
        }
      ]
    },
    {
      "cell_type": "markdown",
      "source": [
        "## OverSampling"
      ],
      "metadata": {
        "id": "C553imSOolWX"
      }
    },
    {
      "cell_type": "code",
      "source": [
        "from imblearn.over_sampling import RandomOverSampler\n",
        "\n",
        "ros = RandomOverSampler()\n",
        "X_ros,y_ros = ros.fit_resample(X,y)\n",
        "print(Counter(y),Counter(y_ros))"
      ],
      "metadata": {
        "id": "8R4bth2-pQfw",
        "outputId": "09eda7e8-6811-490c-f002-7171cc205738",
        "colab": {
          "base_uri": "https://localhost:8080/"
        }
      },
      "execution_count": 76,
      "outputs": [
        {
          "output_type": "stream",
          "name": "stdout",
          "text": [
            "Counter({5: 681, 6: 638, 7: 199, 4: 53, 8: 18, 3: 10}) Counter({5: 681, 6: 681, 7: 681, 4: 681, 8: 681, 3: 681})\n"
          ]
        }
      ]
    },
    {
      "cell_type": "markdown",
      "source": [
        "## Oversampling using SMOTE\n",
        "\n",
        "SMOTE Synthetic minotiry Oversampling Technique is a popular technique for oversampling. It is available under imblearn library"
      ],
      "metadata": {
        "id": "dEgsAGRWH2Kd"
      }
    },
    {
      "cell_type": "code",
      "source": [
        "from imblearn.over_sampling import SMOTE\n",
        "oversample = SMOTE()\n",
        "X_sm, y_sm = oversample.fit_resample(X,y)\n",
        "counter = Counter(y_sm)\n",
        "counter"
      ],
      "metadata": {
        "id": "BYdTObZMIC_g",
        "outputId": "bcdc70dd-879d-4ed9-fcc8-f8f4f7afc446",
        "colab": {
          "base_uri": "https://localhost:8080/"
        }
      },
      "execution_count": 77,
      "outputs": [
        {
          "output_type": "execute_result",
          "data": {
            "text/plain": [
              "Counter({3: 681, 4: 681, 5: 681, 6: 681, 7: 681, 8: 681})"
            ]
          },
          "metadata": {},
          "execution_count": 77
        }
      ]
    },
    {
      "cell_type": "markdown",
      "source": [
        "Types of smote:\n",
        "\n",
        "* Borderline SMOTE\n",
        "* Borderline-SMOTE SVM\n",
        "* Adaptive Synthetic Sampling (ADASYN)"
      ],
      "metadata": {
        "id": "8HKdC2c0pmcW"
      }
    }
  ]
}