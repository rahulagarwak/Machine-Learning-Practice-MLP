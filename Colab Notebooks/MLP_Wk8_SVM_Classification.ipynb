{
  "nbformat": 4,
  "nbformat_minor": 0,
  "metadata": {
    "colab": {
      "name": "MLP_Wk8_SVM_Classification.ipynb",
      "provenance": []
    },
    "kernelspec": {
      "name": "python3",
      "display_name": "Python 3"
    },
    "language_info": {
      "name": "python"
    }
  },
  "cells": [
    {
      "cell_type": "markdown",
      "source": [
        "# MNIST classification problem - Support Vector Machine classifier\n",
        "\n",
        "In this, colab we will implement multiclass MNIST digit recognition classifier with SVMs."
      ],
      "metadata": {
        "id": "9jcsMwjr2q7i"
      }
    },
    {
      "cell_type": "code",
      "execution_count": 1,
      "metadata": {
        "id": "f91n8SZo2hEF"
      },
      "outputs": [],
      "source": [
        "# Imports\n",
        "\n",
        "import pandas as pd\n",
        "import numpy as np\n",
        "import matplotlib.pyplot as plt\n",
        "import seaborn as sns\n",
        "from pandas.plotting import scatter_matrix\n",
        "from sklearn.preprocessing import OrdinalEncoder\n",
        "from sklearn.model_selection import train_test_split"
      ]
    },
    {
      "cell_type": "code",
      "source": [
        "from keras.datasets import mnist\n",
        "from sklearn.svm import SVC\n",
        "from sklearn.metrics import confusion_matrix, ConfusionMatrixDisplay, classification_report, plot_roc_curve, roc_auc_score, plot_confusion_matrix\n",
        "from sklearn.preprocessing import StandardScaler, MinMaxScaler\n",
        "from sklearn.pipeline import Pipeline\n",
        "from sklearn.model_selection import cross_val_score, GridSearchCV, StratifiedShuffleSplit"
      ],
      "metadata": {
        "id": "zsdWTDQu3WWe"
      },
      "execution_count": 3,
      "outputs": []
    },
    {
      "cell_type": "markdown",
      "source": [
        "# Loading MNIST dataset"
      ],
      "metadata": {
        "id": "N8b9UEZj4AKK"
      }
    },
    {
      "cell_type": "code",
      "source": [
        "# Load dataset\n",
        "\n",
        "(X_train, y_train), (X_test, y_test) = mnist.load_data()"
      ],
      "metadata": {
        "colab": {
          "base_uri": "https://localhost:8080/"
        },
        "id": "RC2qlDmE4VGO",
        "outputId": "1cdbed45-8c1a-482d-8f89-eb0495073a16"
      },
      "execution_count": 4,
      "outputs": [
        {
          "output_type": "stream",
          "name": "stdout",
          "text": [
            "Downloading data from https://storage.googleapis.com/tensorflow/tf-keras-datasets/mnist.npz\n",
            "11493376/11490434 [==============================] - 0s 0us/step\n",
            "11501568/11490434 [==============================] - 0s 0us/step\n"
          ]
        }
      ]
    },
    {
      "cell_type": "code",
      "source": [
        "print('Shape of training data',X_train.shape)\n",
        "print('Shape of training labels',y_train.shape)\n",
        "print('Shape of test data',X_test.shape)\n",
        "print('Shape of test labels',y_test.shape)"
      ],
      "metadata": {
        "colab": {
          "base_uri": "https://localhost:8080/"
        },
        "id": "ttXTVJCJ4fWv",
        "outputId": "c5b6f90a-f321-4d44-a6c2-4874ab3275ce"
      },
      "execution_count": 5,
      "outputs": [
        {
          "output_type": "stream",
          "name": "stdout",
          "text": [
            "Shape of training data (60000, 28, 28)\n",
            "Shape of training labels (60000,)\n",
            "Shape of test data (10000, 28, 28)\n",
            "Shape of test labels (10000,)\n"
          ]
        }
      ]
    },
    {
      "cell_type": "code",
      "source": [
        "fig = plt.figure(figsize=(10,7))\n",
        "for i in range(15):\n",
        "  ax = fig.add_subplot(3,5,i+1)\n",
        "  ax.imshow(X_train[i],cmap='gray')\n",
        "  ax.set_title('Label (y): {y}'.format(y=y_train[i]))\n",
        "  plt.axis('off')"
      ],
      "metadata": {
        "colab": {
          "base_uri": "https://localhost:8080/",
          "height": 412
        },
        "id": "DF-JdDNt5H62",
        "outputId": "dc3dfd70-de59-4415-baa3-a85caa744332"
      },
      "execution_count": 7,
      "outputs": [
        {
          "output_type": "display_data",
          "data": {
            "text/plain": [
              "<Figure size 720x504 with 15 Axes>"
            ],
            "image/png": "[encoded data removed]"
          },
          "metadata": {
            "needs_background": "light"
          }
        }
      ]
    },
    {
      "cell_type": "code",
      "source": [
        "# Flatten each input image into a vector of length 784\n",
        "\n",
        "X_train = X_train.reshape(X_train.shape[0],28*28)\n",
        "X_test = X_test.reshape(X_test.shape[0],28*28)\n",
        "\n",
        "# Normalizing\n",
        "X_train = X_train/255\n",
        "X_test = X_test/255"
      ],
      "metadata": {
        "id": "Xuhux7HM7K7l"
      },
      "execution_count": 8,
      "outputs": []
    },
    {
      "cell_type": "code",
      "source": [
        "print('Shape of training data after flattening', X_train.shape)\n",
        "print('Shape of testing data after flattening', X_test.shape)"
      ],
      "metadata": {
        "colab": {
          "base_uri": "https://localhost:8080/"
        },
        "id": "6SqZhf5vJPzI",
        "outputId": "9dbf7a36-082d-4065-8a3a-efc362a209f7"
      },
      "execution_count": 9,
      "outputs": [
        {
          "output_type": "stream",
          "name": "stdout",
          "text": [
            "Shape of training data after flattening (60000, 784)\n",
            "Shape of testing data after flattening (10000, 784)\n"
          ]
        }
      ]
    },
    {
      "cell_type": "markdown",
      "source": [
        "Let us consider the first 10,000 images in training dataset and first 2,000 images in testing dataset."
      ],
      "metadata": {
        "id": "T0jnz516Jopr"
      }
    },
    {
      "cell_type": "code",
      "source": [
        "X_train = X_train[0:10000,:]\n",
        "y_train = y_train[0:10000]\n",
        "X_test = X_test[0:2000,:]\n",
        "y_test = y_test[0:2000]"
      ],
      "metadata": {
        "id": "XnjaCqjJJbO8"
      },
      "execution_count": 10,
      "outputs": []
    },
    {
      "cell_type": "markdown",
      "source": [
        "# Linear SVM for MNIST multiclass classification"
      ],
      "metadata": {
        "id": "8Z19XwX3KSKi"
      }
    },
    {
      "cell_type": "markdown",
      "source": [
        "## Using Pipeline"
      ],
      "metadata": {
        "id": "axNUsU6rKWut"
      }
    },
    {
      "cell_type": "code",
      "source": [
        "pipe_l = Pipeline([('scaler', MinMaxScaler()),\n",
        "                   ('classifier', SVC(kernel='linear', C=1))])\n",
        "pipe_l.fit(X_train, y_train.ravel())\n",
        "\n",
        "#Evaluate the model using crossvalidation\n",
        "acc = cross_val_score(pipe_l, X_train, y_train.ravel(), cv=2)\n",
        "print('Training Accuracy: {:.2f} %'.format(acc.mean()*100))"
      ],
      "metadata": {
        "colab": {
          "base_uri": "https://localhost:8080/"
        },
        "id": "9N6b47yBKRoU",
        "outputId": "a5901f5d-352c-46c4-f5c8-b59e80f47c43"
      },
      "execution_count": 11,
      "outputs": [
        {
          "output_type": "stream",
          "name": "stdout",
          "text": [
            "Training Accuracy: 91.07 %\n"
          ]
        }
      ]
    },
    {
      "cell_type": "code",
      "source": [
        "# visualiing the confusion matrix\n",
        "y_pred = pipe_l.predict(X_test)\n",
        "cm = confusion_matrix(y_test, y_pred)\n",
        "disp = ConfusionMatrixDisplay(confusion_matrix=cm)\n",
        "disp.plot()\n",
        "plt.title('Confusion Matrix')\n",
        "plt.show()"
      ],
      "metadata": {
        "colab": {
          "base_uri": "https://localhost:8080/",
          "height": 295
        },
        "id": "EfQgR-CgLPb2",
        "outputId": "208cd9ea-07b1-4616-c80c-274190d21df3"
      },
      "execution_count": 12,
      "outputs": [
        {
          "output_type": "display_data",
          "data": {
            "text/plain": [
              "<Figure size 432x288 with 2 Axes>"
            ],
            "image/png": "[encoded data removed]"
          },
          "metadata": {
            "needs_background": "light"
          }
        }
      ]
    },
    {
      "cell_type": "code",
      "source": [
        "CR = classification_report(y_test, y_pred)\n",
        "print('Classification report \\n')\n",
        "print(CR)"
      ],
      "metadata": {
        "colab": {
          "base_uri": "https://localhost:8080/"
        },
        "id": "GIsz8wS1Lyh1",
        "outputId": "0de374fb-770a-48c2-c393-04bba1598cec"
      },
      "execution_count": 13,
      "outputs": [
        {
          "output_type": "stream",
          "name": "stdout",
          "text": [
            "Classification report \n",
            "\n",
            "              precision    recall  f1-score   support\n",
            "\n",
            "           0       0.91      0.96      0.94       175\n",
            "           1       0.96      0.99      0.98       234\n",
            "           2       0.89      0.89      0.89       219\n",
            "           3       0.85      0.88      0.86       207\n",
            "           4       0.90      0.94      0.92       217\n",
            "           5       0.89      0.85      0.87       179\n",
            "           6       0.90      0.93      0.91       178\n",
            "           7       0.89      0.87      0.88       205\n",
            "           8       0.89      0.83      0.86       192\n",
            "           9       0.89      0.84      0.86       194\n",
            "\n",
            "    accuracy                           0.90      2000\n",
            "   macro avg       0.90      0.90      0.90      2000\n",
            "weighted avg       0.90      0.90      0.90      2000\n",
            "\n"
          ]
        }
      ]
    },
    {
      "cell_type": "markdown",
      "source": [
        "# Nonlinear SVM for MNIST multiclass classification"
      ],
      "metadata": {
        "id": "drtG7GU8MEW8"
      }
    },
    {
      "cell_type": "markdown",
      "source": [
        "## Using Pipeline"
      ],
      "metadata": {
        "id": "1wxjDodZMJq7"
      }
    },
    {
      "cell_type": "code",
      "source": [
        "pipe_2 = Pipeline([('scaler', MinMaxScaler()),\n",
        "                   ('classifier', SVC(kernel='rbf', gamma=0.1, C=1))])\n",
        "pipe_2.fit(X_train, y_train.ravel())\n",
        "\n",
        "#Evaluate the model using crossvalidation\n",
        "acc = cross_val_score(pipe_2, X_train, y_train.ravel(), cv=2)\n",
        "print('Training Accuracy: {:.2f} %'.format(acc.mean()*100))"
      ],
      "metadata": {
        "colab": {
          "base_uri": "https://localhost:8080/"
        },
        "id": "7N_sSArNMDQO",
        "outputId": "22d01755-3396-4818-fba3-418f2e5444c9"
      },
      "execution_count": 14,
      "outputs": [
        {
          "output_type": "stream",
          "name": "stdout",
          "text": [
            "Training Accuracy: 82.87 %\n"
          ]
        }
      ]
    },
    {
      "cell_type": "code",
      "source": [
        "# visualizing the confusion matrix\n",
        "y_pred = pipe_2.predict(X_test)\n",
        "cm = confusion_matrix(y_test, y_pred)\n",
        "disp = ConfusionMatrixDisplay(confusion_matrix=cm)\n",
        "disp.plot()\n",
        "plt.title('Confusion Matrix')\n",
        "plt.show()"
      ],
      "metadata": {
        "colab": {
          "base_uri": "https://localhost:8080/",
          "height": 295
        },
        "id": "7o-9r9yPMmUu",
        "outputId": "0520c32d-984c-4c54-a6d5-ccaebae7ff4a"
      },
      "execution_count": 15,
      "outputs": [
        {
          "output_type": "display_data",
          "data": {
            "text/plain": [
              "<Figure size 432x288 with 2 Axes>"
            ],
            "image/png": "[encoded data removed]"
          },
          "metadata": {
            "needs_background": "light"
          }
        }
      ]
    },
    {
      "cell_type": "code",
      "source": [
        "CR = classification_report(y_test, y_pred)\n",
        "print('Classification report \\n')\n",
        "print(CR)"
      ],
      "metadata": {
        "colab": {
          "base_uri": "https://localhost:8080/"
        },
        "id": "848fhJydM9uJ",
        "outputId": "3e2fbe8a-b87d-424c-fb3e-df8820ee4279"
      },
      "execution_count": 16,
      "outputs": [
        {
          "output_type": "stream",
          "name": "stdout",
          "text": [
            "Classification report \n",
            "\n",
            "              precision    recall  f1-score   support\n",
            "\n",
            "           0       0.99      0.89      0.94       175\n",
            "           1       0.99      0.98      0.98       234\n",
            "           2       0.47      0.99      0.63       219\n",
            "           3       0.93      0.89      0.91       207\n",
            "           4       0.95      0.82      0.88       217\n",
            "           5       0.98      0.78      0.87       179\n",
            "           6       0.99      0.73      0.84       178\n",
            "           7       0.96      0.79      0.87       205\n",
            "           8       0.95      0.74      0.84       192\n",
            "           9       0.95      0.84      0.89       194\n",
            "\n",
            "    accuracy                           0.85      2000\n",
            "   macro avg       0.92      0.84      0.86      2000\n",
            "weighted avg       0.91      0.85      0.86      2000\n",
            "\n"
          ]
        }
      ]
    },
    {
      "cell_type": "markdown",
      "source": [
        "# Using GridSearchCV\n",
        "\n",
        "We can use a grid search cross-validation to explore combinations of parameters. Here we will adjust c (which control margin hardness) and gamma (which controls the sie of the radial basis function kernel), and determine the best model:"
      ],
      "metadata": {
        "id": "MkFYC2g6Odf0"
      }
    },
    {
      "cell_type": "code",
      "source": [
        "scaler = StandardScaler()\n",
        "\n",
        "X_train = scaler.fit_transform(X_train)\n",
        "X_test = scaler.fit_transform(X_test)\n",
        "\n",
        "C_range = np.logspace(-2,10,13)\n",
        "gamma_range=np.logspace(-9,3,13)\n",
        "param_grid = dict(gamma=gamma_range, C=C_range)\n",
        "cv = StratifiedShuffleSplit(n_splits = 3, test_size=0.2, random_state=42)\n",
        "grid = GridSearchCV(SVC(kernel='rbf'), param_grid=param_grid, cv=cv)\n",
        "grid.fit(X_train, y_train.ravel())"
      ],
      "metadata": {
        "id": "tZW42JUlOZoc"
      },
      "execution_count": null,
      "outputs": []
    },
    {
      "cell_type": "code",
      "source": [
        "print('The best parameters are %s with a score of %0.2f' % (grid.best_params_, grid.best_score_))"
      ],
      "metadata": {
        "id": "tmxR1UNmQMBq"
      },
      "execution_count": null,
      "outputs": []
    }
  ]
}