{
  "nbformat": 4,
  "nbformat_minor": 0,
  "metadata": {
    "colab": {
      "name": "MLP_Wk4_California_Housing_Dataset.ipynb",
      "provenance": [],
      "toc_visible": true
    },
    "kernelspec": {
      "name": "python3",
      "display_name": "Python 3"
    },
    "language_info": {
      "name": "python"
    }
  },
  "cells": [
    {
      "cell_type": "markdown",
      "source": [
        "# California housing dataset"
      ],
      "metadata": {
        "id": "NHzLzpS221dm"
      }
    },
    {
      "cell_type": "markdown",
      "source": [
        "This colab introduces California Housing dataset that we will be using for regression demonstration.\n",
        "\n",
        "We also list down the steps for typical dataset exploration, which can be applied broadly t any dataset."
      ],
      "metadata": {
        "id": "8DWBUGfB27e_"
      }
    },
    {
      "cell_type": "markdown",
      "source": [
        "# Loading the dataset"
      ],
      "metadata": {
        "id": "y2KKd9XQObJS"
      }
    },
    {
      "cell_type": "code",
      "source": [
        "from sklearn.datasets import fetch_california_housing"
      ],
      "metadata": {
        "id": "rvnejvCx3aC8"
      },
      "execution_count": null,
      "outputs": []
    },
    {
      "cell_type": "markdown",
      "source": [
        "Let's load the dataset into a dataframe"
      ],
      "metadata": {
        "id": "t5hwf4JROj3Q"
      }
    },
    {
      "cell_type": "code",
      "source": [
        "california_housing = fetch_california_housing(as_frame=True)"
      ],
      "metadata": {
        "id": "BU7F9SOHOopq"
      },
      "execution_count": null,
      "outputs": []
    },
    {
      "cell_type": "code",
      "source": [
        "type(california_housing)"
      ],
      "metadata": {
        "id": "d1Baw1GlOteY"
      },
      "execution_count": null,
      "outputs": []
    },
    {
      "cell_type": "markdown",
      "source": [
        "This returns a Bunch object data which is a dictionary like object with the following attributes:\n",
        "\n",
        "* data, which has the feature matrix.\n",
        "* target, which is the label vector\n",
        "* feature_names contains the names of the features.\n",
        "* DESCR has the full description of dataset.\n",
        "* frame contains dataframe with data and target"
      ],
      "metadata": {
        "id": "ijeJaLKwO4lG"
      }
    },
    {
      "cell_type": "markdown",
      "source": [
        "# Dataset Exploration"
      ],
      "metadata": {
        "id": "X6fVmxRZR-Sm"
      }
    },
    {
      "cell_type": "markdown",
      "source": [
        "## Step 1: Data description"
      ],
      "metadata": {
        "id": "y1ubRURuPIn5"
      }
    },
    {
      "cell_type": "code",
      "source": [
        "print(california_housing.DESCR)"
      ],
      "metadata": {
        "id": "-ODRgIh8PMDu"
      },
      "execution_count": null,
      "outputs": []
    },
    {
      "cell_type": "markdown",
      "source": [
        "## Step 2: Examine shape of feature matrix\n",
        "\n",
        "Number of examples and features can be obtained via shape of california_housing.data"
      ],
      "metadata": {
        "id": "58rkazs_SLhr"
      }
    },
    {
      "cell_type": "code",
      "source": [
        "california_housing.data.shape"
      ],
      "metadata": {
        "id": "0PucXYwmSYQ2"
      },
      "execution_count": null,
      "outputs": []
    },
    {
      "cell_type": "code",
      "source": [
        "type(california_housing.data)"
      ],
      "metadata": {
        "id": "tq4xiu3rS7id"
      },
      "execution_count": null,
      "outputs": []
    },
    {
      "cell_type": "markdown",
      "source": [
        "## Step 3: Examine shape of label"
      ],
      "metadata": {
        "id": "_rke7o73S9nx"
      }
    },
    {
      "cell_type": "code",
      "source": [
        "california_housing.target.shape"
      ],
      "metadata": {
        "id": "wDXs3GFlTAeS"
      },
      "execution_count": null,
      "outputs": []
    },
    {
      "cell_type": "code",
      "source": [
        "type(california_housing.target)"
      ],
      "metadata": {
        "id": "JuUhbcFUTDSi"
      },
      "execution_count": null,
      "outputs": []
    },
    {
      "cell_type": "markdown",
      "source": [
        "## Step 4: Feature names"
      ],
      "metadata": {
        "id": "NsYvFRcPTGId"
      }
    },
    {
      "cell_type": "code",
      "source": [
        "california_housing.feature_names"
      ],
      "metadata": {
        "id": "FjgvTxmZTKex"
      },
      "execution_count": null,
      "outputs": []
    },
    {
      "cell_type": "markdown",
      "source": [
        "## Step 5: Examine sample training examples"
      ],
      "metadata": {
        "id": "TWs0y1olTPZp"
      }
    },
    {
      "cell_type": "code",
      "source": [
        "california_housing.frame.head()"
      ],
      "metadata": {
        "id": "jsmCOcfYTS8F"
      },
      "execution_count": null,
      "outputs": []
    },
    {
      "cell_type": "markdown",
      "source": [
        "## Step 6: Examine features"
      ],
      "metadata": {
        "id": "3hqRC4WxTcgr"
      }
    },
    {
      "cell_type": "code",
      "source": [
        "california_housing.data.head()"
      ],
      "metadata": {
        "id": "oFJR_cuZTe2p"
      },
      "execution_count": null,
      "outputs": []
    },
    {
      "cell_type": "markdown",
      "source": [
        "## Step 7: Examine target"
      ],
      "metadata": {
        "id": "9W16-iiITiDv"
      }
    },
    {
      "cell_type": "code",
      "source": [
        "california_housing.target.head()"
      ],
      "metadata": {
        "id": "ALmSKDOdTlNw"
      },
      "execution_count": null,
      "outputs": []
    },
    {
      "cell_type": "markdown",
      "source": [
        "## Step 8: Examine details of features and labels"
      ],
      "metadata": {
        "id": "Y3YyzqnGTtPj"
      }
    },
    {
      "cell_type": "code",
      "source": [
        "california_housing.frame.info()"
      ],
      "metadata": {
        "id": "I8E_HZGiTw1x"
      },
      "execution_count": null,
      "outputs": []
    },
    {
      "cell_type": "markdown",
      "source": [
        "## Step 9: Feature and target histograms"
      ],
      "metadata": {
        "id": "V1bKahRxT3Jw"
      }
    },
    {
      "cell_type": "code",
      "source": [
        "import seaborn as sns\n",
        "import matplotlib.pyplot as plt"
      ],
      "metadata": {
        "id": "p9lIshzyT51V"
      },
      "execution_count": null,
      "outputs": []
    },
    {
      "cell_type": "code",
      "source": [
        "california_housing.frame.hist(figsize=(12,10),bins=30,edgecolor='black')\n",
        "plt.subplots_adjust(hspace=0.7,wspace=0.4)"
      ],
      "metadata": {
        "id": "jrhf7sEyT-Rq"
      },
      "execution_count": null,
      "outputs": []
    },
    {
      "cell_type": "markdown",
      "source": [
        "## Step 10: Feature and target statistics"
      ],
      "metadata": {
        "id": "VV7FL30uUPiZ"
      }
    },
    {
      "cell_type": "code",
      "source": [
        "california_housing.frame.describe()"
      ],
      "metadata": {
        "id": "qKxWRAtZUSvk"
      },
      "execution_count": null,
      "outputs": []
    },
    {
      "cell_type": "markdown",
      "source": [
        "## Step 11: Pairplot"
      ],
      "metadata": {
        "id": "EQBef4iiUXD1"
      }
    },
    {
      "cell_type": "code",
      "source": [
        "_=sns.pairplot(data=california_housing.frame, hue='MedHouseVal', palette='viridis')"
      ],
      "metadata": {
        "id": "6AHkPQjAUaN2"
      },
      "execution_count": null,
      "outputs": []
    }
  ]
}