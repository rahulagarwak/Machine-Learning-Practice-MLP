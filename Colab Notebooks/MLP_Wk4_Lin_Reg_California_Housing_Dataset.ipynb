{
  "nbformat": 4,
  "nbformat_minor": 0,
  "metadata": {
    "colab": {
      "name": "MLP_Wk4_Lin_Reg_California_Housing_Dataset.ipynb",
      "provenance": [],
      "toc_visible": true,
      "collapsed_sections": []
    },
    "kernelspec": {
      "name": "python3",
      "display_name": "Python 3"
    },
    "language_info": {
      "name": "python"
    }
  },
  "cells": [
    {
      "cell_type": "markdown",
      "source": [
        "# Linear Regressions for house price prediction"
      ],
      "metadata": {
        "id": "NHzLzpS221dm"
      }
    },
    {
      "cell_type": "markdown",
      "source": [
        "In this colab, we will build different linear regression models for california house price prediction.\n",
        "\n",
        "1. Linear Regression (normal eqn and iterative optimization)\n",
        "2. Polynomial regression\n",
        "3. Regularized regression models- ridge and lasso\n",
        "\n",
        "We will set regularization rate and polynomial degree with hyper parameter tuning and cross validation.\n",
        "\n",
        "We will compare different models in terms of their parameter vectors and mean absolute error on train, dev and test sets."
      ],
      "metadata": {
        "id": "d8LzCXglE9SC"
      }
    },
    {
      "cell_type": "code",
      "source": [
        "#Imports\n",
        "\n",
        "import numpy as np\n",
        "import pandas as pd\n",
        "import matplotlib.pyplot as plt\n",
        "import seaborn as sns\n",
        "\n",
        "from scipy.stats import loguniform\n",
        "from scipy.stats import uniform\n",
        "\n",
        "from sklearn.datasets import fetch_california_housing\n",
        "from sklearn.dummy import DummyRegressor\n",
        "\n",
        "from sklearn.linear_model import LinearRegression\n",
        "from sklearn.linear_model import Lasso\n",
        "from sklearn.linear_model import LassoCV\n",
        "from sklearn.linear_model import Ridge\n",
        "from sklearn.linear_model import RidgeCV\n",
        "from sklearn.linear_model import SGDRegressor\n",
        "\n",
        "from sklearn.metrics import mean_squared_error\n",
        "from sklearn.metrics import mean_absolute_error\n",
        "from sklearn.metrics import mean_absolute_percentage_error\n",
        "\n",
        "from sklearn.model_selection import cross_validate\n",
        "from sklearn.model_selection import cross_val_score\n",
        "from sklearn.model_selection import train_test_split\n",
        "from sklearn.model_selection import ShuffleSplit\n",
        "from sklearn.model_selection import validation_curve\n",
        "from sklearn.model_selection import GridSearchCV\n",
        "from sklearn.model_selection import RandomizedSearchCV\n",
        "\n",
        "from sklearn.preprocessing import PolynomialFeatures\n",
        "from sklearn.preprocessing import StandardScaler\n",
        "\n",
        "from sklearn.pipeline import Pipeline\n"
      ],
      "metadata": {
        "id": "RyTxekJnV5kv"
      },
      "execution_count": 1,
      "outputs": []
    },
    {
      "cell_type": "markdown",
      "source": [
        "# Common set up"
      ],
      "metadata": {
        "id": "hO03ZVclVwO0"
      }
    },
    {
      "cell_type": "code",
      "source": [
        "#set random seed\n",
        "np.random.seed(306)"
      ],
      "metadata": {
        "id": "PC6ouaI1W90c"
      },
      "execution_count": 2,
      "outputs": []
    },
    {
      "cell_type": "code",
      "source": [
        "# Configure shuffle splt\n",
        "cv = ShuffleSplit(n_splits=10, test_size=0.2, random_state=42)"
      ],
      "metadata": {
        "id": "BL8spOKwXCuQ"
      },
      "execution_count": 3,
      "outputs": []
    },
    {
      "cell_type": "markdown",
      "source": [
        "# Data Loading and splitting"
      ],
      "metadata": {
        "id": "0s5MaK0oaDP3"
      }
    },
    {
      "cell_type": "code",
      "source": [
        "features, labels = fetch_california_housing(as_frame=True, return_X_y=True)\n",
        "com_train_features, test_features, com_train_labels, test_labels = train_test_split(features,labels,random_state=42)\n",
        "train_features, dev_features, train_labels, dev_labels = train_test_split(com_train_features, com_train_labels, random_state=42)"
      ],
      "metadata": {
        "id": "3lexvTqEaXXp"
      },
      "execution_count": 4,
      "outputs": []
    },
    {
      "cell_type": "markdown",
      "source": [
        "# Linear Regression with normal equation"
      ],
      "metadata": {
        "id": "oErgIEWqar0Q"
      }
    },
    {
      "cell_type": "markdown",
      "source": [
        "Let's use normal equation method to train linear regression model.\n",
        "\n",
        "We set up pipeline with two stages:\n",
        "\n",
        "* Feature scaling to scale features and \n",
        "* Linear regression on the tranformed feature matrix.\n",
        "\n",
        "Throughout this colab, we will have the following pattern for each estimator:\n",
        "\n",
        "* We will be using Pipeline for combining data preprocessing and modeling steps.\n",
        "* cross_validate for training the model with ShuffleSplit cross validation and neg-Mean_absolute_error as a scoring metric.\n",
        "* Convert the scores to error and report mean absolute errors on the dev set."
      ],
      "metadata": {
        "id": "HW3Pb8KlHZvD"
      }
    },
    {
      "cell_type": "code",
      "source": [
        "lin_reg_pipeline = Pipeline([('feature_scaling', StandardScaler()),\n",
        "                             ('lin_reg',LinearRegression())])\n",
        "lin_reg_cv_results = cross_validate(lin_reg_pipeline,\n",
        "                                    com_train_features,\n",
        "                                    com_train_labels,\n",
        "                                    cv=cv,\n",
        "                                    scoring='neg_mean_absolute_error',\n",
        "                                    return_train_score=True,\n",
        "                                    return_estimator=True)\n",
        "lin_reg_train_error = -1 * lin_reg_cv_results['train_score']\n",
        "lin_reg_test_error = -1 * lin_reg_cv_results['test_score']\n",
        "print(f'{lin_reg_train_error.mean():.3f} +/- {lin_reg_train_error.std():.3f}')\n",
        "print(f'{lin_reg_test_error.mean():.3f} +/- {lin_reg_test_error.std():.3f}')"
      ],
      "metadata": {
        "id": "noywbPbObY1x",
        "outputId": "0b5db62d-57ae-4c37-b781-73a8673cda5f",
        "colab": {
          "base_uri": "https://localhost:8080/"
        }
      },
      "execution_count": 41,
      "outputs": [
        {
          "output_type": "stream",
          "name": "stdout",
          "text": [
            "0.530 +/- 0.002\n",
            "0.527 +/- 0.008\n"
          ]
        }
      ]
    },
    {
      "cell_type": "code",
      "source": [
        "lin_reg_cv_results"
      ],
      "metadata": {
        "id": "S5Y93c4ga3YA",
        "outputId": "7ca6d741-2ad2-43a5-8089-405a61dfa989",
        "colab": {
          "base_uri": "https://localhost:8080/"
        }
      },
      "execution_count": 42,
      "outputs": [
        {
          "output_type": "execute_result",
          "data": {
            "text/plain": [
              "{'estimator': [Pipeline(steps=[('feature_scaling', StandardScaler()),\n",
              "                  ('lin_reg', LinearRegression())]),\n",
              "  Pipeline(steps=[('feature_scaling', StandardScaler()),\n",
              "                  ('lin_reg', LinearRegression())]),\n",
              "  Pipeline(steps=[('feature_scaling', StandardScaler()),\n",
              "                  ('lin_reg', LinearRegression())]),\n",
              "  Pipeline(steps=[('feature_scaling', StandardScaler()),\n",
              "                  ('lin_reg', LinearRegression())]),\n",
              "  Pipeline(steps=[('feature_scaling', StandardScaler()),\n",
              "                  ('lin_reg', LinearRegression())]),\n",
              "  Pipeline(steps=[('feature_scaling', StandardScaler()),\n",
              "                  ('lin_reg', LinearRegression())]),\n",
              "  Pipeline(steps=[('feature_scaling', StandardScaler()),\n",
              "                  ('lin_reg', LinearRegression())]),\n",
              "  Pipeline(steps=[('feature_scaling', StandardScaler()),\n",
              "                  ('lin_reg', LinearRegression())]),\n",
              "  Pipeline(steps=[('feature_scaling', StandardScaler()),\n",
              "                  ('lin_reg', LinearRegression())]),\n",
              "  Pipeline(steps=[('feature_scaling', StandardScaler()),\n",
              "                  ('lin_reg', LinearRegression())])],\n",
              " 'fit_time': array([0.02095127, 0.0469296 , 0.05059528, 0.05047393, 0.03122759,\n",
              "        0.02384591, 0.02107763, 0.02462602, 0.03284574, 0.02380443]),\n",
              " 'score_time': array([0.01911521, 0.00980544, 0.01088715, 0.01514101, 0.00296974,\n",
              "        0.0030489 , 0.00305438, 0.00598502, 0.00336456, 0.00306535]),\n",
              " 'test_score': array([-0.51461906, -0.52859333, -0.53008718, -0.51739076, -0.53320319,\n",
              "        -0.53014581, -0.53485988, -0.51595501, -0.53773993, -0.52754819]),\n",
              " 'train_score': array([-0.53432327, -0.52950337, -0.52972591, -0.53233173, -0.52827875,\n",
              "        -0.53088043, -0.52799365, -0.53377084, -0.5269963 , -0.53021738])}"
            ]
          },
          "metadata": {},
          "execution_count": 42
        }
      ]
    },
    {
      "cell_type": "markdown",
      "source": [
        "# Linear regression with SGD\n",
        "\n",
        "Let's use iterative optimization method to train linear regression model.\n",
        "\n",
        "We use pipeline with two stages:\n",
        "1. Feature Scaling and\n",
        "2. SGD regression on the transformed feature matrix"
      ],
      "metadata": {
        "id": "hP8jNh8TlHWf"
      }
    },
    {
      "cell_type": "code",
      "source": [
        "sgd_reg_pipeline = Pipeline([('feature_scaling', StandardScaler()),\n",
        "                             ('sgd_reg',SGDRegressor(max_iter=np.ceil(1e6/com_train_features.shape[0]),\n",
        "                                            early_stopping=True,\n",
        "                                            eta0=1e-4,\n",
        "                                            learning_rate='constant',\n",
        "                                            tol=1e-5,\n",
        "                                            validation_fraction=0.1,\n",
        "                                            n_iter_no_change=5,\n",
        "                                            average=10,\n",
        "                                            random_state=42))])\n",
        "\n",
        "sgd_reg_cv_results = cross_validate(sgd_reg_pipeline,\n",
        "                              com_train_features,\n",
        "                              com_train_labels,\n",
        "                              cv=cv,\n",
        "                              scoring='neg_mean_absolute_error',\n",
        "                              return_train_score=True,\n",
        "                              return_estimator=True)\n",
        "\n",
        "sgd_train_error = -1 * sgd_reg_cv_results['train_score']\n",
        "sgd_test_error = -1 * sgd_reg_cv_results['test_score']\n",
        "print(sgd_train_error.mean(),'+/-',lin_reg_train_error.std())\n",
        "print(sgd_test_error.mean(),'+/-',lin_reg_test_error.std())"
      ],
      "metadata": {
        "id": "Huel-bSmlXmI",
        "outputId": "9be91464-d32e-40cd-afdc-1303a6a328b1",
        "colab": {
          "base_uri": "https://localhost:8080/"
        }
      },
      "execution_count": 7,
      "outputs": [
        {
          "output_type": "stream",
          "name": "stdout",
          "text": [
            "0.5640399853222634 +/- 0.002321293528619106\n",
            "0.5607392935103552 +/- 0.007781288307852414\n"
          ]
        }
      ]
    },
    {
      "cell_type": "markdown",
      "source": [
        "# Polynomial regression\n",
        "\n",
        "We will use degree 2 followed by validation curve to find right degree to use for polynomial models."
      ],
      "metadata": {
        "id": "xOpKAHAimjdT"
      }
    },
    {
      "cell_type": "code",
      "source": [
        "poly_reg_pipeline = Pipeline([('poly', PolynomialFeatures(degree=2)),\n",
        "                              ('feature_scaling', StandardScaler()),\n",
        "                              ('lin_reg',LinearRegression())])\n",
        "poly_reg_cv_results = cross_validate(poly_reg_pipeline,\n",
        "                                    com_train_features,\n",
        "                                    com_train_labels,\n",
        "                                    cv=cv,\n",
        "                                    scoring='neg_mean_absolute_error',\n",
        "                                    return_train_score=True,\n",
        "                                    return_estimator=True)\n",
        "poly_reg_train_error = -1 * poly_reg_cv_results['train_score']\n",
        "poly_reg_test_error = -1 * poly_reg_cv_results['test_score']\n",
        "print(poly_reg_train_error.mean(),'+/-',poly_reg_train_error.std())\n",
        "print(poly_reg_test_error.mean(),'+/-',poly_reg_test_error.std())"
      ],
      "metadata": {
        "id": "_Ql-gIFcn5ij",
        "outputId": "dae09d01-cf71-4781-ca0d-e196250b2c82",
        "colab": {
          "base_uri": "https://localhost:8080/"
        }
      },
      "execution_count": 8,
      "outputs": [
        {
          "output_type": "stream",
          "name": "stdout",
          "text": [
            "0.4609643523643526 +/- 0.002977081038774082\n",
            "0.4854459947853935 +/- 0.03031241731076378\n"
          ]
        }
      ]
    },
    {
      "cell_type": "markdown",
      "source": [
        "Notice the reduction in error\n",
        "\n",
        "We would now use interaction feature terms only"
      ],
      "metadata": {
        "id": "uenoKvJUpgQC"
      }
    },
    {
      "cell_type": "code",
      "source": [
        "poly_reg_pipeline = Pipeline([('poly', PolynomialFeatures(degree=2, interaction_only=True)),\n",
        "                              ('feature_scaling', StandardScaler()),\n",
        "                              ('lin_reg',LinearRegression())])\n",
        "poly_reg_cv_results = cross_validate(poly_reg_pipeline,\n",
        "                                    com_train_features,\n",
        "                                    com_train_labels,\n",
        "                                    cv=cv,\n",
        "                                    scoring='neg_mean_absolute_error',\n",
        "                                    return_train_score=True,\n",
        "                                    return_estimator=True)\n",
        "poly_reg_train_error = -1 * poly_reg_cv_results['train_score']\n",
        "poly_reg_test_error = -1 * poly_reg_cv_results['test_score']\n",
        "print(poly_reg_train_error.mean(),'+/-',poly_reg_train_error.std())\n",
        "print(poly_reg_test_error.mean(),'+/-',poly_reg_test_error.std())"
      ],
      "metadata": {
        "id": "PDi_DGnCpm26",
        "outputId": "41112209-1128-4a33-f0ab-891b63c913b9",
        "colab": {
          "base_uri": "https://localhost:8080/"
        }
      },
      "execution_count": 9,
      "outputs": [
        {
          "output_type": "stream",
          "name": "stdout",
          "text": [
            "0.4778194330975899 +/- 0.002820194504598809\n",
            "0.4968715693459049 +/- 0.02438651181247636\n"
          ]
        }
      ]
    },
    {
      "cell_type": "markdown",
      "source": [
        "Let's figure out the best degree suited for regression task"
      ],
      "metadata": {
        "id": "B8LKvL4MpxX1"
      }
    },
    {
      "cell_type": "code",
      "source": [
        "degree = [1,2,3,4,5]\n",
        "\n",
        "train_scores, test_scores = validation_curve(poly_reg_pipeline, com_train_features, com_train_labels, param_name='poly__degree',\n",
        "                                             param_range=degree, cv=cv, scoring='neg_mean_absolute_error', n_jobs=2)\n",
        "\n",
        "train_errors, test_errors = -train_scores, -test_scores\n",
        "plt.plot(degree, train_errors.mean(axis=1),'b-x',label='Training error')\n",
        "plt.plot(degree, test_errors.mean(axis=1),'r-x',label='Test error')\n",
        "plt.legend()\n",
        "\n",
        "plt.ylabel('degree')\n",
        "plt.xlabel('Mean absolute error (k$)')\n",
        "_=plt.title('Validation curve for polynomial regression')"
      ],
      "metadata": {
        "id": "BkecgS5Lp3Tu",
        "outputId": "9c8a20b4-38b9-41d6-d127-7c1bc6d59da5",
        "colab": {
          "base_uri": "https://localhost:8080/",
          "height": 295
        }
      },
      "execution_count": 10,
      "outputs": [
        {
          "output_type": "display_data",
          "data": {
            "text/plain": [
              "<Figure size 432x288 with 1 Axes>"
            ],
            "image/png": "[encoded data removed]"
          },
          "metadata": {
            "needs_background": "light"
          }
        }
      ]
    },
    {
      "cell_type": "markdown",
      "source": [
        "#Ridge Regression"
      ],
      "metadata": {
        "id": "T1TjE9WiuCmy"
      }
    },
    {
      "cell_type": "markdown",
      "source": [
        "The polynomial models have a tendency to overfit- if we use higher order polynomial features. We will use Ridge regression-which penalizes for excessive model complexity in the polynomial regression by adding a regularization term. Here we specify the regularization rate alpha as 0.5 and train the regression model. Later we will launch hyperparameter search for the right value of alpha such that it leads to the least cross validation errors."
      ],
      "metadata": {
        "id": "fkGbZ7-kuGHD"
      }
    },
    {
      "cell_type": "code",
      "source": [
        "ridge_reg_pipeline = Pipeline([('poly', PolynomialFeatures(degree=2)),\n",
        "                              ('feature_scaling', StandardScaler()),\n",
        "                              ('ridge',Ridge(alpha=0.5))])\n",
        "ridge_reg_cv_results = cross_validate(ridge_reg_pipeline,\n",
        "                                      com_train_features,\n",
        "                                      com_train_labels,\n",
        "                                      cv=cv,\n",
        "                                      scoring='neg_mean_absolute_error',\n",
        "                                      return_train_score=True,\n",
        "                                      return_estimator=True)\n",
        "ridge_reg_train_error = -1 * ridge_reg_cv_results['train_score']\n",
        "ridge_reg_test_error = -1 * ridge_reg_cv_results['test_score']\n",
        "print(ridge_reg_train_error.mean(),'+/-',ridge_reg_train_error.std())\n",
        "print(ridge_reg_test_error.mean(),'+/-',ridge_reg_test_error.std())"
      ],
      "metadata": {
        "id": "CLtuyIWlusOc",
        "outputId": "aebd1b8d-0fb7-46a6-e9a8-2f1529bc4e8a",
        "colab": {
          "base_uri": "https://localhost:8080/"
        }
      },
      "execution_count": 46,
      "outputs": [
        {
          "output_type": "stream",
          "name": "stdout",
          "text": [
            "0.48056875234962393 +/- 0.003485200424375767\n",
            "0.48669297649039295 +/- 0.0056520049058045455\n"
          ]
        }
      ]
    },
    {
      "cell_type": "markdown",
      "source": [
        "# HPT for ridge regularization rate"
      ],
      "metadata": {
        "id": "PQ7HFpEGvHbU"
      }
    },
    {
      "cell_type": "code",
      "source": [
        "alpha_list = np.logspace(-4,0,num=20)\n",
        "ridge_reg_pipeline = Pipeline([('poly', PolynomialFeatures(degree=2)),\n",
        "                              ('feature_scaling', StandardScaler()),\n",
        "                              ('ridge_cv',RidgeCV(alphas=alpha_list,\n",
        "                                                  cv=cv,\n",
        "                                                  scoring='neg_mean_absolute_error'))])\n",
        "ridge_reg_cv_results = ridge_reg_pipeline.fit(com_train_features, com_train_labels)"
      ],
      "metadata": {
        "id": "lMdKvVgNz4Rz"
      },
      "execution_count": 12,
      "outputs": []
    },
    {
      "cell_type": "code",
      "source": [
        "print('Score with best alpha', ridge_reg_cv_results[-1].best_score_)\n",
        "print('Error with best alpha', -ridge_reg_cv_results[-1].best_score_)\n",
        "print('Best alpha', ridge_reg_cv_results[-1].alpha_)"
      ],
      "metadata": {
        "outputId": "698f70c4-91d3-4be1-d8ce-992d19ee81d8",
        "colab": {
          "base_uri": "https://localhost:8080/"
        },
        "id": "RioI5-y2z4R0"
      },
      "execution_count": 13,
      "outputs": [
        {
          "output_type": "stream",
          "name": "stdout",
          "text": [
            "Score with best alpha -0.4729407010073685\n",
            "Error with best alpha 0.4729407010073685\n",
            "Best alpha 0.007847599703514606\n"
          ]
        }
      ]
    },
    {
      "cell_type": "markdown",
      "source": [
        "## RidgeCV with cross validation"
      ],
      "metadata": {
        "id": "tRDrXIDHIgzH"
      }
    },
    {
      "cell_type": "markdown",
      "source": [
        "Exercise"
      ],
      "metadata": {
        "id": "1m-XY8i50eCf"
      }
    },
    {
      "cell_type": "markdown",
      "source": [
        "## Ridge HPT through GridSearchCV"
      ],
      "metadata": {
        "id": "kBxQ29QxxOfr"
      }
    },
    {
      "cell_type": "code",
      "source": [
        "ridge_grid_pipeline = Pipeline([('poly', PolynomialFeatures(degree=2)),\n",
        "                                ('feature_scaling', StandardScaler()),\n",
        "                                ('ridge',Ridge())])\n",
        "\n",
        "param_grid = {'poly__degree':(1,2,3),\n",
        "              'ridge__alpha':np.logspace(-4,0,num=20)}\n",
        "\n",
        "ridge_grid_search = GridSearchCV(ridge_grid_pipeline,\n",
        "                                 param_grid=param_grid,\n",
        "                                 n_jobs=-1,\n",
        "                                 cv=cv,\n",
        "                                 scoring='neg_mean_absolute_error',\n",
        "                                 return_train_score=True)\n",
        "ridge_grid_search.fit(com_train_features, com_train_labels)"
      ],
      "metadata": {
        "id": "KXKDUCq4xR1h",
        "outputId": "59f8eecd-1581-45e2-83ba-710abac63a5b",
        "colab": {
          "base_uri": "https://localhost:8080/"
        }
      },
      "execution_count": 14,
      "outputs": [
        {
          "output_type": "execute_result",
          "data": {
            "text/plain": [
              "GridSearchCV(cv=ShuffleSplit(n_splits=10, random_state=42, test_size=0.2, train_size=None),\n",
              "             estimator=Pipeline(steps=[('poly', PolynomialFeatures()),\n",
              "                                       ('feature_scaling', StandardScaler()),\n",
              "                                       ('ridge', Ridge())]),\n",
              "             n_jobs=-1,\n",
              "             param_grid={'poly__degree': (1, 2, 3),\n",
              "                         'ridge__alpha': array([1.00000000e-04, 1.62377674e-04, 2.63665090e-04, 4.28133240e-04,\n",
              "       6.95192796e-04, 1.12883789e-03, 1.83298071e-03, 2.97635144e-03,\n",
              "       4.83293024e-03, 7.84759970e-03, 1.27427499e-02, 2.06913808e-02,\n",
              "       3.35981829e-02, 5.45559478e-02, 8.85866790e-02, 1.43844989e-01,\n",
              "       2.33572147e-01, 3.79269019e-01, 6.15848211e-01, 1.00000000e+00])},\n",
              "             return_train_score=True, scoring='neg_mean_absolute_error')"
            ]
          },
          "metadata": {},
          "execution_count": 14
        }
      ]
    },
    {
      "cell_type": "markdown",
      "source": [
        "ridge_grid_search.best_index_ gives us the index of the best parameter in the list."
      ],
      "metadata": {
        "id": "h-T8b09Bycn5"
      }
    },
    {
      "cell_type": "code",
      "source": [
        "mean_train_error = -1 * ridge_grid_search.cv_results_['mean_train_score'][ridge_grid_search.best_index_]\n",
        "mean_test_error = -1 * ridge_grid_search.cv_results_['mean_test_score'][ridge_grid_search.best_index_]\n",
        "std_train_error = ridge_grid_search.cv_results_['std_train_score'][ridge_grid_search.best_index_]\n",
        "std_test_error = ridge_grid_search.cv_results_['std_test_score'][ridge_grid_search.best_index_]"
      ],
      "metadata": {
        "id": "clwoUARSycGW"
      },
      "execution_count": 15,
      "outputs": []
    },
    {
      "cell_type": "code",
      "source": [
        "print('Best mean absolute error of polynomial ridge regression model on the train set:', mean_train_error,' +/- ', std_train_error)\n",
        "print('Mean absolute error of polynomial ridge regression model on the test set:', mean_test_error,' +/- ', std_test_error)"
      ],
      "metadata": {
        "id": "ag6wVLTGzLZf",
        "outputId": "ac80ce9a-2e34-408b-ef11-a0204ba77731",
        "colab": {
          "base_uri": "https://localhost:8080/"
        }
      },
      "execution_count": 16,
      "outputs": [
        {
          "output_type": "stream",
          "name": "stdout",
          "text": [
            "Best mean absolute error of polynomial ridge regression model on the train set: 0.46267528613770903  +/-  0.003513947906730257\n",
            "Mean absolute error of polynomial ridge regression model on the test set: 0.4738651176991914  +/-  0.014596293567007597\n"
          ]
        }
      ]
    },
    {
      "cell_type": "code",
      "source": [
        "print('Mean cross validated score', ridge_grid_search.best_score_)\n",
        "print('Mean cross validated error', -ridge_grid_search.best_score_)\n",
        "print('Best alpha', ridge_grid_search.best_params_)"
      ],
      "metadata": {
        "id": "JdPVJzQ-1AIQ",
        "outputId": "e94312de-318c-421b-aac5-b9f84d23802b",
        "colab": {
          "base_uri": "https://localhost:8080/"
        }
      },
      "execution_count": 17,
      "outputs": [
        {
          "output_type": "stream",
          "name": "stdout",
          "text": [
            "Mean cross validated score -0.4738651176991914\n",
            "Mean cross validated error 0.4738651176991914\n",
            "Best alpha {'poly__degree': 2, 'ridge__alpha': 0.007847599703514606}\n"
          ]
        }
      ]
    },
    {
      "cell_type": "markdown",
      "source": [
        "# Lasso regression"
      ],
      "metadata": {
        "id": "OwGUeH4I1luJ"
      }
    },
    {
      "cell_type": "markdown",
      "source": [
        "## Baseline model with fixed learning rate"
      ],
      "metadata": {
        "id": "2q8Qq4LI1oCM"
      }
    },
    {
      "cell_type": "code",
      "source": [
        "lasso_reg_pipeline = Pipeline([('poly', PolynomialFeatures(degree=2)),\n",
        "                              ('feature_scaling', StandardScaler()),\n",
        "                              ('lasso',Lasso(alpha=0.01))])\n",
        "lasso_reg_cv_results = cross_validate(lasso_reg_pipeline,\n",
        "                                      com_train_features,\n",
        "                                      com_train_labels,\n",
        "                                      cv=cv,\n",
        "                                      scoring='neg_mean_absolute_error',\n",
        "                                      return_train_score=True,\n",
        "                                      return_estimator=True)\n",
        "lasso_reg_train_error = -1 * lasso_reg_cv_results['train_score']\n",
        "lasso_reg_test_error = -1 * lasso_reg_cv_results['test_score']\n",
        "print(lasso_reg_train_error.mean(),'+/-',lasso_reg_train_error.std())\n",
        "print(lasso_reg_test_error.mean(),'+/-',lasso_reg_test_error.std())"
      ],
      "metadata": {
        "id": "d0DWS7eb1qjD",
        "outputId": "ef72b391-b3f6-484a-fa3a-1c717a91eff0",
        "colab": {
          "base_uri": "https://localhost:8080/"
        }
      },
      "execution_count": 18,
      "outputs": [
        {
          "output_type": "stream",
          "name": "stderr",
          "text": [
            "/usr/local/lib/python3.7/dist-packages/sklearn/linear_model/_coordinate_descent.py:648: ConvergenceWarning: Objective did not converge. You might want to increase the number of iterations, check the scale of the features or consider increasing regularisation. Duality gap: 2.986e+01, tolerance: 1.654e+00\n",
            "  coef_, l1_reg, l2_reg, X, y, max_iter, tol, rng, random, positive\n",
            "/usr/local/lib/python3.7/dist-packages/sklearn/linear_model/_coordinate_descent.py:648: ConvergenceWarning: Objective did not converge. You might want to increase the number of iterations, check the scale of the features or consider increasing regularisation. Duality gap: 3.109e+01, tolerance: 1.669e+00\n",
            "  coef_, l1_reg, l2_reg, X, y, max_iter, tol, rng, random, positive\n",
            "/usr/local/lib/python3.7/dist-packages/sklearn/linear_model/_coordinate_descent.py:648: ConvergenceWarning: Objective did not converge. You might want to increase the number of iterations, check the scale of the features or consider increasing regularisation. Duality gap: 1.849e+01, tolerance: 1.658e+00\n",
            "  coef_, l1_reg, l2_reg, X, y, max_iter, tol, rng, random, positive\n",
            "/usr/local/lib/python3.7/dist-packages/sklearn/linear_model/_coordinate_descent.py:648: ConvergenceWarning: Objective did not converge. You might want to increase the number of iterations, check the scale of the features or consider increasing regularisation. Duality gap: 9.202e+00, tolerance: 1.640e+00\n",
            "  coef_, l1_reg, l2_reg, X, y, max_iter, tol, rng, random, positive\n",
            "/usr/local/lib/python3.7/dist-packages/sklearn/linear_model/_coordinate_descent.py:648: ConvergenceWarning: Objective did not converge. You might want to increase the number of iterations, check the scale of the features or consider increasing regularisation. Duality gap: 2.669e+01, tolerance: 1.642e+00\n",
            "  coef_, l1_reg, l2_reg, X, y, max_iter, tol, rng, random, positive\n",
            "/usr/local/lib/python3.7/dist-packages/sklearn/linear_model/_coordinate_descent.py:648: ConvergenceWarning: Objective did not converge. You might want to increase the number of iterations, check the scale of the features or consider increasing regularisation. Duality gap: 1.359e+01, tolerance: 1.663e+00\n",
            "  coef_, l1_reg, l2_reg, X, y, max_iter, tol, rng, random, positive\n",
            "/usr/local/lib/python3.7/dist-packages/sklearn/linear_model/_coordinate_descent.py:648: ConvergenceWarning: Objective did not converge. You might want to increase the number of iterations, check the scale of the features or consider increasing regularisation. Duality gap: 2.914e+01, tolerance: 1.648e+00\n",
            "  coef_, l1_reg, l2_reg, X, y, max_iter, tol, rng, random, positive\n",
            "/usr/local/lib/python3.7/dist-packages/sklearn/linear_model/_coordinate_descent.py:648: ConvergenceWarning: Objective did not converge. You might want to increase the number of iterations, check the scale of the features or consider increasing regularisation. Duality gap: 1.584e+01, tolerance: 1.655e+00\n",
            "  coef_, l1_reg, l2_reg, X, y, max_iter, tol, rng, random, positive\n",
            "/usr/local/lib/python3.7/dist-packages/sklearn/linear_model/_coordinate_descent.py:648: ConvergenceWarning: Objective did not converge. You might want to increase the number of iterations, check the scale of the features or consider increasing regularisation. Duality gap: 9.074e+00, tolerance: 1.643e+00\n",
            "  coef_, l1_reg, l2_reg, X, y, max_iter, tol, rng, random, positive\n"
          ]
        },
        {
          "output_type": "stream",
          "name": "stdout",
          "text": [
            "0.5293087458828422 +/- 0.0027964209722316806\n",
            "0.5279892540601925 +/- 0.007894893222386762\n"
          ]
        },
        {
          "output_type": "stream",
          "name": "stderr",
          "text": [
            "/usr/local/lib/python3.7/dist-packages/sklearn/linear_model/_coordinate_descent.py:648: ConvergenceWarning: Objective did not converge. You might want to increase the number of iterations, check the scale of the features or consider increasing regularisation. Duality gap: 1.255e+01, tolerance: 1.658e+00\n",
            "  coef_, l1_reg, l2_reg, X, y, max_iter, tol, rng, random, positive\n"
          ]
        }
      ]
    },
    {
      "cell_type": "markdown",
      "source": [
        "# HPT for lasso regularization rate"
      ],
      "metadata": {
        "id": "_GAGnJOM14Hk"
      }
    },
    {
      "cell_type": "markdown",
      "source": [
        "## with Cross validation"
      ],
      "metadata": {
        "id": "GnNhPD497WLF"
      }
    },
    {
      "cell_type": "markdown",
      "source": [
        "exercise"
      ],
      "metadata": {
        "id": "RWW5zQwP7Y_j"
      }
    },
    {
      "cell_type": "markdown",
      "source": [
        "##with GridSearchCV"
      ],
      "metadata": {
        "id": "RPJZfRYc3L9V"
      }
    },
    {
      "cell_type": "code",
      "source": [
        "lasso_grid_pipeline = Pipeline([('poly', PolynomialFeatures()),\n",
        "                              ('feature_scaling', StandardScaler()),\n",
        "                              ('lasso',Lasso())])\n",
        "\n",
        "param_grid = {'poly__degree':(1,2,3),\n",
        "              'lasso__alpha': np.logspace(-4,0,num=20)}\n",
        "\n",
        "lasso_grid_search = GridSearchCV(lasso_grid_pipeline,\n",
        "                                 param_grid = param_grid,\n",
        "                                 n_jobs=2,\n",
        "                                 cv=cv,\n",
        "                                 scoring='neg_mean_absolute_error',\n",
        "                                 return_train_score=True)\n",
        "lasso_grid_search.fit(com_train_features, com_train_labels)"
      ],
      "metadata": {
        "id": "2hH6pYrc1-JC",
        "colab": {
          "base_uri": "https://localhost:8080/"
        },
        "outputId": "48c855b3-1179-469d-ac38-6862653c1f12"
      },
      "execution_count": 19,
      "outputs": [
        {
          "output_type": "stream",
          "name": "stderr",
          "text": [
            "/usr/local/lib/python3.7/dist-packages/sklearn/linear_model/_coordinate_descent.py:648: ConvergenceWarning: Objective did not converge. You might want to increase the number of iterations, check the scale of the features or consider increasing regularisation. Duality gap: 2.638e+03, tolerance: 2.066e+00\n",
            "  coef_, l1_reg, l2_reg, X, y, max_iter, tol, rng, random, positive\n"
          ]
        },
        {
          "output_type": "execute_result",
          "data": {
            "text/plain": [
              "GridSearchCV(cv=ShuffleSplit(n_splits=10, random_state=42, test_size=0.2, train_size=None),\n",
              "             estimator=Pipeline(steps=[('poly', PolynomialFeatures()),\n",
              "                                       ('feature_scaling', StandardScaler()),\n",
              "                                       ('lasso', Lasso())]),\n",
              "             n_jobs=2,\n",
              "             param_grid={'lasso__alpha': array([1.00000000e-04, 1.62377674e-04, 2.63665090e-04, 4.28133240e-04,\n",
              "       6.95192796e-04, 1.12883789e-03, 1.83298071e-03, 2.97635144e-03,\n",
              "       4.83293024e-03, 7.84759970e-03, 1.27427499e-02, 2.06913808e-02,\n",
              "       3.35981829e-02, 5.45559478e-02, 8.85866790e-02, 1.43844989e-01,\n",
              "       2.33572147e-01, 3.79269019e-01, 6.15848211e-01, 1.00000000e+00]),\n",
              "                         'poly__degree': (1, 2, 3)},\n",
              "             return_train_score=True, scoring='neg_mean_absolute_error')"
            ]
          },
          "metadata": {},
          "execution_count": 19
        }
      ]
    },
    {
      "cell_type": "code",
      "source": [
        "mean_train_error = -1 * lasso_grid_search.cv_results_['mean_train_score'][lasso_grid_search.best_index_]\n",
        "mean_test_error = -1 * lasso_grid_search.cv_results_['mean_test_score'][lasso_grid_search.best_index_]\n",
        "std_train_error = lasso_grid_search.cv_results_['std_train_score'][lasso_grid_search.best_index_]\n",
        "std_test_error = lasso_grid_search.cv_results_['std_test_score'][lasso_grid_search.best_index_]"
      ],
      "metadata": {
        "id": "BWRpGVRR4KA9"
      },
      "execution_count": 20,
      "outputs": []
    },
    {
      "cell_type": "code",
      "source": [
        "print('Best mean absolute error of polynomial lasso regression model on the train set:', mean_train_error,' +/- ', std_train_error)\n",
        "print('Mean absolute error of polynomial lasso regression model on the test set:', mean_test_error,' +/- ', std_test_error)"
      ],
      "metadata": {
        "id": "rLyARFU74tj_",
        "colab": {
          "base_uri": "https://localhost:8080/"
        },
        "outputId": "64699466-b9a8-4178-a422-18f404b277f9"
      },
      "execution_count": 21,
      "outputs": [
        {
          "output_type": "stream",
          "name": "stdout",
          "text": [
            "Best mean absolute error of polynomial lasso regression model on the train set: 0.4621567474002089  +/-  0.0029073058576692384\n",
            "Mean absolute error of polynomial lasso regression model on the test set: 0.48798304453391356  +/-  0.04575632976840528\n"
          ]
        }
      ]
    },
    {
      "cell_type": "code",
      "source": [
        "print('Mean cross validated score', lasso_grid_search.best_score_)\n",
        "print('Mean cross validated error', -lasso_grid_search.best_score_)\n",
        "print('Best alpha', lasso_grid_search.best_params_)"
      ],
      "metadata": {
        "id": "-IuePSPy4tj_",
        "colab": {
          "base_uri": "https://localhost:8080/"
        },
        "outputId": "8b886e18-67c2-4241-f669-fd98461a2ac9"
      },
      "execution_count": 22,
      "outputs": [
        {
          "output_type": "stream",
          "name": "stdout",
          "text": [
            "Mean cross validated score -0.48798304453391356\n",
            "Mean cross validated error 0.48798304453391356\n",
            "Best alpha {'lasso__alpha': 0.0001, 'poly__degree': 3}\n"
          ]
        }
      ]
    },
    {
      "cell_type": "markdown",
      "source": [
        "# SGD: Regularization and HPT"
      ],
      "metadata": {
        "id": "OABrCVR95ffQ"
      }
    },
    {
      "cell_type": "code",
      "source": [
        "poly_sgd_pipeline = Pipeline([('poly', PolynomialFeatures(degree=2)),\n",
        "                              ('feature_scaling', StandardScaler()),\n",
        "                              ('sgd_reg',SGDRegressor(penalty='elasticnet',\n",
        "                                                      random_state=42))])\n",
        "poly_sgd_cv_results = cross_validate(poly_sgd_pipeline,\n",
        "                                      com_train_features,\n",
        "                                      com_train_labels,\n",
        "                                      cv=cv,\n",
        "                                      n_jobs=2,\n",
        "                                      scoring='neg_mean_absolute_error',\n",
        "                                      return_train_score=True,\n",
        "                                      return_estimator=True)\n",
        "poly_sgd_train_error = -1 * poly_sgd_cv_results['train_score']\n",
        "poly_sgd_test_error = -1 * poly_sgd_cv_results['test_score']\n",
        "print(poly_sgd_train_error.mean(),'+/-',poly_sgd_train_error.std())\n",
        "print(poly_sgd_test_error.mean(),'+/-',poly_sgd_test_error.std())"
      ],
      "metadata": {
        "id": "_JUGNdw052pf",
        "colab": {
          "base_uri": "https://localhost:8080/"
        },
        "outputId": "07ec4d4a-36c5-48ee-e2be-1bfbd77e9fc3"
      },
      "execution_count": 23,
      "outputs": [
        {
          "output_type": "stream",
          "name": "stdout",
          "text": [
            "10824283052.546406 +/- 4423288211.831954\n",
            "10946788540.249527 +/- 5396536227.7027445\n"
          ]
        }
      ]
    },
    {
      "cell_type": "markdown",
      "source": [
        "Let's search for best set of params for ploy+SGD"
      ],
      "metadata": {
        "id": "D5-KD4kQAZiS"
      }
    },
    {
      "cell_type": "code",
      "source": [
        "class uniform_int:\n",
        "  def __init__(self,a,b):\n",
        "    self.distribution = uniform(a,b)\n",
        "  def rvs(self, *args, **kwargs):\n",
        "    return self._distribution.rvs(*args, **kwargs).astype(int)"
      ],
      "metadata": {
        "id": "eu--saJAAgPU"
      },
      "execution_count": 24,
      "outputs": []
    },
    {
      "cell_type": "markdown",
      "source": [
        "Let's specify RandomizedSearchCV setup"
      ],
      "metadata": {
        "id": "mNfq5_7vA9T1"
      }
    },
    {
      "cell_type": "code",
      "source": [
        "param_distributions = {\n",
        "    'poly__degree':[1,2,3],\n",
        "    'sgd_reg__learning_rate':['constant','adaptive','invscalig'],\n",
        "    'sgd_reg__l1_ratio':uniform(0,1),\n",
        "    'sgd_reg__eta0':loguniform(1e-5,1),\n",
        "    'sgd_reg__power_t':uniform(0,1)\n",
        "}\n",
        "\n",
        "poly_sgd_random_search = RandomizedSearchCV(\n",
        "    poly_sgd_pipeline, param_distributions=param_distributions,\n",
        "    n_iter=10,cv=cv,verbose=1,scoring='neg_mean_absolute_error'\n",
        ")\n",
        "\n",
        "poly_sgd_random_search.fit(com_train_features, com_train_labels)"
      ],
      "metadata": {
        "id": "7psW6alZBHSm",
        "colab": {
          "base_uri": "https://localhost:8080/"
        },
        "outputId": "a51bcf24-519d-49a1-b6f6-ba10baf7ab19"
      },
      "execution_count": 26,
      "outputs": [
        {
          "output_type": "stream",
          "name": "stdout",
          "text": [
            "Fitting 10 folds for each of 10 candidates, totalling 100 fits\n"
          ]
        },
        {
          "output_type": "stream",
          "name": "stderr",
          "text": [
            "/usr/local/lib/python3.7/dist-packages/sklearn/linear_model/_stochastic_gradient.py:1507: ConvergenceWarning: Maximum number of iteration reached before convergence. Consider increasing max_iter to improve the fit.\n",
            "  ConvergenceWarning,\n",
            "/usr/local/lib/python3.7/dist-packages/sklearn/model_selection/_validation.py:372: FitFailedWarning: \n",
            "60 fits failed out of a total of 100.\n",
            "The score on these train-test partitions for these parameters will be set to nan.\n",
            "If these failures are not expected, you can try to debug them by setting error_score='raise'.\n",
            "\n",
            "Below are more details about the failures:\n",
            "--------------------------------------------------------------------------------\n",
            "60 fits failed with the following error:\n",
            "Traceback (most recent call last):\n",
            "  File \"/usr/local/lib/python3.7/dist-packages/sklearn/linear_model/_stochastic_gradient.py\", line 185, in _get_learning_rate_type\n",
            "    return LEARNING_RATE_TYPES[learning_rate]\n",
            "KeyError: 'invscalig'\n",
            "\n",
            "The above exception was the direct cause of the following exception:\n",
            "\n",
            "Traceback (most recent call last):\n",
            "  File \"/usr/local/lib/python3.7/dist-packages/sklearn/model_selection/_validation.py\", line 680, in _fit_and_score\n",
            "    estimator.fit(X_train, y_train, **fit_params)\n",
            "  File \"/usr/local/lib/python3.7/dist-packages/sklearn/pipeline.py\", line 394, in fit\n",
            "    self._final_estimator.fit(Xt, y, **fit_params_last_step)\n",
            "  File \"/usr/local/lib/python3.7/dist-packages/sklearn/linear_model/_stochastic_gradient.py\", line 1546, in fit\n",
            "    sample_weight=sample_weight,\n",
            "  File \"/usr/local/lib/python3.7/dist-packages/sklearn/linear_model/_stochastic_gradient.py\", line 1472, in _fit\n",
            "    self._validate_params()\n",
            "  File \"/usr/local/lib/python3.7/dist-packages/sklearn/linear_model/_stochastic_gradient.py\", line 159, in _validate_params\n",
            "    self._get_learning_rate_type(self.learning_rate)\n",
            "  File \"/usr/local/lib/python3.7/dist-packages/sklearn/linear_model/_stochastic_gradient.py\", line 189, in _get_learning_rate_type\n",
            "    ) from e\n",
            "ValueError: learning rate invscalig is not supported. \n",
            "\n",
            "  warnings.warn(some_fits_failed_message, FitFailedWarning)\n",
            "/usr/local/lib/python3.7/dist-packages/sklearn/model_selection/_search.py:972: UserWarning: One or more of the test scores are non-finite: [            nan             nan             nan             nan\n",
            " -8.76051318e+09 -5.02897505e+00             nan             nan\n",
            " -5.27157323e-01 -2.05538260e+12]\n",
            "  category=UserWarning,\n"
          ]
        },
        {
          "output_type": "execute_result",
          "data": {
            "text/plain": [
              "RandomizedSearchCV(cv=ShuffleSplit(n_splits=10, random_state=42, test_size=0.2, train_size=None),\n",
              "                   estimator=Pipeline(steps=[('poly', PolynomialFeatures()),\n",
              "                                             ('feature_scaling',\n",
              "                                              StandardScaler()),\n",
              "                                             ('sgd_reg',\n",
              "                                              SGDRegressor(penalty='elasticnet',\n",
              "                                                           random_state=42))]),\n",
              "                   param_distributions={'poly__degree': [1, 2, 3],\n",
              "                                        'sgd_reg__eta0': <scipy.stats._distn_infrastructure.rv_frozen object at 0x7f9e6d168810>,\n",
              "                                        'sgd_reg__l1_ratio': <scipy.stats._distn_infrastructure.rv_frozen object at 0x7f9e6bc71450>,\n",
              "                                        'sgd_reg__learning_rate': ['constant',\n",
              "                                                                   'adaptive',\n",
              "                                                                   'invscalig'],\n",
              "                                        'sgd_reg__power_t': <scipy.stats._distn_infrastructure.rv_frozen object at 0x7f9e6bc717d0>},\n",
              "                   scoring='neg_mean_absolute_error', verbose=1)"
            ]
          },
          "metadata": {},
          "execution_count": 26
        }
      ]
    },
    {
      "cell_type": "markdown",
      "source": [
        "The best score can be obtained as follows:"
      ],
      "metadata": {
        "id": "q4wII0hfCBTN"
      }
    },
    {
      "cell_type": "code",
      "source": [
        "poly_sgd_random_search.best_score_"
      ],
      "metadata": {
        "id": "KC3Jo-19CD-_",
        "colab": {
          "base_uri": "https://localhost:8080/"
        },
        "outputId": "5bd1a265-2c70-4fb3-ece4-1b49bcfda3a0"
      },
      "execution_count": 27,
      "outputs": [
        {
          "output_type": "execute_result",
          "data": {
            "text/plain": [
              "-0.5271573234998475"
            ]
          },
          "metadata": {},
          "execution_count": 27
        }
      ]
    },
    {
      "cell_type": "markdown",
      "source": [
        "The best set of parameters are obtained as follows:"
      ],
      "metadata": {
        "id": "rvIYzfNqCGXy"
      }
    },
    {
      "cell_type": "code",
      "source": [
        "poly_sgd_random_search.best_params_"
      ],
      "metadata": {
        "id": "4-xifUJ5CJth",
        "colab": {
          "base_uri": "https://localhost:8080/"
        },
        "outputId": "298f9fd8-1b6e-4778-8307-69ec3f64141d"
      },
      "execution_count": 28,
      "outputs": [
        {
          "output_type": "execute_result",
          "data": {
            "text/plain": [
              "{'poly__degree': 2,\n",
              " 'sgd_reg__eta0': 2.3063822138075523e-05,\n",
              " 'sgd_reg__l1_ratio': 0.4590765695698895,\n",
              " 'sgd_reg__learning_rate': 'adaptive',\n",
              " 'sgd_reg__power_t': 0.17208702250773023}"
            ]
          },
          "metadata": {},
          "execution_count": 28
        }
      ]
    },
    {
      "cell_type": "markdown",
      "source": [
        "and the best estimator can be accessed with best_estimator_ member variable."
      ],
      "metadata": {
        "id": "lF0x2gr7Cix8"
      }
    },
    {
      "cell_type": "markdown",
      "source": [
        "# Comparison of weight vectors\n",
        "\n",
        "Let's look at the weight vectors produced by different models."
      ],
      "metadata": {
        "id": "WuopgRJECs8G"
      }
    },
    {
      "cell_type": "code",
      "source": [
        "feature_names = poly_reg_cv_results['estimator'][0][0].get_feature_names_out(\n",
        "    input_features=train_features.columns)\n",
        "feature_names"
      ],
      "metadata": {
        "id": "Tc4BgJAKC1Xm",
        "colab": {
          "base_uri": "https://localhost:8080/"
        },
        "outputId": "0424cc97-2003-4dbb-b49c-36625ed7d4de"
      },
      "execution_count": 29,
      "outputs": [
        {
          "output_type": "execute_result",
          "data": {
            "text/plain": [
              "array(['1', 'MedInc', 'HouseAge', 'AveRooms', 'AveBedrms', 'Population',\n",
              "       'AveOccup', 'Latitude', 'Longitude', 'MedInc HouseAge',\n",
              "       'MedInc AveRooms', 'MedInc AveBedrms', 'MedInc Population',\n",
              "       'MedInc AveOccup', 'MedInc Latitude', 'MedInc Longitude',\n",
              "       'HouseAge AveRooms', 'HouseAge AveBedrms', 'HouseAge Population',\n",
              "       'HouseAge AveOccup', 'HouseAge Latitude', 'HouseAge Longitude',\n",
              "       'AveRooms AveBedrms', 'AveRooms Population', 'AveRooms AveOccup',\n",
              "       'AveRooms Latitude', 'AveRooms Longitude', 'AveBedrms Population',\n",
              "       'AveBedrms AveOccup', 'AveBedrms Latitude', 'AveBedrms Longitude',\n",
              "       'Population AveOccup', 'Population Latitude',\n",
              "       'Population Longitude', 'AveOccup Latitude', 'AveOccup Longitude',\n",
              "       'Latitude Longitude'], dtype=object)"
            ]
          },
          "metadata": {},
          "execution_count": 29
        }
      ]
    },
    {
      "cell_type": "code",
      "source": [
        "coefs = [est[-1].coef_ for est in poly_reg_cv_results['estimator']]\n",
        "weights_polynomial_regression = pd.DataFrame(coefs, columns=feature_names)"
      ],
      "metadata": {
        "id": "FbZr5XcHC1m5"
      },
      "execution_count": 32,
      "outputs": []
    },
    {
      "cell_type": "code",
      "source": [
        "color = {'whiskers':'black','medians':'black','caps':'black'}\n",
        "weights_polynomial_regression.plot.box(color=color,vert=False,figsize=(6,16))\n",
        "_=plt.title('Polynomial regression coefficients')"
      ],
      "metadata": {
        "id": "Fr16TJC6Dwi_",
        "colab": {
          "base_uri": "https://localhost:8080/",
          "height": 934
        },
        "outputId": "094587b7-3c18-47d9-bfa6-ce0b8086f4f1"
      },
      "execution_count": 33,
      "outputs": [
        {
          "output_type": "display_data",
          "data": {
            "text/plain": [
              "<Figure size 432x1152 with 1 Axes>"
            ],
            "image/png": "[encoded data removed]"
          },
          "metadata": {
            "needs_background": "light"
          }
        }
      ]
    },
    {
      "cell_type": "code",
      "source": [
        "feature_names = ridge_reg_cv_results['estimator'][0][0].get_feature_names_out(\n",
        "    input_features=train_features.columns)\n",
        "feature_names"
      ],
      "metadata": {
        "colab": {
          "base_uri": "https://localhost:8080/"
        },
        "id": "q-kEhowkEsL8",
        "outputId": "f4596d70-a797-40d4-c475-08f6f23311c0"
      },
      "execution_count": 49,
      "outputs": [
        {
          "output_type": "execute_result",
          "data": {
            "text/plain": [
              "array(['1', 'MedInc', 'HouseAge', 'AveRooms', 'AveBedrms', 'Population',\n",
              "       'AveOccup', 'Latitude', 'Longitude', 'MedInc^2', 'MedInc HouseAge',\n",
              "       'MedInc AveRooms', 'MedInc AveBedrms', 'MedInc Population',\n",
              "       'MedInc AveOccup', 'MedInc Latitude', 'MedInc Longitude',\n",
              "       'HouseAge^2', 'HouseAge AveRooms', 'HouseAge AveBedrms',\n",
              "       'HouseAge Population', 'HouseAge AveOccup', 'HouseAge Latitude',\n",
              "       'HouseAge Longitude', 'AveRooms^2', 'AveRooms AveBedrms',\n",
              "       'AveRooms Population', 'AveRooms AveOccup', 'AveRooms Latitude',\n",
              "       'AveRooms Longitude', 'AveBedrms^2', 'AveBedrms Population',\n",
              "       'AveBedrms AveOccup', 'AveBedrms Latitude', 'AveBedrms Longitude',\n",
              "       'Population^2', 'Population AveOccup', 'Population Latitude',\n",
              "       'Population Longitude', 'AveOccup^2', 'AveOccup Latitude',\n",
              "       'AveOccup Longitude', 'Latitude^2', 'Latitude Longitude',\n",
              "       'Longitude^2'], dtype=object)"
            ]
          },
          "metadata": {},
          "execution_count": 49
        }
      ]
    },
    {
      "cell_type": "code",
      "source": [
        "coefs = [est[-1].coef_ for est in ridge_reg_cv_results['estimator']]\n",
        "weights_ridge_regression = pd.DataFrame(coefs, columns=feature_names)"
      ],
      "metadata": {
        "id": "Nxsm4X5IGOZj"
      },
      "execution_count": 51,
      "outputs": []
    },
    {
      "cell_type": "code",
      "source": [
        "color = {'whiskers':'black','medians':'black','caps':'black'}\n",
        "weights_ridge_regression.plot.box(color=color,vert=False,figsize=(6,16))\n",
        "_=plt.title('Polynomial regression coefficients')"
      ],
      "metadata": {
        "colab": {
          "base_uri": "https://localhost:8080/",
          "height": 934
        },
        "outputId": "9308c0f5-cdb1-4a19-cc4d-efa89f370674",
        "id": "QL-WD7YpGOZj"
      },
      "execution_count": 52,
      "outputs": [
        {
          "output_type": "display_data",
          "data": {
            "text/plain": [
              "<Figure size 432x1152 with 1 Axes>"
            ],
            "image/png": "[encoded data removed]"
          },
          "metadata": {
            "needs_background": "light"
          }
        }
      ]
    },
    {
      "cell_type": "markdown",
      "source": [
        "# Performance on the test set"
      ],
      "metadata": {
        "id": "J6iag3-hEUdY"
      }
    },
    {
      "cell_type": "markdown",
      "source": [
        "## Baseline"
      ],
      "metadata": {
        "id": "yyD_V7dHGuwC"
      }
    },
    {
      "cell_type": "code",
      "source": [
        "baseline_model_median = DummyRegressor(strategy='median')\n",
        "baseline_model_median.fit(train_features, train_labels)\n",
        "mean_absolute_percentage_error(test_labels,baseline_model_median.predict(test_features))"
      ],
      "metadata": {
        "id": "ooOr3A6wEXs6",
        "colab": {
          "base_uri": "https://localhost:8080/"
        },
        "outputId": "ae16d661-238e-490f-991a-93ed8fb99838"
      },
      "execution_count": 34,
      "outputs": [
        {
          "output_type": "execute_result",
          "data": {
            "text/plain": [
              "0.5348927548151625"
            ]
          },
          "metadata": {},
          "execution_count": 34
        }
      ]
    },
    {
      "cell_type": "markdown",
      "source": [
        "## Linear regression with normal equation"
      ],
      "metadata": {
        "id": "nMBO-EciEr4N"
      }
    },
    {
      "cell_type": "code",
      "source": [
        "mean_absolute_percentage_error(test_labels,lin_reg_cv_results['estimator'][0].predict(test_features))"
      ],
      "metadata": {
        "id": "bfdTOi6JEvaH",
        "colab": {
          "base_uri": "https://localhost:8080/"
        },
        "outputId": "a4d11593-0837-4a63-83be-6a9da8762417"
      },
      "execution_count": 54,
      "outputs": [
        {
          "output_type": "execute_result",
          "data": {
            "text/plain": [
              "0.32120472175482906"
            ]
          },
          "metadata": {},
          "execution_count": 54
        }
      ]
    },
    {
      "cell_type": "markdown",
      "source": [
        "##Polynomial regression"
      ],
      "metadata": {
        "id": "dvzrzJH_FUJQ"
      }
    },
    {
      "cell_type": "code",
      "source": [
        "mean_absolute_percentage_error(test_labels,poly_sgd_random_search.best_estimator_.predict(test_features))"
      ],
      "metadata": {
        "id": "6GogvjPrFD8_",
        "colab": {
          "base_uri": "https://localhost:8080/"
        },
        "outputId": "dd2b6939-6e52-4ec5-8702-cea71adfe3cb"
      },
      "execution_count": 55,
      "outputs": [
        {
          "output_type": "execute_result",
          "data": {
            "text/plain": [
              "0.31523619087395877"
            ]
          },
          "metadata": {},
          "execution_count": 55
        }
      ]
    },
    {
      "cell_type": "markdown",
      "source": [
        "##Ridge Regression"
      ],
      "metadata": {
        "id": "RHuWWE85FWlt"
      }
    },
    {
      "cell_type": "code",
      "source": [
        "mean_absolute_percentage_error(test_labels,ridge_grid_search.best_estimator_.predict(test_features))"
      ],
      "metadata": {
        "id": "P7wjUFSFGyqk",
        "colab": {
          "base_uri": "https://localhost:8080/"
        },
        "outputId": "eadaa6ba-b3bf-451a-ba8a-4775c57d30e7"
      },
      "execution_count": 56,
      "outputs": [
        {
          "output_type": "execute_result",
          "data": {
            "text/plain": [
              "0.27110336451421413"
            ]
          },
          "metadata": {},
          "execution_count": 56
        }
      ]
    },
    {
      "cell_type": "markdown",
      "source": [
        "##Lasso Regression"
      ],
      "metadata": {
        "id": "jMS0dajoGxdi"
      }
    },
    {
      "cell_type": "code",
      "source": [
        "mean_absolute_percentage_error(test_labels,lasso_grid_search.best_estimator_.predict(test_features))"
      ],
      "metadata": {
        "id": "zW4iXFaiG5nw",
        "colab": {
          "base_uri": "https://localhost:8080/"
        },
        "outputId": "fed9278d-d7ac-4795-c280-820169857dc0"
      },
      "execution_count": 57,
      "outputs": [
        {
          "output_type": "execute_result",
          "data": {
            "text/plain": [
              "0.28074969263810107"
            ]
          },
          "metadata": {},
          "execution_count": 57
        }
      ]
    }
  ]
}