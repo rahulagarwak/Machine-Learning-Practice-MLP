{
  "nbformat": 4,
  "nbformat_minor": 0,
  "metadata": {
    "colab": {
      "name": "MLP_Wk3_Linear_Regression.ipynb",
      "provenance": [],
      "collapsed_sections": []
    },
    "kernelspec": {
      "name": "python3",
      "display_name": "Python 3"
    },
    "language_info": {
      "name": "python"
    }
  },
  "cells": [
    {
      "cell_type": "markdown",
      "source": [
        "# Linear Regression with sklearn API"
      ],
      "metadata": {
        "id": "BWtA2iTSqzwj"
      }
    },
    {
      "cell_type": "markdown",
      "source": [
        "Objective: Build linear regression model with sklearn.\n",
        "\n",
        "1. Dataset: California housing\n",
        "2. Linear Regression API: LinearRegression\n",
        "3. Training: fit(normal eq) and cross_validate(normal with cross validate)\n",
        "4. Evaluation: score (r2 score) and cross_val_score with different scoring parameters\n",
        "\n",
        "We will study the model diagnosis with LearningCurve and learn how to examine the learned model or weight vector"
      ],
      "metadata": {
        "id": "YdlYYbIkwis2"
      }
    },
    {
      "cell_type": "code",
      "execution_count": 1,
      "metadata": {
        "id": "w9Yd7Jyzqbhr"
      },
      "outputs": [],
      "source": [
        "#Imports\n",
        "import numpy as np\n",
        "import pandas as pd\n",
        "import matplotlib.pyplot as plt\n",
        "import seaborn as sns\n",
        "\n",
        "from sklearn.datasets import fetch_california_housing\n",
        "from sklearn.linear_model import LinearRegression\n",
        "\n",
        "from sklearn.model_selection import cross_validate\n",
        "from sklearn.model_selection import cross_val_score\n",
        "from sklearn.model_selection import learning_curve\n",
        "from sklearn.model_selection import ShuffleSplit\n",
        "\n",
        "from sklearn.metrics import mean_squared_error\n",
        "\n",
        "from sklearn.pipeline import Pipeline\n",
        "from sklearn.preprocessing import StandardScaler"
      ]
    },
    {
      "cell_type": "code",
      "source": [
        "np.random.seed(306)\n",
        "plt.style.use('seaborn')"
      ],
      "metadata": {
        "id": "sGjj5hBaxoEN"
      },
      "execution_count": 5,
      "outputs": []
    },
    {
      "cell_type": "markdown",
      "source": [
        "We will use ShuffleSplit cross validate with:\n",
        "\n",
        "* 10 folds (n_splits) and\n",
        "* set aside 20% examples as test examples (test_size)\n"
      ],
      "metadata": {
        "id": "mSG6d8zdxugS"
      }
    },
    {
      "cell_type": "code",
      "source": [
        "shuffle_split_cv = ShuffleSplit(n_splits=10, test_size=0.2, random_state=0)"
      ],
      "metadata": {
        "id": "rZhAz0MTx6h3"
      },
      "execution_count": 6,
      "outputs": []
    },
    {
      "cell_type": "markdown",
      "source": [
        "Creates 10 folds through shuffle split by keeping aside 20% examples as test in each fold."
      ],
      "metadata": {
        "id": "EWyslMBDyDJm"
      }
    },
    {
      "cell_type": "markdown",
      "source": [
        "# STEP 1: Load the dataset"
      ],
      "metadata": {
        "id": "I6F7kKfRyJh3"
      }
    },
    {
      "cell_type": "code",
      "source": [
        "features, labels = fetch_california_housing(as_frame=True, return_X_y=True)"
      ],
      "metadata": {
        "id": "vHMCkEiNyM0B"
      },
      "execution_count": 7,
      "outputs": []
    },
    {
      "cell_type": "markdown",
      "source": [
        "The feature matrix is loaded in features dataframe and the labels dataframe. Let's examine the shapes of these two dataframes."
      ],
      "metadata": {
        "id": "DLFlFsXDyVxN"
      }
    },
    {
      "cell_type": "code",
      "source": [
        "print(features.shape, labels.shape)"
      ],
      "metadata": {
        "id": "Gj_tAVzHyeiN",
        "colab": {
          "base_uri": "https://localhost:8080/"
        },
        "outputId": "4ddad2a0-d4b6-4a2e-c546-231a2b893250"
      },
      "execution_count": 8,
      "outputs": [
        {
          "output_type": "stream",
          "name": "stdout",
          "text": [
            "(20640, 8) (20640,)\n"
          ]
        }
      ]
    },
    {
      "cell_type": "markdown",
      "source": [
        "# STEP 2: Data Exploration\n",
        "\n",
        "Covered in separate notebook"
      ],
      "metadata": {
        "id": "LQlj_Hy3yvV8"
      }
    },
    {
      "cell_type": "markdown",
      "source": [
        "#STEP 3: Preprocessing and model building"
      ],
      "metadata": {
        "id": "dFJgt6O3y1rp"
      }
    },
    {
      "cell_type": "markdown",
      "source": [
        "## 3.1 Train test split\n",
        "\n",
        "The first step is to split the data into training and test"
      ],
      "metadata": {
        "id": "nM75cad5y7C7"
      }
    },
    {
      "cell_type": "code",
      "source": [
        "from sklearn.model_selection import train_test_split\n",
        "train_features, test_features, train_labels, test_labels = train_test_split(features,labels,random_state=42)\n"
      ],
      "metadata": {
        "id": "jwEcITO0zCsJ"
      },
      "execution_count": 9,
      "outputs": []
    },
    {
      "cell_type": "markdown",
      "source": [
        "Let's examine the shapes"
      ],
      "metadata": {
        "id": "eoi3g2TazWt8"
      }
    },
    {
      "cell_type": "code",
      "source": [
        "print(train_features.shape, test_features.shape)"
      ],
      "metadata": {
        "id": "khD8vNJGzZXd",
        "colab": {
          "base_uri": "https://localhost:8080/"
        },
        "outputId": "c8ff2d28-d2d8-4eb6-e397-8c41adabc303"
      },
      "execution_count": 10,
      "outputs": [
        {
          "output_type": "stream",
          "name": "stdout",
          "text": [
            "(15480, 8) (5160, 8)\n"
          ]
        }
      ]
    },
    {
      "cell_type": "markdown",
      "source": [
        "## 3.2 Pipeline preprocessing+model\n",
        "\n",
        "1. StandardScaler\n",
        "2. LinearRegression"
      ],
      "metadata": {
        "id": "522DxDLYziNZ"
      }
    },
    {
      "cell_type": "code",
      "source": [
        "lin_reg_pipeline = Pipeline([('feature_scaling',StandardScaler()),\n",
        "                             ('lin_reg',LinearRegression())])\n",
        "lin_reg_pipeline.fit(train_features, train_labels)"
      ],
      "metadata": {
        "id": "jdDDT4sMz0lM",
        "colab": {
          "base_uri": "https://localhost:8080/"
        },
        "outputId": "dfc741bf-21c6-4879-92a6-5a567f9a60c7"
      },
      "execution_count": 11,
      "outputs": [
        {
          "output_type": "execute_result",
          "data": {
            "text/plain": [
              "Pipeline(steps=[('feature_scaling', StandardScaler()),\n",
              "                ('lin_reg', LinearRegression())])"
            ]
          },
          "metadata": {},
          "execution_count": 11
        }
      ]
    },
    {
      "cell_type": "markdown",
      "source": [
        "Let's look at the learnt weight vectors"
      ],
      "metadata": {
        "id": "D1g78z3EzvIy"
      }
    },
    {
      "cell_type": "code",
      "source": [
        "print(lin_reg_pipeline[1].intercept_,lin_reg_pipeline[1].coef_)"
      ],
      "metadata": {
        "id": "DGjkCaMi0MuC",
        "colab": {
          "base_uri": "https://localhost:8080/"
        },
        "outputId": "1d8ac285-3ccc-4fed-886f-d81b1ed5c134"
      },
      "execution_count": 13,
      "outputs": [
        {
          "output_type": "stream",
          "name": "stdout",
          "text": [
            "2.0703489205426377 [ 0.85210815  0.12065533 -0.30210555  0.34860575 -0.00164465 -0.04116356\n",
            " -0.89314697 -0.86784046]\n"
          ]
        }
      ]
    },
    {
      "cell_type": "markdown",
      "source": [
        "# STEP 4: Model Evaluation\n",
        "\n"
      ],
      "metadata": {
        "id": "aY3mAAit0XWt"
      }
    },
    {
      "cell_type": "markdown",
      "source": [
        "## Score\n",
        "\n",
        "With twin objectives\n",
        "\n",
        "* Estimation of model performance\n",
        "* Comparison of errors for model diagnostics"
      ],
      "metadata": {
        "id": "vRH3FQQS1oS8"
      }
    },
    {
      "cell_type": "code",
      "source": [
        "test_score = lin_reg_pipeline.score(test_features, test_labels)\n",
        "print(test_score)\n",
        "train_score = lin_reg_pipeline.score(train_features, train_labels)\n",
        "print(train_score)"
      ],
      "metadata": {
        "id": "MGQ3uNzP06Bm",
        "colab": {
          "base_uri": "https://localhost:8080/"
        },
        "outputId": "ac934655-699d-4d93-a6f9-b33884790afa"
      },
      "execution_count": 18,
      "outputs": [
        {
          "output_type": "stream",
          "name": "stdout",
          "text": [
            "0.5910509795491352\n",
            "0.609873031052925\n"
          ]
        }
      ]
    },
    {
      "cell_type": "markdown",
      "source": [
        "The score method returns r2 score whose best value is 1. The score above suggests underfitting"
      ],
      "metadata": {
        "id": "HSqO7SLA1aqT"
      }
    },
    {
      "cell_type": "markdown",
      "source": [
        "## Crss validated score"
      ],
      "metadata": {
        "id": "WcsoKASh1hMD"
      }
    },
    {
      "cell_type": "code",
      "source": [
        "lin_reg_score = cross_val_score(lin_reg_pipeline,\n",
        "                                train_features,\n",
        "                                train_labels,\n",
        "                                scoring='neg_mean_squared_error',\n",
        "                                cv=shuffle_split_cv)\n",
        "\n",
        "print(lin_reg_score)"
      ],
      "metadata": {
        "id": "ofr8rNUm1xpz",
        "colab": {
          "base_uri": "https://localhost:8080/"
        },
        "outputId": "1fad28cb-bb7f-464d-e13c-78d67d3bf3a7"
      },
      "execution_count": 19,
      "outputs": [
        {
          "output_type": "stream",
          "name": "stdout",
          "text": [
            "[-0.50009976 -0.52183352 -0.55931218 -0.52110499 -0.56059203 -0.50510767\n",
            " -0.52386194 -0.54775518 -0.5007161  -0.54713448]\n"
          ]
        }
      ]
    },
    {
      "cell_type": "markdown",
      "source": [
        "Here we got negative errors, we can convert that as follows"
      ],
      "metadata": {
        "id": "m3x4O17w2L0B"
      }
    },
    {
      "cell_type": "code",
      "source": [
        "lin_reg_mse = -lin_reg_score"
      ],
      "metadata": {
        "id": "K3hXsJKQ2Uoy"
      },
      "execution_count": 20,
      "outputs": []
    },
    {
      "cell_type": "markdown",
      "source": [
        "We can also use other scoring parameters, choices are as below:\n",
        "\n",
        "* explained_variance\n",
        "* max_error\n",
        "* neg_mean_absolute_error\n",
        "* neg_root_mean_squared_error\n",
        "* neg_mean_squared_log_error\n",
        "* neg_median_absolute_error\n",
        "* neg_mean_absolute_percentage_error\n",
        "* r2"
      ],
      "metadata": {
        "id": "UA-6wEGU2ben"
      }
    },
    {
      "cell_type": "markdown",
      "source": [
        "## Cross Validation\n",
        "\n",
        "To access the models trained in each fold along with some other stats"
      ],
      "metadata": {
        "id": "XuyE3RoD22l1"
      }
    },
    {
      "cell_type": "code",
      "source": [
        "lin_reg_cv_results = cross_validate(lin_reg_pipeline,\n",
        "                                    train_features,\n",
        "                                    train_labels,\n",
        "                                    cv=shuffle_split_cv,\n",
        "                                    scoring='neg_mean_squared_error',\n",
        "                                    return_train_score=True,\n",
        "                                    return_estimator=True)"
      ],
      "metadata": {
        "id": "u8A9aSeT3G_T"
      },
      "execution_count": 21,
      "outputs": []
    },
    {
      "cell_type": "markdown",
      "source": [
        "lin_reg_cv_results is a dictionary with following contents:\n",
        "\n",
        "* trained estimators,\n",
        "* time taken for fitting and scoring the models in cv,\n",
        "* training score\n",
        "* test scores"
      ],
      "metadata": {
        "id": "W1YOVarS3aYJ"
      }
    },
    {
      "cell_type": "code",
      "source": [
        "lin_reg_cv_results"
      ],
      "metadata": {
        "id": "JjeVNUCP3n4T",
        "colab": {
          "base_uri": "https://localhost:8080/"
        },
        "outputId": "ee0d798c-07c4-4033-f796-0477f19e26e3"
      },
      "execution_count": 22,
      "outputs": [
        {
          "output_type": "execute_result",
          "data": {
            "text/plain": [
              "{'estimator': [Pipeline(steps=[('feature_scaling', StandardScaler()),\n",
              "                  ('lin_reg', LinearRegression())]),\n",
              "  Pipeline(steps=[('feature_scaling', StandardScaler()),\n",
              "                  ('lin_reg', LinearRegression())]),\n",
              "  Pipeline(steps=[('feature_scaling', StandardScaler()),\n",
              "                  ('lin_reg', LinearRegression())]),\n",
              "  Pipeline(steps=[('feature_scaling', StandardScaler()),\n",
              "                  ('lin_reg', LinearRegression())]),\n",
              "  Pipeline(steps=[('feature_scaling', StandardScaler()),\n",
              "                  ('lin_reg', LinearRegression())]),\n",
              "  Pipeline(steps=[('feature_scaling', StandardScaler()),\n",
              "                  ('lin_reg', LinearRegression())]),\n",
              "  Pipeline(steps=[('feature_scaling', StandardScaler()),\n",
              "                  ('lin_reg', LinearRegression())]),\n",
              "  Pipeline(steps=[('feature_scaling', StandardScaler()),\n",
              "                  ('lin_reg', LinearRegression())]),\n",
              "  Pipeline(steps=[('feature_scaling', StandardScaler()),\n",
              "                  ('lin_reg', LinearRegression())]),\n",
              "  Pipeline(steps=[('feature_scaling', StandardScaler()),\n",
              "                  ('lin_reg', LinearRegression())])],\n",
              " 'fit_time': array([0.05034614, 0.05138922, 0.05781817, 0.05004573, 0.04270291,\n",
              "        0.04465032, 0.04241681, 0.04498148, 0.04588223, 0.04396772]),\n",
              " 'score_time': array([0.01882172, 0.02652121, 0.02419066, 0.0223515 , 0.01235914,\n",
              "        0.01299095, 0.01407146, 0.01192164, 0.01035452, 0.01161385]),\n",
              " 'test_score': array([-0.50009976, -0.52183352, -0.55931218, -0.52110499, -0.56059203,\n",
              "        -0.50510767, -0.52386194, -0.54775518, -0.5007161 , -0.54713448]),\n",
              " 'train_score': array([-0.52578695, -0.52035137, -0.51095597, -0.52049611, -0.51060835,\n",
              "        -0.52453922, -0.51994311, -0.5144039 , -0.52578473, -0.51397105])}"
            ]
          },
          "metadata": {},
          "execution_count": 22
        }
      ]
    },
    {
      "cell_type": "markdown",
      "source": [
        "10 values for cv=10"
      ],
      "metadata": {
        "id": "d3DYPi1r3pal"
      }
    },
    {
      "cell_type": "markdown",
      "source": [
        "## Model Examination\n",
        "\n",
        "Let's examine how much variability exists between the cross validated models"
      ],
      "metadata": {
        "id": "D6NsXkh-4HaV"
      }
    },
    {
      "cell_type": "code",
      "source": [
        "feature_names = train_features.columns\n",
        "feature_names"
      ],
      "metadata": {
        "id": "8v8QG3AT4Qnk",
        "colab": {
          "base_uri": "https://localhost:8080/"
        },
        "outputId": "38ae9207-1d4e-4620-90bf-5d6338fa6bad"
      },
      "execution_count": 23,
      "outputs": [
        {
          "output_type": "execute_result",
          "data": {
            "text/plain": [
              "Index(['MedInc', 'HouseAge', 'AveRooms', 'AveBedrms', 'Population', 'AveOccup',\n",
              "       'Latitude', 'Longitude'],\n",
              "      dtype='object')"
            ]
          },
          "metadata": {},
          "execution_count": 23
        }
      ]
    },
    {
      "cell_type": "code",
      "source": [
        "coefs = [est[-1].coef_ for est in lin_reg_cv_results['estimator']]\n",
        "weights_df = pd.DataFrame(coefs, columns=feature_names)\n",
        "\n",
        "color = {'whiskers':'black','medians':'black','caps':'black'}\n",
        "weights_df.plot.box(color=color,vert=False)\n",
        "plt.title('Linear Regression Coefficients')"
      ],
      "metadata": {
        "id": "-GuMhfDx4e0c",
        "colab": {
          "base_uri": "https://localhost:8080/",
          "height": 379
        },
        "outputId": "2f5fd9c2-ef46-4137-c749-a84cc23222b8"
      },
      "execution_count": 29,
      "outputs": [
        {
          "output_type": "execute_result",
          "data": {
            "text/plain": [
              "Text(0.5, 1.0, 'Linear Regression Coefficients')"
            ]
          },
          "metadata": {},
          "execution_count": 29
        },
        {
          "output_type": "display_data",
          "data": {
            "text/plain": [
              "<Figure size 576x396 with 1 Axes>"
            ],
            "image/png": "[encoded data removed]"
          },
          "metadata": {}
        }
      ]
    },
    {
      "cell_type": "code",
      "source": [
        "weights_df.describe()"
      ],
      "metadata": {
        "id": "M2EFKpqc5Khy",
        "colab": {
          "base_uri": "https://localhost:8080/",
          "height": 300
        },
        "outputId": "99333ce0-4c67-4c67-84ca-e192f4ed3da8"
      },
      "execution_count": 30,
      "outputs": [
        {
          "output_type": "execute_result",
          "data": {
            "text/plain": [
              "          MedInc   HouseAge   AveRooms  AveBedrms  Population   AveOccup  \\\n",
              "count  10.000000  10.000000  10.000000  10.000000   10.000000  10.000000   \n",
              "mean    0.852153   0.122770  -0.304384   0.353528   -0.001576  -0.037059   \n",
              "std     0.005763   0.004312   0.010998   0.018044    0.003254   0.008582   \n",
              "min     0.843517   0.117394  -0.318971   0.307474   -0.005787  -0.047584   \n",
              "25%     0.848871   0.119895  -0.310778   0.349715   -0.002688  -0.042486   \n",
              "50%     0.852711   0.121592  -0.305795   0.360139   -0.002063  -0.042325   \n",
              "75%     0.854743   0.125520  -0.302980   0.364646   -0.000350  -0.027562   \n",
              "max     0.861659   0.130560  -0.278426   0.367952    0.005297  -0.026331   \n",
              "\n",
              "        Latitude  Longitude  \n",
              "count  10.000000  10.000000  \n",
              "mean   -0.894011  -0.869753  \n",
              "std     0.009975   0.009097  \n",
              "min    -0.908058  -0.884206  \n",
              "25%    -0.901411  -0.876542  \n",
              "50%    -0.895370  -0.869631  \n",
              "75%    -0.883967  -0.862110  \n",
              "max    -0.881884  -0.857844  "
            ],
            "text/html": [
              "\n",
              "  <div id=\"df-ae3e3c37-6c04-4f83-bd6c-cd98153244e5\">\n",
              "    <div class=\"colab-df-container\">\n",
              "      <div>\n",
              "<style scoped>\n",
              "    .dataframe tbody tr th:only-of-type {\n",
              "        vertical-align: middle;\n",
              "    }\n",
              "\n",
              "    .dataframe tbody tr th {\n",
              "        vertical-align: top;\n",
              "    }\n",
              "\n",
              "    .dataframe thead th {\n",
              "        text-align: right;\n",
              "    }\n",
              "</style>\n",
              "<table border=\"1\" class=\"dataframe\">\n",
              "  <thead>\n",
              "    <tr style=\"text-align: right;\">\n",
              "      <th></th>\n",
              "      <th>MedInc</th>\n",
              "      <th>HouseAge</th>\n",
              "      <th>AveRooms</th>\n",
              "      <th>AveBedrms</th>\n",
              "      <th>Population</th>\n",
              "      <th>AveOccup</th>\n",
              "      <th>Latitude</th>\n",
              "      <th>Longitude</th>\n",
              "    </tr>\n",
              "  </thead>\n",
              "  <tbody>\n",
              "    <tr>\n",
              "      <th>count</th>\n",
              "      <td>10.000000</td>\n",
              "      <td>10.000000</td>\n",
              "      <td>10.000000</td>\n",
              "      <td>10.000000</td>\n",
              "      <td>10.000000</td>\n",
              "      <td>10.000000</td>\n",
              "      <td>10.000000</td>\n",
              "      <td>10.000000</td>\n",
              "    </tr>\n",
              "    <tr>\n",
              "      <th>mean</th>\n",
              "      <td>0.852153</td>\n",
              "      <td>0.122770</td>\n",
              "      <td>-0.304384</td>\n",
              "      <td>0.353528</td>\n",
              "      <td>-0.001576</td>\n",
              "      <td>-0.037059</td>\n",
              "      <td>-0.894011</td>\n",
              "      <td>-0.869753</td>\n",
              "    </tr>\n",
              "    <tr>\n",
              "      <th>std</th>\n",
              "      <td>0.005763</td>\n",
              "      <td>0.004312</td>\n",
              "      <td>0.010998</td>\n",
              "      <td>0.018044</td>\n",
              "      <td>0.003254</td>\n",
              "      <td>0.008582</td>\n",
              "      <td>0.009975</td>\n",
              "      <td>0.009097</td>\n",
              "    </tr>\n",
              "    <tr>\n",
              "      <th>min</th>\n",
              "      <td>0.843517</td>\n",
              "      <td>0.117394</td>\n",
              "      <td>-0.318971</td>\n",
              "      <td>0.307474</td>\n",
              "      <td>-0.005787</td>\n",
              "      <td>-0.047584</td>\n",
              "      <td>-0.908058</td>\n",
              "      <td>-0.884206</td>\n",
              "    </tr>\n",
              "    <tr>\n",
              "      <th>25%</th>\n",
              "      <td>0.848871</td>\n",
              "      <td>0.119895</td>\n",
              "      <td>-0.310778</td>\n",
              "      <td>0.349715</td>\n",
              "      <td>-0.002688</td>\n",
              "      <td>-0.042486</td>\n",
              "      <td>-0.901411</td>\n",
              "      <td>-0.876542</td>\n",
              "    </tr>\n",
              "    <tr>\n",
              "      <th>50%</th>\n",
              "      <td>0.852711</td>\n",
              "      <td>0.121592</td>\n",
              "      <td>-0.305795</td>\n",
              "      <td>0.360139</td>\n",
              "      <td>-0.002063</td>\n",
              "      <td>-0.042325</td>\n",
              "      <td>-0.895370</td>\n",
              "      <td>-0.869631</td>\n",
              "    </tr>\n",
              "    <tr>\n",
              "      <th>75%</th>\n",
              "      <td>0.854743</td>\n",
              "      <td>0.125520</td>\n",
              "      <td>-0.302980</td>\n",
              "      <td>0.364646</td>\n",
              "      <td>-0.000350</td>\n",
              "      <td>-0.027562</td>\n",
              "      <td>-0.883967</td>\n",
              "      <td>-0.862110</td>\n",
              "    </tr>\n",
              "    <tr>\n",
              "      <th>max</th>\n",
              "      <td>0.861659</td>\n",
              "      <td>0.130560</td>\n",
              "      <td>-0.278426</td>\n",
              "      <td>0.367952</td>\n",
              "      <td>0.005297</td>\n",
              "      <td>-0.026331</td>\n",
              "      <td>-0.881884</td>\n",
              "      <td>-0.857844</td>\n",
              "    </tr>\n",
              "  </tbody>\n",
              "</table>\n",
              "</div>\n",
              "      <button class=\"colab-df-convert\" onclick=\"convertToInteractive('df-ae3e3c37-6c04-4f83-bd6c-cd98153244e5')\"\n",
              "              title=\"Convert this dataframe to an interactive table.\"\n",
              "              style=\"display:none;\">\n",
              "        \n",
              "  <svg xmlns=\"http://www.w3.org/2000/svg\" height=\"24px\"viewBox=\"0 0 24 24\"\n",
              "       width=\"24px\">\n",
              "    <path d=\"M0 0h24v24H0V0z\" fill=\"none\"/>\n",
              "    <path d=\"M18.56 5.44l.94 2.06.94-2.06 2.06-.94-2.06-.94-.94-2.06-.94 2.06-2.06.94zm-11 1L8.5 8.5l.94-2.06 2.06-.94-2.06-.94L8.5 2.5l-.94 2.06-2.06.94zm10 10l.94 2.06.94-2.06 2.06-.94-2.06-.94-.94-2.06-.94 2.06-2.06.94z\"/><path d=\"M17.41 7.96l-1.37-1.37c-.4-.4-.92-.59-1.43-.59-.52 0-1.04.2-1.43.59L10.3 9.45l-7.72 7.72c-.78.78-.78 2.05 0 2.83L4 21.41c.39.39.9.59 1.41.59.51 0 1.02-.2 1.41-.59l7.78-7.78 2.81-2.81c.8-.78.8-2.07 0-2.86zM5.41 20L4 18.59l7.72-7.72 1.47 1.35L5.41 20z\"/>\n",
              "  </svg>\n",
              "      </button>\n",
              "      \n",
              "  <style>\n",
              "    .colab-df-container {\n",
              "      display:flex;\n",
              "      flex-wrap:wrap;\n",
              "      gap: 12px;\n",
              "    }\n",
              "\n",
              "    .colab-df-convert {\n",
              "      background-color: #E8F0FE;\n",
              "      border: none;\n",
              "      border-radius: 50%;\n",
              "      cursor: pointer;\n",
              "      display: none;\n",
              "      fill: #1967D2;\n",
              "      height: 32px;\n",
              "      padding: 0 0 0 0;\n",
              "      width: 32px;\n",
              "    }\n",
              "\n",
              "    .colab-df-convert:hover {\n",
              "      background-color: #E2EBFA;\n",
              "      box-shadow: 0px 1px 2px rgba(60, 64, 67, 0.3), 0px 1px 3px 1px rgba(60, 64, 67, 0.15);\n",
              "      fill: #174EA6;\n",
              "    }\n",
              "\n",
              "    [theme=dark] .colab-df-convert {\n",
              "      background-color: #3B4455;\n",
              "      fill: #D2E3FC;\n",
              "    }\n",
              "\n",
              "    [theme=dark] .colab-df-convert:hover {\n",
              "      background-color: #434B5C;\n",
              "      box-shadow: 0px 1px 3px 1px rgba(0, 0, 0, 0.15);\n",
              "      filter: drop-shadow(0px 1px 2px rgba(0, 0, 0, 0.3));\n",
              "      fill: #FFFFFF;\n",
              "    }\n",
              "  </style>\n",
              "\n",
              "      <script>\n",
              "        const buttonEl =\n",
              "          document.querySelector('#df-ae3e3c37-6c04-4f83-bd6c-cd98153244e5 button.colab-df-convert');\n",
              "        buttonEl.style.display =\n",
              "          google.colab.kernel.accessAllowed ? 'block' : 'none';\n",
              "\n",
              "        async function convertToInteractive(key) {\n",
              "          const element = document.querySelector('#df-ae3e3c37-6c04-4f83-bd6c-cd98153244e5');\n",
              "          const dataTable =\n",
              "            await google.colab.kernel.invokeFunction('convertToInteractive',\n",
              "                                                     [key], {});\n",
              "          if (!dataTable) return;\n",
              "\n",
              "          const docLinkHtml = 'Like what you see? Visit the ' +\n",
              "            '<a target=\"_blank\" href=https://colab.research.google.com/notebooks/data_table.ipynb>data table notebook</a>'\n",
              "            + ' to learn more about interactive tables.';\n",
              "          element.innerHTML = '';\n",
              "          dataTable['output_type'] = 'display_data';\n",
              "          await google.colab.output.renderOutput(dataTable, element);\n",
              "          const docLink = document.createElement('div');\n",
              "          docLink.innerHTML = docLinkHtml;\n",
              "          element.appendChild(docLink);\n",
              "        }\n",
              "      </script>\n",
              "    </div>\n",
              "  </div>\n",
              "  "
            ]
          },
          "metadata": {},
          "execution_count": 30
        }
      ]
    },
    {
      "cell_type": "markdown",
      "source": [
        "## Selecting best model\n",
        "\n"
      ],
      "metadata": {
        "id": "Cj2Zs_4F4eLg"
      }
    },
    {
      "cell_type": "code",
      "source": [
        "train_error = -1*lin_reg_cv_results['train_score']\n",
        "test_error = -1*lin_reg_cv_results['test_score']"
      ],
      "metadata": {
        "id": "RfastxDywV5z"
      },
      "execution_count": 31,
      "outputs": []
    },
    {
      "cell_type": "code",
      "source": [
        "best_model_index = np.argmin(test_error)\n",
        "selected_model = lin_reg_cv_results['estimator'][best_model_index]"
      ],
      "metadata": {
        "id": "rEQ0NZ5g5oiE"
      },
      "execution_count": 32,
      "outputs": []
    },
    {
      "cell_type": "code",
      "source": [
        "print(selected_model['lin_reg'].intercept_)\n",
        "print(selected_model['lin_reg'].coef_)"
      ],
      "metadata": {
        "colab": {
          "base_uri": "https://localhost:8080/"
        },
        "id": "3U2TsExVwnoa",
        "outputId": "7aa76952-845f-4688-b2a7-afcd466ce1ed"
      },
      "execution_count": 34,
      "outputs": [
        {
          "output_type": "stream",
          "name": "stdout",
          "text": [
            "2.0779898917958657\n",
            "[ 8.44324888e-01  1.18463901e-01 -3.04619574e-01  3.56620503e-01\n",
            "  1.74458509e-04 -4.23964612e-02 -8.96045642e-01 -8.68906479e-01]\n"
          ]
        }
      ]
    },
    {
      "cell_type": "markdown",
      "source": [
        "## Model Performance"
      ],
      "metadata": {
        "id": "8_YC9tAG6EH5"
      }
    },
    {
      "cell_type": "code",
      "source": [
        "from sklearn.model_selection import cross_val_predict\n",
        "cv_predictions = cross_val_predict(lin_reg_pipeline, train_features, train_labels)"
      ],
      "metadata": {
        "id": "a_-fYFa-6IKF"
      },
      "execution_count": 35,
      "outputs": []
    },
    {
      "cell_type": "code",
      "source": [
        "mse_cv = mean_squared_error(train_labels,cv_predictions)\n",
        "\n",
        "plt.scatter(train_labels,cv_predictions, color='blue')\n",
        "plt.plot(train_labels,train_labels,'-r')\n",
        "plt.show()"
      ],
      "metadata": {
        "id": "qFED5kOV6U7y",
        "colab": {
          "base_uri": "https://localhost:8080/",
          "height": 347
        },
        "outputId": "2effabd8-f4ec-4c51-f1a8-bc85c64018c3"
      },
      "execution_count": 36,
      "outputs": [
        {
          "output_type": "display_data",
          "data": {
            "text/plain": [
              "<Figure size 576x396 with 1 Axes>"
            ],
            "image/png": "[encoded data removed]"
          },
          "metadata": {}
        }
      ]
    },
    {
      "cell_type": "markdown",
      "source": [
        "# STEP 5: Predictions"
      ],
      "metadata": {
        "id": "q7_e14OG6wZt"
      }
    },
    {
      "cell_type": "markdown",
      "source": [
        "We can use the best performing model from cross validation for getting predictions on the test set."
      ],
      "metadata": {
        "id": "CueWLchn6zMU"
      }
    },
    {
      "cell_type": "code",
      "source": [
        "test_predictions_cv = selected_model.predict(test_features)\n",
        "test_predictions_cv[:5]"
      ],
      "metadata": {
        "id": "SYc4cq6r7DQp",
        "colab": {
          "base_uri": "https://localhost:8080/"
        },
        "outputId": "1c375d51-ae3c-46d5-a992-8fff461118be"
      },
      "execution_count": 37,
      "outputs": [
        {
          "output_type": "execute_result",
          "data": {
            "text/plain": [
              "array([0.73548515, 1.7725621 , 2.70011199, 2.83716602, 2.60743151])"
            ]
          },
          "metadata": {},
          "execution_count": 37
        }
      ]
    },
    {
      "cell_type": "markdown",
      "source": [
        "We can also obtain predictions using the initial model that we built without cross validation."
      ],
      "metadata": {
        "id": "i-7Pma1y7Lse"
      }
    },
    {
      "cell_type": "code",
      "source": [
        "test_predictions_cv = lin_reg_pipeline.predict(test_features)\n",
        "test_predictions_cv[:5]"
      ],
      "metadata": {
        "id": "tWXUiepB7SpU",
        "colab": {
          "base_uri": "https://localhost:8080/"
        },
        "outputId": "239a0b56-a4b4-4688-9c61-c1fcde548324"
      },
      "execution_count": 38,
      "outputs": [
        {
          "output_type": "execute_result",
          "data": {
            "text/plain": [
              "array([0.72412832, 1.76677807, 2.71151581, 2.83601179, 2.603755  ])"
            ]
          },
          "metadata": {},
          "execution_count": 38
        }
      ]
    },
    {
      "cell_type": "markdown",
      "source": [
        "# STEP 6: Report model performance"
      ],
      "metadata": {
        "id": "Hq-D0aS47XfQ"
      }
    },
    {
      "cell_type": "code",
      "source": [
        "score_cv = selected_model.score(test_features, test_labels)\n",
        "score = lin_reg_pipeline.score(test_features, test_labels)\n",
        "print(score_cv,score)"
      ],
      "metadata": {
        "id": "HrjGRyXf7eQZ",
        "colab": {
          "base_uri": "https://localhost:8080/"
        },
        "outputId": "3a010945-95c9-4f4b-d7f5-d8d0da22ab4b"
      },
      "execution_count": 39,
      "outputs": [
        {
          "output_type": "stream",
          "name": "stdout",
          "text": [
            "0.5923577635319088 0.5910509795491352\n"
          ]
        }
      ]
    }
  ]
}